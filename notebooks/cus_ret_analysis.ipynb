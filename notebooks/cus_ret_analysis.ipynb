{
 "cells": [
  {
   "cell_type": "markdown",
   "metadata": {},
   "source": [
    "### Imports & file management"
   ]
  },
  {
   "cell_type": "code",
   "execution_count": 277,
   "metadata": {},
   "outputs": [],
   "source": [
    "import pandas as pd\n",
    "import matplotlib.pyplot as plt\n",
    "import seaborn as sns\n",
    "import plotly.express as px\n",
    "import plotly.graph_objects as go\n",
    "import plotly.io as pio\n",
    "import scipy.stats as stats\n",
    "import numpy as np\n",
    "from sklearn.cluster import KMeans\n",
    "from sklearn.preprocessing import StandardScaler\n",
    "from IPython.display import display"
   ]
  },
  {
   "cell_type": "code",
   "execution_count": 278,
   "metadata": {},
   "outputs": [],
   "source": [
    "customer = pd.read_csv('./customer_data.csv')"
   ]
  },
  {
   "cell_type": "markdown",
   "metadata": {},
   "source": [
    "### Variables glossary & brand values"
   ]
  },
  {
   "cell_type": "code",
   "execution_count": 279,
   "metadata": {},
   "outputs": [],
   "source": [
    "\n",
    "##### Fonts \n",
    "font_family = 'Lato'\n",
    "\n",
    "##### Brand colors \n",
    "custom_colors = [\n",
    "    \"#607D77\", \n",
    "    \"#466661\", \n",
    "    \"#ECF2F0\",   # Secondary Color - Bright Gray\n",
    "    \"#2D494C\",  # Primary Color - Dark Slate Gray \n",
    "]\n",
    "\n",
    "custom_colors2 = [\n",
    "    \"#E2F0E6\",  # Very light tint - Soft Mint Green\n",
    "    \"#B7E0B1\",  # Light tint - Pastel Green\n",
    "    \"#8CCB8C\",  # Medium tint - Light Green\n",
    "    \"#4EA96B\",  # Base color - Medium Green\n",
    "    \"#0B903F\",  # Dark shade - Forest Green\n",
    "    \"#007A33\"   # Darkest shade - Deep Green\n",
    "]\n",
    "\n",
    "custom_colors3 = [\n",
    "    \"#ECF2F0\",\n",
    "    \"#A3C1C2\",   \n",
    "    \"#89A9AA\",   \n",
    "    \"#6A8B8C\", \n",
    "    \"#4B6B6E\",   \n",
    "    \"#3A585B\",   \n",
    "    \"#2D494C\", # Primary Color - Dark Teal  \n",
    "    \"#1F3A3B\",  \n",
    "    \"#1A3B3E\",  \n",
    "    \"#0F2D2F\",    \n",
    "]\n",
    "\n",
    "custom_colors4 = [\n",
    "    \"#6A8B8C\",\n",
    "    \"#0F2D2F\",   \n",
    "    \"#3A585B\"         \n",
    "]\n",
    "\n",
    "alert_colors = [\n",
    "    \"#FFCCCC\",  \n",
    "    \"#FF9999\",  # Light tint - Soft Red\n",
    "    \"#FF6666\",  # Medium tint - Coral Red\n",
    "    \"#FF3333\",  # Base color - Bright Red\n",
    "    \"#CC0000\",  # Dark shade - Crimson\n",
    "    \"#990000\"   # Darkest shade - Deep Red\n",
    "]\n",
    "\n",
    "country_highlight_colors = [\n",
    "    \"#2D494C\",  # Primary Color - Dark Teal\n",
    "    \"#4B3D3D\",  # Dark Brownish Red\n",
    "    \"#3C5A3F\",  # Dark Olive Green\n",
    "    \"#5D4C8A\",  # Dark Purple\n",
    "    \"#2F2A2A\",  # Dark Charcoal\n",
    "    \"#6B3F3F\",  # Dark Rust Red\n",
    "    \"#1F4E79\",  # Dark Steel Blue\n",
    "    \"#4B2C2C\",  # Dark Burgundy\n",
    "    \"#1A1A1A\",  # Almost Black\n",
    "    \"#3D5B7C\"   # Dark Tealish Blue\n",
    "]\n",
    "\n",
    "\n",
    "###### Labels\n",
    "\n",
    "column_labels = {\n",
    "    'clv': 'CLV',\n",
    "    'csat_score': 'CSAT',\n",
    "    'onboarding_score': 'OES',\n",
    "    'support_tickets': 'NST',\n",
    "    'revenue': 'TR'\n",
    "}\n",
    "\n",
    "# Define custom template\n",
    "custom_template = go.layout.Template(\n",
    "    layout=go.Layout(\n",
    "        # Global font settings\n",
    "        font=dict(\n",
    "            family=font_family,\n",
    "            size=14,\n",
    "            color='#2D494C'\n",
    "        ),\n",
    "        \n",
    "        # Title settings\n",
    "        title=dict(\n",
    "            text='<b>Your Chart Title</b>', \n",
    "            font=dict(\n",
    "                size=24,\n",
    "                color='#2D494C'\n",
    "            ),\n",
    "            x=0.5\n",
    "        ),\n",
    "        \n",
    "        # Legend settings\n",
    "        legend=dict(\n",
    "            title=dict(\n",
    "                text='<b>Legend Title</b>', \n",
    "                font=dict(\n",
    "                    family=font_family,\n",
    "                    size=16,\n",
    "                    color='#2D494C'\n",
    "                )\n",
    "            ),\n",
    "            font=dict(\n",
    "                family=font_family,\n",
    "                size=12,\n",
    "                color='#3A585B'\n",
    "            )\n",
    "        ),\n",
    "        \n",
    "        # X-axis settings \n",
    "        xaxis=dict(\n",
    "            title=dict(\n",
    "                text='<b>X Axis Title</b>', \n",
    "                font=dict(\n",
    "                    family=font_family,\n",
    "                    size=16,\n",
    "                    color='#2D494C'\n",
    "                )\n",
    "            ),\n",
    "            tickfont=dict(\n",
    "                family=font_family,\n",
    "                size=12,\n",
    "                color='#2D494C'\n",
    "            ),\n",
    "            ticklen=5,\n",
    "            tickwidth=1,\n",
    "            tickcolor='#2D494C',\n",
    "            showgrid=True,\n",
    "            gridcolor='#E5E5E5'\n",
    "        ),\n",
    "        \n",
    "        # Y-axis settings\n",
    "        yaxis=dict(\n",
    "            title=dict(\n",
    "                text='<b>Y Axis Title</b>',\n",
    "                font=dict(\n",
    "                    family=font_family,\n",
    "                    size=16,\n",
    "                    color='#2D494C'\n",
    "                )\n",
    "            ),\n",
    "            tickfont=dict(\n",
    "                family=font_family,\n",
    "                size=12,\n",
    "                color='#2D494C'\n",
    "            ),\n",
    "            ticklen=5,\n",
    "            tickwidth=1,\n",
    "            tickcolor='#2D494C',\n",
    "            showgrid=True,\n",
    "            gridcolor='#E5E5E5'\n",
    "        ),\n",
    "        \n",
    "        # Hover label settings\n",
    "        hoverlabel=dict(\n",
    "            bgcolor='#E5F2F2',\n",
    "            bordercolor='#2D494C',\n",
    "            font=dict(\n",
    "                family=font_family,\n",
    "                size=14,\n",
    "                color='#2D494C'\n",
    "            )\n",
    "        ),\n",
    "        \n",
    "        paper_bgcolor='white',\n",
    "        plot_bgcolor='white'\n",
    "    )\n",
    ")\n",
    "\n",
    "# Make sure all plotly design use custom_template\n",
    "pio.templates['custom_template'] = custom_template\n",
    "# Set the custom template as the default\n",
    "pio.templates.default = 'custom_template'\n",
    "\n"
   ]
  },
  {
   "cell_type": "markdown",
   "metadata": {},
   "source": [
    "### Data cleaning"
   ]
  },
  {
   "cell_type": "code",
   "execution_count": 280,
   "metadata": {},
   "outputs": [
    {
     "data": {
      "text/plain": [
       "customer_id                   0\n",
       "signup_date                   0\n",
       "churn_date                 2381\n",
       "subscription_type             0\n",
       "monthly_revenue               0\n",
       "csat_score                    0\n",
       "customer_segment              0\n",
       "country                       0\n",
       "customer_age_months           0\n",
       "churn_reason               2381\n",
       "last_active_date              0\n",
       "clv                           0\n",
       "contract_length_months        0\n",
       "expansion_status              0\n",
       "onboarding_score              0\n",
       "support_tickets               0\n",
       "churned                       0\n",
       "clv_segment                   0\n",
       "adjusted_csat                 0\n",
       "segment_id                    0\n",
       "segment_number                0\n",
       "segment_name                  0\n",
       "customer_count_bin            0\n",
       "support_ticket_category       0\n",
       "active_status                 0\n",
       "seats_purchased               0\n",
       "seats_used                    0\n",
       "seat_utilization_rate         0\n",
       "renewal_date                619\n",
       "renewal_status                0\n",
       "account_health_score          0\n",
       "team_size                     0\n",
       "industry                      0\n",
       "feature_adoption_rate         0\n",
       "active_features               0\n",
       "customer_lifetime_days        0\n",
       "is_churned                    0\n",
       "signup_year                   0\n",
       "dtype: int64"
      ]
     },
     "execution_count": 280,
     "metadata": {},
     "output_type": "execute_result"
    }
   ],
   "source": [
    "missing_values = customer.isnull().sum()\n",
    "missing_values"
   ]
  },
  {
   "cell_type": "code",
   "execution_count": 281,
   "metadata": {},
   "outputs": [],
   "source": [
    "# Date standardisation\n",
    "customer['signup_date'] = pd.to_datetime(customer['signup_date'], errors='coerce')\n",
    "customer['churn_date'] = pd.to_datetime(customer['churn_date'], errors='coerce')\n",
    "customer['renewal_date'] = pd.to_datetime(customer['renewal_date'], errors='coerce')\n",
    "customer['last_active_date'] = pd.to_datetime(customer['last_active_date'], errors='coerce')\n",
    "customer['is_churned'] = customer['churn_date'].notnull().astype(int)\n"
   ]
  },
  {
   "cell_type": "code",
   "execution_count": 282,
   "metadata": {},
   "outputs": [],
   "source": [
    "# Customer lifetime in days\n",
    "customer['customer_lifetime_days'] = (customer['churn_date'].fillna(pd.Timestamp('now')) - customer['signup_date']).dt.days"
   ]
  },
  {
   "cell_type": "code",
   "execution_count": 283,
   "metadata": {},
   "outputs": [],
   "source": [
    "# Column for new metrics analysis\n",
    "# Flag for churned customers\n",
    "customer['is_churned'] = customer['churn_date'].notnull().astype(int)\n",
    "# New column for year-based analysis\n",
    "customer['signup_year'] = customer['signup_date'].dt.year\n",
    "\n",
    "# Value standardisation\n",
    "categorical_columns = ['subscription_type', 'customer_segment', 'renewal_status', 'industry', 'churn_reason', 'country', 'team_size']\n",
    "customer[categorical_columns] = customer[categorical_columns].apply(lambda x: x.str.lower() if x.dtype == \"object\" else x)\n",
    "\n",
    "# Outliers\n",
    "# Measuring the middle 50% spread of the revenue data\n",
    "Q1 = customer['monthly_revenue'].quantile(0.25)\n",
    "Q3 = customer['monthly_revenue'].quantile(0.75)\n",
    "IQR = Q3 - Q1\n",
    "\n",
    "# Cap monthly revenue at calculated lower and upper bounds\n",
    "lower_bound = Q1 - 1.5 * IQR\n",
    "upper_bound = Q3 + 1.5 * IQR\n",
    "customer['monthly_revenue'] = customer['monthly_revenue'].clip(lower=lower_bound, upper=upper_bound)\n"
   ]
  },
  {
   "cell_type": "code",
   "execution_count": 284,
   "metadata": {},
   "outputs": [
    {
     "data": {
      "text/html": [
       "<div>\n",
       "<style scoped>\n",
       "    .dataframe tbody tr th:only-of-type {\n",
       "        vertical-align: middle;\n",
       "    }\n",
       "\n",
       "    .dataframe tbody tr th {\n",
       "        vertical-align: top;\n",
       "    }\n",
       "\n",
       "    .dataframe thead th {\n",
       "        text-align: right;\n",
       "    }\n",
       "</style>\n",
       "<table border=\"1\" class=\"dataframe\">\n",
       "  <thead>\n",
       "    <tr style=\"text-align: right;\">\n",
       "      <th></th>\n",
       "      <th>customer_id</th>\n",
       "      <th>signup_date</th>\n",
       "      <th>churn_date</th>\n",
       "      <th>subscription_type</th>\n",
       "      <th>monthly_revenue</th>\n",
       "      <th>csat_score</th>\n",
       "      <th>customer_segment</th>\n",
       "      <th>country</th>\n",
       "      <th>customer_age_months</th>\n",
       "      <th>churn_reason</th>\n",
       "      <th>...</th>\n",
       "      <th>renewal_date</th>\n",
       "      <th>renewal_status</th>\n",
       "      <th>account_health_score</th>\n",
       "      <th>team_size</th>\n",
       "      <th>industry</th>\n",
       "      <th>feature_adoption_rate</th>\n",
       "      <th>active_features</th>\n",
       "      <th>customer_lifetime_days</th>\n",
       "      <th>is_churned</th>\n",
       "      <th>signup_year</th>\n",
       "    </tr>\n",
       "  </thead>\n",
       "  <tbody>\n",
       "    <tr>\n",
       "      <th>count</th>\n",
       "      <td>3000.000000</td>\n",
       "      <td>3000</td>\n",
       "      <td>619</td>\n",
       "      <td>3000</td>\n",
       "      <td>3000.000000</td>\n",
       "      <td>3000.000000</td>\n",
       "      <td>3000</td>\n",
       "      <td>3000</td>\n",
       "      <td>3000.000000</td>\n",
       "      <td>619</td>\n",
       "      <td>...</td>\n",
       "      <td>2381</td>\n",
       "      <td>3000</td>\n",
       "      <td>3000.000000</td>\n",
       "      <td>3000</td>\n",
       "      <td>3000</td>\n",
       "      <td>3000.000000</td>\n",
       "      <td>3000.000000</td>\n",
       "      <td>3000.000000</td>\n",
       "      <td>3000.000000</td>\n",
       "      <td>3000.000000</td>\n",
       "    </tr>\n",
       "    <tr>\n",
       "      <th>unique</th>\n",
       "      <td>NaN</td>\n",
       "      <td>NaN</td>\n",
       "      <td>NaN</td>\n",
       "      <td>3</td>\n",
       "      <td>NaN</td>\n",
       "      <td>NaN</td>\n",
       "      <td>3</td>\n",
       "      <td>10</td>\n",
       "      <td>NaN</td>\n",
       "      <td>4</td>\n",
       "      <td>...</td>\n",
       "      <td>NaN</td>\n",
       "      <td>2</td>\n",
       "      <td>NaN</td>\n",
       "      <td>3</td>\n",
       "      <td>3</td>\n",
       "      <td>NaN</td>\n",
       "      <td>NaN</td>\n",
       "      <td>NaN</td>\n",
       "      <td>NaN</td>\n",
       "      <td>NaN</td>\n",
       "    </tr>\n",
       "    <tr>\n",
       "      <th>top</th>\n",
       "      <td>NaN</td>\n",
       "      <td>NaN</td>\n",
       "      <td>NaN</td>\n",
       "      <td>basic</td>\n",
       "      <td>NaN</td>\n",
       "      <td>NaN</td>\n",
       "      <td>small business</td>\n",
       "      <td>usa</td>\n",
       "      <td>NaN</td>\n",
       "      <td>high cost</td>\n",
       "      <td>...</td>\n",
       "      <td>NaN</td>\n",
       "      <td>renewed</td>\n",
       "      <td>NaN</td>\n",
       "      <td>100-500</td>\n",
       "      <td>technology</td>\n",
       "      <td>NaN</td>\n",
       "      <td>NaN</td>\n",
       "      <td>NaN</td>\n",
       "      <td>NaN</td>\n",
       "      <td>NaN</td>\n",
       "    </tr>\n",
       "    <tr>\n",
       "      <th>freq</th>\n",
       "      <td>NaN</td>\n",
       "      <td>NaN</td>\n",
       "      <td>NaN</td>\n",
       "      <td>1547</td>\n",
       "      <td>NaN</td>\n",
       "      <td>NaN</td>\n",
       "      <td>1786</td>\n",
       "      <td>327</td>\n",
       "      <td>NaN</td>\n",
       "      <td>247</td>\n",
       "      <td>...</td>\n",
       "      <td>NaN</td>\n",
       "      <td>2381</td>\n",
       "      <td>NaN</td>\n",
       "      <td>1050</td>\n",
       "      <td>1013</td>\n",
       "      <td>NaN</td>\n",
       "      <td>NaN</td>\n",
       "      <td>NaN</td>\n",
       "      <td>NaN</td>\n",
       "      <td>NaN</td>\n",
       "    </tr>\n",
       "    <tr>\n",
       "      <th>mean</th>\n",
       "      <td>1500.500000</td>\n",
       "      <td>2023-10-22 10:28:48</td>\n",
       "      <td>2024-12-06 16:19:23.166397440</td>\n",
       "      <td>NaN</td>\n",
       "      <td>138.925000</td>\n",
       "      <td>3.017667</td>\n",
       "      <td>NaN</td>\n",
       "      <td>NaN</td>\n",
       "      <td>59.803333</td>\n",
       "      <td>NaN</td>\n",
       "      <td>...</td>\n",
       "      <td>2025-10-22 09:55:42.965140480</td>\n",
       "      <td>NaN</td>\n",
       "      <td>76.177089</td>\n",
       "      <td>NaN</td>\n",
       "      <td>NaN</td>\n",
       "      <td>0.603042</td>\n",
       "      <td>11.558333</td>\n",
       "      <td>364.671000</td>\n",
       "      <td>0.206333</td>\n",
       "      <td>2023.317333</td>\n",
       "    </tr>\n",
       "    <tr>\n",
       "      <th>min</th>\n",
       "      <td>1.000000</td>\n",
       "      <td>2021-10-01 00:00:00</td>\n",
       "      <td>2022-01-11 00:00:00</td>\n",
       "      <td>NaN</td>\n",
       "      <td>50.000000</td>\n",
       "      <td>1.000000</td>\n",
       "      <td>NaN</td>\n",
       "      <td>NaN</td>\n",
       "      <td>2.000000</td>\n",
       "      <td>NaN</td>\n",
       "      <td>...</td>\n",
       "      <td>2022-10-02 00:00:00</td>\n",
       "      <td>NaN</td>\n",
       "      <td>17.741449</td>\n",
       "      <td>NaN</td>\n",
       "      <td>NaN</td>\n",
       "      <td>0.300081</td>\n",
       "      <td>6.000000</td>\n",
       "      <td>-1047.000000</td>\n",
       "      <td>0.000000</td>\n",
       "      <td>2021.000000</td>\n",
       "    </tr>\n",
       "    <tr>\n",
       "      <th>25%</th>\n",
       "      <td>750.750000</td>\n",
       "      <td>2022-10-02 00:00:00</td>\n",
       "      <td>2023-11-08 12:00:00</td>\n",
       "      <td>NaN</td>\n",
       "      <td>50.000000</td>\n",
       "      <td>2.000000</td>\n",
       "      <td>NaN</td>\n",
       "      <td>NaN</td>\n",
       "      <td>47.000000</td>\n",
       "      <td>NaN</td>\n",
       "      <td>...</td>\n",
       "      <td>2024-10-08 00:00:00</td>\n",
       "      <td>NaN</td>\n",
       "      <td>56.018398</td>\n",
       "      <td>NaN</td>\n",
       "      <td>NaN</td>\n",
       "      <td>0.453377</td>\n",
       "      <td>9.000000</td>\n",
       "      <td>92.000000</td>\n",
       "      <td>0.000000</td>\n",
       "      <td>2022.000000</td>\n",
       "    </tr>\n",
       "    <tr>\n",
       "      <th>50%</th>\n",
       "      <td>1500.500000</td>\n",
       "      <td>2023-10-06 00:00:00</td>\n",
       "      <td>2024-11-08 00:00:00</td>\n",
       "      <td>NaN</td>\n",
       "      <td>100.000000</td>\n",
       "      <td>3.000000</td>\n",
       "      <td>NaN</td>\n",
       "      <td>NaN</td>\n",
       "      <td>66.000000</td>\n",
       "      <td>NaN</td>\n",
       "      <td>...</td>\n",
       "      <td>2025-09-23 00:00:00</td>\n",
       "      <td>NaN</td>\n",
       "      <td>81.036163</td>\n",
       "      <td>NaN</td>\n",
       "      <td>NaN</td>\n",
       "      <td>0.606137</td>\n",
       "      <td>12.000000</td>\n",
       "      <td>347.500000</td>\n",
       "      <td>0.000000</td>\n",
       "      <td>2023.000000</td>\n",
       "    </tr>\n",
       "    <tr>\n",
       "      <th>75%</th>\n",
       "      <td>2250.250000</td>\n",
       "      <td>2024-09-27 00:00:00</td>\n",
       "      <td>2025-12-21 12:00:00</td>\n",
       "      <td>NaN</td>\n",
       "      <td>200.000000</td>\n",
       "      <td>4.000000</td>\n",
       "      <td>NaN</td>\n",
       "      <td>NaN</td>\n",
       "      <td>81.000000</td>\n",
       "      <td>NaN</td>\n",
       "      <td>...</td>\n",
       "      <td>2026-11-23 00:00:00</td>\n",
       "      <td>NaN</td>\n",
       "      <td>100.000000</td>\n",
       "      <td>NaN</td>\n",
       "      <td>NaN</td>\n",
       "      <td>0.749988</td>\n",
       "      <td>14.250000</td>\n",
       "      <td>700.000000</td>\n",
       "      <td>0.000000</td>\n",
       "      <td>2024.000000</td>\n",
       "    </tr>\n",
       "    <tr>\n",
       "      <th>max</th>\n",
       "      <td>3000.000000</td>\n",
       "      <td>2028-01-17 00:00:00</td>\n",
       "      <td>2030-01-17 00:00:00</td>\n",
       "      <td>NaN</td>\n",
       "      <td>425.000000</td>\n",
       "      <td>5.000000</td>\n",
       "      <td>NaN</td>\n",
       "      <td>NaN</td>\n",
       "      <td>97.000000</td>\n",
       "      <td>NaN</td>\n",
       "      <td>...</td>\n",
       "      <td>2030-05-17 00:00:00</td>\n",
       "      <td>NaN</td>\n",
       "      <td>100.000000</td>\n",
       "      <td>NaN</td>\n",
       "      <td>NaN</td>\n",
       "      <td>0.899828</td>\n",
       "      <td>17.000000</td>\n",
       "      <td>1104.000000</td>\n",
       "      <td>1.000000</td>\n",
       "      <td>2028.000000</td>\n",
       "    </tr>\n",
       "    <tr>\n",
       "      <th>std</th>\n",
       "      <td>866.169729</td>\n",
       "      <td>NaN</td>\n",
       "      <td>NaN</td>\n",
       "      <td>NaN</td>\n",
       "      <td>112.372573</td>\n",
       "      <td>1.415871</td>\n",
       "      <td>NaN</td>\n",
       "      <td>NaN</td>\n",
       "      <td>27.652116</td>\n",
       "      <td>NaN</td>\n",
       "      <td>...</td>\n",
       "      <td>NaN</td>\n",
       "      <td>NaN</td>\n",
       "      <td>23.470578</td>\n",
       "      <td>NaN</td>\n",
       "      <td>NaN</td>\n",
       "      <td>0.171681</td>\n",
       "      <td>3.426443</td>\n",
       "      <td>423.626138</td>\n",
       "      <td>0.404740</td>\n",
       "      <td>1.291455</td>\n",
       "    </tr>\n",
       "  </tbody>\n",
       "</table>\n",
       "<p>11 rows × 38 columns</p>\n",
       "</div>"
      ],
      "text/plain": [
       "        customer_id          signup_date                     churn_date  \\\n",
       "count   3000.000000                 3000                            619   \n",
       "unique          NaN                  NaN                            NaN   \n",
       "top             NaN                  NaN                            NaN   \n",
       "freq            NaN                  NaN                            NaN   \n",
       "mean    1500.500000  2023-10-22 10:28:48  2024-12-06 16:19:23.166397440   \n",
       "min        1.000000  2021-10-01 00:00:00            2022-01-11 00:00:00   \n",
       "25%      750.750000  2022-10-02 00:00:00            2023-11-08 12:00:00   \n",
       "50%     1500.500000  2023-10-06 00:00:00            2024-11-08 00:00:00   \n",
       "75%     2250.250000  2024-09-27 00:00:00            2025-12-21 12:00:00   \n",
       "max     3000.000000  2028-01-17 00:00:00            2030-01-17 00:00:00   \n",
       "std      866.169729                  NaN                            NaN   \n",
       "\n",
       "       subscription_type  monthly_revenue   csat_score customer_segment  \\\n",
       "count               3000      3000.000000  3000.000000             3000   \n",
       "unique                 3              NaN          NaN                3   \n",
       "top                basic              NaN          NaN   small business   \n",
       "freq                1547              NaN          NaN             1786   \n",
       "mean                 NaN       138.925000     3.017667              NaN   \n",
       "min                  NaN        50.000000     1.000000              NaN   \n",
       "25%                  NaN        50.000000     2.000000              NaN   \n",
       "50%                  NaN       100.000000     3.000000              NaN   \n",
       "75%                  NaN       200.000000     4.000000              NaN   \n",
       "max                  NaN       425.000000     5.000000              NaN   \n",
       "std                  NaN       112.372573     1.415871              NaN   \n",
       "\n",
       "       country  customer_age_months churn_reason  ...  \\\n",
       "count     3000          3000.000000          619  ...   \n",
       "unique      10                  NaN            4  ...   \n",
       "top        usa                  NaN    high cost  ...   \n",
       "freq       327                  NaN          247  ...   \n",
       "mean       NaN            59.803333          NaN  ...   \n",
       "min        NaN             2.000000          NaN  ...   \n",
       "25%        NaN            47.000000          NaN  ...   \n",
       "50%        NaN            66.000000          NaN  ...   \n",
       "75%        NaN            81.000000          NaN  ...   \n",
       "max        NaN            97.000000          NaN  ...   \n",
       "std        NaN            27.652116          NaN  ...   \n",
       "\n",
       "                         renewal_date  renewal_status  account_health_score  \\\n",
       "count                            2381            3000           3000.000000   \n",
       "unique                            NaN               2                   NaN   \n",
       "top                               NaN         renewed                   NaN   \n",
       "freq                              NaN            2381                   NaN   \n",
       "mean    2025-10-22 09:55:42.965140480             NaN             76.177089   \n",
       "min               2022-10-02 00:00:00             NaN             17.741449   \n",
       "25%               2024-10-08 00:00:00             NaN             56.018398   \n",
       "50%               2025-09-23 00:00:00             NaN             81.036163   \n",
       "75%               2026-11-23 00:00:00             NaN            100.000000   \n",
       "max               2030-05-17 00:00:00             NaN            100.000000   \n",
       "std                               NaN             NaN             23.470578   \n",
       "\n",
       "       team_size    industry  feature_adoption_rate  active_features  \\\n",
       "count       3000        3000            3000.000000      3000.000000   \n",
       "unique         3           3                    NaN              NaN   \n",
       "top      100-500  technology                    NaN              NaN   \n",
       "freq        1050        1013                    NaN              NaN   \n",
       "mean         NaN         NaN               0.603042        11.558333   \n",
       "min          NaN         NaN               0.300081         6.000000   \n",
       "25%          NaN         NaN               0.453377         9.000000   \n",
       "50%          NaN         NaN               0.606137        12.000000   \n",
       "75%          NaN         NaN               0.749988        14.250000   \n",
       "max          NaN         NaN               0.899828        17.000000   \n",
       "std          NaN         NaN               0.171681         3.426443   \n",
       "\n",
       "       customer_lifetime_days   is_churned  signup_year  \n",
       "count             3000.000000  3000.000000  3000.000000  \n",
       "unique                    NaN          NaN          NaN  \n",
       "top                       NaN          NaN          NaN  \n",
       "freq                      NaN          NaN          NaN  \n",
       "mean               364.671000     0.206333  2023.317333  \n",
       "min              -1047.000000     0.000000  2021.000000  \n",
       "25%                 92.000000     0.000000  2022.000000  \n",
       "50%                347.500000     0.000000  2023.000000  \n",
       "75%                700.000000     0.000000  2024.000000  \n",
       "max               1104.000000     1.000000  2028.000000  \n",
       "std                423.626138     0.404740     1.291455  \n",
       "\n",
       "[11 rows x 38 columns]"
      ]
     },
     "execution_count": 284,
     "metadata": {},
     "output_type": "execute_result"
    }
   ],
   "source": [
    "cleaned_summary = customer.describe(include='all')\n",
    "cleaned_summary"
   ]
  },
  {
   "cell_type": "code",
   "execution_count": 285,
   "metadata": {},
   "outputs": [
    {
     "data": {
      "text/html": [
       "<div>\n",
       "<style scoped>\n",
       "    .dataframe tbody tr th:only-of-type {\n",
       "        vertical-align: middle;\n",
       "    }\n",
       "\n",
       "    .dataframe tbody tr th {\n",
       "        vertical-align: top;\n",
       "    }\n",
       "\n",
       "    .dataframe thead th {\n",
       "        text-align: right;\n",
       "    }\n",
       "</style>\n",
       "<table border=\"1\" class=\"dataframe\">\n",
       "  <thead>\n",
       "    <tr style=\"text-align: right;\">\n",
       "      <th></th>\n",
       "      <th>customer_id</th>\n",
       "      <th>signup_date</th>\n",
       "      <th>churn_date</th>\n",
       "      <th>subscription_type</th>\n",
       "      <th>monthly_revenue</th>\n",
       "      <th>csat_score</th>\n",
       "      <th>customer_segment</th>\n",
       "      <th>country</th>\n",
       "      <th>customer_age_months</th>\n",
       "      <th>churn_reason</th>\n",
       "      <th>...</th>\n",
       "      <th>renewal_date</th>\n",
       "      <th>renewal_status</th>\n",
       "      <th>account_health_score</th>\n",
       "      <th>team_size</th>\n",
       "      <th>industry</th>\n",
       "      <th>feature_adoption_rate</th>\n",
       "      <th>active_features</th>\n",
       "      <th>customer_lifetime_days</th>\n",
       "      <th>is_churned</th>\n",
       "      <th>signup_year</th>\n",
       "    </tr>\n",
       "  </thead>\n",
       "  <tbody>\n",
       "    <tr>\n",
       "      <th>0</th>\n",
       "      <td>1</td>\n",
       "      <td>2022-03-04</td>\n",
       "      <td>NaT</td>\n",
       "      <td>enterprise</td>\n",
       "      <td>150</td>\n",
       "      <td>5</td>\n",
       "      <td>small business</td>\n",
       "      <td>norway</td>\n",
       "      <td>92</td>\n",
       "      <td>NaN</td>\n",
       "      <td>...</td>\n",
       "      <td>2025-03-04</td>\n",
       "      <td>renewed</td>\n",
       "      <td>100.000000</td>\n",
       "      <td>50-100</td>\n",
       "      <td>technology</td>\n",
       "      <td>0.567500</td>\n",
       "      <td>11</td>\n",
       "      <td>950</td>\n",
       "      <td>0</td>\n",
       "      <td>2022</td>\n",
       "    </tr>\n",
       "    <tr>\n",
       "      <th>1</th>\n",
       "      <td>2</td>\n",
       "      <td>2021-10-10</td>\n",
       "      <td>NaT</td>\n",
       "      <td>pro</td>\n",
       "      <td>200</td>\n",
       "      <td>1</td>\n",
       "      <td>mid-market</td>\n",
       "      <td>denmark</td>\n",
       "      <td>97</td>\n",
       "      <td>NaN</td>\n",
       "      <td>...</td>\n",
       "      <td>2022-10-10</td>\n",
       "      <td>renewed</td>\n",
       "      <td>18.399970</td>\n",
       "      <td>10-50</td>\n",
       "      <td>finance</td>\n",
       "      <td>0.327999</td>\n",
       "      <td>6</td>\n",
       "      <td>1095</td>\n",
       "      <td>0</td>\n",
       "      <td>2021</td>\n",
       "    </tr>\n",
       "    <tr>\n",
       "      <th>2</th>\n",
       "      <td>3</td>\n",
       "      <td>2022-02-03</td>\n",
       "      <td>NaT</td>\n",
       "      <td>pro</td>\n",
       "      <td>200</td>\n",
       "      <td>4</td>\n",
       "      <td>mid-market</td>\n",
       "      <td>canada</td>\n",
       "      <td>93</td>\n",
       "      <td>NaN</td>\n",
       "      <td>...</td>\n",
       "      <td>2023-02-03</td>\n",
       "      <td>renewed</td>\n",
       "      <td>100.000000</td>\n",
       "      <td>50-100</td>\n",
       "      <td>technology</td>\n",
       "      <td>0.665998</td>\n",
       "      <td>13</td>\n",
       "      <td>979</td>\n",
       "      <td>0</td>\n",
       "      <td>2022</td>\n",
       "    </tr>\n",
       "    <tr>\n",
       "      <th>3</th>\n",
       "      <td>4</td>\n",
       "      <td>2022-01-23</td>\n",
       "      <td>NaT</td>\n",
       "      <td>enterprise</td>\n",
       "      <td>425</td>\n",
       "      <td>4</td>\n",
       "      <td>enterprise</td>\n",
       "      <td>switzerland</td>\n",
       "      <td>93</td>\n",
       "      <td>NaN</td>\n",
       "      <td>...</td>\n",
       "      <td>2024-01-23</td>\n",
       "      <td>renewed</td>\n",
       "      <td>98.113319</td>\n",
       "      <td>10-50</td>\n",
       "      <td>technology</td>\n",
       "      <td>0.642266</td>\n",
       "      <td>12</td>\n",
       "      <td>990</td>\n",
       "      <td>0</td>\n",
       "      <td>2022</td>\n",
       "    </tr>\n",
       "    <tr>\n",
       "      <th>4</th>\n",
       "      <td>5</td>\n",
       "      <td>2022-11-07</td>\n",
       "      <td>2023-04-07</td>\n",
       "      <td>basic</td>\n",
       "      <td>50</td>\n",
       "      <td>1</td>\n",
       "      <td>small business</td>\n",
       "      <td>sweden</td>\n",
       "      <td>5</td>\n",
       "      <td>feature gaps</td>\n",
       "      <td>...</td>\n",
       "      <td>NaT</td>\n",
       "      <td>churned</td>\n",
       "      <td>40.961470</td>\n",
       "      <td>50-100</td>\n",
       "      <td>technology</td>\n",
       "      <td>0.419229</td>\n",
       "      <td>8</td>\n",
       "      <td>151</td>\n",
       "      <td>1</td>\n",
       "      <td>2022</td>\n",
       "    </tr>\n",
       "  </tbody>\n",
       "</table>\n",
       "<p>5 rows × 38 columns</p>\n",
       "</div>"
      ],
      "text/plain": [
       "   customer_id signup_date churn_date subscription_type  monthly_revenue  \\\n",
       "0            1  2022-03-04        NaT        enterprise              150   \n",
       "1            2  2021-10-10        NaT               pro              200   \n",
       "2            3  2022-02-03        NaT               pro              200   \n",
       "3            4  2022-01-23        NaT        enterprise              425   \n",
       "4            5  2022-11-07 2023-04-07             basic               50   \n",
       "\n",
       "   csat_score customer_segment      country  customer_age_months  \\\n",
       "0           5   small business       norway                   92   \n",
       "1           1       mid-market      denmark                   97   \n",
       "2           4       mid-market       canada                   93   \n",
       "3           4       enterprise  switzerland                   93   \n",
       "4           1   small business       sweden                    5   \n",
       "\n",
       "   churn_reason  ... renewal_date  renewal_status  account_health_score  \\\n",
       "0           NaN  ...   2025-03-04         renewed            100.000000   \n",
       "1           NaN  ...   2022-10-10         renewed             18.399970   \n",
       "2           NaN  ...   2023-02-03         renewed            100.000000   \n",
       "3           NaN  ...   2024-01-23         renewed             98.113319   \n",
       "4  feature gaps  ...          NaT         churned             40.961470   \n",
       "\n",
       "  team_size    industry  feature_adoption_rate  active_features  \\\n",
       "0    50-100  technology               0.567500               11   \n",
       "1     10-50     finance               0.327999                6   \n",
       "2    50-100  technology               0.665998               13   \n",
       "3     10-50  technology               0.642266               12   \n",
       "4    50-100  technology               0.419229                8   \n",
       "\n",
       "  customer_lifetime_days  is_churned  signup_year  \n",
       "0                    950           0         2022  \n",
       "1                   1095           0         2021  \n",
       "2                    979           0         2022  \n",
       "3                    990           0         2022  \n",
       "4                    151           1         2022  \n",
       "\n",
       "[5 rows x 38 columns]"
      ]
     },
     "execution_count": 285,
     "metadata": {},
     "output_type": "execute_result"
    }
   ],
   "source": [
    "customer.head()"
   ]
  },
  {
   "cell_type": "code",
   "execution_count": 286,
   "metadata": {},
   "outputs": [
    {
     "data": {
      "text/html": [
       "<div>\n",
       "<style scoped>\n",
       "    .dataframe tbody tr th:only-of-type {\n",
       "        vertical-align: middle;\n",
       "    }\n",
       "\n",
       "    .dataframe tbody tr th {\n",
       "        vertical-align: top;\n",
       "    }\n",
       "\n",
       "    .dataframe thead th {\n",
       "        text-align: right;\n",
       "    }\n",
       "</style>\n",
       "<table border=\"1\" class=\"dataframe\">\n",
       "  <thead>\n",
       "    <tr style=\"text-align: right;\">\n",
       "      <th></th>\n",
       "      <th>customer_id</th>\n",
       "      <th>signup_date</th>\n",
       "      <th>churn_date</th>\n",
       "      <th>monthly_revenue</th>\n",
       "      <th>csat_score</th>\n",
       "      <th>customer_age_months</th>\n",
       "      <th>last_active_date</th>\n",
       "      <th>clv</th>\n",
       "      <th>contract_length_months</th>\n",
       "      <th>onboarding_score</th>\n",
       "      <th>...</th>\n",
       "      <th>seats_purchased</th>\n",
       "      <th>seats_used</th>\n",
       "      <th>seat_utilization_rate</th>\n",
       "      <th>renewal_date</th>\n",
       "      <th>account_health_score</th>\n",
       "      <th>feature_adoption_rate</th>\n",
       "      <th>active_features</th>\n",
       "      <th>customer_lifetime_days</th>\n",
       "      <th>is_churned</th>\n",
       "      <th>signup_year</th>\n",
       "    </tr>\n",
       "  </thead>\n",
       "  <tbody>\n",
       "    <tr>\n",
       "      <th>count</th>\n",
       "      <td>3000.000000</td>\n",
       "      <td>3000</td>\n",
       "      <td>619</td>\n",
       "      <td>3000.000000</td>\n",
       "      <td>3000.000000</td>\n",
       "      <td>3000.000000</td>\n",
       "      <td>3000</td>\n",
       "      <td>3000.000000</td>\n",
       "      <td>3000.000000</td>\n",
       "      <td>3000.000000</td>\n",
       "      <td>...</td>\n",
       "      <td>3000.000000</td>\n",
       "      <td>3000.000000</td>\n",
       "      <td>3000.000000</td>\n",
       "      <td>2381</td>\n",
       "      <td>3000.000000</td>\n",
       "      <td>3000.000000</td>\n",
       "      <td>3000.000000</td>\n",
       "      <td>3000.000000</td>\n",
       "      <td>3000.000000</td>\n",
       "      <td>3000.000000</td>\n",
       "    </tr>\n",
       "    <tr>\n",
       "      <th>mean</th>\n",
       "      <td>1500.500000</td>\n",
       "      <td>2023-10-22 10:28:48</td>\n",
       "      <td>2024-12-06 16:19:23.166397440</td>\n",
       "      <td>138.925000</td>\n",
       "      <td>3.017667</td>\n",
       "      <td>59.803333</td>\n",
       "      <td>2028-10-02 04:48:00</td>\n",
       "      <td>3598.000000</td>\n",
       "      <td>24.080000</td>\n",
       "      <td>48.799333</td>\n",
       "      <td>...</td>\n",
       "      <td>27.232667</td>\n",
       "      <td>13.702667</td>\n",
       "      <td>0.502964</td>\n",
       "      <td>2025-10-22 09:55:42.965140480</td>\n",
       "      <td>76.177089</td>\n",
       "      <td>0.603042</td>\n",
       "      <td>11.558333</td>\n",
       "      <td>364.671000</td>\n",
       "      <td>0.206333</td>\n",
       "      <td>2023.317333</td>\n",
       "    </tr>\n",
       "    <tr>\n",
       "      <th>min</th>\n",
       "      <td>1.000000</td>\n",
       "      <td>2021-10-01 00:00:00</td>\n",
       "      <td>2022-01-11 00:00:00</td>\n",
       "      <td>50.000000</td>\n",
       "      <td>1.000000</td>\n",
       "      <td>2.000000</td>\n",
       "      <td>2022-01-11 00:00:00</td>\n",
       "      <td>600.000000</td>\n",
       "      <td>12.000000</td>\n",
       "      <td>1.000000</td>\n",
       "      <td>...</td>\n",
       "      <td>5.000000</td>\n",
       "      <td>1.000000</td>\n",
       "      <td>0.020408</td>\n",
       "      <td>2022-10-02 00:00:00</td>\n",
       "      <td>17.741449</td>\n",
       "      <td>0.300081</td>\n",
       "      <td>6.000000</td>\n",
       "      <td>-1047.000000</td>\n",
       "      <td>0.000000</td>\n",
       "      <td>2021.000000</td>\n",
       "    </tr>\n",
       "    <tr>\n",
       "      <th>25%</th>\n",
       "      <td>750.750000</td>\n",
       "      <td>2022-10-02 00:00:00</td>\n",
       "      <td>2023-11-08 12:00:00</td>\n",
       "      <td>50.000000</td>\n",
       "      <td>2.000000</td>\n",
       "      <td>47.000000</td>\n",
       "      <td>2029-09-30 00:00:00</td>\n",
       "      <td>1200.000000</td>\n",
       "      <td>12.000000</td>\n",
       "      <td>23.000000</td>\n",
       "      <td>...</td>\n",
       "      <td>16.000000</td>\n",
       "      <td>5.000000</td>\n",
       "      <td>0.266667</td>\n",
       "      <td>2024-10-08 00:00:00</td>\n",
       "      <td>56.018398</td>\n",
       "      <td>0.453377</td>\n",
       "      <td>9.000000</td>\n",
       "      <td>92.000000</td>\n",
       "      <td>0.000000</td>\n",
       "      <td>2022.000000</td>\n",
       "    </tr>\n",
       "    <tr>\n",
       "      <th>50%</th>\n",
       "      <td>1500.500000</td>\n",
       "      <td>2023-10-06 00:00:00</td>\n",
       "      <td>2024-11-08 00:00:00</td>\n",
       "      <td>100.000000</td>\n",
       "      <td>3.000000</td>\n",
       "      <td>66.000000</td>\n",
       "      <td>2029-09-30 00:00:00</td>\n",
       "      <td>1800.000000</td>\n",
       "      <td>24.000000</td>\n",
       "      <td>48.000000</td>\n",
       "      <td>...</td>\n",
       "      <td>27.000000</td>\n",
       "      <td>11.000000</td>\n",
       "      <td>0.500000</td>\n",
       "      <td>2025-09-23 00:00:00</td>\n",
       "      <td>81.036163</td>\n",
       "      <td>0.606137</td>\n",
       "      <td>12.000000</td>\n",
       "      <td>347.500000</td>\n",
       "      <td>0.000000</td>\n",
       "      <td>2023.000000</td>\n",
       "    </tr>\n",
       "    <tr>\n",
       "      <th>75%</th>\n",
       "      <td>2250.250000</td>\n",
       "      <td>2024-09-27 00:00:00</td>\n",
       "      <td>2025-12-21 12:00:00</td>\n",
       "      <td>200.000000</td>\n",
       "      <td>4.000000</td>\n",
       "      <td>81.000000</td>\n",
       "      <td>2029-09-30 00:00:00</td>\n",
       "      <td>4800.000000</td>\n",
       "      <td>36.000000</td>\n",
       "      <td>74.250000</td>\n",
       "      <td>...</td>\n",
       "      <td>39.000000</td>\n",
       "      <td>20.000000</td>\n",
       "      <td>0.735681</td>\n",
       "      <td>2026-11-23 00:00:00</td>\n",
       "      <td>100.000000</td>\n",
       "      <td>0.749988</td>\n",
       "      <td>14.250000</td>\n",
       "      <td>700.000000</td>\n",
       "      <td>0.000000</td>\n",
       "      <td>2024.000000</td>\n",
       "    </tr>\n",
       "    <tr>\n",
       "      <th>max</th>\n",
       "      <td>3000.000000</td>\n",
       "      <td>2028-01-17 00:00:00</td>\n",
       "      <td>2030-01-17 00:00:00</td>\n",
       "      <td>425.000000</td>\n",
       "      <td>5.000000</td>\n",
       "      <td>97.000000</td>\n",
       "      <td>2030-01-17 00:00:00</td>\n",
       "      <td>21600.000000</td>\n",
       "      <td>36.000000</td>\n",
       "      <td>99.000000</td>\n",
       "      <td>...</td>\n",
       "      <td>49.000000</td>\n",
       "      <td>48.000000</td>\n",
       "      <td>0.979592</td>\n",
       "      <td>2030-05-17 00:00:00</td>\n",
       "      <td>100.000000</td>\n",
       "      <td>0.899828</td>\n",
       "      <td>17.000000</td>\n",
       "      <td>1104.000000</td>\n",
       "      <td>1.000000</td>\n",
       "      <td>2028.000000</td>\n",
       "    </tr>\n",
       "    <tr>\n",
       "      <th>std</th>\n",
       "      <td>866.169729</td>\n",
       "      <td>NaN</td>\n",
       "      <td>NaN</td>\n",
       "      <td>112.372573</td>\n",
       "      <td>1.415871</td>\n",
       "      <td>27.652116</td>\n",
       "      <td>NaN</td>\n",
       "      <td>4000.466295</td>\n",
       "      <td>9.813955</td>\n",
       "      <td>28.926066</td>\n",
       "      <td>...</td>\n",
       "      <td>13.159620</td>\n",
       "      <td>10.746042</td>\n",
       "      <td>0.272167</td>\n",
       "      <td>NaN</td>\n",
       "      <td>23.470578</td>\n",
       "      <td>0.171681</td>\n",
       "      <td>3.426443</td>\n",
       "      <td>423.626138</td>\n",
       "      <td>0.404740</td>\n",
       "      <td>1.291455</td>\n",
       "    </tr>\n",
       "  </tbody>\n",
       "</table>\n",
       "<p>8 rows × 24 columns</p>\n",
       "</div>"
      ],
      "text/plain": [
       "       customer_id          signup_date                     churn_date  \\\n",
       "count  3000.000000                 3000                            619   \n",
       "mean   1500.500000  2023-10-22 10:28:48  2024-12-06 16:19:23.166397440   \n",
       "min       1.000000  2021-10-01 00:00:00            2022-01-11 00:00:00   \n",
       "25%     750.750000  2022-10-02 00:00:00            2023-11-08 12:00:00   \n",
       "50%    1500.500000  2023-10-06 00:00:00            2024-11-08 00:00:00   \n",
       "75%    2250.250000  2024-09-27 00:00:00            2025-12-21 12:00:00   \n",
       "max    3000.000000  2028-01-17 00:00:00            2030-01-17 00:00:00   \n",
       "std     866.169729                  NaN                            NaN   \n",
       "\n",
       "       monthly_revenue   csat_score  customer_age_months     last_active_date  \\\n",
       "count      3000.000000  3000.000000          3000.000000                 3000   \n",
       "mean        138.925000     3.017667            59.803333  2028-10-02 04:48:00   \n",
       "min          50.000000     1.000000             2.000000  2022-01-11 00:00:00   \n",
       "25%          50.000000     2.000000            47.000000  2029-09-30 00:00:00   \n",
       "50%         100.000000     3.000000            66.000000  2029-09-30 00:00:00   \n",
       "75%         200.000000     4.000000            81.000000  2029-09-30 00:00:00   \n",
       "max         425.000000     5.000000            97.000000  2030-01-17 00:00:00   \n",
       "std         112.372573     1.415871            27.652116                  NaN   \n",
       "\n",
       "                clv  contract_length_months  onboarding_score  ...  \\\n",
       "count   3000.000000             3000.000000       3000.000000  ...   \n",
       "mean    3598.000000               24.080000         48.799333  ...   \n",
       "min      600.000000               12.000000          1.000000  ...   \n",
       "25%     1200.000000               12.000000         23.000000  ...   \n",
       "50%     1800.000000               24.000000         48.000000  ...   \n",
       "75%     4800.000000               36.000000         74.250000  ...   \n",
       "max    21600.000000               36.000000         99.000000  ...   \n",
       "std     4000.466295                9.813955         28.926066  ...   \n",
       "\n",
       "       seats_purchased   seats_used  seat_utilization_rate  \\\n",
       "count      3000.000000  3000.000000            3000.000000   \n",
       "mean         27.232667    13.702667               0.502964   \n",
       "min           5.000000     1.000000               0.020408   \n",
       "25%          16.000000     5.000000               0.266667   \n",
       "50%          27.000000    11.000000               0.500000   \n",
       "75%          39.000000    20.000000               0.735681   \n",
       "max          49.000000    48.000000               0.979592   \n",
       "std          13.159620    10.746042               0.272167   \n",
       "\n",
       "                        renewal_date  account_health_score  \\\n",
       "count                           2381           3000.000000   \n",
       "mean   2025-10-22 09:55:42.965140480             76.177089   \n",
       "min              2022-10-02 00:00:00             17.741449   \n",
       "25%              2024-10-08 00:00:00             56.018398   \n",
       "50%              2025-09-23 00:00:00             81.036163   \n",
       "75%              2026-11-23 00:00:00            100.000000   \n",
       "max              2030-05-17 00:00:00            100.000000   \n",
       "std                              NaN             23.470578   \n",
       "\n",
       "       feature_adoption_rate  active_features customer_lifetime_days  \\\n",
       "count            3000.000000      3000.000000            3000.000000   \n",
       "mean                0.603042        11.558333             364.671000   \n",
       "min                 0.300081         6.000000           -1047.000000   \n",
       "25%                 0.453377         9.000000              92.000000   \n",
       "50%                 0.606137        12.000000             347.500000   \n",
       "75%                 0.749988        14.250000             700.000000   \n",
       "max                 0.899828        17.000000            1104.000000   \n",
       "std                 0.171681         3.426443             423.626138   \n",
       "\n",
       "        is_churned  signup_year  \n",
       "count  3000.000000  3000.000000  \n",
       "mean      0.206333  2023.317333  \n",
       "min       0.000000  2021.000000  \n",
       "25%       0.000000  2022.000000  \n",
       "50%       0.000000  2023.000000  \n",
       "75%       0.000000  2024.000000  \n",
       "max       1.000000  2028.000000  \n",
       "std       0.404740     1.291455  \n",
       "\n",
       "[8 rows x 24 columns]"
      ]
     },
     "execution_count": 286,
     "metadata": {},
     "output_type": "execute_result"
    }
   ],
   "source": [
    "customer.describe()"
   ]
  },
  {
   "cell_type": "code",
   "execution_count": 287,
   "metadata": {},
   "outputs": [
    {
     "name": "stdout",
     "output_type": "stream",
     "text": [
      "<class 'pandas.core.frame.DataFrame'>\n",
      "RangeIndex: 3000 entries, 0 to 2999\n",
      "Data columns (total 38 columns):\n",
      " #   Column                   Non-Null Count  Dtype         \n",
      "---  ------                   --------------  -----         \n",
      " 0   customer_id              3000 non-null   int64         \n",
      " 1   signup_date              3000 non-null   datetime64[ns]\n",
      " 2   churn_date               619 non-null    datetime64[ns]\n",
      " 3   subscription_type        3000 non-null   object        \n",
      " 4   monthly_revenue          3000 non-null   int64         \n",
      " 5   csat_score               3000 non-null   int64         \n",
      " 6   customer_segment         3000 non-null   object        \n",
      " 7   country                  3000 non-null   object        \n",
      " 8   customer_age_months      3000 non-null   int64         \n",
      " 9   churn_reason             619 non-null    object        \n",
      " 10  last_active_date         3000 non-null   datetime64[ns]\n",
      " 11  clv                      3000 non-null   int64         \n",
      " 12  contract_length_months   3000 non-null   int64         \n",
      " 13  expansion_status         3000 non-null   object        \n",
      " 14  onboarding_score         3000 non-null   int64         \n",
      " 15  support_tickets          3000 non-null   int64         \n",
      " 16  churned                  3000 non-null   int64         \n",
      " 17  clv_segment              3000 non-null   object        \n",
      " 18  adjusted_csat            3000 non-null   float64       \n",
      " 19  segment_id               3000 non-null   int64         \n",
      " 20  segment_number           3000 non-null   object        \n",
      " 21  segment_name             3000 non-null   object        \n",
      " 22  customer_count_bin       3000 non-null   object        \n",
      " 23  support_ticket_category  3000 non-null   object        \n",
      " 24  active_status            3000 non-null   object        \n",
      " 25  seats_purchased          3000 non-null   int64         \n",
      " 26  seats_used               3000 non-null   int64         \n",
      " 27  seat_utilization_rate    3000 non-null   float64       \n",
      " 28  renewal_date             2381 non-null   datetime64[ns]\n",
      " 29  renewal_status           3000 non-null   object        \n",
      " 30  account_health_score     3000 non-null   float64       \n",
      " 31  team_size                3000 non-null   object        \n",
      " 32  industry                 3000 non-null   object        \n",
      " 33  feature_adoption_rate    3000 non-null   float64       \n",
      " 34  active_features          3000 non-null   int64         \n",
      " 35  customer_lifetime_days   3000 non-null   int64         \n",
      " 36  is_churned               3000 non-null   int64         \n",
      " 37  signup_year              3000 non-null   int32         \n",
      "dtypes: datetime64[ns](4), float64(4), int32(1), int64(15), object(14)\n",
      "memory usage: 879.0+ KB\n"
     ]
    }
   ],
   "source": [
    "customer.info()"
   ]
  },
  {
   "cell_type": "markdown",
   "metadata": {},
   "source": [
    "### Exploratory analysis"
   ]
  },
  {
   "cell_type": "markdown",
   "metadata": {},
   "source": [
    "#### Churn"
   ]
  },
  {
   "cell_type": "markdown",
   "metadata": {},
   "source": [
    "##### Exploratory analysis"
   ]
  },
  {
   "cell_type": "code",
   "execution_count": 288,
   "metadata": {},
   "outputs": [
    {
     "data": {
      "text/plain": [
       "20.633333333333333"
      ]
     },
     "execution_count": 288,
     "metadata": {},
     "output_type": "execute_result"
    }
   ],
   "source": [
    "# Overall churn rate\n",
    "total_customers = customer['customer_id'].nunique()\n",
    "churned_customers = customer[customer['is_churned'] == 1]['customer_id'].nunique()\n",
    "overall_churn_rate = churned_customers / total_customers * 100\n",
    "\n",
    "overall_churn_rate"
   ]
  },
  {
   "cell_type": "code",
   "execution_count": 289,
   "metadata": {},
   "outputs": [
    {
     "data": {
      "text/plain": [
       "customer_segment\n",
       "enterprise        20.068027\n",
       "mid-market        20.217391\n",
       "small business    20.940649\n",
       "Name: customer_id, dtype: float64"
      ]
     },
     "execution_count": 289,
     "metadata": {},
     "output_type": "execute_result"
    }
   ],
   "source": [
    "# Churn rates by customer segment\n",
    "segment_churn_rate = (\n",
    "    customer[customer['is_churned'] == 1]\n",
    "    .groupby('customer_segment')['customer_id'].nunique() /\n",
    "    customer.groupby('customer_segment')['customer_id'].nunique()\n",
    ") * 100\n",
    "\n",
    "segment_churn_rate"
   ]
  },
  {
   "cell_type": "code",
   "execution_count": 290,
   "metadata": {},
   "outputs": [
    {
     "data": {
      "text/plain": [
       "subscription_type\n",
       "basic         20.749838\n",
       "enterprise    19.343066\n",
       "pro           21.215470\n",
       "Name: customer_id, dtype: float64"
      ]
     },
     "execution_count": 290,
     "metadata": {},
     "output_type": "execute_result"
    }
   ],
   "source": [
    "# Churn rates by subscription type\n",
    "subscription_churn_rate = (\n",
    "    customer[customer['is_churned'] == 1]\n",
    "    .groupby('subscription_type')['customer_id'].nunique() /\n",
    "    customer.groupby('subscription_type')['customer_id'].nunique()\n",
    ") * 100\n",
    "\n",
    "subscription_churn_rate"
   ]
  },
  {
   "cell_type": "code",
   "execution_count": 291,
   "metadata": {},
   "outputs": [
    {
     "data": {
      "text/plain": [
       "country\n",
       "canada         25.752508\n",
       "denmark        19.631902\n",
       "france         19.127517\n",
       "germany        23.529412\n",
       "netherlands    20.469799\n",
       "norway         19.463087\n",
       "sweden         21.678322\n",
       "switzerland    20.065789\n",
       "uk             18.909091\n",
       "usa            18.042813\n",
       "Name: customer_id, dtype: float64"
      ]
     },
     "execution_count": 291,
     "metadata": {},
     "output_type": "execute_result"
    }
   ],
   "source": [
    "# Churn rates by country\n",
    "country_churn_rate = (\n",
    "    customer[customer['is_churned'] == 1]\n",
    "    .groupby('country')['customer_id'].nunique() /\n",
    "    customer.groupby('country')['customer_id'].nunique()\n",
    ") * 100\n",
    "\n",
    "country_churn_rate"
   ]
  },
  {
   "cell_type": "code",
   "execution_count": 292,
   "metadata": {},
   "outputs": [
    {
     "data": {
      "text/plain": [
       "industry\n",
       "finance       22.256098\n",
       "retail        20.039880\n",
       "technology    19.644620\n",
       "Name: customer_id, dtype: float64"
      ]
     },
     "execution_count": 292,
     "metadata": {},
     "output_type": "execute_result"
    }
   ],
   "source": [
    "# Churn rate by industry\n",
    "industry_churn_rate = (\n",
    "    customer[customer['is_churned'] == 1]\n",
    "    .groupby('industry')['customer_id'].nunique() /\n",
    "    customer.groupby('industry')['customer_id'].nunique()\n",
    ") * 100\n",
    "\n",
    "industry_churn_rate"
   ]
  },
  {
   "cell_type": "code",
   "execution_count": 293,
   "metadata": {},
   "outputs": [
    {
     "data": {
      "text/plain": [
       "team_size\n",
       "10-50      20.085016\n",
       "100-500    21.714286\n",
       "50-100     20.019822\n",
       "Name: customer_id, dtype: float64"
      ]
     },
     "execution_count": 293,
     "metadata": {},
     "output_type": "execute_result"
    }
   ],
   "source": [
    "# Churn rate by team size\n",
    "team_size_churn_rate = (\n",
    "    customer[customer['is_churned'] == 1]\n",
    "    .groupby('team_size')['customer_id'].nunique() /\n",
    "    customer.groupby('team_size')['customer_id'].nunique()\n",
    ") * 100\n",
    "\n",
    "team_size_churn_rate"
   ]
  },
  {
   "cell_type": "code",
   "execution_count": 294,
   "metadata": {},
   "outputs": [
    {
     "data": {
      "text/plain": [
       "contract_length_months\n",
       "12    20.140987\n",
       "24    22.132797\n",
       "36    19.644620\n",
       "Name: customer_id, dtype: float64"
      ]
     },
     "execution_count": 294,
     "metadata": {},
     "output_type": "execute_result"
    }
   ],
   "source": [
    "# Churn rate by contract length\n",
    "contract_length_churn_rate = (\n",
    "    customer[customer['is_churned'] == 1]\n",
    "    .groupby('contract_length_months')['customer_id'].nunique() /\n",
    "    customer.groupby('contract_length_months')['customer_id'].nunique()\n",
    ") * 100\n",
    "\n",
    "contract_length_churn_rate"
   ]
  },
  {
   "cell_type": "code",
   "execution_count": 295,
   "metadata": {},
   "outputs": [
    {
     "data": {
      "text/plain": [
       "churn_reason\n",
       "high cost          39.903069\n",
       "lack of support    30.694669\n",
       "feature gaps       16.801292\n",
       "business change    12.600969\n",
       "Name: proportion, dtype: float64"
      ]
     },
     "execution_count": 295,
     "metadata": {},
     "output_type": "execute_result"
    }
   ],
   "source": [
    "# Distribution of churn reasons\n",
    "churn_reason_distribution = (\n",
    "    customer[customer['is_churned'] == 1]['churn_reason']\n",
    "    .value_counts(normalize=True) * 100\n",
    ")\n",
    "\n",
    "churn_reason_distribution"
   ]
  },
  {
   "cell_type": "code",
   "execution_count": 296,
   "metadata": {},
   "outputs": [
    {
     "data": {
      "text/plain": [
       "is_churned\n",
       "0    81.054765\n",
       "1    57.414977\n",
       "Name: account_health_score, dtype: float64"
      ]
     },
     "execution_count": 296,
     "metadata": {},
     "output_type": "execute_result"
    }
   ],
   "source": [
    "# Average account health score for churned vs. active customers\n",
    "health_score_churn = customer.groupby('is_churned')['account_health_score'].mean()\n",
    "health_score_churn"
   ]
  },
  {
   "cell_type": "code",
   "execution_count": 297,
   "metadata": {},
   "outputs": [
    {
     "data": {
      "text/plain": [
       "is_churned\n",
       "0    49.223016\n",
       "1    47.169628\n",
       "Name: onboarding_score, dtype: float64"
      ]
     },
     "execution_count": 297,
     "metadata": {},
     "output_type": "execute_result"
    }
   ],
   "source": [
    "# Average onboarding score for churned vs. active customers\n",
    "onboarding_score_churn = customer.groupby('is_churned')['onboarding_score'].mean()\n",
    "onboarding_score_churn"
   ]
  },
  {
   "cell_type": "code",
   "execution_count": 298,
   "metadata": {},
   "outputs": [
    {
     "data": {
      "text/plain": [
       "is_churned\n",
       "0    4.614028\n",
       "1    4.400646\n",
       "Name: support_tickets, dtype: float64"
      ]
     },
     "execution_count": 298,
     "metadata": {},
     "output_type": "execute_result"
    }
   ],
   "source": [
    "# Average number of support tickets for churned vs. active customers\n",
    "support_tickets_churn = customer.groupby('is_churned')['support_tickets'].mean()\n",
    "support_tickets_churn"
   ]
  },
  {
   "cell_type": "code",
   "execution_count": 299,
   "metadata": {},
   "outputs": [
    {
     "data": {
      "text/plain": [
       "is_churned\n",
       "0    0.502973\n",
       "1    0.502927\n",
       "Name: seat_utilization_rate, dtype: float64"
      ]
     },
     "execution_count": 299,
     "metadata": {},
     "output_type": "execute_result"
    }
   ],
   "source": [
    "# Average seat utilization rate for churned vs. active customers\n",
    "seat_utilization_churn = customer.groupby('is_churned')['seat_utilization_rate'].mean()\n",
    "seat_utilization_churn"
   ]
  },
  {
   "cell_type": "code",
   "execution_count": 300,
   "metadata": {},
   "outputs": [
    {
     "data": {
      "text/plain": [
       "is_churned\n",
       "0    0.601846\n",
       "1    0.607642\n",
       "Name: feature_adoption_rate, dtype: float64"
      ]
     },
     "execution_count": 300,
     "metadata": {},
     "output_type": "execute_result"
    }
   ],
   "source": [
    "# Feature adoption rates between churned and active customers\n",
    "adoption_rate_comparison = customer.groupby('is_churned')['feature_adoption_rate'].mean()\n",
    "adoption_rate_comparison"
   ]
  },
  {
   "cell_type": "code",
   "execution_count": 301,
   "metadata": {},
   "outputs": [
    {
     "name": "stdout",
     "output_type": "stream",
     "text": [
      "Churn Rate Analysis Summary\n"
     ]
    },
    {
     "data": {
      "text/html": [
       "<div>\n",
       "<style scoped>\n",
       "    .dataframe tbody tr th:only-of-type {\n",
       "        vertical-align: middle;\n",
       "    }\n",
       "\n",
       "    .dataframe tbody tr th {\n",
       "        vertical-align: top;\n",
       "    }\n",
       "\n",
       "    .dataframe thead th {\n",
       "        text-align: right;\n",
       "    }\n",
       "</style>\n",
       "<table border=\"1\" class=\"dataframe\">\n",
       "  <thead>\n",
       "    <tr style=\"text-align: right;\">\n",
       "      <th></th>\n",
       "      <th>Overall Churn Rate (%)</th>\n",
       "      <th>Small Business Churn Rate (%)</th>\n",
       "      <th>Mid-Market Churn Rate (%)</th>\n",
       "      <th>Enterprise Churn Rate (%)</th>\n",
       "      <th>Basic Churn Rate (%)</th>\n",
       "      <th>Pro Churn Rate (%)</th>\n",
       "      <th>Enterprise Subscription Churn Rate (%)</th>\n",
       "      <th>Top Churn Reason</th>\n",
       "      <th>Top Churn Reason Percentage (%)</th>\n",
       "    </tr>\n",
       "  </thead>\n",
       "  <tbody>\n",
       "    <tr>\n",
       "      <th>0</th>\n",
       "      <td>20.633333</td>\n",
       "      <td>20.940649</td>\n",
       "      <td>20.217391</td>\n",
       "      <td>20.068027</td>\n",
       "      <td>20.749838</td>\n",
       "      <td>21.21547</td>\n",
       "      <td>19.343066</td>\n",
       "      <td>high cost</td>\n",
       "      <td>39.903069</td>\n",
       "    </tr>\n",
       "  </tbody>\n",
       "</table>\n",
       "</div>"
      ],
      "text/plain": [
       "   Overall Churn Rate (%)  Small Business Churn Rate (%)  \\\n",
       "0               20.633333                      20.940649   \n",
       "\n",
       "   Mid-Market Churn Rate (%)  Enterprise Churn Rate (%)  Basic Churn Rate (%)  \\\n",
       "0                  20.217391                  20.068027             20.749838   \n",
       "\n",
       "   Pro Churn Rate (%)  Enterprise Subscription Churn Rate (%)  \\\n",
       "0            21.21547                               19.343066   \n",
       "\n",
       "  Top Churn Reason  Top Churn Reason Percentage (%)  \n",
       "0        high cost                        39.903069  "
      ]
     },
     "metadata": {},
     "output_type": "display_data"
    }
   ],
   "source": [
    "# Churn analysis insights\n",
    "churn_summary = pd.DataFrame({\n",
    "    'Overall Churn Rate (%)': [overall_churn_rate],\n",
    "    'Small Business Churn Rate (%)': [segment_churn_rate.get('small business', 0)],\n",
    "    'Mid-Market Churn Rate (%)': [segment_churn_rate.get('mid-market', 0)],\n",
    "    'Enterprise Churn Rate (%)': [segment_churn_rate.get('enterprise', 0)],\n",
    "    'Basic Churn Rate (%)': [subscription_churn_rate.get('basic', 0)],\n",
    "    'Pro Churn Rate (%)': [subscription_churn_rate.get('pro', 0)],\n",
    "    'Enterprise Subscription Churn Rate (%)': [subscription_churn_rate.get('enterprise', 0)],\n",
    "    'Top Churn Reason': [churn_reason_distribution.idxmax() if not churn_reason_distribution.empty else 'No Data'],\n",
    "    'Top Churn Reason Percentage (%)': [churn_reason_distribution.max() if not churn_reason_distribution.empty else 0]\n",
    "})\n",
    "print(\"Churn Rate Analysis Summary\")\n",
    "display(churn_summary)"
   ]
  },
  {
   "cell_type": "code",
   "execution_count": 302,
   "metadata": {},
   "outputs": [
    {
     "data": {
      "text/html": [
       "<div>\n",
       "<style scoped>\n",
       "    .dataframe tbody tr th:only-of-type {\n",
       "        vertical-align: middle;\n",
       "    }\n",
       "\n",
       "    .dataframe tbody tr th {\n",
       "        vertical-align: top;\n",
       "    }\n",
       "\n",
       "    .dataframe thead th {\n",
       "        text-align: right;\n",
       "    }\n",
       "</style>\n",
       "<table border=\"1\" class=\"dataframe\">\n",
       "  <thead>\n",
       "    <tr style=\"text-align: right;\">\n",
       "      <th>churn_reason</th>\n",
       "      <th>business change</th>\n",
       "      <th>feature gaps</th>\n",
       "      <th>high cost</th>\n",
       "      <th>lack of support</th>\n",
       "    </tr>\n",
       "    <tr>\n",
       "      <th>customer_segment</th>\n",
       "      <th></th>\n",
       "      <th></th>\n",
       "      <th></th>\n",
       "      <th></th>\n",
       "    </tr>\n",
       "  </thead>\n",
       "  <tbody>\n",
       "    <tr>\n",
       "      <th>enterprise</th>\n",
       "      <td>5</td>\n",
       "      <td>9</td>\n",
       "      <td>26</td>\n",
       "      <td>19</td>\n",
       "    </tr>\n",
       "    <tr>\n",
       "      <th>mid-market</th>\n",
       "      <td>24</td>\n",
       "      <td>29</td>\n",
       "      <td>80</td>\n",
       "      <td>53</td>\n",
       "    </tr>\n",
       "    <tr>\n",
       "      <th>small business</th>\n",
       "      <td>49</td>\n",
       "      <td>66</td>\n",
       "      <td>141</td>\n",
       "      <td>118</td>\n",
       "    </tr>\n",
       "  </tbody>\n",
       "</table>\n",
       "</div>"
      ],
      "text/plain": [
       "churn_reason      business change  feature gaps  high cost  lack of support\n",
       "customer_segment                                                           \n",
       "enterprise                      5             9         26               19\n",
       "mid-market                     24            29         80               53\n",
       "small business                 49            66        141              118"
      ]
     },
     "execution_count": 302,
     "metadata": {},
     "output_type": "execute_result"
    }
   ],
   "source": [
    "# Churn reasons by customer segment\n",
    "churn_reasons_segment = customer[customer['is_churned'] == 1].groupby(['customer_segment', 'churn_reason'])['customer_id'].nunique().unstack().fillna(0)\n",
    "churn_reasons_segment"
   ]
  },
  {
   "cell_type": "code",
   "execution_count": 303,
   "metadata": {},
   "outputs": [
    {
     "data": {
      "text/plain": [
       "customer_age_months     -0.860260\n",
       "csat_score              -0.418907\n",
       "account_health_score    -0.407658\n",
       "support_tickets         -0.030266\n",
       "onboarding_score        -0.028731\n",
       "monthly_revenue         -0.013157\n",
       "clv                     -0.010001\n",
       "seat_utilization_rate   -0.000069\n",
       "feature_adoption_rate    0.013666\n",
       "churn_flag               1.000000\n",
       "Name: churn_flag, dtype: float64"
      ]
     },
     "execution_count": 303,
     "metadata": {},
     "output_type": "execute_result"
    }
   ],
   "source": [
    "# Churn status correlations\n",
    "customer['churn_flag'] = customer['is_churned'].astype(int)\n",
    "\n",
    "# Select numerical features\n",
    "numerical_features = [\n",
    "    'monthly_revenue', 'csat_score', 'customer_age_months',\n",
    "    'clv', 'onboarding_score', 'support_tickets',\n",
    "    'account_health_score', 'feature_adoption_rate',\n",
    "    'seat_utilization_rate'\n",
    "]\n",
    "\n",
    "# Calculate correlations\n",
    "correlations = customer[numerical_features + ['churn_flag']].corr()['churn_flag'].sort_values()\n",
    "correlations\n"
   ]
  },
  {
   "cell_type": "markdown",
   "metadata": {},
   "source": [
    "#### Revenue impact"
   ]
  },
  {
   "cell_type": "markdown",
   "metadata": {},
   "source": [
    "##### Exploratory analysis"
   ]
  },
  {
   "cell_type": "code",
   "execution_count": 304,
   "metadata": {},
   "outputs": [],
   "source": [
    "# Revenue breakdown (Churned vs. Active Customers)\n",
    "revenue_churned_customers = customer[customer['is_churned'] == 1]['monthly_revenue'].sum()\n",
    "revenue_active_customers = customer[customer['is_churned'] == 0]['monthly_revenue'].sum()\n",
    "avg_revenue_churned_customers = customer[customer['is_churned'] == 1]['monthly_revenue'].mean()\n",
    "avg_revenue_active_customers = customer[customer['is_churned'] == 0]['monthly_revenue'].mean()"
   ]
  },
  {
   "cell_type": "code",
   "execution_count": 305,
   "metadata": {},
   "outputs": [],
   "source": [
    "# Revenue contribution by customer segment\n",
    "segment_revenue_contribution = customer.groupby('customer_segment')['monthly_revenue'].sum()\n"
   ]
  },
  {
   "cell_type": "code",
   "execution_count": 306,
   "metadata": {},
   "outputs": [],
   "source": [
    "# Revenue contribution by subscription type\n",
    "subscription_revenue_contribution = customer.groupby('subscription_type')['monthly_revenue'].sum()"
   ]
  },
  {
   "cell_type": "code",
   "execution_count": 307,
   "metadata": {},
   "outputs": [],
   "source": [
    "# Total revenue loss\n",
    "total_revenue_loss_due_to_churn = revenue_churned_customers\n",
    "total_revenue = revenue_active_customers + revenue_churned_customers\n",
    "revenue_loss_percentage = (total_revenue_loss_due_to_churn / total_revenue) * 100\n"
   ]
  },
  {
   "cell_type": "code",
   "execution_count": 308,
   "metadata": {},
   "outputs": [],
   "source": [
    "# Revenue impact by customer segment\n",
    "segment_revenue_impact = customer.groupby(['customer_segment', 'is_churned'])['monthly_revenue'].sum().unstack().fillna(0)\n",
    "segment_revenue_impact.rename(columns={0: 'Active Revenue', 1: 'Churned Revenue'}, inplace=True)\n",
    "segment_revenue_impact['Revenue Loss Due to Churn'] = segment_revenue_impact['Churned Revenue']"
   ]
  },
  {
   "cell_type": "code",
   "execution_count": 309,
   "metadata": {},
   "outputs": [],
   "source": [
    "# Revenue impact by subscription type\n",
    "subscription_revenue_impact = customer.groupby(['subscription_type', 'is_churned'])['monthly_revenue'].sum().unstack().fillna(0)\n",
    "subscription_revenue_impact.rename(columns={0: 'Active Revenue', 1: 'Churned Revenue'}, inplace=True)\n",
    "subscription_revenue_impact['Revenue Loss Due to Churn'] = subscription_revenue_impact['Churned Revenue']"
   ]
  },
  {
   "cell_type": "code",
   "execution_count": 310,
   "metadata": {},
   "outputs": [],
   "source": [
    "# Revenue impact by industry\n",
    "industry_revenue_impact = customer.groupby(['industry', 'is_churned'])['monthly_revenue'].sum().unstack().fillna(0)\n",
    "industry_revenue_impact.rename(columns={0: 'Active Revenue', 1: 'Churned Revenue'}, inplace=True)\n",
    "industry_revenue_impact['Revenue Loss Due to Churn'] = industry_revenue_impact['Churned Revenue']"
   ]
  },
  {
   "cell_type": "code",
   "execution_count": 311,
   "metadata": {},
   "outputs": [],
   "source": [
    "# Total CLV of churned customers\n",
    "total_clv_churned = customer[customer['is_churned'] == 1]['clv'].sum()"
   ]
  },
  {
   "cell_type": "code",
   "execution_count": 312,
   "metadata": {},
   "outputs": [],
   "source": [
    "# Convert churn_date to month\n",
    "customer['churn_month'] = customer['churn_date'].dt.to_period('M')\n",
    "# Monthly revenue loss due to churn\n",
    "monthly_revenue_loss = customer[customer['is_churned'] == 1].groupby('churn_month')['monthly_revenue'].sum()\n"
   ]
  },
  {
   "cell_type": "code",
   "execution_count": 313,
   "metadata": {},
   "outputs": [
    {
     "name": "stdout",
     "output_type": "stream",
     "text": [
      "Revenue Impact Insights\n"
     ]
    },
    {
     "data": {
      "text/html": [
       "<div>\n",
       "<style scoped>\n",
       "    .dataframe tbody tr th:only-of-type {\n",
       "        vertical-align: middle;\n",
       "    }\n",
       "\n",
       "    .dataframe tbody tr th {\n",
       "        vertical-align: top;\n",
       "    }\n",
       "\n",
       "    .dataframe thead th {\n",
       "        text-align: right;\n",
       "    }\n",
       "</style>\n",
       "<table border=\"1\" class=\"dataframe\">\n",
       "  <thead>\n",
       "    <tr style=\"text-align: right;\">\n",
       "      <th></th>\n",
       "      <th>Total Revenue (Active Customers)</th>\n",
       "      <th>Total Revenue (Churned Customers)</th>\n",
       "      <th>Average Revenue (Active Customers)</th>\n",
       "      <th>Average Revenue (Churned Customers)</th>\n",
       "      <th>Total Revenue Loss Due to Churn</th>\n",
       "      <th>Revenue Loss Percentage (%)</th>\n",
       "      <th>Total CLV Loss Due to Churn</th>\n",
       "    </tr>\n",
       "  </thead>\n",
       "  <tbody>\n",
       "    <tr>\n",
       "      <th>0</th>\n",
       "      <td>332575</td>\n",
       "      <td>84200</td>\n",
       "      <td>139.678706</td>\n",
       "      <td>136.025848</td>\n",
       "      <td>84200</td>\n",
       "      <td>20.202747</td>\n",
       "      <td>2178600</td>\n",
       "    </tr>\n",
       "  </tbody>\n",
       "</table>\n",
       "</div>"
      ],
      "text/plain": [
       "   Total Revenue (Active Customers)  Total Revenue (Churned Customers)  \\\n",
       "0                            332575                              84200   \n",
       "\n",
       "   Average Revenue (Active Customers)  Average Revenue (Churned Customers)  \\\n",
       "0                          139.678706                           136.025848   \n",
       "\n",
       "   Total Revenue Loss Due to Churn  Revenue Loss Percentage (%)  \\\n",
       "0                            84200                    20.202747   \n",
       "\n",
       "   Total CLV Loss Due to Churn  \n",
       "0                      2178600  "
      ]
     },
     "metadata": {},
     "output_type": "display_data"
    }
   ],
   "source": [
    "#Revenue impact insights\n",
    "revenue_summary = pd.DataFrame({\n",
    "    'Total Revenue (Active Customers)': [revenue_active_customers],\n",
    "    'Total Revenue (Churned Customers)': [revenue_churned_customers],\n",
    "    'Average Revenue (Active Customers)': [avg_revenue_active_customers],\n",
    "    'Average Revenue (Churned Customers)': [avg_revenue_churned_customers],\n",
    "    'Total Revenue Loss Due to Churn': [total_revenue_loss_due_to_churn],\n",
    "    'Revenue Loss Percentage (%)': [revenue_loss_percentage],\n",
    "    'Total CLV Loss Due to Churn': [total_clv_churned],\n",
    "})\n",
    "\n",
    "print(\"Revenue Impact Insights\")\n",
    "display(revenue_summary)"
   ]
  },
  {
   "cell_type": "markdown",
   "metadata": {},
   "source": [
    "##### Correlation & Plot analysis"
   ]
  },
  {
   "cell_type": "code",
   "execution_count": 314,
   "metadata": {},
   "outputs": [
    {
     "data": {
      "image/png": "[encoded data removed]",
      "text/plain": [
       "<Figure size 640x480 with 1 Axes>"
      ]
     },
     "metadata": {},
     "output_type": "display_data"
    }
   ],
   "source": [
    "# Plot revenue loss by customer segment\n",
    "segment_revenue_impact[['Active Revenue', 'Churned Revenue']].plot(kind='bar', stacked=True)\n",
    "plt.title('Revenue Impact by Customer Segment')\n",
    "plt.ylabel('Monthly Revenue')\n",
    "plt.show()"
   ]
  },
  {
   "cell_type": "code",
   "execution_count": 315,
   "metadata": {},
   "outputs": [
    {
     "data": {
      "image/png": "[encoded data removed]",
      "text/plain": [
       "<Figure size 640x480 with 1 Axes>"
      ]
     },
     "metadata": {},
     "output_type": "display_data"
    }
   ],
   "source": [
    "# Plot monthly revenue loss\n",
    "monthly_revenue_loss.plot(kind='line')\n",
    "plt.title('Monthly Revenue Loss Due to Churn')\n",
    "plt.ylabel('Monthly Revenue Loss in ($)')\n",
    "plt.show()"
   ]
  },
  {
   "cell_type": "markdown",
   "metadata": {},
   "source": [
    "#### Feature adoption "
   ]
  },
  {
   "cell_type": "markdown",
   "metadata": {},
   "source": [
    "##### Exploratory analysis"
   ]
  },
  {
   "cell_type": "code",
   "execution_count": 316,
   "metadata": {},
   "outputs": [
    {
     "name": "stdout",
     "output_type": "stream",
     "text": [
      "Feature Adoption Rate Descriptive Statistics\n"
     ]
    },
    {
     "data": {
      "text/plain": [
       "count    3000.000000\n",
       "mean        0.603042\n",
       "std         0.171681\n",
       "min         0.300081\n",
       "25%         0.453377\n",
       "50%         0.606137\n",
       "75%         0.749988\n",
       "max         0.899828\n",
       "Name: feature_adoption_rate, dtype: float64"
      ]
     },
     "metadata": {},
     "output_type": "display_data"
    }
   ],
   "source": [
    "# Descriptive statistics of feature adoption\n",
    "feature_adoption_stats = customer['feature_adoption_rate'].describe()\n",
    "print(\"Feature Adoption Rate Descriptive Statistics\")\n",
    "display(feature_adoption_stats)"
   ]
  },
  {
   "cell_type": "code",
   "execution_count": 317,
   "metadata": {},
   "outputs": [
    {
     "name": "stdout",
     "output_type": "stream",
     "text": [
      "Average Feature Adoption Rate by Churn Status\n"
     ]
    },
    {
     "data": {
      "text/html": [
       "<div>\n",
       "<style scoped>\n",
       "    .dataframe tbody tr th:only-of-type {\n",
       "        vertical-align: middle;\n",
       "    }\n",
       "\n",
       "    .dataframe tbody tr th {\n",
       "        vertical-align: top;\n",
       "    }\n",
       "\n",
       "    .dataframe thead th {\n",
       "        text-align: right;\n",
       "    }\n",
       "</style>\n",
       "<table border=\"1\" class=\"dataframe\">\n",
       "  <thead>\n",
       "    <tr style=\"text-align: right;\">\n",
       "      <th></th>\n",
       "      <th>Churned</th>\n",
       "      <th>Average Feature Adoption Rate</th>\n",
       "    </tr>\n",
       "  </thead>\n",
       "  <tbody>\n",
       "    <tr>\n",
       "      <th>0</th>\n",
       "      <td>0</td>\n",
       "      <td>0.601846</td>\n",
       "    </tr>\n",
       "    <tr>\n",
       "      <th>1</th>\n",
       "      <td>1</td>\n",
       "      <td>0.607642</td>\n",
       "    </tr>\n",
       "  </tbody>\n",
       "</table>\n",
       "</div>"
      ],
      "text/plain": [
       "   Churned  Average Feature Adoption Rate\n",
       "0        0                       0.601846\n",
       "1        1                       0.607642"
      ]
     },
     "metadata": {},
     "output_type": "display_data"
    }
   ],
   "source": [
    "# Feature adoption rate by churn status\n",
    "avg_feature_adoption = customer.groupby('is_churned')['feature_adoption_rate'].mean().reset_index()\n",
    "avg_feature_adoption.columns = ['Churned', 'Average Feature Adoption Rate']\n",
    "print(\"Average Feature Adoption Rate by Churn Status\")\n",
    "display(avg_feature_adoption)"
   ]
  },
  {
   "cell_type": "code",
   "execution_count": 318,
   "metadata": {},
   "outputs": [
    {
     "name": "stdout",
     "output_type": "stream",
     "text": [
      "Average Number of Active Features by Churn Status\n"
     ]
    },
    {
     "data": {
      "text/html": [
       "<div>\n",
       "<style scoped>\n",
       "    .dataframe tbody tr th:only-of-type {\n",
       "        vertical-align: middle;\n",
       "    }\n",
       "\n",
       "    .dataframe tbody tr th {\n",
       "        vertical-align: top;\n",
       "    }\n",
       "\n",
       "    .dataframe thead th {\n",
       "        text-align: right;\n",
       "    }\n",
       "</style>\n",
       "<table border=\"1\" class=\"dataframe\">\n",
       "  <thead>\n",
       "    <tr style=\"text-align: right;\">\n",
       "      <th></th>\n",
       "      <th>Churned</th>\n",
       "      <th>Average Active Features</th>\n",
       "    </tr>\n",
       "  </thead>\n",
       "  <tbody>\n",
       "    <tr>\n",
       "      <th>0</th>\n",
       "      <td>0</td>\n",
       "      <td>11.532129</td>\n",
       "    </tr>\n",
       "    <tr>\n",
       "      <th>1</th>\n",
       "      <td>1</td>\n",
       "      <td>11.659128</td>\n",
       "    </tr>\n",
       "  </tbody>\n",
       "</table>\n",
       "</div>"
      ],
      "text/plain": [
       "   Churned  Average Active Features\n",
       "0        0                11.532129\n",
       "1        1                11.659128"
      ]
     },
     "metadata": {},
     "output_type": "display_data"
    }
   ],
   "source": [
    "# Active features vs. Churn analysis\n",
    "avg_active_features = customer.groupby('is_churned')['active_features'].mean().reset_index()\n",
    "avg_active_features.columns = ['Churned', 'Average Active Features']\n",
    "print(\"Average Number of Active Features by Churn Status\")\n",
    "display(avg_active_features)"
   ]
  },
  {
   "cell_type": "code",
   "execution_count": 319,
   "metadata": {},
   "outputs": [
    {
     "name": "stdout",
     "output_type": "stream",
     "text": [
      "Feature Adoption Analysis Summary\n"
     ]
    },
    {
     "data": {
      "text/html": [
       "<div>\n",
       "<style scoped>\n",
       "    .dataframe tbody tr th:only-of-type {\n",
       "        vertical-align: middle;\n",
       "    }\n",
       "\n",
       "    .dataframe tbody tr th {\n",
       "        vertical-align: top;\n",
       "    }\n",
       "\n",
       "    .dataframe thead th {\n",
       "        text-align: right;\n",
       "    }\n",
       "</style>\n",
       "<table border=\"1\" class=\"dataframe\">\n",
       "  <thead>\n",
       "    <tr style=\"text-align: right;\">\n",
       "      <th></th>\n",
       "      <th>Average Feature Adoption Rate (Active)</th>\n",
       "      <th>Average Feature Adoption Rate (Churned)</th>\n",
       "      <th>Average Active Features (Active)</th>\n",
       "      <th>Average Active Features (Churned)</th>\n",
       "    </tr>\n",
       "  </thead>\n",
       "  <tbody>\n",
       "    <tr>\n",
       "      <th>0</th>\n",
       "      <td>0.601846</td>\n",
       "      <td>0.607642</td>\n",
       "      <td>11.532129</td>\n",
       "      <td>11.659128</td>\n",
       "    </tr>\n",
       "  </tbody>\n",
       "</table>\n",
       "</div>"
      ],
      "text/plain": [
       "   Average Feature Adoption Rate (Active)  \\\n",
       "0                                0.601846   \n",
       "\n",
       "   Average Feature Adoption Rate (Churned)  Average Active Features (Active)  \\\n",
       "0                                 0.607642                         11.532129   \n",
       "\n",
       "   Average Active Features (Churned)  \n",
       "0                          11.659128  "
      ]
     },
     "metadata": {},
     "output_type": "display_data"
    }
   ],
   "source": [
    "# Feature adoption insights\n",
    "feature_adoption_summary = pd.DataFrame({\n",
    "    'Average Feature Adoption Rate (Active)': [avg_feature_adoption[avg_feature_adoption['Churned'] == 0]['Average Feature Adoption Rate'].values[0]],\n",
    "    'Average Feature Adoption Rate (Churned)': [avg_feature_adoption[avg_feature_adoption['Churned'] == 1]['Average Feature Adoption Rate'].values[0]],\n",
    "    'Average Active Features (Active)': [avg_active_features[avg_active_features['Churned'] == 0]['Average Active Features'].values[0]],\n",
    "    'Average Active Features (Churned)': [avg_active_features[avg_active_features['Churned'] == 1]['Average Active Features'].values[0]],\n",
    "})\n",
    "print(\"Feature Adoption Analysis Summary\")\n",
    "display(feature_adoption_summary)"
   ]
  },
  {
   "cell_type": "markdown",
   "metadata": {},
   "source": [
    "##### Correlation & Plot analysis"
   ]
  },
  {
   "cell_type": "code",
   "execution_count": 320,
   "metadata": {},
   "outputs": [
    {
     "data": {
      "image/png": "[encoded data removed]",
      "text/plain": [
       "<Figure size 800x600 with 1 Axes>"
      ]
     },
     "metadata": {},
     "output_type": "display_data"
    }
   ],
   "source": [
    "# Distribution of feature adoption rates by churn status\n",
    "sns.set(style=\"whitegrid\")\n",
    "plt.figure(figsize=(8, 6))\n",
    "sns.boxplot(x='is_churned', y='feature_adoption_rate', data=customer)\n",
    "plt.title('Feature Adoption Rate by Churn Status')\n",
    "plt.xlabel('Churned (1) vs Active (0)')\n",
    "plt.ylabel('Feature Adoption Rate')\n",
    "plt.show()"
   ]
  },
  {
   "cell_type": "code",
   "execution_count": 321,
   "metadata": {},
   "outputs": [
    {
     "name": "stdout",
     "output_type": "stream",
     "text": [
      "Correlation Matrix\n"
     ]
    },
    {
     "data": {
      "text/html": [
       "<div>\n",
       "<style scoped>\n",
       "    .dataframe tbody tr th:only-of-type {\n",
       "        vertical-align: middle;\n",
       "    }\n",
       "\n",
       "    .dataframe tbody tr th {\n",
       "        vertical-align: top;\n",
       "    }\n",
       "\n",
       "    .dataframe thead th {\n",
       "        text-align: right;\n",
       "    }\n",
       "</style>\n",
       "<table border=\"1\" class=\"dataframe\">\n",
       "  <thead>\n",
       "    <tr style=\"text-align: right;\">\n",
       "      <th></th>\n",
       "      <th>feature_adoption_rate</th>\n",
       "      <th>csat_score</th>\n",
       "      <th>account_health_score</th>\n",
       "      <th>support_tickets</th>\n",
       "      <th>seat_utilization_rate</th>\n",
       "      <th>is_churned</th>\n",
       "    </tr>\n",
       "  </thead>\n",
       "  <tbody>\n",
       "    <tr>\n",
       "      <th>feature_adoption_rate</th>\n",
       "      <td>1.000000</td>\n",
       "      <td>0.005476</td>\n",
       "      <td>0.256261</td>\n",
       "      <td>0.007730</td>\n",
       "      <td>0.022749</td>\n",
       "      <td>0.013666</td>\n",
       "    </tr>\n",
       "    <tr>\n",
       "      <th>csat_score</th>\n",
       "      <td>0.005476</td>\n",
       "      <td>1.000000</td>\n",
       "      <td>0.914216</td>\n",
       "      <td>0.053959</td>\n",
       "      <td>-0.011895</td>\n",
       "      <td>-0.418907</td>\n",
       "    </tr>\n",
       "    <tr>\n",
       "      <th>account_health_score</th>\n",
       "      <td>0.256261</td>\n",
       "      <td>0.914216</td>\n",
       "      <td>1.000000</td>\n",
       "      <td>-0.113994</td>\n",
       "      <td>-0.011034</td>\n",
       "      <td>-0.407658</td>\n",
       "    </tr>\n",
       "    <tr>\n",
       "      <th>support_tickets</th>\n",
       "      <td>0.007730</td>\n",
       "      <td>0.053959</td>\n",
       "      <td>-0.113994</td>\n",
       "      <td>1.000000</td>\n",
       "      <td>-0.001361</td>\n",
       "      <td>-0.030266</td>\n",
       "    </tr>\n",
       "    <tr>\n",
       "      <th>seat_utilization_rate</th>\n",
       "      <td>0.022749</td>\n",
       "      <td>-0.011895</td>\n",
       "      <td>-0.011034</td>\n",
       "      <td>-0.001361</td>\n",
       "      <td>1.000000</td>\n",
       "      <td>-0.000069</td>\n",
       "    </tr>\n",
       "    <tr>\n",
       "      <th>is_churned</th>\n",
       "      <td>0.013666</td>\n",
       "      <td>-0.418907</td>\n",
       "      <td>-0.407658</td>\n",
       "      <td>-0.030266</td>\n",
       "      <td>-0.000069</td>\n",
       "      <td>1.000000</td>\n",
       "    </tr>\n",
       "  </tbody>\n",
       "</table>\n",
       "</div>"
      ],
      "text/plain": [
       "                       feature_adoption_rate  csat_score  \\\n",
       "feature_adoption_rate               1.000000    0.005476   \n",
       "csat_score                          0.005476    1.000000   \n",
       "account_health_score                0.256261    0.914216   \n",
       "support_tickets                     0.007730    0.053959   \n",
       "seat_utilization_rate               0.022749   -0.011895   \n",
       "is_churned                          0.013666   -0.418907   \n",
       "\n",
       "                       account_health_score  support_tickets  \\\n",
       "feature_adoption_rate              0.256261         0.007730   \n",
       "csat_score                         0.914216         0.053959   \n",
       "account_health_score               1.000000        -0.113994   \n",
       "support_tickets                   -0.113994         1.000000   \n",
       "seat_utilization_rate             -0.011034        -0.001361   \n",
       "is_churned                        -0.407658        -0.030266   \n",
       "\n",
       "                       seat_utilization_rate  is_churned  \n",
       "feature_adoption_rate               0.022749    0.013666  \n",
       "csat_score                         -0.011895   -0.418907  \n",
       "account_health_score               -0.011034   -0.407658  \n",
       "support_tickets                    -0.001361   -0.030266  \n",
       "seat_utilization_rate               1.000000   -0.000069  \n",
       "is_churned                         -0.000069    1.000000  "
      ]
     },
     "metadata": {},
     "output_type": "display_data"
    }
   ],
   "source": [
    "# Correlation analysis (Feature adoption vs Other metrics)\n",
    "correlation_features = customer[['feature_adoption_rate', 'csat_score', 'account_health_score', 'support_tickets', 'seat_utilization_rate', 'is_churned']]\n",
    "correlation_matrix = correlation_features.corr()\n",
    "print(\"Correlation Matrix\")\n",
    "display(correlation_matrix)\n"
   ]
  },
  {
   "cell_type": "code",
   "execution_count": 322,
   "metadata": {},
   "outputs": [
    {
     "data": {
      "image/png": "[encoded data removed]",
      "text/plain": [
       "<Figure size 1000x600 with 1 Axes>"
      ]
     },
     "metadata": {},
     "output_type": "display_data"
    }
   ],
   "source": [
    "# Feature adoption rate distribution\n",
    "plt.figure(figsize=(10, 6))\n",
    "sns.histplot(data=customer, x='feature_adoption_rate', bins=30, kde=True, hue='is_churned', palette='Set1', stat='density', common_norm=False)\n",
    "plt.title('Distribution of Feature Adoption Rate by Churn Status')\n",
    "plt.xlabel('Feature Adoption Rate')\n",
    "plt.ylabel('Density')\n",
    "plt.legend(title='Churned', labels=['Active', 'Churned'])\n",
    "plt.show()"
   ]
  },
  {
   "cell_type": "code",
   "execution_count": 323,
   "metadata": {},
   "outputs": [
    {
     "name": "stdout",
     "output_type": "stream",
     "text": [
      "Churn Rate by Feature Adoption Bins\n"
     ]
    },
    {
     "data": {
      "text/html": [
       "<div>\n",
       "<style scoped>\n",
       "    .dataframe tbody tr th:only-of-type {\n",
       "        vertical-align: middle;\n",
       "    }\n",
       "\n",
       "    .dataframe tbody tr th {\n",
       "        vertical-align: top;\n",
       "    }\n",
       "\n",
       "    .dataframe thead th {\n",
       "        text-align: right;\n",
       "    }\n",
       "</style>\n",
       "<table border=\"1\" class=\"dataframe\">\n",
       "  <thead>\n",
       "    <tr style=\"text-align: right;\">\n",
       "      <th></th>\n",
       "      <th>Active (%)</th>\n",
       "      <th>Churned (%)</th>\n",
       "    </tr>\n",
       "    <tr>\n",
       "      <th>feature_adoption_bin</th>\n",
       "      <th></th>\n",
       "      <th></th>\n",
       "    </tr>\n",
       "  </thead>\n",
       "  <tbody>\n",
       "    <tr>\n",
       "      <th>Very Low</th>\n",
       "      <td>79.251701</td>\n",
       "      <td>20.748299</td>\n",
       "    </tr>\n",
       "    <tr>\n",
       "      <th>Low</th>\n",
       "      <td>80.927835</td>\n",
       "      <td>19.072165</td>\n",
       "    </tr>\n",
       "    <tr>\n",
       "      <th>Medium</th>\n",
       "      <td>79.315961</td>\n",
       "      <td>20.684039</td>\n",
       "    </tr>\n",
       "    <tr>\n",
       "      <th>High</th>\n",
       "      <td>80.065898</td>\n",
       "      <td>19.934102</td>\n",
       "    </tr>\n",
       "    <tr>\n",
       "      <th>Very High</th>\n",
       "      <td>77.339901</td>\n",
       "      <td>22.660099</td>\n",
       "    </tr>\n",
       "  </tbody>\n",
       "</table>\n",
       "</div>"
      ],
      "text/plain": [
       "                      Active (%)  Churned (%)\n",
       "feature_adoption_bin                         \n",
       "Very Low               79.251701    20.748299\n",
       "Low                    80.927835    19.072165\n",
       "Medium                 79.315961    20.684039\n",
       "High                   80.065898    19.934102\n",
       "Very High              77.339901    22.660099"
      ]
     },
     "metadata": {},
     "output_type": "display_data"
    }
   ],
   "source": [
    "# Cross-Tabulation of Feature adoption and Churn\n",
    "customer['feature_adoption_bin'] = pd.cut(customer['feature_adoption_rate'], bins=5, labels=['Very Low', 'Low', 'Medium', 'High', 'Very High'])\n",
    "feature_churn_crosstab = pd.crosstab(customer['feature_adoption_bin'], customer['is_churned'], normalize='index') * 100\n",
    "feature_churn_crosstab.columns = ['Active (%)', 'Churned (%)']\n",
    "print(\"Churn Rate by Feature Adoption Bins\")\n",
    "display(feature_churn_crosstab)"
   ]
  },
  {
   "cell_type": "code",
   "execution_count": 324,
   "metadata": {},
   "outputs": [
    {
     "name": "stdout",
     "output_type": "stream",
     "text": [
      "Average CSAT Score by Churn Status\n"
     ]
    },
    {
     "data": {
      "text/html": [
       "<div>\n",
       "<style scoped>\n",
       "    .dataframe tbody tr th:only-of-type {\n",
       "        vertical-align: middle;\n",
       "    }\n",
       "\n",
       "    .dataframe tbody tr th {\n",
       "        vertical-align: top;\n",
       "    }\n",
       "\n",
       "    .dataframe thead th {\n",
       "        text-align: right;\n",
       "    }\n",
       "</style>\n",
       "<table border=\"1\" class=\"dataframe\">\n",
       "  <thead>\n",
       "    <tr style=\"text-align: right;\">\n",
       "      <th></th>\n",
       "      <th>Churned</th>\n",
       "      <th>Average CSAT Score</th>\n",
       "    </tr>\n",
       "  </thead>\n",
       "  <tbody>\n",
       "    <tr>\n",
       "      <th>0</th>\n",
       "      <td>0</td>\n",
       "      <td>3.320034</td>\n",
       "    </tr>\n",
       "    <tr>\n",
       "      <th>1</th>\n",
       "      <td>1</td>\n",
       "      <td>1.854604</td>\n",
       "    </tr>\n",
       "  </tbody>\n",
       "</table>\n",
       "</div>"
      ],
      "text/plain": [
       "   Churned  Average CSAT Score\n",
       "0        0            3.320034\n",
       "1        1            1.854604"
      ]
     },
     "metadata": {},
     "output_type": "display_data"
    },
    {
     "data": {
      "image/png": "[encoded data removed]",
      "text/plain": [
       "<Figure size 800x600 with 1 Axes>"
      ]
     },
     "metadata": {},
     "output_type": "display_data"
    }
   ],
   "source": [
    "# Relationship between CSAT and feature adoption\n",
    "csat_by_feature_adoption = customer.groupby('is_churned')['csat_score'].mean().reset_index()\n",
    "csat_by_feature_adoption.columns = ['Churned', 'Average CSAT Score']\n",
    "print(\"Average CSAT Score by Churn Status\")\n",
    "display(csat_by_feature_adoption)\n",
    "plt.figure(figsize=(8, 6))\n",
    "sns.scatterplot(x='feature_adoption_rate', y='csat_score', hue='is_churned', data=customer, palette='Set2')\n",
    "plt.title('Feature Adoption Rate vs CSAT Score by Churn Status')\n",
    "plt.xlabel('Feature Adoption Rate')\n",
    "plt.ylabel('CSAT Score')\n",
    "plt.show()"
   ]
  },
  {
   "cell_type": "markdown",
   "metadata": {},
   "source": [
    "#### Customer Satisfaction"
   ]
  },
  {
   "cell_type": "markdown",
   "metadata": {},
   "source": [
    "##### Exploratory analysis"
   ]
  },
  {
   "cell_type": "code",
   "execution_count": 325,
   "metadata": {},
   "outputs": [],
   "source": [
    "# Correlation between CSAT, Account health, and Churn\n",
    "satisfaction_correlation_matrix = customer[['csat_score', 'account_health_score', 'is_churned']].corr()"
   ]
  },
  {
   "cell_type": "code",
   "execution_count": 326,
   "metadata": {},
   "outputs": [],
   "source": [
    "# Average CSAT and Account health for Churned vs Active customers\n",
    "avg_csat_churned = customer[customer['is_churned'] == 1]['csat_score'].mean()\n",
    "avg_csat_active = customer[customer['is_churned'] == 0]['csat_score'].mean()\n",
    "avg_health_churned = customer[customer['is_churned'] == 1]['account_health_score'].mean()\n",
    "avg_health_active = customer[customer['is_churned'] == 0]['account_health_score'].mean()"
   ]
  },
  {
   "cell_type": "code",
   "execution_count": 327,
   "metadata": {},
   "outputs": [],
   "source": [
    "# Customer satisfaction segmentation\n",
    "# Segment customers based on CSAT score\n",
    "customer['satisfaction_segment'] = pd.cut(\n",
    "    customer['csat_score'],\n",
    "    bins=[0, 2, 4, 5],\n",
    "    labels=['Low Satisfaction', 'Medium Satisfaction', 'High Satisfaction']\n",
    ")"
   ]
  },
  {
   "cell_type": "code",
   "execution_count": 328,
   "metadata": {},
   "outputs": [
    {
     "name": "stderr",
     "output_type": "stream",
     "text": [
      "/var/folders/wc/j84xw3lj0zb22w4z1xdhh17m0000gn/T/ipykernel_94111/479349342.py:3: FutureWarning:\n",
      "\n",
      "The default of observed=False is deprecated and will be changed to True in a future version of pandas. Pass observed=False to retain current behavior or observed=True to adopt the future default and silence this warning.\n",
      "\n",
      "/var/folders/wc/j84xw3lj0zb22w4z1xdhh17m0000gn/T/ipykernel_94111/479349342.py:6: FutureWarning:\n",
      "\n",
      "The default of observed=False is deprecated and will be changed to True in a future version of pandas. Pass observed=False to retain current behavior or observed=True to adopt the future default and silence this warning.\n",
      "\n"
     ]
    }
   ],
   "source": [
    "# Churn rates for each satisfaction segment\n",
    "satisfaction_segment_churn_rate = (\n",
    "    customer[customer['is_churned'] == 1]\n",
    "    .groupby('satisfaction_segment')['customer_id']\n",
    "    .nunique() /\n",
    "    customer.groupby('satisfaction_segment')['customer_id']\n",
    "    .nunique()\n",
    ") * 100"
   ]
  },
  {
   "cell_type": "code",
   "execution_count": 329,
   "metadata": {},
   "outputs": [
    {
     "name": "stderr",
     "output_type": "stream",
     "text": [
      "/var/folders/wc/j84xw3lj0zb22w4z1xdhh17m0000gn/T/ipykernel_94111/3555201461.py:2: FutureWarning:\n",
      "\n",
      "The default of observed=False is deprecated and will be changed to True in a future version of pandas. Pass observed=False to retain current behavior or observed=True to adopt the future default and silence this warning.\n",
      "\n"
     ]
    }
   ],
   "source": [
    "# Average satisfaction and health score for each segment\n",
    "satisfaction_segment_health_score = customer.groupby('satisfaction_segment')['account_health_score'].mean()"
   ]
  },
  {
   "cell_type": "code",
   "execution_count": 386,
   "metadata": {},
   "outputs": [
    {
     "name": "stdout",
     "output_type": "stream",
     "text": [
      "Customer Satisfaction Insights\n"
     ]
    },
    {
     "data": {
      "text/html": [
       "<div>\n",
       "<style scoped>\n",
       "    .dataframe tbody tr th:only-of-type {\n",
       "        vertical-align: middle;\n",
       "    }\n",
       "\n",
       "    .dataframe tbody tr th {\n",
       "        vertical-align: top;\n",
       "    }\n",
       "\n",
       "    .dataframe thead th {\n",
       "        text-align: right;\n",
       "    }\n",
       "</style>\n",
       "<table border=\"1\" class=\"dataframe\">\n",
       "  <thead>\n",
       "    <tr style=\"text-align: right;\">\n",
       "      <th></th>\n",
       "      <th>Avg CSAT Score (Churned Customers)</th>\n",
       "      <th>Avg CSAT Score (Active Customers)</th>\n",
       "      <th>Avg Health Score (Churned Customers)</th>\n",
       "      <th>Avg Health Score (Active Customers)</th>\n",
       "      <th>Low Satisfaction Churn Rate (%)</th>\n",
       "      <th>Medium Satisfaction Churn Rate (%)</th>\n",
       "      <th>High Satisfaction Churn Rate (%)</th>\n",
       "      <th>Avg Health Score (Low Satisfaction)</th>\n",
       "      <th>Avg Health Score (Medium Satisfaction)</th>\n",
       "      <th>Avg Health Score (High Satisfaction)</th>\n",
       "    </tr>\n",
       "  </thead>\n",
       "  <tbody>\n",
       "    <tr>\n",
       "      <th>0</th>\n",
       "      <td>1.854604</td>\n",
       "      <td>3.320034</td>\n",
       "      <td>57.414977</td>\n",
       "      <td>81.054765</td>\n",
       "      <td>44.824708</td>\n",
       "      <td>4.637437</td>\n",
       "      <td>4.383117</td>\n",
       "      <td>51.623836</td>\n",
       "      <td>88.613157</td>\n",
       "      <td>99.984914</td>\n",
       "    </tr>\n",
       "  </tbody>\n",
       "</table>\n",
       "</div>"
      ],
      "text/plain": [
       "   Avg CSAT Score (Churned Customers)  Avg CSAT Score (Active Customers)  \\\n",
       "0                            1.854604                           3.320034   \n",
       "\n",
       "   Avg Health Score (Churned Customers)  Avg Health Score (Active Customers)  \\\n",
       "0                             57.414977                            81.054765   \n",
       "\n",
       "   Low Satisfaction Churn Rate (%)  Medium Satisfaction Churn Rate (%)  \\\n",
       "0                        44.824708                            4.637437   \n",
       "\n",
       "   High Satisfaction Churn Rate (%)  Avg Health Score (Low Satisfaction)  \\\n",
       "0                          4.383117                            51.623836   \n",
       "\n",
       "   Avg Health Score (Medium Satisfaction)  \\\n",
       "0                               88.613157   \n",
       "\n",
       "   Avg Health Score (High Satisfaction)  \n",
       "0                             99.984914  "
      ]
     },
     "metadata": {},
     "output_type": "display_data"
    }
   ],
   "source": [
    "# Customer Satisfaction Insights\n",
    "csat_summary = pd.DataFrame({\n",
    "    'Avg CSAT Score (Churned Customers)': [avg_csat_churned],\n",
    "    'Avg CSAT Score (Active Customers)': [avg_csat_active],\n",
    "    'Avg Health Score (Churned Customers)': [avg_health_churned],\n",
    "    'Avg Health Score (Active Customers)': [avg_health_active],\n",
    "    'Low Satisfaction Churn Rate (%)': [satisfaction_segment_churn_rate.get('Low Satisfaction', 0)],\n",
    "    'Medium Satisfaction Churn Rate (%)': [satisfaction_segment_churn_rate.get('Medium Satisfaction', 0)],\n",
    "    'High Satisfaction Churn Rate (%)': [satisfaction_segment_churn_rate.get('High Satisfaction', 0)],\n",
    "    'Avg Health Score (Low Satisfaction)': [satisfaction_segment_health_score.get('Low Satisfaction', 0)],\n",
    "    'Avg Health Score (Medium Satisfaction)': [satisfaction_segment_health_score.get('Medium Satisfaction', 0)],\n",
    "    'Avg Health Score (High Satisfaction)': [satisfaction_segment_health_score.get('High Satisfaction', 0)]\n",
    "})\n",
    "\n",
    "print(\"Customer Satisfaction Insights\")\n",
    "display(csat_summary)"
   ]
  },
  {
   "cell_type": "markdown",
   "metadata": {},
   "source": [
    "### Analysis deep dive"
   ]
  },
  {
   "cell_type": "markdown",
   "metadata": {},
   "source": [
    "#### Churn reason exploration"
   ]
  },
  {
   "cell_type": "markdown",
   "metadata": {},
   "source": [
    "##### By frequency, subscriptions types & customer segment"
   ]
  },
  {
   "cell_type": "markdown",
   "metadata": {},
   "source": [
    "<b>Fig1: Churn reasons frequency</b>"
   ]
  },
  {
   "cell_type": "code",
   "execution_count": 331,
   "metadata": {},
   "outputs": [],
   "source": [
    "# Ensure 'churn_reason' column is filled for churned customers\n",
    "churned_customers = customer[customer['is_churned'] == 1].dropna(subset=['churn_reason'])"
   ]
  },
  {
   "cell_type": "code",
   "execution_count": 332,
   "metadata": {},
   "outputs": [],
   "source": [
    "churn_reason_counts = churned_customers['churn_reason'].value_counts().reset_index()\n",
    "churn_reason_counts.columns = ['Churn Reason', 'Count']"
   ]
  },
  {
   "cell_type": "code",
   "execution_count": 333,
   "metadata": {},
   "outputs": [
    {
     "data": {
      "application/vnd.plotly.v1+json": {
       "config": {
        "plotlyServerURL": "https://plot.ly"
       },
       "data": [
        {
         "alignmentgroup": "True",
         "hoverinfo": "skip",
         "legendgroup": "high cost",
         "marker": {
          "color": "#E2F0E6",
          "pattern": {
           "shape": ""
          }
         },
         "name": "high cost",
         "offsetgroup": "high cost",
         "orientation": "v",
         "showlegend": true,
         "text": [
          247
         ],
         "textposition": "auto",
         "type": "bar",
         "x": [
          "high cost"
         ],
         "xaxis": "x",
         "y": [
          247
         ],
         "yaxis": "y"
        },
        {
         "alignmentgroup": "True",
         "hoverinfo": "skip",
         "legendgroup": "lack of support",
         "marker": {
          "color": "#B7E0B1",
          "pattern": {
           "shape": ""
          }
         },
         "name": "lack of support",
         "offsetgroup": "lack of support",
         "orientation": "v",
         "showlegend": true,
         "text": [
          190
         ],
         "textposition": "auto",
         "type": "bar",
         "x": [
          "lack of support"
         ],
         "xaxis": "x",
         "y": [
          190
         ],
         "yaxis": "y"
        },
        {
         "alignmentgroup": "True",
         "hoverinfo": "skip",
         "legendgroup": "feature gaps",
         "marker": {
          "color": "#8CCB8C",
          "pattern": {
           "shape": ""
          }
         },
         "name": "feature gaps",
         "offsetgroup": "feature gaps",
         "orientation": "v",
         "showlegend": true,
         "text": [
          104
         ],
         "textposition": "auto",
         "type": "bar",
         "x": [
          "feature gaps"
         ],
         "xaxis": "x",
         "y": [
          104
         ],
         "yaxis": "y"
        },
        {
         "alignmentgroup": "True",
         "hoverinfo": "skip",
         "legendgroup": "business change",
         "marker": {
          "color": "#4EA96B",
          "pattern": {
           "shape": ""
          }
         },
         "name": "business change",
         "offsetgroup": "business change",
         "orientation": "v",
         "showlegend": true,
         "text": [
          78
         ],
         "textposition": "auto",
         "type": "bar",
         "x": [
          "business change"
         ],
         "xaxis": "x",
         "y": [
          78
         ],
         "yaxis": "y"
        }
       ],
       "layout": {
        "barmode": "relative",
        "height": 500,
        "legend": {
         "title": {
          "text": "Churn Reason"
         },
         "tracegroupgap": 0
        },
        "template": {
         "layout": {
          "font": {
           "color": "#2D494C",
           "family": "Lato",
           "size": 14
          },
          "hoverlabel": {
           "bgcolor": "#E5F2F2",
           "bordercolor": "#2D494C",
           "font": {
            "color": "#2D494C",
            "family": "Lato",
            "size": 14
           }
          },
          "legend": {
           "font": {
            "color": "#3A585B",
            "family": "Lato",
            "size": 12
           },
           "title": {
            "font": {
             "color": "#2D494C",
             "family": "Lato",
             "size": 16
            },
            "text": "<b>Legend Title</b>"
           }
          },
          "paper_bgcolor": "white",
          "plot_bgcolor": "white",
          "title": {
           "font": {
            "color": "#2D494C",
            "size": 24
           },
           "text": "<b>Your Chart Title</b>",
           "x": 0.5
          },
          "xaxis": {
           "gridcolor": "#E5E5E5",
           "showgrid": true,
           "tickcolor": "#2D494C",
           "tickfont": {
            "color": "#2D494C",
            "family": "Lato",
            "size": 12
           },
           "ticklen": 5,
           "tickwidth": 1,
           "title": {
            "font": {
             "color": "#2D494C",
             "family": "Lato",
             "size": 16
            },
            "text": "<b>X Axis Title</b>"
           }
          },
          "yaxis": {
           "gridcolor": "#E5E5E5",
           "showgrid": true,
           "tickcolor": "#2D494C",
           "tickfont": {
            "color": "#2D494C",
            "family": "Lato",
            "size": 12
           },
           "ticklen": 5,
           "tickwidth": 1,
           "title": {
            "font": {
             "color": "#2D494C",
             "family": "Lato",
             "size": 16
            },
            "text": "<b>Y Axis Title</b>"
           }
          }
         }
        },
        "title": {
         "text": "Churn Reasons Frequency"
        },
        "xaxis": {
         "anchor": "y",
         "categoryarray": [
          "high cost",
          "lack of support",
          "feature gaps",
          "business change"
         ],
         "categoryorder": "array",
         "domain": [
          0,
          1
         ],
         "title": {
          "text": "<b>Churn Reason</b>"
         }
        },
        "yaxis": {
         "anchor": "x",
         "domain": [
          0,
          1
         ],
         "title": {
          "text": "<b>Number of Customers</b>"
         }
        }
       }
      }
     },
     "metadata": {},
     "output_type": "display_data"
    }
   ],
   "source": [
    "fig1 = px.bar(\n",
    "    churn_reason_counts,\n",
    "    x='Churn Reason',\n",
    "    y='Count',\n",
    "    title='Churn Reasons Frequency',\n",
    "    labels={'Count': 'Number of Customers'},\n",
    "    text='Count',\n",
    "    color='Churn Reason',\n",
    "    color_discrete_sequence=custom_colors2\n",
    ")\n",
    "\n",
    "fig1.update_traces(\n",
    "    hoverinfo='skip',   \n",
    "    hovertemplate=None\n",
    ")\n",
    "\n",
    "fig1.update_layout(\n",
    "    xaxis_title='<b>Churn Reason</b>',\n",
    "    yaxis_title='<b>Number of Customers</b>',\n",
    "    height=500\n",
    ")\n",
    "\n",
    "fig1.show()"
   ]
  },
  {
   "cell_type": "markdown",
   "metadata": {},
   "source": [
    "<b>Fig2: Churn reason by customer segment</b>"
   ]
  },
  {
   "cell_type": "code",
   "execution_count": 334,
   "metadata": {},
   "outputs": [],
   "source": [
    "churn_reason_segment = churned_customers.groupby(['customer_segment', 'churn_reason'])['customer_id'].nunique().reset_index()\n",
    "churn_reason_segment.columns = ['Customer Segment', 'Churn Reason', 'Customer Count']"
   ]
  },
  {
   "cell_type": "code",
   "execution_count": 335,
   "metadata": {},
   "outputs": [
    {
     "data": {
      "application/vnd.plotly.v1+json": {
       "config": {
        "plotlyServerURL": "https://plot.ly"
       },
       "data": [
        {
         "alignmentgroup": "True",
         "hoverinfo": "skip",
         "legendgroup": "business change",
         "marker": {
          "color": "#E2F0E6",
          "pattern": {
           "shape": ""
          }
         },
         "name": "business change",
         "offsetgroup": "business change",
         "orientation": "v",
         "showlegend": true,
         "textposition": "outside",
         "texttemplate": "%{y}",
         "type": "bar",
         "x": [
          "enterprise",
          "mid-market",
          "small business"
         ],
         "xaxis": "x",
         "y": [
          5,
          24,
          49
         ],
         "yaxis": "y"
        },
        {
         "alignmentgroup": "True",
         "hoverinfo": "skip",
         "legendgroup": "feature gaps",
         "marker": {
          "color": "#B7E0B1",
          "pattern": {
           "shape": ""
          }
         },
         "name": "feature gaps",
         "offsetgroup": "feature gaps",
         "orientation": "v",
         "showlegend": true,
         "textposition": "outside",
         "texttemplate": "%{y}",
         "type": "bar",
         "x": [
          "enterprise",
          "mid-market",
          "small business"
         ],
         "xaxis": "x",
         "y": [
          9,
          29,
          66
         ],
         "yaxis": "y"
        },
        {
         "alignmentgroup": "True",
         "hoverinfo": "skip",
         "legendgroup": "high cost",
         "marker": {
          "color": "#8CCB8C",
          "pattern": {
           "shape": ""
          }
         },
         "name": "high cost",
         "offsetgroup": "high cost",
         "orientation": "v",
         "showlegend": true,
         "textposition": "outside",
         "texttemplate": "%{y}",
         "type": "bar",
         "x": [
          "enterprise",
          "mid-market",
          "small business"
         ],
         "xaxis": "x",
         "y": [
          26,
          80,
          141
         ],
         "yaxis": "y"
        },
        {
         "alignmentgroup": "True",
         "hoverinfo": "skip",
         "legendgroup": "lack of support",
         "marker": {
          "color": "#4EA96B",
          "pattern": {
           "shape": ""
          }
         },
         "name": "lack of support",
         "offsetgroup": "lack of support",
         "orientation": "v",
         "showlegend": true,
         "textposition": "outside",
         "texttemplate": "%{y}",
         "type": "bar",
         "x": [
          "enterprise",
          "mid-market",
          "small business"
         ],
         "xaxis": "x",
         "y": [
          19,
          53,
          118
         ],
         "yaxis": "y"
        }
       ],
       "layout": {
        "barmode": "group",
        "height": 700,
        "hovermode": false,
        "legend": {
         "title": {
          "text": "<b>Churn Reason</b>"
         },
         "tracegroupgap": 0
        },
        "template": {
         "layout": {
          "font": {
           "color": "#2D494C",
           "family": "Lato",
           "size": 14
          },
          "hoverlabel": {
           "bgcolor": "#E5F2F2",
           "bordercolor": "#2D494C",
           "font": {
            "color": "#2D494C",
            "family": "Lato",
            "size": 14
           }
          },
          "legend": {
           "font": {
            "color": "#3A585B",
            "family": "Lato",
            "size": 12
           },
           "title": {
            "font": {
             "color": "#2D494C",
             "family": "Lato",
             "size": 16
            },
            "text": "<b>Legend Title</b>"
           }
          },
          "paper_bgcolor": "white",
          "plot_bgcolor": "white",
          "title": {
           "font": {
            "color": "#2D494C",
            "size": 24
           },
           "text": "<b>Your Chart Title</b>",
           "x": 0.5
          },
          "xaxis": {
           "gridcolor": "#E5E5E5",
           "showgrid": true,
           "tickcolor": "#2D494C",
           "tickfont": {
            "color": "#2D494C",
            "family": "Lato",
            "size": 12
           },
           "ticklen": 5,
           "tickwidth": 1,
           "title": {
            "font": {
             "color": "#2D494C",
             "family": "Lato",
             "size": 16
            },
            "text": "<b>X Axis Title</b>"
           }
          },
          "yaxis": {
           "gridcolor": "#E5E5E5",
           "showgrid": true,
           "tickcolor": "#2D494C",
           "tickfont": {
            "color": "#2D494C",
            "family": "Lato",
            "size": 12
           },
           "ticklen": 5,
           "tickwidth": 1,
           "title": {
            "font": {
             "color": "#2D494C",
             "family": "Lato",
             "size": 16
            },
            "text": "<b>Y Axis Title</b>"
           }
          }
         }
        },
        "title": {
         "text": "Churn Reasons by Customer Segment"
        },
        "xaxis": {
         "anchor": "y",
         "domain": [
          0,
          1
         ],
         "title": {
          "text": "<b>Customer Segment</b>"
         }
        },
        "yaxis": {
         "anchor": "x",
         "domain": [
          0,
          1
         ],
         "title": {
          "text": "<b>Number of Customers</b>"
         }
        }
       }
      }
     },
     "metadata": {},
     "output_type": "display_data"
    }
   ],
   "source": [
    "fig2 = px.bar(\n",
    "    churn_reason_segment,\n",
    "    x='Customer Segment',\n",
    "    y='Customer Count',\n",
    "    color='Churn Reason',\n",
    "    title='Churn Reasons by Customer Segment',\n",
    "    barmode='group',\n",
    "    labels={'Customer Count': 'Number of Customers'},\n",
    "    color_discrete_sequence=custom_colors2\n",
    ")\n",
    "\n",
    "fig2.update_traces(\n",
    "    texttemplate='%{y}',\n",
    "    textposition='outside',\n",
    "    hoverinfo='skip',   \n",
    "    hovertemplate=None  \n",
    ")\n",
    "\n",
    "fig2.update_layout(\n",
    "    xaxis_title='<b>Customer Segment</b>',\n",
    "    yaxis_title='<b>Number of Customers</b>',\n",
    "    legend_title='<b>Churn Reason</b>',\n",
    "    height=700,\n",
    "    hovermode=False     # Disables hover interaction\n",
    ")\n",
    "\n",
    "fig2.show()\n"
   ]
  },
  {
   "cell_type": "markdown",
   "metadata": {},
   "source": [
    "<b>Fig3: Churn reason by subscription type</b>"
   ]
  },
  {
   "cell_type": "code",
   "execution_count": 336,
   "metadata": {},
   "outputs": [],
   "source": [
    "churn_reason_subscription = churned_customers.groupby(['subscription_type', 'churn_reason'])['customer_id'].nunique().reset_index()\n",
    "churn_reason_subscription.columns = ['Subscription Type', 'Churn Reason', 'Customer Count']"
   ]
  },
  {
   "cell_type": "code",
   "execution_count": 337,
   "metadata": {},
   "outputs": [
    {
     "data": {
      "application/vnd.plotly.v1+json": {
       "config": {
        "plotlyServerURL": "https://plot.ly"
       },
       "data": [
        {
         "alignmentgroup": "True",
         "hovertemplate": "<b>Subscription Type:</b> %{x}<br><b>Churn Reason:</b> business change<br><b>Number of Customers:</b> %{y}<extra></extra>",
         "legendgroup": "business change",
         "marker": {
          "color": "#E2F0E6",
          "pattern": {
           "shape": ""
          }
         },
         "name": "business change",
         "offsetgroup": "business change",
         "orientation": "v",
         "showlegend": true,
         "textposition": "outside",
         "texttemplate": "%{y}",
         "type": "bar",
         "x": [
          "basic",
          "enterprise",
          "pro"
         ],
         "xaxis": "x",
         "y": [
          39,
          13,
          26
         ],
         "yaxis": "y"
        },
        {
         "alignmentgroup": "True",
         "hovertemplate": "<b>Subscription Type:</b> %{x}<br><b>Churn Reason:</b> feature gaps<br><b>Number of Customers:</b> %{y}<extra></extra>",
         "legendgroup": "feature gaps",
         "marker": {
          "color": "#B7E0B1",
          "pattern": {
           "shape": ""
          }
         },
         "name": "feature gaps",
         "offsetgroup": "feature gaps",
         "orientation": "v",
         "showlegend": true,
         "textposition": "outside",
         "texttemplate": "%{y}",
         "type": "bar",
         "x": [
          "basic",
          "enterprise",
          "pro"
         ],
         "xaxis": "x",
         "y": [
          55,
          13,
          36
         ],
         "yaxis": "y"
        },
        {
         "alignmentgroup": "True",
         "hovertemplate": "<b>Subscription Type:</b> %{x}<br><b>Churn Reason:</b> high cost<br><b>Number of Customers:</b> %{y}<extra></extra>",
         "legendgroup": "high cost",
         "marker": {
          "color": "#8CCB8C",
          "pattern": {
           "shape": ""
          }
         },
         "name": "high cost",
         "offsetgroup": "high cost",
         "orientation": "v",
         "showlegend": true,
         "textposition": "outside",
         "texttemplate": "%{y}",
         "type": "bar",
         "x": [
          "basic",
          "enterprise",
          "pro"
         ],
         "xaxis": "x",
         "y": [
          118,
          51,
          78
         ],
         "yaxis": "y"
        },
        {
         "alignmentgroup": "True",
         "hovertemplate": "<b>Subscription Type:</b> %{x}<br><b>Churn Reason:</b> lack of support<br><b>Number of Customers:</b> %{y}<extra></extra>",
         "legendgroup": "lack of support",
         "marker": {
          "color": "#4EA96B",
          "pattern": {
           "shape": ""
          }
         },
         "name": "lack of support",
         "offsetgroup": "lack of support",
         "orientation": "v",
         "showlegend": true,
         "textposition": "outside",
         "texttemplate": "%{y}",
         "type": "bar",
         "x": [
          "basic",
          "enterprise",
          "pro"
         ],
         "xaxis": "x",
         "y": [
          109,
          29,
          52
         ],
         "yaxis": "y"
        }
       ],
       "layout": {
        "barmode": "group",
        "height": 500,
        "legend": {
         "title": {
          "text": "<b>Churn Reason</b>"
         },
         "tracegroupgap": 0
        },
        "template": {
         "layout": {
          "font": {
           "color": "#2D494C",
           "family": "Lato",
           "size": 14
          },
          "hoverlabel": {
           "bgcolor": "#E5F2F2",
           "bordercolor": "#2D494C",
           "font": {
            "color": "#2D494C",
            "family": "Lato",
            "size": 14
           }
          },
          "legend": {
           "font": {
            "color": "#3A585B",
            "family": "Lato",
            "size": 12
           },
           "title": {
            "font": {
             "color": "#2D494C",
             "family": "Lato",
             "size": 16
            },
            "text": "<b>Legend Title</b>"
           }
          },
          "paper_bgcolor": "white",
          "plot_bgcolor": "white",
          "title": {
           "font": {
            "color": "#2D494C",
            "size": 24
           },
           "text": "<b>Your Chart Title</b>",
           "x": 0.5
          },
          "xaxis": {
           "gridcolor": "#E5E5E5",
           "showgrid": true,
           "tickcolor": "#2D494C",
           "tickfont": {
            "color": "#2D494C",
            "family": "Lato",
            "size": 12
           },
           "ticklen": 5,
           "tickwidth": 1,
           "title": {
            "font": {
             "color": "#2D494C",
             "family": "Lato",
             "size": 16
            },
            "text": "<b>X Axis Title</b>"
           }
          },
          "yaxis": {
           "gridcolor": "#E5E5E5",
           "showgrid": true,
           "tickcolor": "#2D494C",
           "tickfont": {
            "color": "#2D494C",
            "family": "Lato",
            "size": 12
           },
           "ticklen": 5,
           "tickwidth": 1,
           "title": {
            "font": {
             "color": "#2D494C",
             "family": "Lato",
             "size": 16
            },
            "text": "<b>Y Axis Title</b>"
           }
          }
         }
        },
        "title": {
         "text": "Churn Reasons by Subscription Type"
        },
        "xaxis": {
         "anchor": "y",
         "domain": [
          0,
          1
         ],
         "title": {
          "text": "<b>Subscription Type</b>"
         }
        },
        "yaxis": {
         "anchor": "x",
         "domain": [
          0,
          1
         ],
         "title": {
          "text": "<b>Number of Customers</b>"
         }
        }
       }
      }
     },
     "metadata": {},
     "output_type": "display_data"
    }
   ],
   "source": [
    "fig3 = px.bar(\n",
    "    churn_reason_subscription,\n",
    "    x='Subscription Type',\n",
    "    y='Customer Count',\n",
    "    color='Churn Reason',\n",
    "    title='Churn Reasons by Subscription Type',\n",
    "    barmode='group',\n",
    "    labels={'Customer Count': 'Number of Customers'},\n",
    "    color_discrete_sequence=custom_colors2\n",
    ")\n",
    "\n",
    "for trace in fig3.data:\n",
    "    # Set the hovertemplate for each trace using trace.name\n",
    "    trace.hovertemplate = (\n",
    "        '<b>Subscription Type:</b> %{x}<br>'\n",
    "        '<b>Churn Reason:</b> ' + str(trace.name) + '<br>'\n",
    "        '<b>Number of Customers:</b> %{y}<extra></extra>'\n",
    "    )\n",
    "    # Add text labels to bars\n",
    "    trace.texttemplate = '%{y}'\n",
    "    trace.textposition = 'outside'\n",
    "\n",
    "fig3.update_layout(\n",
    "    xaxis_title='<b>Subscription Type</b>',\n",
    "    yaxis_title='<b>Number of Customers</b>',\n",
    "    height=500,\n",
    "    legend_title='<b>Churn Reason</b>'\n",
    ")\n",
    "\n",
    "fig3.show()"
   ]
  },
  {
   "cell_type": "markdown",
   "metadata": {},
   "source": [
    "#### Regional churn drivers"
   ]
  },
  {
   "cell_type": "markdown",
   "metadata": {},
   "source": [
    "##### Fig4: Churn rates by country"
   ]
  },
  {
   "cell_type": "code",
   "execution_count": 338,
   "metadata": {},
   "outputs": [],
   "source": [
    "# Total customers per country\n",
    "total_customers_country = customer.groupby('country')['customer_id'].nunique().reset_index()\n",
    "total_customers_country.columns = ['Country', 'Total Customers']"
   ]
  },
  {
   "cell_type": "code",
   "execution_count": 339,
   "metadata": {},
   "outputs": [],
   "source": [
    "# Churned customers per country\n",
    "churned_customers_country = customer[customer['is_churned'] == 1].groupby('country')['customer_id'].nunique().reset_index()\n",
    "churned_customers_country.columns = ['Country', 'Churned Customers']"
   ]
  },
  {
   "cell_type": "code",
   "execution_count": 340,
   "metadata": {},
   "outputs": [],
   "source": [
    "# Merge data\n",
    "country_churn_data = pd.merge(total_customers_country, churned_customers_country, on='Country', how='left')\n",
    "country_churn_data['Churned Customers'] = country_churn_data['Churned Customers'].fillna(0)\n",
    "country_churn_data['Churn Rate (%)'] = (country_churn_data['Churned Customers'] / country_churn_data['Total Customers']) * 100\n",
    "country_churn_data['Churn Rate (%)'] = country_churn_data['Churn Rate (%)'].round(2)"
   ]
  },
  {
   "cell_type": "code",
   "execution_count": 341,
   "metadata": {},
   "outputs": [
    {
     "name": "stdout",
     "output_type": "stream",
     "text": [
      "Churn Rate by Country:\n"
     ]
    },
    {
     "data": {
      "text/html": [
       "<div>\n",
       "<style scoped>\n",
       "    .dataframe tbody tr th:only-of-type {\n",
       "        vertical-align: middle;\n",
       "    }\n",
       "\n",
       "    .dataframe tbody tr th {\n",
       "        vertical-align: top;\n",
       "    }\n",
       "\n",
       "    .dataframe thead th {\n",
       "        text-align: right;\n",
       "    }\n",
       "</style>\n",
       "<table border=\"1\" class=\"dataframe\">\n",
       "  <thead>\n",
       "    <tr style=\"text-align: right;\">\n",
       "      <th></th>\n",
       "      <th>Country</th>\n",
       "      <th>Total Customers</th>\n",
       "      <th>Churned Customers</th>\n",
       "      <th>Churn Rate (%)</th>\n",
       "    </tr>\n",
       "  </thead>\n",
       "  <tbody>\n",
       "    <tr>\n",
       "      <th>0</th>\n",
       "      <td>canada</td>\n",
       "      <td>299</td>\n",
       "      <td>77</td>\n",
       "      <td>25.75</td>\n",
       "    </tr>\n",
       "    <tr>\n",
       "      <th>3</th>\n",
       "      <td>germany</td>\n",
       "      <td>289</td>\n",
       "      <td>68</td>\n",
       "      <td>23.53</td>\n",
       "    </tr>\n",
       "    <tr>\n",
       "      <th>6</th>\n",
       "      <td>sweden</td>\n",
       "      <td>286</td>\n",
       "      <td>62</td>\n",
       "      <td>21.68</td>\n",
       "    </tr>\n",
       "    <tr>\n",
       "      <th>4</th>\n",
       "      <td>netherlands</td>\n",
       "      <td>298</td>\n",
       "      <td>61</td>\n",
       "      <td>20.47</td>\n",
       "    </tr>\n",
       "    <tr>\n",
       "      <th>7</th>\n",
       "      <td>switzerland</td>\n",
       "      <td>304</td>\n",
       "      <td>61</td>\n",
       "      <td>20.07</td>\n",
       "    </tr>\n",
       "    <tr>\n",
       "      <th>1</th>\n",
       "      <td>denmark</td>\n",
       "      <td>326</td>\n",
       "      <td>64</td>\n",
       "      <td>19.63</td>\n",
       "    </tr>\n",
       "    <tr>\n",
       "      <th>5</th>\n",
       "      <td>norway</td>\n",
       "      <td>298</td>\n",
       "      <td>58</td>\n",
       "      <td>19.46</td>\n",
       "    </tr>\n",
       "    <tr>\n",
       "      <th>2</th>\n",
       "      <td>france</td>\n",
       "      <td>298</td>\n",
       "      <td>57</td>\n",
       "      <td>19.13</td>\n",
       "    </tr>\n",
       "    <tr>\n",
       "      <th>8</th>\n",
       "      <td>uk</td>\n",
       "      <td>275</td>\n",
       "      <td>52</td>\n",
       "      <td>18.91</td>\n",
       "    </tr>\n",
       "    <tr>\n",
       "      <th>9</th>\n",
       "      <td>usa</td>\n",
       "      <td>327</td>\n",
       "      <td>59</td>\n",
       "      <td>18.04</td>\n",
       "    </tr>\n",
       "  </tbody>\n",
       "</table>\n",
       "</div>"
      ],
      "text/plain": [
       "       Country  Total Customers  Churned Customers  Churn Rate (%)\n",
       "0       canada              299                 77           25.75\n",
       "3      germany              289                 68           23.53\n",
       "6       sweden              286                 62           21.68\n",
       "4  netherlands              298                 61           20.47\n",
       "7  switzerland              304                 61           20.07\n",
       "1      denmark              326                 64           19.63\n",
       "5       norway              298                 58           19.46\n",
       "2       france              298                 57           19.13\n",
       "8           uk              275                 52           18.91\n",
       "9          usa              327                 59           18.04"
      ]
     },
     "metadata": {},
     "output_type": "display_data"
    }
   ],
   "source": [
    "# Display churn data\n",
    "print(\"Churn Rate by Country:\")\n",
    "country_churn_data = country_churn_data.sort_values('Churn Rate (%)', ascending=False)\n",
    "display(country_churn_data)"
   ]
  },
  {
   "cell_type": "code",
   "execution_count": 342,
   "metadata": {},
   "outputs": [
    {
     "data": {
      "application/vnd.plotly.v1+json": {
       "config": {
        "plotlyServerURL": "https://plot.ly"
       },
       "data": [
        {
         "coloraxis": "coloraxis",
         "customdata": [
          [
           299,
           77,
           "canada"
          ],
          [
           289,
           68,
           "germany"
          ],
          [
           286,
           62,
           "sweden"
          ],
          [
           298,
           61,
           "netherlands"
          ],
          [
           304,
           61,
           "switzerland"
          ],
          [
           326,
           64,
           "denmark"
          ],
          [
           298,
           58,
           "norway"
          ],
          [
           298,
           57,
           "france"
          ],
          [
           275,
           52,
           "uk"
          ],
          [
           327,
           59,
           "usa"
          ]
         ],
         "geo": "geo",
         "hovertemplate": "<b>Country:</b> %{customdata[2]}<br><b>Total Customers:</b> %{customdata[0]}<br><b>Churned Customers:</b> %{customdata[1]}<br><b>Churn Rate (%):</b> %{z:.2f}%<extra></extra>",
         "hovertext": [
          "canada",
          "germany",
          "sweden",
          "netherlands",
          "switzerland",
          "denmark",
          "norway",
          "france",
          "uk",
          "usa"
         ],
         "locationmode": "country names",
         "locations": [
          "canada",
          "germany",
          "sweden",
          "netherlands",
          "switzerland",
          "denmark",
          "norway",
          "france",
          "uk",
          "usa"
         ],
         "name": "",
         "type": "choropleth",
         "z": [
          25.75,
          23.53,
          21.68,
          20.47,
          20.07,
          19.63,
          19.46,
          19.13,
          18.91,
          18.04
         ]
        }
       ],
       "layout": {
        "coloraxis": {
         "colorbar": {
          "title": {
           "text": "Churn Rate (%)"
          }
         },
         "colorscale": [
          [
           0,
           "#E2F0E6"
          ],
          [
           0.2,
           "#B7E0B1"
          ],
          [
           0.4,
           "#8CCB8C"
          ],
          [
           0.6,
           "#4EA96B"
          ],
          [
           0.8,
           "#0B903F"
          ],
          [
           1,
           "#007A33"
          ]
         ]
        },
        "geo": {
         "center": {},
         "domain": {
          "x": [
           0,
           1
          ],
          "y": [
           0,
           1
          ]
         }
        },
        "legend": {
         "tracegroupgap": 0
        },
        "margin": {
         "b": 0,
         "l": 0,
         "r": 0,
         "t": 100
        },
        "template": {
         "layout": {
          "font": {
           "color": "#2D494C",
           "family": "Lato",
           "size": 14
          },
          "hoverlabel": {
           "bgcolor": "#E5F2F2",
           "bordercolor": "#2D494C",
           "font": {
            "color": "#2D494C",
            "family": "Lato",
            "size": 14
           }
          },
          "legend": {
           "font": {
            "color": "#3A585B",
            "family": "Lato",
            "size": 12
           },
           "title": {
            "font": {
             "color": "#2D494C",
             "family": "Lato",
             "size": 16
            },
            "text": "<b>Legend Title</b>"
           }
          },
          "paper_bgcolor": "white",
          "plot_bgcolor": "white",
          "title": {
           "font": {
            "color": "#2D494C",
            "size": 24
           },
           "text": "<b>Your Chart Title</b>",
           "x": 0.5
          },
          "xaxis": {
           "gridcolor": "#E5E5E5",
           "showgrid": true,
           "tickcolor": "#2D494C",
           "tickfont": {
            "color": "#2D494C",
            "family": "Lato",
            "size": 12
           },
           "ticklen": 5,
           "tickwidth": 1,
           "title": {
            "font": {
             "color": "#2D494C",
             "family": "Lato",
             "size": 16
            },
            "text": "<b>X Axis Title</b>"
           }
          },
          "yaxis": {
           "gridcolor": "#E5E5E5",
           "showgrid": true,
           "tickcolor": "#2D494C",
           "tickfont": {
            "color": "#2D494C",
            "family": "Lato",
            "size": 12
           },
           "ticklen": 5,
           "tickwidth": 1,
           "title": {
            "font": {
             "color": "#2D494C",
             "family": "Lato",
             "size": 16
            },
            "text": "<b>Y Axis Title</b>"
           }
          }
         }
        },
        "title": {
         "text": "Churn Rate by Country",
         "x": 0.42
        }
       }
      }
     },
     "metadata": {},
     "output_type": "display_data"
    }
   ],
   "source": [
    "fig4 = px.choropleth(\n",
    "    country_churn_data,\n",
    "    locations='Country',\n",
    "    locationmode='country names',\n",
    "    color='Churn Rate (%)',\n",
    "    hover_name='Country',\n",
    "    hover_data={\n",
    "        'Total Customers': True,\n",
    "        'Churned Customers': True,\n",
    "        'Churn Rate (%)': True\n",
    "    },\n",
    "    title='Churn Rate by Country',\n",
    "    labels={'Churn Rate (%)': 'Churn Rate (%)'},\n",
    "    color_continuous_scale=custom_colors2,\n",
    ")\n",
    "\n",
    "fig4.update_traces(\n",
    "    hovertemplate='<b>Country:</b> %{customdata[2]}<br>' +\n",
    "                  '<b>Total Customers:</b> %{customdata[0]}<br>' +\n",
    "                  '<b>Churned Customers:</b> %{customdata[1]}<br>' +\n",
    "                  '<b>Churn Rate (%):</b> %{z:.2f}%<extra></extra>',\n",
    "    customdata=country_churn_data[['Total Customers', 'Churned Customers', 'Country']].values\n",
    ")\n",
    "\n",
    "fig4.update_layout(\n",
    "    margin=dict(l=0, r=0, t=100, b=0),\n",
    "    title_x=0.42\n",
    ")\n",
    "\n",
    "fig4.show()"
   ]
  },
  {
   "cell_type": "markdown",
   "metadata": {},
   "source": [
    "##### Fig5: Avg. CSAT vs. churn rate by country"
   ]
  },
  {
   "cell_type": "code",
   "execution_count": 343,
   "metadata": {},
   "outputs": [],
   "source": [
    "country_scores = customer.groupby('country')[['csat_score', 'account_health_score']].mean().reset_index()\n",
    "country_scores.columns = ['Country', 'Average CSAT Score', 'Average Account Health Score']\n",
    "country_analysis = pd.merge(country_churn_data, country_scores, on='Country')\n",
    "country_analysis[['Average CSAT Score', 'Average Account Health Score']] = country_analysis[['Average CSAT Score', 'Average Account Health Score']].round(2)"
   ]
  },
  {
   "cell_type": "code",
   "execution_count": 344,
   "metadata": {},
   "outputs": [
    {
     "name": "stdout",
     "output_type": "stream",
     "text": [
      "Regional CSAT and Account health scores:\n"
     ]
    },
    {
     "data": {
      "text/html": [
       "<div>\n",
       "<style scoped>\n",
       "    .dataframe tbody tr th:only-of-type {\n",
       "        vertical-align: middle;\n",
       "    }\n",
       "\n",
       "    .dataframe tbody tr th {\n",
       "        vertical-align: top;\n",
       "    }\n",
       "\n",
       "    .dataframe thead th {\n",
       "        text-align: right;\n",
       "    }\n",
       "</style>\n",
       "<table border=\"1\" class=\"dataframe\">\n",
       "  <thead>\n",
       "    <tr style=\"text-align: right;\">\n",
       "      <th></th>\n",
       "      <th>Country</th>\n",
       "      <th>Total Customers</th>\n",
       "      <th>Churned Customers</th>\n",
       "      <th>Churn Rate (%)</th>\n",
       "      <th>Average CSAT Score</th>\n",
       "      <th>Average Account Health Score</th>\n",
       "    </tr>\n",
       "  </thead>\n",
       "  <tbody>\n",
       "    <tr>\n",
       "      <th>0</th>\n",
       "      <td>canada</td>\n",
       "      <td>299</td>\n",
       "      <td>77</td>\n",
       "      <td>25.75</td>\n",
       "      <td>2.90</td>\n",
       "      <td>74.25</td>\n",
       "    </tr>\n",
       "    <tr>\n",
       "      <th>1</th>\n",
       "      <td>germany</td>\n",
       "      <td>289</td>\n",
       "      <td>68</td>\n",
       "      <td>23.53</td>\n",
       "      <td>2.93</td>\n",
       "      <td>74.89</td>\n",
       "    </tr>\n",
       "    <tr>\n",
       "      <th>2</th>\n",
       "      <td>sweden</td>\n",
       "      <td>286</td>\n",
       "      <td>62</td>\n",
       "      <td>21.68</td>\n",
       "      <td>3.01</td>\n",
       "      <td>75.76</td>\n",
       "    </tr>\n",
       "    <tr>\n",
       "      <th>3</th>\n",
       "      <td>netherlands</td>\n",
       "      <td>298</td>\n",
       "      <td>61</td>\n",
       "      <td>20.47</td>\n",
       "      <td>3.10</td>\n",
       "      <td>77.70</td>\n",
       "    </tr>\n",
       "    <tr>\n",
       "      <th>4</th>\n",
       "      <td>switzerland</td>\n",
       "      <td>304</td>\n",
       "      <td>61</td>\n",
       "      <td>20.07</td>\n",
       "      <td>2.94</td>\n",
       "      <td>74.16</td>\n",
       "    </tr>\n",
       "    <tr>\n",
       "      <th>5</th>\n",
       "      <td>denmark</td>\n",
       "      <td>326</td>\n",
       "      <td>64</td>\n",
       "      <td>19.63</td>\n",
       "      <td>2.97</td>\n",
       "      <td>76.12</td>\n",
       "    </tr>\n",
       "    <tr>\n",
       "      <th>6</th>\n",
       "      <td>norway</td>\n",
       "      <td>298</td>\n",
       "      <td>58</td>\n",
       "      <td>19.46</td>\n",
       "      <td>3.12</td>\n",
       "      <td>77.72</td>\n",
       "    </tr>\n",
       "    <tr>\n",
       "      <th>7</th>\n",
       "      <td>france</td>\n",
       "      <td>298</td>\n",
       "      <td>57</td>\n",
       "      <td>19.13</td>\n",
       "      <td>3.14</td>\n",
       "      <td>78.24</td>\n",
       "    </tr>\n",
       "    <tr>\n",
       "      <th>8</th>\n",
       "      <td>uk</td>\n",
       "      <td>275</td>\n",
       "      <td>52</td>\n",
       "      <td>18.91</td>\n",
       "      <td>3.01</td>\n",
       "      <td>75.79</td>\n",
       "    </tr>\n",
       "    <tr>\n",
       "      <th>9</th>\n",
       "      <td>usa</td>\n",
       "      <td>327</td>\n",
       "      <td>59</td>\n",
       "      <td>18.04</td>\n",
       "      <td>3.05</td>\n",
       "      <td>77.03</td>\n",
       "    </tr>\n",
       "  </tbody>\n",
       "</table>\n",
       "</div>"
      ],
      "text/plain": [
       "       Country  Total Customers  Churned Customers  Churn Rate (%)  \\\n",
       "0       canada              299                 77           25.75   \n",
       "1      germany              289                 68           23.53   \n",
       "2       sweden              286                 62           21.68   \n",
       "3  netherlands              298                 61           20.47   \n",
       "4  switzerland              304                 61           20.07   \n",
       "5      denmark              326                 64           19.63   \n",
       "6       norway              298                 58           19.46   \n",
       "7       france              298                 57           19.13   \n",
       "8           uk              275                 52           18.91   \n",
       "9          usa              327                 59           18.04   \n",
       "\n",
       "   Average CSAT Score  Average Account Health Score  \n",
       "0                2.90                         74.25  \n",
       "1                2.93                         74.89  \n",
       "2                3.01                         75.76  \n",
       "3                3.10                         77.70  \n",
       "4                2.94                         74.16  \n",
       "5                2.97                         76.12  \n",
       "6                3.12                         77.72  \n",
       "7                3.14                         78.24  \n",
       "8                3.01                         75.79  \n",
       "9                3.05                         77.03  "
      ]
     },
     "metadata": {},
     "output_type": "display_data"
    }
   ],
   "source": [
    "print(\"Regional CSAT and Account health scores:\")\n",
    "country_analysis = country_analysis.sort_values('Churn Rate (%)', ascending=False)\n",
    "display(country_analysis)\n"
   ]
  },
  {
   "cell_type": "code",
   "execution_count": 345,
   "metadata": {},
   "outputs": [
    {
     "data": {
      "application/vnd.plotly.v1+json": {
       "config": {
        "plotlyServerURL": "https://plot.ly"
       },
       "data": [
        {
         "customdata": [
          [
           299,
           77
          ]
         ],
         "hovertemplate": "<b>Country:</b> %{hovertext}<br><b>Average CSAT Score:</b> %{x:.2f}<br><b>Churn Rate (%):</b> %{y:.2f}%<br><b>Average Account Health Score:</b> %{marker.size:.2f}<br><b>Total Customers:</b> %{customdata[0]}<br><b>Churned Customers:</b> %{customdata[1]}<extra></extra>",
         "hovertext": [
          "canada"
         ],
         "legendgroup": "canada",
         "marker": {
          "color": "#2D494C",
          "size": [
           74.25
          ],
          "sizemode": "area",
          "sizeref": 0.1956,
          "symbol": "circle"
         },
         "mode": "markers",
         "name": "canada",
         "orientation": "v",
         "showlegend": true,
         "type": "scatter",
         "x": [
          2.9
         ],
         "xaxis": "x",
         "y": [
          25.75
         ],
         "yaxis": "y"
        },
        {
         "customdata": [
          [
           289,
           68
          ]
         ],
         "hovertemplate": "<b>Country:</b> %{hovertext}<br><b>Average CSAT Score:</b> %{x:.2f}<br><b>Churn Rate (%):</b> %{y:.2f}%<br><b>Average Account Health Score:</b> %{marker.size:.2f}<br><b>Total Customers:</b> %{customdata[0]}<br><b>Churned Customers:</b> %{customdata[1]}<extra></extra>",
         "hovertext": [
          "germany"
         ],
         "legendgroup": "germany",
         "marker": {
          "color": "#4B3D3D",
          "size": [
           74.89
          ],
          "sizemode": "area",
          "sizeref": 0.1956,
          "symbol": "circle"
         },
         "mode": "markers",
         "name": "germany",
         "orientation": "v",
         "showlegend": true,
         "type": "scatter",
         "x": [
          2.93
         ],
         "xaxis": "x",
         "y": [
          23.53
         ],
         "yaxis": "y"
        },
        {
         "customdata": [
          [
           286,
           62
          ]
         ],
         "hovertemplate": "<b>Country:</b> %{hovertext}<br><b>Average CSAT Score:</b> %{x:.2f}<br><b>Churn Rate (%):</b> %{y:.2f}%<br><b>Average Account Health Score:</b> %{marker.size:.2f}<br><b>Total Customers:</b> %{customdata[0]}<br><b>Churned Customers:</b> %{customdata[1]}<extra></extra>",
         "hovertext": [
          "sweden"
         ],
         "legendgroup": "sweden",
         "marker": {
          "color": "#3C5A3F",
          "size": [
           75.76
          ],
          "sizemode": "area",
          "sizeref": 0.1956,
          "symbol": "circle"
         },
         "mode": "markers",
         "name": "sweden",
         "orientation": "v",
         "showlegend": true,
         "type": "scatter",
         "x": [
          3.01
         ],
         "xaxis": "x",
         "y": [
          21.68
         ],
         "yaxis": "y"
        },
        {
         "customdata": [
          [
           298,
           61
          ]
         ],
         "hovertemplate": "<b>Country:</b> %{hovertext}<br><b>Average CSAT Score:</b> %{x:.2f}<br><b>Churn Rate (%):</b> %{y:.2f}%<br><b>Average Account Health Score:</b> %{marker.size:.2f}<br><b>Total Customers:</b> %{customdata[0]}<br><b>Churned Customers:</b> %{customdata[1]}<extra></extra>",
         "hovertext": [
          "netherlands"
         ],
         "legendgroup": "netherlands",
         "marker": {
          "color": "#5D4C8A",
          "size": [
           77.7
          ],
          "sizemode": "area",
          "sizeref": 0.1956,
          "symbol": "circle"
         },
         "mode": "markers",
         "name": "netherlands",
         "orientation": "v",
         "showlegend": true,
         "type": "scatter",
         "x": [
          3.1
         ],
         "xaxis": "x",
         "y": [
          20.47
         ],
         "yaxis": "y"
        },
        {
         "customdata": [
          [
           304,
           61
          ]
         ],
         "hovertemplate": "<b>Country:</b> %{hovertext}<br><b>Average CSAT Score:</b> %{x:.2f}<br><b>Churn Rate (%):</b> %{y:.2f}%<br><b>Average Account Health Score:</b> %{marker.size:.2f}<br><b>Total Customers:</b> %{customdata[0]}<br><b>Churned Customers:</b> %{customdata[1]}<extra></extra>",
         "hovertext": [
          "switzerland"
         ],
         "legendgroup": "switzerland",
         "marker": {
          "color": "#2F2A2A",
          "size": [
           74.16
          ],
          "sizemode": "area",
          "sizeref": 0.1956,
          "symbol": "circle"
         },
         "mode": "markers",
         "name": "switzerland",
         "orientation": "v",
         "showlegend": true,
         "type": "scatter",
         "x": [
          2.94
         ],
         "xaxis": "x",
         "y": [
          20.07
         ],
         "yaxis": "y"
        },
        {
         "customdata": [
          [
           326,
           64
          ]
         ],
         "hovertemplate": "<b>Country:</b> %{hovertext}<br><b>Average CSAT Score:</b> %{x:.2f}<br><b>Churn Rate (%):</b> %{y:.2f}%<br><b>Average Account Health Score:</b> %{marker.size:.2f}<br><b>Total Customers:</b> %{customdata[0]}<br><b>Churned Customers:</b> %{customdata[1]}<extra></extra>",
         "hovertext": [
          "denmark"
         ],
         "legendgroup": "denmark",
         "marker": {
          "color": "#6B3F3F",
          "size": [
           76.12
          ],
          "sizemode": "area",
          "sizeref": 0.1956,
          "symbol": "circle"
         },
         "mode": "markers",
         "name": "denmark",
         "orientation": "v",
         "showlegend": true,
         "type": "scatter",
         "x": [
          2.97
         ],
         "xaxis": "x",
         "y": [
          19.63
         ],
         "yaxis": "y"
        },
        {
         "customdata": [
          [
           298,
           58
          ]
         ],
         "hovertemplate": "<b>Country:</b> %{hovertext}<br><b>Average CSAT Score:</b> %{x:.2f}<br><b>Churn Rate (%):</b> %{y:.2f}%<br><b>Average Account Health Score:</b> %{marker.size:.2f}<br><b>Total Customers:</b> %{customdata[0]}<br><b>Churned Customers:</b> %{customdata[1]}<extra></extra>",
         "hovertext": [
          "norway"
         ],
         "legendgroup": "norway",
         "marker": {
          "color": "#1F4E79",
          "size": [
           77.72
          ],
          "sizemode": "area",
          "sizeref": 0.1956,
          "symbol": "circle"
         },
         "mode": "markers",
         "name": "norway",
         "orientation": "v",
         "showlegend": true,
         "type": "scatter",
         "x": [
          3.12
         ],
         "xaxis": "x",
         "y": [
          19.46
         ],
         "yaxis": "y"
        },
        {
         "customdata": [
          [
           298,
           57
          ]
         ],
         "hovertemplate": "<b>Country:</b> %{hovertext}<br><b>Average CSAT Score:</b> %{x:.2f}<br><b>Churn Rate (%):</b> %{y:.2f}%<br><b>Average Account Health Score:</b> %{marker.size:.2f}<br><b>Total Customers:</b> %{customdata[0]}<br><b>Churned Customers:</b> %{customdata[1]}<extra></extra>",
         "hovertext": [
          "france"
         ],
         "legendgroup": "france",
         "marker": {
          "color": "#4B2C2C",
          "size": [
           78.24
          ],
          "sizemode": "area",
          "sizeref": 0.1956,
          "symbol": "circle"
         },
         "mode": "markers",
         "name": "france",
         "orientation": "v",
         "showlegend": true,
         "type": "scatter",
         "x": [
          3.14
         ],
         "xaxis": "x",
         "y": [
          19.13
         ],
         "yaxis": "y"
        },
        {
         "customdata": [
          [
           275,
           52
          ]
         ],
         "hovertemplate": "<b>Country:</b> %{hovertext}<br><b>Average CSAT Score:</b> %{x:.2f}<br><b>Churn Rate (%):</b> %{y:.2f}%<br><b>Average Account Health Score:</b> %{marker.size:.2f}<br><b>Total Customers:</b> %{customdata[0]}<br><b>Churned Customers:</b> %{customdata[1]}<extra></extra>",
         "hovertext": [
          "uk"
         ],
         "legendgroup": "uk",
         "marker": {
          "color": "#1A1A1A",
          "size": [
           75.79
          ],
          "sizemode": "area",
          "sizeref": 0.1956,
          "symbol": "circle"
         },
         "mode": "markers",
         "name": "uk",
         "orientation": "v",
         "showlegend": true,
         "type": "scatter",
         "x": [
          3.01
         ],
         "xaxis": "x",
         "y": [
          18.91
         ],
         "yaxis": "y"
        },
        {
         "customdata": [
          [
           327,
           59
          ]
         ],
         "hovertemplate": "<b>Country:</b> %{hovertext}<br><b>Average CSAT Score:</b> %{x:.2f}<br><b>Churn Rate (%):</b> %{y:.2f}%<br><b>Average Account Health Score:</b> %{marker.size:.2f}<br><b>Total Customers:</b> %{customdata[0]}<br><b>Churned Customers:</b> %{customdata[1]}<extra></extra>",
         "hovertext": [
          "usa"
         ],
         "legendgroup": "usa",
         "marker": {
          "color": "#3D5B7C",
          "size": [
           77.03
          ],
          "sizemode": "area",
          "sizeref": 0.1956,
          "symbol": "circle"
         },
         "mode": "markers",
         "name": "usa",
         "orientation": "v",
         "showlegend": true,
         "type": "scatter",
         "x": [
          3.05
         ],
         "xaxis": "x",
         "y": [
          18.04
         ],
         "yaxis": "y"
        }
       ],
       "layout": {
        "legend": {
         "itemsizing": "constant",
         "title": {
          "text": "<b>Country</b>"
         },
         "tracegroupgap": 0
        },
        "margin": {
         "b": 0,
         "l": 0,
         "r": 0,
         "t": 50
        },
        "template": {
         "layout": {
          "font": {
           "color": "#2D494C",
           "family": "Lato",
           "size": 14
          },
          "hoverlabel": {
           "bgcolor": "#E5F2F2",
           "bordercolor": "#2D494C",
           "font": {
            "color": "#2D494C",
            "family": "Lato",
            "size": 14
           }
          },
          "legend": {
           "font": {
            "color": "#3A585B",
            "family": "Lato",
            "size": 12
           },
           "title": {
            "font": {
             "color": "#2D494C",
             "family": "Lato",
             "size": 16
            },
            "text": "<b>Legend Title</b>"
           }
          },
          "paper_bgcolor": "white",
          "plot_bgcolor": "white",
          "title": {
           "font": {
            "color": "#2D494C",
            "size": 24
           },
           "text": "<b>Your Chart Title</b>",
           "x": 0.5
          },
          "xaxis": {
           "gridcolor": "#E5E5E5",
           "showgrid": true,
           "tickcolor": "#2D494C",
           "tickfont": {
            "color": "#2D494C",
            "family": "Lato",
            "size": 12
           },
           "ticklen": 5,
           "tickwidth": 1,
           "title": {
            "font": {
             "color": "#2D494C",
             "family": "Lato",
             "size": 16
            },
            "text": "<b>X Axis Title</b>"
           }
          },
          "yaxis": {
           "gridcolor": "#E5E5E5",
           "showgrid": true,
           "tickcolor": "#2D494C",
           "tickfont": {
            "color": "#2D494C",
            "family": "Lato",
            "size": 12
           },
           "ticklen": 5,
           "tickwidth": 1,
           "title": {
            "font": {
             "color": "#2D494C",
             "family": "Lato",
             "size": 16
            },
            "text": "<b>Y Axis Title</b>"
           }
          }
         }
        },
        "title": {
         "text": "Average CSAT Score vs. Churn Rate by Country",
         "x": 0.5
        },
        "xaxis": {
         "anchor": "y",
         "domain": [
          0,
          1
         ],
         "range": [
          2.4,
          3.64
         ],
         "showticklabels": true,
         "tickfont": {
          "color": "black",
          "family": "Lato",
          "size": 12
         },
         "title": {
          "text": "<b>Average CSAT Score</b>"
         }
        },
        "yaxis": {
         "anchor": "x",
         "domain": [
          0,
          1
         ],
         "range": [
          13.04,
          30.75
         ],
         "showticklabels": true,
         "tickfont": {
          "color": "black",
          "family": "Lato",
          "size": 12
         },
         "title": {
          "text": "<b>Churn Rate (%)</b>"
         }
        }
       }
      }
     },
     "metadata": {},
     "output_type": "display_data"
    }
   ],
   "source": [
    "fig5 = px.scatter(\n",
    "    country_analysis,\n",
    "    x='Average CSAT Score',\n",
    "    y='Churn Rate (%)',\n",
    "    size='Average Account Health Score',\n",
    "    color='Country',\n",
    "    title='Average CSAT Score vs. Churn Rate by Country',\n",
    "    labels={\n",
    "        'Average CSAT Score': 'Average CSAT Score',\n",
    "        'Churn Rate (%)': 'Churn Rate (%)'\n",
    "    },\n",
    "    color_discrete_sequence=country_highlight_colors,\n",
    "    hover_name='Country',\n",
    "    custom_data=['Total Customers', 'Churned Customers']\n",
    ")\n",
    "\n",
    "\n",
    "fig5.update_traces(\n",
    "    hovertemplate=(\n",
    "        '<b>Country:</b> %{hovertext}<br>'\n",
    "        '<b>Average CSAT Score:</b> %{x:.2f}<br>'\n",
    "        '<b>Churn Rate (%):</b> %{y:.2f}%<br>'\n",
    "        '<b>Average Account Health Score:</b> %{marker.size:.2f}<br>'\n",
    "        '<b>Total Customers:</b> %{customdata[0]}<br>'\n",
    "        '<b>Churned Customers:</b> %{customdata[1]}<extra></extra>'\n",
    "    )\n",
    ")\n",
    "\n",
    "fig5.update_layout(\n",
    "    title_x=0.5,\n",
    "    xaxis_title='<b>Average CSAT Score</b>',\n",
    "    yaxis_title='<b>Churn Rate (%)</b>',\n",
    "    legend_title='<b>Country</b>',\n",
    "    margin=dict(l=0, r=0, t=50, b=0)\n",
    ")\n",
    "\n",
    "fig5.update_xaxes(\n",
    "    showticklabels=True,\n",
    "    tickfont=dict(color='black', size=12, family=font_family),\n",
    "    range=[\n",
    "        country_analysis['Average CSAT Score'].min() - 0.5,\n",
    "        country_analysis['Average CSAT Score'].max() + 0.5\n",
    "    ]\n",
    ")\n",
    "fig5.update_yaxes(\n",
    "    showticklabels=True,\n",
    "    tickfont=dict(color='black', size=12, family=font_family),\n",
    "    range=[\n",
    "        country_analysis['Churn Rate (%)'].min() - 5,\n",
    "        country_analysis['Churn Rate (%)'].max() + 5\n",
    "    ]\n",
    ")\n",
    "\n",
    "fig5.show()"
   ]
  },
  {
   "cell_type": "markdown",
   "metadata": {},
   "source": [
    "#### Impact of contract length and renewal status"
   ]
  },
  {
   "cell_type": "markdown",
   "metadata": {},
   "source": [
    "##### Fig6: Churn rate by contract length"
   ]
  },
  {
   "cell_type": "code",
   "execution_count": 346,
   "metadata": {},
   "outputs": [],
   "source": [
    "# Total customers by contract length\n",
    "total_customers_contract = customer.groupby('contract_length_months')['customer_id'].nunique().reset_index()\n",
    "total_customers_contract.columns = ['Contract Length (Months)', 'Total Customers']"
   ]
  },
  {
   "cell_type": "code",
   "execution_count": 347,
   "metadata": {},
   "outputs": [],
   "source": [
    "# Churned customers by contract length\n",
    "churned_customers_contract = customer[customer['is_churned'] == 1].groupby('contract_length_months')['customer_id'].nunique().reset_index()\n",
    "churned_customers_contract.columns = ['Contract Length (Months)', 'Churned Customers']"
   ]
  },
  {
   "cell_type": "code",
   "execution_count": 348,
   "metadata": {},
   "outputs": [],
   "source": [
    "# Merge data\n",
    "contract_churn_data = pd.merge(total_customers_contract, churned_customers_contract, on='Contract Length (Months)', how='left')\n",
    "contract_churn_data['Churned Customers'] = contract_churn_data['Churned Customers'].fillna(0)"
   ]
  },
  {
   "cell_type": "code",
   "execution_count": 349,
   "metadata": {},
   "outputs": [],
   "source": [
    "# Churn rate in %\n",
    "contract_churn_data['Churn Rate (%)'] = (contract_churn_data['Churned Customers'] / contract_churn_data['Total Customers']) * 100\n",
    "contract_churn_data['Churn Rate (%)'] = contract_churn_data['Churn Rate (%)'].round(2)"
   ]
  },
  {
   "cell_type": "code",
   "execution_count": 350,
   "metadata": {},
   "outputs": [],
   "source": [
    "# Sort by contract length\n",
    "contract_churn_data = contract_churn_data.sort_values('Contract Length (Months)')"
   ]
  },
  {
   "cell_type": "code",
   "execution_count": 351,
   "metadata": {},
   "outputs": [
    {
     "name": "stdout",
     "output_type": "stream",
     "text": [
      "Churn Rate by Contract Length:\n"
     ]
    },
    {
     "data": {
      "text/html": [
       "<div>\n",
       "<style scoped>\n",
       "    .dataframe tbody tr th:only-of-type {\n",
       "        vertical-align: middle;\n",
       "    }\n",
       "\n",
       "    .dataframe tbody tr th {\n",
       "        vertical-align: top;\n",
       "    }\n",
       "\n",
       "    .dataframe thead th {\n",
       "        text-align: right;\n",
       "    }\n",
       "</style>\n",
       "<table border=\"1\" class=\"dataframe\">\n",
       "  <thead>\n",
       "    <tr style=\"text-align: right;\">\n",
       "      <th></th>\n",
       "      <th>Contract Length (Months)</th>\n",
       "      <th>Total Customers</th>\n",
       "      <th>Churned Customers</th>\n",
       "      <th>Churn Rate (%)</th>\n",
       "    </tr>\n",
       "  </thead>\n",
       "  <tbody>\n",
       "    <tr>\n",
       "      <th>0</th>\n",
       "      <td>12</td>\n",
       "      <td>993</td>\n",
       "      <td>200</td>\n",
       "      <td>20.14</td>\n",
       "    </tr>\n",
       "    <tr>\n",
       "      <th>1</th>\n",
       "      <td>24</td>\n",
       "      <td>994</td>\n",
       "      <td>220</td>\n",
       "      <td>22.13</td>\n",
       "    </tr>\n",
       "    <tr>\n",
       "      <th>2</th>\n",
       "      <td>36</td>\n",
       "      <td>1013</td>\n",
       "      <td>199</td>\n",
       "      <td>19.64</td>\n",
       "    </tr>\n",
       "  </tbody>\n",
       "</table>\n",
       "</div>"
      ],
      "text/plain": [
       "   Contract Length (Months)  Total Customers  Churned Customers  \\\n",
       "0                        12              993                200   \n",
       "1                        24              994                220   \n",
       "2                        36             1013                199   \n",
       "\n",
       "   Churn Rate (%)  \n",
       "0           20.14  \n",
       "1           22.13  \n",
       "2           19.64  "
      ]
     },
     "metadata": {},
     "output_type": "display_data"
    }
   ],
   "source": [
    "print(\"Churn Rate by Contract Length:\")\n",
    "display(contract_churn_data)"
   ]
  },
  {
   "cell_type": "code",
   "execution_count": 352,
   "metadata": {},
   "outputs": [
    {
     "data": {
      "application/vnd.plotly.v1+json": {
       "config": {
        "plotlyServerURL": "https://plot.ly"
       },
       "data": [
        {
         "alignmentgroup": "True",
         "customdata": [
          [
           993,
           200
          ],
          [
           994,
           220
          ],
          [
           1013,
           199
          ]
         ],
         "hovertemplate": "<b>Contract Length (Months):</b> %{x}<br><b>Churn Rate (%):</b> %{y:.2f}%<br><b>Total Customers:</b> %{customdata[0]}<br><b>Churned Customers:</b> %{customdata[1]}<extra></extra>",
         "legendgroup": "",
         "marker": {
          "color": [
           12,
           24,
           36
          ],
          "coloraxis": "coloraxis",
          "pattern": {
           "shape": ""
          }
         },
         "name": "",
         "offsetgroup": "",
         "orientation": "v",
         "showlegend": false,
         "text": [
          20.14,
          22.13,
          19.64
         ],
         "textposition": "outside",
         "type": "bar",
         "x": [
          12,
          24,
          36
         ],
         "xaxis": "x",
         "y": [
          20.14,
          22.13,
          19.64
         ],
         "yaxis": "y"
        }
       ],
       "layout": {
        "barmode": "relative",
        "coloraxis": {
         "colorbar": {
          "title": {
           "text": "Contract Length (Months)"
          }
         },
         "colorscale": [
          [
           0,
           "#440154"
          ],
          [
           0.1111111111111111,
           "#482878"
          ],
          [
           0.2222222222222222,
           "#3e4989"
          ],
          [
           0.3333333333333333,
           "#31688e"
          ],
          [
           0.4444444444444444,
           "#26828e"
          ],
          [
           0.5555555555555556,
           "#1f9e89"
          ],
          [
           0.6666666666666666,
           "#35b779"
          ],
          [
           0.7777777777777778,
           "#6ece58"
          ],
          [
           0.8888888888888888,
           "#b5de2b"
          ],
          [
           1,
           "#fde725"
          ]
         ]
        },
        "height": 700,
        "legend": {
         "title": {
          "text": "<b>Contract Length (Months)</b>"
         },
         "tracegroupgap": 0
        },
        "showlegend": false,
        "template": {
         "layout": {
          "font": {
           "color": "#2D494C",
           "family": "Lato",
           "size": 14
          },
          "hoverlabel": {
           "bgcolor": "#E5F2F2",
           "bordercolor": "#2D494C",
           "font": {
            "color": "#2D494C",
            "family": "Lato",
            "size": 14
           }
          },
          "legend": {
           "font": {
            "color": "#3A585B",
            "family": "Lato",
            "size": 12
           },
           "title": {
            "font": {
             "color": "#2D494C",
             "family": "Lato",
             "size": 16
            },
            "text": "<b>Legend Title</b>"
           }
          },
          "paper_bgcolor": "white",
          "plot_bgcolor": "white",
          "title": {
           "font": {
            "color": "#2D494C",
            "size": 24
           },
           "text": "<b>Your Chart Title</b>",
           "x": 0.5
          },
          "xaxis": {
           "gridcolor": "#E5E5E5",
           "showgrid": true,
           "tickcolor": "#2D494C",
           "tickfont": {
            "color": "#2D494C",
            "family": "Lato",
            "size": 12
           },
           "ticklen": 5,
           "tickwidth": 1,
           "title": {
            "font": {
             "color": "#2D494C",
             "family": "Lato",
             "size": 16
            },
            "text": "<b>X Axis Title</b>"
           }
          },
          "yaxis": {
           "gridcolor": "#E5E5E5",
           "showgrid": true,
           "tickcolor": "#2D494C",
           "tickfont": {
            "color": "#2D494C",
            "family": "Lato",
            "size": 12
           },
           "ticklen": 5,
           "tickwidth": 1,
           "title": {
            "font": {
             "color": "#2D494C",
             "family": "Lato",
             "size": 16
            },
            "text": "<b>Y Axis Title</b>"
           }
          }
         }
        },
        "title": {
         "text": "Churn Rate by Contract Length"
        },
        "xaxis": {
         "anchor": "y",
         "domain": [
          0,
          1
         ],
         "title": {
          "text": "<b>Contract Length (Months)</b>"
         }
        },
        "yaxis": {
         "anchor": "x",
         "domain": [
          0,
          1
         ],
         "title": {
          "text": "<b>Churn Rate (%)</b>"
         }
        }
       }
      }
     },
     "metadata": {},
     "output_type": "display_data"
    }
   ],
   "source": [
    "fig6 = px.bar(\n",
    "    contract_churn_data,\n",
    "    x='Contract Length (Months)',\n",
    "    y='Churn Rate (%)',\n",
    "    title='Churn Rate by Contract Length',\n",
    "    labels={'Churn Rate (%)': 'Churn Rate (%)'},\n",
    "    text='Churn Rate (%)',\n",
    "    color='Contract Length (Months)',\n",
    "    color_discrete_sequence=custom_colors\n",
    ")\n",
    "\n",
    "fig6.update_traces(\n",
    "    textposition='outside',\n",
    "    hovertemplate='<b>Contract Length (Months):</b> %{x}<br>' +\n",
    "                  '<b>Churn Rate (%):</b> %{y:.2f}%<br>' +\n",
    "                  '<b>Total Customers:</b> %{customdata[0]}<br>' +\n",
    "                  '<b>Churned Customers:</b> %{customdata[1]}<extra></extra>',\n",
    "    customdata=contract_churn_data[['Total Customers', 'Churned Customers']].values\n",
    ")\n",
    "\n",
    "fig6.update_layout(\n",
    "    xaxis_title='<b>Contract Length (Months)</b>',\n",
    "    yaxis_title='<b>Churn Rate (%)</b>',\n",
    "    legend_title='<b>Contract Length (Months)</b>',\n",
    "    height=700,\n",
    "    showlegend=False  # Hide legend if not necessary\n",
    ")\n",
    "\n",
    "fig6.show()\n"
   ]
  },
  {
   "cell_type": "markdown",
   "metadata": {},
   "source": [
    "##### Churn rate by renewal status"
   ]
  },
  {
   "cell_type": "code",
   "execution_count": 353,
   "metadata": {},
   "outputs": [],
   "source": [
    "# Total customers by renewal status\n",
    "total_customers_renewal = customer.groupby('renewal_status')['customer_id'].nunique().reset_index()\n",
    "total_customers_renewal.columns = ['Renewal Status', 'Total Customers']"
   ]
  },
  {
   "cell_type": "code",
   "execution_count": 354,
   "metadata": {},
   "outputs": [],
   "source": [
    "# Churned customers by renewal status\n",
    "churned_customers_renewal = customer[customer['is_churned'] == 1].groupby('renewal_status')['customer_id'].nunique().reset_index()\n",
    "churned_customers_renewal.columns = ['Renewal Status', 'Churned Customers']"
   ]
  },
  {
   "cell_type": "code",
   "execution_count": 355,
   "metadata": {},
   "outputs": [],
   "source": [
    "# Merge data\n",
    "renewal_churn_data = pd.merge(total_customers_renewal, churned_customers_renewal, on='Renewal Status', how='left')\n",
    "renewal_churn_data['Churned Customers'] = renewal_churn_data['Churned Customers'].fillna(0)"
   ]
  },
  {
   "cell_type": "code",
   "execution_count": 356,
   "metadata": {},
   "outputs": [],
   "source": [
    "# Churn rate in %\n",
    "renewal_churn_data['Churn Rate (%)'] = (renewal_churn_data['Churned Customers'] / renewal_churn_data['Total Customers']) * 100\n",
    "renewal_churn_data['Churn Rate (%)'] = renewal_churn_data['Churn Rate (%)'].round(2)"
   ]
  },
  {
   "cell_type": "code",
   "execution_count": 357,
   "metadata": {},
   "outputs": [
    {
     "name": "stdout",
     "output_type": "stream",
     "text": [
      "Churn Rate by Renewal Status:\n"
     ]
    },
    {
     "data": {
      "text/html": [
       "<div>\n",
       "<style scoped>\n",
       "    .dataframe tbody tr th:only-of-type {\n",
       "        vertical-align: middle;\n",
       "    }\n",
       "\n",
       "    .dataframe tbody tr th {\n",
       "        vertical-align: top;\n",
       "    }\n",
       "\n",
       "    .dataframe thead th {\n",
       "        text-align: right;\n",
       "    }\n",
       "</style>\n",
       "<table border=\"1\" class=\"dataframe\">\n",
       "  <thead>\n",
       "    <tr style=\"text-align: right;\">\n",
       "      <th></th>\n",
       "      <th>Renewal Status</th>\n",
       "      <th>Total Customers</th>\n",
       "      <th>Churned Customers</th>\n",
       "      <th>Churn Rate (%)</th>\n",
       "    </tr>\n",
       "  </thead>\n",
       "  <tbody>\n",
       "    <tr>\n",
       "      <th>0</th>\n",
       "      <td>churned</td>\n",
       "      <td>619</td>\n",
       "      <td>619.0</td>\n",
       "      <td>100.0</td>\n",
       "    </tr>\n",
       "    <tr>\n",
       "      <th>1</th>\n",
       "      <td>renewed</td>\n",
       "      <td>2381</td>\n",
       "      <td>0.0</td>\n",
       "      <td>0.0</td>\n",
       "    </tr>\n",
       "  </tbody>\n",
       "</table>\n",
       "</div>"
      ],
      "text/plain": [
       "  Renewal Status  Total Customers  Churned Customers  Churn Rate (%)\n",
       "0        churned              619              619.0           100.0\n",
       "1        renewed             2381                0.0             0.0"
      ]
     },
     "metadata": {},
     "output_type": "display_data"
    }
   ],
   "source": [
    "print(\"Churn Rate by Renewal Status:\")\n",
    "display(renewal_churn_data)"
   ]
  },
  {
   "cell_type": "markdown",
   "metadata": {},
   "source": [
    "#### Other metrics"
   ]
  },
  {
   "cell_type": "markdown",
   "metadata": {},
   "source": [
    "##### Fig7: Churn rate by customer segment and industry"
   ]
  },
  {
   "cell_type": "code",
   "execution_count": 358,
   "metadata": {},
   "outputs": [
    {
     "name": "stderr",
     "output_type": "stream",
     "text": [
      "/var/folders/wc/j84xw3lj0zb22w4z1xdhh17m0000gn/T/ipykernel_94111/3234310995.py:1: DeprecationWarning:\n",
      "\n",
      "DataFrameGroupBy.apply operated on the grouping columns. This behavior is deprecated, and in a future version of pandas the grouping columns will be excluded from the operation. Either pass `include_groups=False` to exclude the groupings or explicitly select the grouping columns after groupby to silence this warning.\n",
      "\n"
     ]
    }
   ],
   "source": [
    "combined_churn = customer.groupby(['industry', 'customer_segment']).apply(\n",
    "    lambda x: x[x['is_churned'] == 1]['customer_id'].nunique() / x['customer_id'].nunique() * 100\n",
    ").reset_index()\n",
    "combined_churn.columns = ['Industry', 'Customer Segment', 'Churn Rate (%)']\n",
    "combined_churn['Churn Rate (%)'] = combined_churn['Churn Rate (%)'].round(2)"
   ]
  },
  {
   "cell_type": "code",
   "execution_count": 359,
   "metadata": {},
   "outputs": [
    {
     "data": {
      "application/vnd.plotly.v1+json": {
       "config": {
        "plotlyServerURL": "https://plot.ly"
       },
       "data": [
        {
         "alignmentgroup": "True",
         "customdata": [
          [
           "enterprise"
          ],
          [
           "enterprise"
          ],
          [
           "enterprise"
          ]
         ],
         "hoverinfo": "skip",
         "legendgroup": "enterprise",
         "marker": {
          "color": "#E2F0E6",
          "pattern": {
           "shape": ""
          }
         },
         "name": "enterprise",
         "offsetgroup": "enterprise",
         "orientation": "v",
         "showlegend": true,
         "text": [
          22.77,
          15.12,
          21.5
         ],
         "textposition": "outside",
         "type": "bar",
         "x": [
          "finance",
          "retail",
          "technology"
         ],
         "xaxis": "x",
         "y": [
          22.77,
          15.12,
          21.5
         ],
         "yaxis": "y"
        },
        {
         "alignmentgroup": "True",
         "customdata": [
          [
           "mid-market"
          ],
          [
           "mid-market"
          ],
          [
           "mid-market"
          ]
         ],
         "hoverinfo": "skip",
         "legendgroup": "mid-market",
         "marker": {
          "color": "#B7E0B1",
          "pattern": {
           "shape": ""
          }
         },
         "name": "mid-market",
         "offsetgroup": "mid-market",
         "orientation": "v",
         "showlegend": true,
         "text": [
          21.77,
          20.4,
          18.42
         ],
         "textposition": "outside",
         "type": "bar",
         "x": [
          "finance",
          "retail",
          "technology"
         ],
         "xaxis": "x",
         "y": [
          21.77,
          20.4,
          18.42
         ],
         "yaxis": "y"
        },
        {
         "alignmentgroup": "True",
         "customdata": [
          [
           "small business"
          ],
          [
           "small business"
          ],
          [
           "small business"
          ]
         ],
         "hoverinfo": "skip",
         "legendgroup": "small business",
         "marker": {
          "color": "#8CCB8C",
          "pattern": {
           "shape": ""
          }
         },
         "name": "small business",
         "offsetgroup": "small business",
         "orientation": "v",
         "showlegend": true,
         "text": [
          22.44,
          20.55,
          19.93
         ],
         "textposition": "outside",
         "type": "bar",
         "x": [
          "finance",
          "retail",
          "technology"
         ],
         "xaxis": "x",
         "y": [
          22.44,
          20.55,
          19.93
         ],
         "yaxis": "y"
        }
       ],
       "layout": {
        "barmode": "group",
        "height": 500,
        "legend": {
         "title": {
          "text": "<b>Customer Segment</b>"
         },
         "tracegroupgap": 0
        },
        "template": {
         "layout": {
          "font": {
           "color": "#2D494C",
           "family": "Lato",
           "size": 14
          },
          "hoverlabel": {
           "bgcolor": "#E5F2F2",
           "bordercolor": "#2D494C",
           "font": {
            "color": "#2D494C",
            "family": "Lato",
            "size": 14
           }
          },
          "legend": {
           "font": {
            "color": "#3A585B",
            "family": "Lato",
            "size": 12
           },
           "title": {
            "font": {
             "color": "#2D494C",
             "family": "Lato",
             "size": 16
            },
            "text": "<b>Legend Title</b>"
           }
          },
          "paper_bgcolor": "white",
          "plot_bgcolor": "white",
          "title": {
           "font": {
            "color": "#2D494C",
            "size": 24
           },
           "text": "<b>Your Chart Title</b>",
           "x": 0.5
          },
          "xaxis": {
           "gridcolor": "#E5E5E5",
           "showgrid": true,
           "tickcolor": "#2D494C",
           "tickfont": {
            "color": "#2D494C",
            "family": "Lato",
            "size": 12
           },
           "ticklen": 5,
           "tickwidth": 1,
           "title": {
            "font": {
             "color": "#2D494C",
             "family": "Lato",
             "size": 16
            },
            "text": "<b>X Axis Title</b>"
           }
          },
          "yaxis": {
           "gridcolor": "#E5E5E5",
           "showgrid": true,
           "tickcolor": "#2D494C",
           "tickfont": {
            "color": "#2D494C",
            "family": "Lato",
            "size": 12
           },
           "ticklen": 5,
           "tickwidth": 1,
           "title": {
            "font": {
             "color": "#2D494C",
             "family": "Lato",
             "size": 16
            },
            "text": "<b>Y Axis Title</b>"
           }
          }
         }
        },
        "title": {
         "text": "Churn Rate by Industry and Customer Segment"
        },
        "xaxis": {
         "anchor": "y",
         "domain": [
          0,
          1
         ],
         "title": {
          "text": "<b>Industry</b>"
         }
        },
        "yaxis": {
         "anchor": "x",
         "domain": [
          0,
          1
         ],
         "title": {
          "text": "<b>Churn Rate (%)</b>"
         }
        }
       }
      }
     },
     "metadata": {},
     "output_type": "display_data"
    }
   ],
   "source": [
    "fig7 = px.bar(\n",
    "    combined_churn,\n",
    "    x='Industry',\n",
    "    y='Churn Rate (%)',\n",
    "    color='Customer Segment',\n",
    "    barmode='group',\n",
    "    title='Churn Rate by Industry and Customer Segment',\n",
    "    labels={'Churn Rate (%)': 'Churn Rate (%)'},\n",
    "    text='Churn Rate (%)',\n",
    "    color_discrete_sequence=custom_colors2,\n",
    "    custom_data=['Customer Segment']  # Pass 'Customer Segment' as custom data\n",
    ")\n",
    "\n",
    "fig7.update_traces(\n",
    "    textposition='outside',\n",
    "    hoverinfo='skip', \n",
    "    hovertemplate=None\n",
    ")\n",
    "\n",
    "fig7.update_layout(\n",
    "    xaxis_title='<b>Industry</b>',\n",
    "    yaxis_title='<b>Churn Rate (%)</b>',\n",
    "    legend_title='<b>Customer Segment</b>',\n",
    "    height=500\n",
    ")\n",
    "fig7.show()"
   ]
  },
  {
   "cell_type": "markdown",
   "metadata": {},
   "source": [
    "##### Fig8: Monthly churn rate over time"
   ]
  },
  {
   "cell_type": "code",
   "execution_count": 360,
   "metadata": {},
   "outputs": [],
   "source": [
    "customer['signup_date'] = pd.to_datetime(customer['signup_date'])\n",
    "customer['churn_date'] = pd.to_datetime(customer['churn_date'])"
   ]
  },
  {
   "cell_type": "code",
   "execution_count": 361,
   "metadata": {},
   "outputs": [],
   "source": [
    "# Extract month and year for analysis\n",
    "customer['signup_month'] = customer['signup_date'].dt.to_period('M')\n",
    "customer['churn_month'] = customer['churn_date'].dt.to_period('M')"
   ]
  },
  {
   "cell_type": "code",
   "execution_count": 362,
   "metadata": {},
   "outputs": [],
   "source": [
    "# Cumulative total customers per month\n",
    "monthly_total_customers = customer.groupby('signup_month')['customer_id'].nunique().cumsum().reset_index()\n",
    "monthly_total_customers.columns = ['Month', 'Cumulative Customers']"
   ]
  },
  {
   "cell_type": "code",
   "execution_count": 363,
   "metadata": {},
   "outputs": [],
   "source": [
    "# Churned customers per month\n",
    "monthly_churned_customers = customer[customer['is_churned'] == 1].groupby('churn_month')['customer_id'].nunique().reset_index()\n",
    "monthly_churned_customers.columns = ['Month', 'Churned Customers']"
   ]
  },
  {
   "cell_type": "code",
   "execution_count": 364,
   "metadata": {},
   "outputs": [],
   "source": [
    "# Merge data\n",
    "monthly_churn_data = pd.merge(\n",
    "    monthly_total_customers,\n",
    "    monthly_churned_customers,\n",
    "    on='Month',\n",
    "    how='left'\n",
    ")\n",
    "monthly_churn_data['Churned Customers'] = monthly_churn_data['Churned Customers'].fillna(0)"
   ]
  },
  {
   "cell_type": "code",
   "execution_count": 365,
   "metadata": {},
   "outputs": [],
   "source": [
    "# Churn rate in %\n",
    "monthly_churn_data['Churn Rate (%)'] = (monthly_churn_data['Churned Customers'] / monthly_churn_data['Cumulative Customers']) * 100\n",
    "monthly_churn_data['Churn Rate (%)'] = monthly_churn_data['Churn Rate (%)'].round(2)"
   ]
  },
  {
   "cell_type": "code",
   "execution_count": 366,
   "metadata": {},
   "outputs": [],
   "source": [
    "monthly_churn_data['Month'] = monthly_churn_data['Month'].dt.to_timestamp()"
   ]
  },
  {
   "cell_type": "code",
   "execution_count": 367,
   "metadata": {},
   "outputs": [
    {
     "data": {
      "application/vnd.plotly.v1+json": {
       "config": {
        "plotlyServerURL": "https://plot.ly"
       },
       "data": [
        {
         "customdata": [
          [
           63,
           0
          ],
          [
           110,
           0
          ],
          [
           174,
           0
          ],
          [
           240,
           1
          ],
          [
           304,
           2
          ],
          [
           371,
           0
          ],
          [
           433,
           4
          ],
          [
           506,
           5
          ],
          [
           575,
           0
          ],
          [
           629,
           6
          ],
          [
           690,
           10
          ],
          [
           742,
           4
          ],
          [
           803,
           6
          ],
          [
           855,
           11
          ],
          [
           917,
           6
          ],
          [
           992,
           10
          ],
          [
           1056,
           7
          ],
          [
           1124,
           11
          ],
          [
           1183,
           7
          ],
          [
           1244,
           8
          ],
          [
           1311,
           13
          ],
          [
           1381,
           6
          ],
          [
           1438,
           10
          ],
          [
           1487,
           5
          ],
          [
           1551,
           15
          ],
          [
           1621,
           16
          ],
          [
           1686,
           11
          ],
          [
           1748,
           8
          ],
          [
           1810,
           17
          ],
          [
           1878,
           9
          ],
          [
           1945,
           15
          ],
          [
           2018,
           12
          ],
          [
           2071,
           11
          ],
          [
           2131,
           12
          ],
          [
           2188,
           19
          ],
          [
           2254,
           11
          ],
          [
           2313,
           20
          ],
          [
           2363,
           10
          ],
          [
           2427,
           13
          ],
          [
           2483,
           16
          ],
          [
           2534,
           16
          ],
          [
           2574,
           11
          ],
          [
           2613,
           16
          ],
          [
           2667,
           5
          ],
          [
           2704,
           12
          ],
          [
           2735,
           13
          ],
          [
           2764,
           11
          ],
          [
           2795,
           9
          ],
          [
           2829,
           10
          ],
          [
           2851,
           9
          ],
          [
           2869,
           6
          ],
          [
           2896,
           12
          ],
          [
           2910,
           14
          ],
          [
           2919,
           15
          ],
          [
           2934,
           9
          ],
          [
           2943,
           11
          ],
          [
           2953,
           3
          ],
          [
           2961,
           9
          ],
          [
           2966,
           7
          ],
          [
           2969,
           12
          ],
          [
           2972,
           7
          ],
          [
           2975,
           3
          ],
          [
           2976,
           4
          ],
          [
           2981,
           3
          ],
          [
           2986,
           3
          ],
          [
           2990,
           4
          ],
          [
           2994,
           4
          ],
          [
           2995,
           5
          ],
          [
           2996,
           4
          ],
          [
           2998,
           2
          ],
          [
           2999,
           2
          ],
          [
           3000,
           5
          ]
         ],
         "hovertemplate": "<b>Month:</b> %{x|%b %Y}<br><b>Churn Rate (%):</b> %{y:.2f}%<br><b>Cumulative Customers:</b> %{customdata[0]}<br><b>Churned Customers:</b> %{customdata[1]}<extra></extra>",
         "legendgroup": "",
         "line": {
          "color": "#6A8B8C",
          "dash": "solid"
         },
         "marker": {
          "symbol": "circle"
         },
         "mode": "lines+markers",
         "name": "",
         "orientation": "v",
         "showlegend": false,
         "type": "scatter",
         "x": [
          "2021-10-01T00:00:00",
          "2021-11-01T00:00:00",
          "2021-12-01T00:00:00",
          "2022-01-01T00:00:00",
          "2022-02-01T00:00:00",
          "2022-03-01T00:00:00",
          "2022-04-01T00:00:00",
          "2022-05-01T00:00:00",
          "2022-06-01T00:00:00",
          "2022-07-01T00:00:00",
          "2022-08-01T00:00:00",
          "2022-09-01T00:00:00",
          "2022-10-01T00:00:00",
          "2022-11-01T00:00:00",
          "2022-12-01T00:00:00",
          "2023-01-01T00:00:00",
          "2023-02-01T00:00:00",
          "2023-03-01T00:00:00",
          "2023-04-01T00:00:00",
          "2023-05-01T00:00:00",
          "2023-06-01T00:00:00",
          "2023-07-01T00:00:00",
          "2023-08-01T00:00:00",
          "2023-09-01T00:00:00",
          "2023-10-01T00:00:00",
          "2023-11-01T00:00:00",
          "2023-12-01T00:00:00",
          "2024-01-01T00:00:00",
          "2024-02-01T00:00:00",
          "2024-03-01T00:00:00",
          "2024-04-01T00:00:00",
          "2024-05-01T00:00:00",
          "2024-06-01T00:00:00",
          "2024-07-01T00:00:00",
          "2024-08-01T00:00:00",
          "2024-09-01T00:00:00",
          "2024-10-01T00:00:00",
          "2024-11-01T00:00:00",
          "2024-12-01T00:00:00",
          "2025-01-01T00:00:00",
          "2025-02-01T00:00:00",
          "2025-03-01T00:00:00",
          "2025-04-01T00:00:00",
          "2025-05-01T00:00:00",
          "2025-06-01T00:00:00",
          "2025-07-01T00:00:00",
          "2025-08-01T00:00:00",
          "2025-09-01T00:00:00",
          "2025-10-01T00:00:00",
          "2025-11-01T00:00:00",
          "2025-12-01T00:00:00",
          "2026-01-01T00:00:00",
          "2026-02-01T00:00:00",
          "2026-03-01T00:00:00",
          "2026-04-01T00:00:00",
          "2026-05-01T00:00:00",
          "2026-06-01T00:00:00",
          "2026-07-01T00:00:00",
          "2026-08-01T00:00:00",
          "2026-09-01T00:00:00",
          "2026-10-01T00:00:00",
          "2026-11-01T00:00:00",
          "2026-12-01T00:00:00",
          "2027-01-01T00:00:00",
          "2027-02-01T00:00:00",
          "2027-03-01T00:00:00",
          "2027-04-01T00:00:00",
          "2027-05-01T00:00:00",
          "2027-06-01T00:00:00",
          "2027-07-01T00:00:00",
          "2027-08-01T00:00:00",
          "2028-01-01T00:00:00"
         ],
         "xaxis": "x",
         "y": [
          0,
          0,
          0,
          0.42,
          0.66,
          0,
          0.92,
          0.99,
          0,
          0.95,
          1.45,
          0.54,
          0.75,
          1.29,
          0.65,
          1.01,
          0.66,
          0.98,
          0.59,
          0.64,
          0.99,
          0.43,
          0.7,
          0.34,
          0.97,
          0.99,
          0.65,
          0.46,
          0.94,
          0.48,
          0.77,
          0.59,
          0.53,
          0.56,
          0.87,
          0.49,
          0.86,
          0.42,
          0.54,
          0.64,
          0.63,
          0.43,
          0.61,
          0.19,
          0.44,
          0.48,
          0.4,
          0.32,
          0.35,
          0.32,
          0.21,
          0.41,
          0.48,
          0.51,
          0.31,
          0.37,
          0.1,
          0.3,
          0.24,
          0.4,
          0.24,
          0.1,
          0.13,
          0.1,
          0.1,
          0.13,
          0.13,
          0.17,
          0.13,
          0.07,
          0.07,
          0.17
         ],
         "yaxis": "y"
        }
       ],
       "layout": {
        "legend": {
         "tracegroupgap": 0
        },
        "template": {
         "layout": {
          "font": {
           "color": "#2D494C",
           "family": "Lato",
           "size": 14
          },
          "hoverlabel": {
           "bgcolor": "#E5F2F2",
           "bordercolor": "#2D494C",
           "font": {
            "color": "#2D494C",
            "family": "Lato",
            "size": 14
           }
          },
          "legend": {
           "font": {
            "color": "#3A585B",
            "family": "Lato",
            "size": 12
           },
           "title": {
            "font": {
             "color": "#2D494C",
             "family": "Lato",
             "size": 16
            },
            "text": "<b>Legend Title</b>"
           }
          },
          "paper_bgcolor": "white",
          "plot_bgcolor": "white",
          "title": {
           "font": {
            "color": "#2D494C",
            "size": 24
           },
           "text": "<b>Your Chart Title</b>",
           "x": 0.5
          },
          "xaxis": {
           "gridcolor": "#E5E5E5",
           "showgrid": true,
           "tickcolor": "#2D494C",
           "tickfont": {
            "color": "#2D494C",
            "family": "Lato",
            "size": 12
           },
           "ticklen": 5,
           "tickwidth": 1,
           "title": {
            "font": {
             "color": "#2D494C",
             "family": "Lato",
             "size": 16
            },
            "text": "<b>X Axis Title</b>"
           }
          },
          "yaxis": {
           "gridcolor": "#E5E5E5",
           "showgrid": true,
           "tickcolor": "#2D494C",
           "tickfont": {
            "color": "#2D494C",
            "family": "Lato",
            "size": 12
           },
           "ticklen": 5,
           "tickwidth": 1,
           "title": {
            "font": {
             "color": "#2D494C",
             "family": "Lato",
             "size": 16
            },
            "text": "<b>Y Axis Title</b>"
           }
          }
         }
        },
        "title": {
         "text": "Monthly Churn Rate Over Time"
        },
        "xaxis": {
         "anchor": "y",
         "domain": [
          0,
          1
         ],
         "title": {
          "text": "<b>Month</b>"
         }
        },
        "yaxis": {
         "anchor": "x",
         "domain": [
          0,
          1
         ],
         "title": {
          "text": "<b>Churn Rate (%)</b>"
         }
        }
       }
      }
     },
     "metadata": {},
     "output_type": "display_data"
    }
   ],
   "source": [
    "fig8 = px.line(\n",
    "    monthly_churn_data,\n",
    "    x='Month',\n",
    "    y='Churn Rate (%)',\n",
    "    title='Monthly Churn Rate Over Time',\n",
    "    labels={'Month': 'Month', 'Churn Rate (%)': 'Churn Rate (%)'},\n",
    "    markers=True,\n",
    "    color_discrete_sequence=custom_colors4\n",
    ")\n",
    "\n",
    "fig8.update_traces(\n",
    "    hovertemplate='<b>Month:</b> %{x|%b %Y}<br>' +\n",
    "                  '<b>Churn Rate (%):</b> %{y:.2f}%<br>' +\n",
    "                  '<b>Cumulative Customers:</b> %{customdata[0]}<br>' +\n",
    "                  '<b>Churned Customers:</b> %{customdata[1]}<extra></extra>',\n",
    "    customdata=monthly_churn_data[['Cumulative Customers', 'Churned Customers']].values\n",
    ")\n",
    "\n",
    "fig8.update_layout(\n",
    "    xaxis_title='<b>Month</b>',\n",
    "    yaxis_title='<b>Churn Rate (%)</b>'\n",
    ")\n",
    "\n",
    "fig8.show()"
   ]
  },
  {
   "cell_type": "markdown",
   "metadata": {},
   "source": [
    "#### Feature adoption & retention"
   ]
  },
  {
   "cell_type": "markdown",
   "metadata": {},
   "source": [
    "##### Fig9: Feature adoption rate vs. CSAT"
   ]
  },
  {
   "cell_type": "code",
   "execution_count": 368,
   "metadata": {},
   "outputs": [],
   "source": [
    "feature_data = customer[['customer_id', 'feature_adoption_rate', 'csat_score', 'is_churned']]"
   ]
  },
  {
   "cell_type": "code",
   "execution_count": 369,
   "metadata": {},
   "outputs": [],
   "source": [
    "# Correlation between feature adoption rate and CSAT score\n",
    "correlation_adoption_csat, p_value_adoption_csat = stats.pearsonr(feature_data['feature_adoption_rate'], feature_data['csat_score'])"
   ]
  },
  {
   "cell_type": "code",
   "execution_count": 370,
   "metadata": {},
   "outputs": [
    {
     "name": "stdout",
     "output_type": "stream",
     "text": [
      "Correlation between Feature Adoption Rate and CSAT Score: 0.01 (p-value: 0.7643)\n"
     ]
    }
   ],
   "source": [
    "print(f\"Correlation between Feature Adoption Rate and CSAT Score: {correlation_adoption_csat:.2f} (p-value: {p_value_adoption_csat:.4f})\")"
   ]
  },
  {
   "cell_type": "code",
   "execution_count": 371,
   "metadata": {},
   "outputs": [],
   "source": [
    "# Average feature adoption rate for churned vs. retained customers\n",
    "average_adoption_churn = feature_data.groupby('is_churned')['feature_adoption_rate'].mean().reset_index()\n",
    "average_adoption_churn['Churn Status'] = average_adoption_churn['is_churned'].map({0: 'Retained', 1: 'Churned'})\n",
    "average_adoption_churn.rename(columns={'feature_adoption_rate': 'Average Feature Adoption Rate'}, inplace=True)"
   ]
  },
  {
   "cell_type": "code",
   "execution_count": 372,
   "metadata": {},
   "outputs": [
    {
     "data": {
      "application/vnd.plotly.v1+json": {
       "config": {
        "plotlyServerURL": "https://plot.ly"
       },
       "data": [
        {
         "customdata": [
          [
           1
          ],
          [
           2
          ],
          [
           3
          ],
          [
           4
          ],
          [
           5
          ],
          [
           6
          ],
          [
           7
          ],
          [
           8
          ],
          [
           9
          ],
          [
           10
          ],
          [
           11
          ],
          [
           12
          ],
          [
           13
          ],
          [
           14
          ],
          [
           15
          ],
          [
           16
          ],
          [
           17
          ],
          [
           18
          ],
          [
           19
          ],
          [
           20
          ],
          [
           21
          ],
          [
           22
          ],
          [
           23
          ],
          [
           24
          ],
          [
           25
          ],
          [
           26
          ],
          [
           27
          ],
          [
           28
          ],
          [
           29
          ],
          [
           30
          ],
          [
           31
          ],
          [
           32
          ],
          [
           33
          ],
          [
           34
          ],
          [
           35
          ],
          [
           36
          ],
          [
           37
          ],
          [
           38
          ],
          [
           39
          ],
          [
           40
          ],
          [
           41
          ],
          [
           42
          ],
          [
           43
          ],
          [
           44
          ],
          [
           45
          ],
          [
           46
          ],
          [
           47
          ],
          [
           48
          ],
          [
           49
          ],
          [
           50
          ],
          [
           51
          ],
          [
           52
          ],
          [
           53
          ],
          [
           54
          ],
          [
           55
          ],
          [
           56
          ],
          [
           57
          ],
          [
           58
          ],
          [
           59
          ],
          [
           60
          ],
          [
           61
          ],
          [
           62
          ],
          [
           63
          ],
          [
           64
          ],
          [
           65
          ],
          [
           66
          ],
          [
           67
          ],
          [
           68
          ],
          [
           69
          ],
          [
           70
          ],
          [
           71
          ],
          [
           72
          ],
          [
           73
          ],
          [
           74
          ],
          [
           75
          ],
          [
           76
          ],
          [
           77
          ],
          [
           78
          ],
          [
           79
          ],
          [
           80
          ],
          [
           81
          ],
          [
           82
          ],
          [
           83
          ],
          [
           84
          ],
          [
           85
          ],
          [
           86
          ],
          [
           87
          ],
          [
           88
          ],
          [
           89
          ],
          [
           90
          ],
          [
           91
          ],
          [
           92
          ],
          [
           93
          ],
          [
           94
          ],
          [
           95
          ],
          [
           96
          ],
          [
           97
          ],
          [
           98
          ],
          [
           99
          ],
          [
           100
          ],
          [
           101
          ],
          [
           102
          ],
          [
           103
          ],
          [
           104
          ],
          [
           105
          ],
          [
           106
          ],
          [
           107
          ],
          [
           108
          ],
          [
           109
          ],
          [
           110
          ],
          [
           111
          ],
          [
           112
          ],
          [
           113
          ],
          [
           114
          ],
          [
           115
          ],
          [
           116
          ],
          [
           117
          ],
          [
           118
          ],
          [
           119
          ],
          [
           120
          ],
          [
           121
          ],
          [
           122
          ],
          [
           123
          ],
          [
           124
          ],
          [
           125
          ],
          [
           126
          ],
          [
           127
          ],
          [
           128
          ],
          [
           129
          ],
          [
           130
          ],
          [
           131
          ],
          [
           132
          ],
          [
           133
          ],
          [
           134
          ],
          [
           135
          ],
          [
           136
          ],
          [
           137
          ],
          [
           138
          ],
          [
           139
          ],
          [
           140
          ],
          [
           141
          ],
          [
           142
          ],
          [
           143
          ],
          [
           144
          ],
          [
           145
          ],
          [
           146
          ],
          [
           147
          ],
          [
           148
          ],
          [
           149
          ],
          [
           150
          ],
          [
           151
          ],
          [
           152
          ],
          [
           153
          ],
          [
           154
          ],
          [
           155
          ],
          [
           156
          ],
          [
           157
          ],
          [
           158
          ],
          [
           159
          ],
          [
           160
          ],
          [
           161
          ],
          [
           162
          ],
          [
           163
          ],
          [
           164
          ],
          [
           165
          ],
          [
           166
          ],
          [
           167
          ],
          [
           168
          ],
          [
           169
          ],
          [
           170
          ],
          [
           171
          ],
          [
           172
          ],
          [
           173
          ],
          [
           174
          ],
          [
           175
          ],
          [
           176
          ],
          [
           177
          ],
          [
           178
          ],
          [
           179
          ],
          [
           180
          ],
          [
           181
          ],
          [
           182
          ],
          [
           183
          ],
          [
           184
          ],
          [
           185
          ],
          [
           186
          ],
          [
           187
          ],
          [
           188
          ],
          [
           189
          ],
          [
           190
          ],
          [
           191
          ],
          [
           192
          ],
          [
           193
          ],
          [
           194
          ],
          [
           195
          ],
          [
           196
          ],
          [
           197
          ],
          [
           198
          ],
          [
           199
          ],
          [
           200
          ],
          [
           201
          ],
          [
           202
          ],
          [
           203
          ],
          [
           204
          ],
          [
           205
          ],
          [
           206
          ],
          [
           207
          ],
          [
           208
          ],
          [
           209
          ],
          [
           210
          ],
          [
           211
          ],
          [
           212
          ],
          [
           213
          ],
          [
           214
          ],
          [
           215
          ],
          [
           216
          ],
          [
           217
          ],
          [
           218
          ],
          [
           219
          ],
          [
           220
          ],
          [
           221
          ],
          [
           222
          ],
          [
           223
          ],
          [
           224
          ],
          [
           225
          ],
          [
           226
          ],
          [
           227
          ],
          [
           228
          ],
          [
           229
          ],
          [
           230
          ],
          [
           231
          ],
          [
           232
          ],
          [
           233
          ],
          [
           234
          ],
          [
           235
          ],
          [
           236
          ],
          [
           237
          ],
          [
           238
          ],
          [
           239
          ],
          [
           240
          ],
          [
           241
          ],
          [
           242
          ],
          [
           243
          ],
          [
           244
          ],
          [
           245
          ],
          [
           246
          ],
          [
           247
          ],
          [
           248
          ],
          [
           249
          ],
          [
           250
          ],
          [
           251
          ],
          [
           252
          ],
          [
           253
          ],
          [
           254
          ],
          [
           255
          ],
          [
           256
          ],
          [
           257
          ],
          [
           258
          ],
          [
           259
          ],
          [
           260
          ],
          [
           261
          ],
          [
           262
          ],
          [
           263
          ],
          [
           264
          ],
          [
           265
          ],
          [
           266
          ],
          [
           267
          ],
          [
           268
          ],
          [
           269
          ],
          [
           270
          ],
          [
           271
          ],
          [
           272
          ],
          [
           273
          ],
          [
           274
          ],
          [
           275
          ],
          [
           276
          ],
          [
           277
          ],
          [
           278
          ],
          [
           279
          ],
          [
           280
          ],
          [
           281
          ],
          [
           282
          ],
          [
           283
          ],
          [
           284
          ],
          [
           285
          ],
          [
           286
          ],
          [
           287
          ],
          [
           288
          ],
          [
           289
          ],
          [
           290
          ],
          [
           291
          ],
          [
           292
          ],
          [
           293
          ],
          [
           294
          ],
          [
           295
          ],
          [
           296
          ],
          [
           297
          ],
          [
           298
          ],
          [
           299
          ],
          [
           300
          ],
          [
           301
          ],
          [
           302
          ],
          [
           303
          ],
          [
           304
          ],
          [
           305
          ],
          [
           306
          ],
          [
           307
          ],
          [
           308
          ],
          [
           309
          ],
          [
           310
          ],
          [
           311
          ],
          [
           312
          ],
          [
           313
          ],
          [
           314
          ],
          [
           315
          ],
          [
           316
          ],
          [
           317
          ],
          [
           318
          ],
          [
           319
          ],
          [
           320
          ],
          [
           321
          ],
          [
           322
          ],
          [
           323
          ],
          [
           324
          ],
          [
           325
          ],
          [
           326
          ],
          [
           327
          ],
          [
           328
          ],
          [
           329
          ],
          [
           330
          ],
          [
           331
          ],
          [
           332
          ],
          [
           333
          ],
          [
           334
          ],
          [
           335
          ],
          [
           336
          ],
          [
           337
          ],
          [
           338
          ],
          [
           339
          ],
          [
           340
          ],
          [
           341
          ],
          [
           342
          ],
          [
           343
          ],
          [
           344
          ],
          [
           345
          ],
          [
           346
          ],
          [
           347
          ],
          [
           348
          ],
          [
           349
          ],
          [
           350
          ],
          [
           351
          ],
          [
           352
          ],
          [
           353
          ],
          [
           354
          ],
          [
           355
          ],
          [
           356
          ],
          [
           357
          ],
          [
           358
          ],
          [
           359
          ],
          [
           360
          ],
          [
           361
          ],
          [
           362
          ],
          [
           363
          ],
          [
           364
          ],
          [
           365
          ],
          [
           366
          ],
          [
           367
          ],
          [
           368
          ],
          [
           369
          ],
          [
           370
          ],
          [
           371
          ],
          [
           372
          ],
          [
           373
          ],
          [
           374
          ],
          [
           375
          ],
          [
           376
          ],
          [
           377
          ],
          [
           378
          ],
          [
           379
          ],
          [
           380
          ],
          [
           381
          ],
          [
           382
          ],
          [
           383
          ],
          [
           384
          ],
          [
           385
          ],
          [
           386
          ],
          [
           387
          ],
          [
           388
          ],
          [
           389
          ],
          [
           390
          ],
          [
           391
          ],
          [
           392
          ],
          [
           393
          ],
          [
           394
          ],
          [
           395
          ],
          [
           396
          ],
          [
           397
          ],
          [
           398
          ],
          [
           399
          ],
          [
           400
          ],
          [
           401
          ],
          [
           402
          ],
          [
           403
          ],
          [
           404
          ],
          [
           405
          ],
          [
           406
          ],
          [
           407
          ],
          [
           408
          ],
          [
           409
          ],
          [
           410
          ],
          [
           411
          ],
          [
           412
          ],
          [
           413
          ],
          [
           414
          ],
          [
           415
          ],
          [
           416
          ],
          [
           417
          ],
          [
           418
          ],
          [
           419
          ],
          [
           420
          ],
          [
           421
          ],
          [
           422
          ],
          [
           423
          ],
          [
           424
          ],
          [
           425
          ],
          [
           426
          ],
          [
           427
          ],
          [
           428
          ],
          [
           429
          ],
          [
           430
          ],
          [
           431
          ],
          [
           432
          ],
          [
           433
          ],
          [
           434
          ],
          [
           435
          ],
          [
           436
          ],
          [
           437
          ],
          [
           438
          ],
          [
           439
          ],
          [
           440
          ],
          [
           441
          ],
          [
           442
          ],
          [
           443
          ],
          [
           444
          ],
          [
           445
          ],
          [
           446
          ],
          [
           447
          ],
          [
           448
          ],
          [
           449
          ],
          [
           450
          ],
          [
           451
          ],
          [
           452
          ],
          [
           453
          ],
          [
           454
          ],
          [
           455
          ],
          [
           456
          ],
          [
           457
          ],
          [
           458
          ],
          [
           459
          ],
          [
           460
          ],
          [
           461
          ],
          [
           462
          ],
          [
           463
          ],
          [
           464
          ],
          [
           465
          ],
          [
           466
          ],
          [
           467
          ],
          [
           468
          ],
          [
           469
          ],
          [
           470
          ],
          [
           471
          ],
          [
           472
          ],
          [
           473
          ],
          [
           474
          ],
          [
           475
          ],
          [
           476
          ],
          [
           477
          ],
          [
           478
          ],
          [
           479
          ],
          [
           480
          ],
          [
           481
          ],
          [
           482
          ],
          [
           483
          ],
          [
           484
          ],
          [
           485
          ],
          [
           486
          ],
          [
           487
          ],
          [
           488
          ],
          [
           489
          ],
          [
           490
          ],
          [
           491
          ],
          [
           492
          ],
          [
           493
          ],
          [
           494
          ],
          [
           495
          ],
          [
           496
          ],
          [
           497
          ],
          [
           498
          ],
          [
           499
          ],
          [
           500
          ],
          [
           501
          ],
          [
           502
          ],
          [
           503
          ],
          [
           504
          ],
          [
           505
          ],
          [
           506
          ],
          [
           507
          ],
          [
           508
          ],
          [
           509
          ],
          [
           510
          ],
          [
           511
          ],
          [
           512
          ],
          [
           513
          ],
          [
           514
          ],
          [
           515
          ],
          [
           516
          ],
          [
           517
          ],
          [
           518
          ],
          [
           519
          ],
          [
           520
          ],
          [
           521
          ],
          [
           522
          ],
          [
           523
          ],
          [
           524
          ],
          [
           525
          ],
          [
           526
          ],
          [
           527
          ],
          [
           528
          ],
          [
           529
          ],
          [
           530
          ],
          [
           531
          ],
          [
           532
          ],
          [
           533
          ],
          [
           534
          ],
          [
           535
          ],
          [
           536
          ],
          [
           537
          ],
          [
           538
          ],
          [
           539
          ],
          [
           540
          ],
          [
           541
          ],
          [
           542
          ],
          [
           543
          ],
          [
           544
          ],
          [
           545
          ],
          [
           546
          ],
          [
           547
          ],
          [
           548
          ],
          [
           549
          ],
          [
           550
          ],
          [
           551
          ],
          [
           552
          ],
          [
           553
          ],
          [
           554
          ],
          [
           555
          ],
          [
           556
          ],
          [
           557
          ],
          [
           558
          ],
          [
           559
          ],
          [
           560
          ],
          [
           561
          ],
          [
           562
          ],
          [
           563
          ],
          [
           564
          ],
          [
           565
          ],
          [
           566
          ],
          [
           567
          ],
          [
           568
          ],
          [
           569
          ],
          [
           570
          ],
          [
           571
          ],
          [
           572
          ],
          [
           573
          ],
          [
           574
          ],
          [
           575
          ],
          [
           576
          ],
          [
           577
          ],
          [
           578
          ],
          [
           579
          ],
          [
           580
          ],
          [
           581
          ],
          [
           582
          ],
          [
           583
          ],
          [
           584
          ],
          [
           585
          ],
          [
           586
          ],
          [
           587
          ],
          [
           588
          ],
          [
           589
          ],
          [
           590
          ],
          [
           591
          ],
          [
           592
          ],
          [
           593
          ],
          [
           594
          ],
          [
           595
          ],
          [
           596
          ],
          [
           597
          ],
          [
           598
          ],
          [
           599
          ],
          [
           600
          ],
          [
           601
          ],
          [
           602
          ],
          [
           603
          ],
          [
           604
          ],
          [
           605
          ],
          [
           606
          ],
          [
           607
          ],
          [
           608
          ],
          [
           609
          ],
          [
           610
          ],
          [
           611
          ],
          [
           612
          ],
          [
           613
          ],
          [
           614
          ],
          [
           615
          ],
          [
           616
          ],
          [
           617
          ],
          [
           618
          ],
          [
           619
          ],
          [
           620
          ],
          [
           621
          ],
          [
           622
          ],
          [
           623
          ],
          [
           624
          ],
          [
           625
          ],
          [
           626
          ],
          [
           627
          ],
          [
           628
          ],
          [
           629
          ],
          [
           630
          ],
          [
           631
          ],
          [
           632
          ],
          [
           633
          ],
          [
           634
          ],
          [
           635
          ],
          [
           636
          ],
          [
           637
          ],
          [
           638
          ],
          [
           639
          ],
          [
           640
          ],
          [
           641
          ],
          [
           642
          ],
          [
           643
          ],
          [
           644
          ],
          [
           645
          ],
          [
           646
          ],
          [
           647
          ],
          [
           648
          ],
          [
           649
          ],
          [
           650
          ],
          [
           651
          ],
          [
           652
          ],
          [
           653
          ],
          [
           654
          ],
          [
           655
          ],
          [
           656
          ],
          [
           657
          ],
          [
           658
          ],
          [
           659
          ],
          [
           660
          ],
          [
           661
          ],
          [
           662
          ],
          [
           663
          ],
          [
           664
          ],
          [
           665
          ],
          [
           666
          ],
          [
           667
          ],
          [
           668
          ],
          [
           669
          ],
          [
           670
          ],
          [
           671
          ],
          [
           672
          ],
          [
           673
          ],
          [
           674
          ],
          [
           675
          ],
          [
           676
          ],
          [
           677
          ],
          [
           678
          ],
          [
           679
          ],
          [
           680
          ],
          [
           681
          ],
          [
           682
          ],
          [
           683
          ],
          [
           684
          ],
          [
           685
          ],
          [
           686
          ],
          [
           687
          ],
          [
           688
          ],
          [
           689
          ],
          [
           690
          ],
          [
           691
          ],
          [
           692
          ],
          [
           693
          ],
          [
           694
          ],
          [
           695
          ],
          [
           696
          ],
          [
           697
          ],
          [
           698
          ],
          [
           699
          ],
          [
           700
          ],
          [
           701
          ],
          [
           702
          ],
          [
           703
          ],
          [
           704
          ],
          [
           705
          ],
          [
           706
          ],
          [
           707
          ],
          [
           708
          ],
          [
           709
          ],
          [
           710
          ],
          [
           711
          ],
          [
           712
          ],
          [
           713
          ],
          [
           714
          ],
          [
           715
          ],
          [
           716
          ],
          [
           717
          ],
          [
           718
          ],
          [
           719
          ],
          [
           720
          ],
          [
           721
          ],
          [
           722
          ],
          [
           723
          ],
          [
           724
          ],
          [
           725
          ],
          [
           726
          ],
          [
           727
          ],
          [
           728
          ],
          [
           729
          ],
          [
           730
          ],
          [
           731
          ],
          [
           732
          ],
          [
           733
          ],
          [
           734
          ],
          [
           735
          ],
          [
           736
          ],
          [
           737
          ],
          [
           738
          ],
          [
           739
          ],
          [
           740
          ],
          [
           741
          ],
          [
           742
          ],
          [
           743
          ],
          [
           744
          ],
          [
           745
          ],
          [
           746
          ],
          [
           747
          ],
          [
           748
          ],
          [
           749
          ],
          [
           750
          ],
          [
           751
          ],
          [
           752
          ],
          [
           753
          ],
          [
           754
          ],
          [
           755
          ],
          [
           756
          ],
          [
           757
          ],
          [
           758
          ],
          [
           759
          ],
          [
           760
          ],
          [
           761
          ],
          [
           762
          ],
          [
           763
          ],
          [
           764
          ],
          [
           765
          ],
          [
           766
          ],
          [
           767
          ],
          [
           768
          ],
          [
           769
          ],
          [
           770
          ],
          [
           771
          ],
          [
           772
          ],
          [
           773
          ],
          [
           774
          ],
          [
           775
          ],
          [
           776
          ],
          [
           777
          ],
          [
           778
          ],
          [
           779
          ],
          [
           780
          ],
          [
           781
          ],
          [
           782
          ],
          [
           783
          ],
          [
           784
          ],
          [
           785
          ],
          [
           786
          ],
          [
           787
          ],
          [
           788
          ],
          [
           789
          ],
          [
           790
          ],
          [
           791
          ],
          [
           792
          ],
          [
           793
          ],
          [
           794
          ],
          [
           795
          ],
          [
           796
          ],
          [
           797
          ],
          [
           798
          ],
          [
           799
          ],
          [
           800
          ],
          [
           801
          ],
          [
           802
          ],
          [
           803
          ],
          [
           804
          ],
          [
           805
          ],
          [
           806
          ],
          [
           807
          ],
          [
           808
          ],
          [
           809
          ],
          [
           810
          ],
          [
           811
          ],
          [
           812
          ],
          [
           813
          ],
          [
           814
          ],
          [
           815
          ],
          [
           816
          ],
          [
           817
          ],
          [
           818
          ],
          [
           819
          ],
          [
           820
          ],
          [
           821
          ],
          [
           822
          ],
          [
           823
          ],
          [
           824
          ],
          [
           825
          ],
          [
           826
          ],
          [
           827
          ],
          [
           828
          ],
          [
           829
          ],
          [
           830
          ],
          [
           831
          ],
          [
           832
          ],
          [
           833
          ],
          [
           834
          ],
          [
           835
          ],
          [
           836
          ],
          [
           837
          ],
          [
           838
          ],
          [
           839
          ],
          [
           840
          ],
          [
           841
          ],
          [
           842
          ],
          [
           843
          ],
          [
           844
          ],
          [
           845
          ],
          [
           846
          ],
          [
           847
          ],
          [
           848
          ],
          [
           849
          ],
          [
           850
          ],
          [
           851
          ],
          [
           852
          ],
          [
           853
          ],
          [
           854
          ],
          [
           855
          ],
          [
           856
          ],
          [
           857
          ],
          [
           858
          ],
          [
           859
          ],
          [
           860
          ],
          [
           861
          ],
          [
           862
          ],
          [
           863
          ],
          [
           864
          ],
          [
           865
          ],
          [
           866
          ],
          [
           867
          ],
          [
           868
          ],
          [
           869
          ],
          [
           870
          ],
          [
           871
          ],
          [
           872
          ],
          [
           873
          ],
          [
           874
          ],
          [
           875
          ],
          [
           876
          ],
          [
           877
          ],
          [
           878
          ],
          [
           879
          ],
          [
           880
          ],
          [
           881
          ],
          [
           882
          ],
          [
           883
          ],
          [
           884
          ],
          [
           885
          ],
          [
           886
          ],
          [
           887
          ],
          [
           888
          ],
          [
           889
          ],
          [
           890
          ],
          [
           891
          ],
          [
           892
          ],
          [
           893
          ],
          [
           894
          ],
          [
           895
          ],
          [
           896
          ],
          [
           897
          ],
          [
           898
          ],
          [
           899
          ],
          [
           900
          ],
          [
           901
          ],
          [
           902
          ],
          [
           903
          ],
          [
           904
          ],
          [
           905
          ],
          [
           906
          ],
          [
           907
          ],
          [
           908
          ],
          [
           909
          ],
          [
           910
          ],
          [
           911
          ],
          [
           912
          ],
          [
           913
          ],
          [
           914
          ],
          [
           915
          ],
          [
           916
          ],
          [
           917
          ],
          [
           918
          ],
          [
           919
          ],
          [
           920
          ],
          [
           921
          ],
          [
           922
          ],
          [
           923
          ],
          [
           924
          ],
          [
           925
          ],
          [
           926
          ],
          [
           927
          ],
          [
           928
          ],
          [
           929
          ],
          [
           930
          ],
          [
           931
          ],
          [
           932
          ],
          [
           933
          ],
          [
           934
          ],
          [
           935
          ],
          [
           936
          ],
          [
           937
          ],
          [
           938
          ],
          [
           939
          ],
          [
           940
          ],
          [
           941
          ],
          [
           942
          ],
          [
           943
          ],
          [
           944
          ],
          [
           945
          ],
          [
           946
          ],
          [
           947
          ],
          [
           948
          ],
          [
           949
          ],
          [
           950
          ],
          [
           951
          ],
          [
           952
          ],
          [
           953
          ],
          [
           954
          ],
          [
           955
          ],
          [
           956
          ],
          [
           957
          ],
          [
           958
          ],
          [
           959
          ],
          [
           960
          ],
          [
           961
          ],
          [
           962
          ],
          [
           963
          ],
          [
           964
          ],
          [
           965
          ],
          [
           966
          ],
          [
           967
          ],
          [
           968
          ],
          [
           969
          ],
          [
           970
          ],
          [
           971
          ],
          [
           972
          ],
          [
           973
          ],
          [
           974
          ],
          [
           975
          ],
          [
           976
          ],
          [
           977
          ],
          [
           978
          ],
          [
           979
          ],
          [
           980
          ],
          [
           981
          ],
          [
           982
          ],
          [
           983
          ],
          [
           984
          ],
          [
           985
          ],
          [
           986
          ],
          [
           987
          ],
          [
           988
          ],
          [
           989
          ],
          [
           990
          ],
          [
           991
          ],
          [
           992
          ],
          [
           993
          ],
          [
           994
          ],
          [
           995
          ],
          [
           996
          ],
          [
           997
          ],
          [
           998
          ],
          [
           999
          ],
          [
           1000
          ],
          [
           1001
          ],
          [
           1002
          ],
          [
           1003
          ],
          [
           1004
          ],
          [
           1005
          ],
          [
           1006
          ],
          [
           1007
          ],
          [
           1008
          ],
          [
           1009
          ],
          [
           1010
          ],
          [
           1011
          ],
          [
           1012
          ],
          [
           1013
          ],
          [
           1014
          ],
          [
           1015
          ],
          [
           1016
          ],
          [
           1017
          ],
          [
           1018
          ],
          [
           1019
          ],
          [
           1020
          ],
          [
           1021
          ],
          [
           1022
          ],
          [
           1023
          ],
          [
           1024
          ],
          [
           1025
          ],
          [
           1026
          ],
          [
           1027
          ],
          [
           1028
          ],
          [
           1029
          ],
          [
           1030
          ],
          [
           1031
          ],
          [
           1032
          ],
          [
           1033
          ],
          [
           1034
          ],
          [
           1035
          ],
          [
           1036
          ],
          [
           1037
          ],
          [
           1038
          ],
          [
           1039
          ],
          [
           1040
          ],
          [
           1041
          ],
          [
           1042
          ],
          [
           1043
          ],
          [
           1044
          ],
          [
           1045
          ],
          [
           1046
          ],
          [
           1047
          ],
          [
           1048
          ],
          [
           1049
          ],
          [
           1050
          ],
          [
           1051
          ],
          [
           1052
          ],
          [
           1053
          ],
          [
           1054
          ],
          [
           1055
          ],
          [
           1056
          ],
          [
           1057
          ],
          [
           1058
          ],
          [
           1059
          ],
          [
           1060
          ],
          [
           1061
          ],
          [
           1062
          ],
          [
           1063
          ],
          [
           1064
          ],
          [
           1065
          ],
          [
           1066
          ],
          [
           1067
          ],
          [
           1068
          ],
          [
           1069
          ],
          [
           1070
          ],
          [
           1071
          ],
          [
           1072
          ],
          [
           1073
          ],
          [
           1074
          ],
          [
           1075
          ],
          [
           1076
          ],
          [
           1077
          ],
          [
           1078
          ],
          [
           1079
          ],
          [
           1080
          ],
          [
           1081
          ],
          [
           1082
          ],
          [
           1083
          ],
          [
           1084
          ],
          [
           1085
          ],
          [
           1086
          ],
          [
           1087
          ],
          [
           1088
          ],
          [
           1089
          ],
          [
           1090
          ],
          [
           1091
          ],
          [
           1092
          ],
          [
           1093
          ],
          [
           1094
          ],
          [
           1095
          ],
          [
           1096
          ],
          [
           1097
          ],
          [
           1098
          ],
          [
           1099
          ],
          [
           1100
          ],
          [
           1101
          ],
          [
           1102
          ],
          [
           1103
          ],
          [
           1104
          ],
          [
           1105
          ],
          [
           1106
          ],
          [
           1107
          ],
          [
           1108
          ],
          [
           1109
          ],
          [
           1110
          ],
          [
           1111
          ],
          [
           1112
          ],
          [
           1113
          ],
          [
           1114
          ],
          [
           1115
          ],
          [
           1116
          ],
          [
           1117
          ],
          [
           1118
          ],
          [
           1119
          ],
          [
           1120
          ],
          [
           1121
          ],
          [
           1122
          ],
          [
           1123
          ],
          [
           1124
          ],
          [
           1125
          ],
          [
           1126
          ],
          [
           1127
          ],
          [
           1128
          ],
          [
           1129
          ],
          [
           1130
          ],
          [
           1131
          ],
          [
           1132
          ],
          [
           1133
          ],
          [
           1134
          ],
          [
           1135
          ],
          [
           1136
          ],
          [
           1137
          ],
          [
           1138
          ],
          [
           1139
          ],
          [
           1140
          ],
          [
           1141
          ],
          [
           1142
          ],
          [
           1143
          ],
          [
           1144
          ],
          [
           1145
          ],
          [
           1146
          ],
          [
           1147
          ],
          [
           1148
          ],
          [
           1149
          ],
          [
           1150
          ],
          [
           1151
          ],
          [
           1152
          ],
          [
           1153
          ],
          [
           1154
          ],
          [
           1155
          ],
          [
           1156
          ],
          [
           1157
          ],
          [
           1158
          ],
          [
           1159
          ],
          [
           1160
          ],
          [
           1161
          ],
          [
           1162
          ],
          [
           1163
          ],
          [
           1164
          ],
          [
           1165
          ],
          [
           1166
          ],
          [
           1167
          ],
          [
           1168
          ],
          [
           1169
          ],
          [
           1170
          ],
          [
           1171
          ],
          [
           1172
          ],
          [
           1173
          ],
          [
           1174
          ],
          [
           1175
          ],
          [
           1176
          ],
          [
           1177
          ],
          [
           1178
          ],
          [
           1179
          ],
          [
           1180
          ],
          [
           1181
          ],
          [
           1182
          ],
          [
           1183
          ],
          [
           1184
          ],
          [
           1185
          ],
          [
           1186
          ],
          [
           1187
          ],
          [
           1188
          ],
          [
           1189
          ],
          [
           1190
          ],
          [
           1191
          ],
          [
           1192
          ],
          [
           1193
          ],
          [
           1194
          ],
          [
           1195
          ],
          [
           1196
          ],
          [
           1197
          ],
          [
           1198
          ],
          [
           1199
          ],
          [
           1200
          ],
          [
           1201
          ],
          [
           1202
          ],
          [
           1203
          ],
          [
           1204
          ],
          [
           1205
          ],
          [
           1206
          ],
          [
           1207
          ],
          [
           1208
          ],
          [
           1209
          ],
          [
           1210
          ],
          [
           1211
          ],
          [
           1212
          ],
          [
           1213
          ],
          [
           1214
          ],
          [
           1215
          ],
          [
           1216
          ],
          [
           1217
          ],
          [
           1218
          ],
          [
           1219
          ],
          [
           1220
          ],
          [
           1221
          ],
          [
           1222
          ],
          [
           1223
          ],
          [
           1224
          ],
          [
           1225
          ],
          [
           1226
          ],
          [
           1227
          ],
          [
           1228
          ],
          [
           1229
          ],
          [
           1230
          ],
          [
           1231
          ],
          [
           1232
          ],
          [
           1233
          ],
          [
           1234
          ],
          [
           1235
          ],
          [
           1236
          ],
          [
           1237
          ],
          [
           1238
          ],
          [
           1239
          ],
          [
           1240
          ],
          [
           1241
          ],
          [
           1242
          ],
          [
           1243
          ],
          [
           1244
          ],
          [
           1245
          ],
          [
           1246
          ],
          [
           1247
          ],
          [
           1248
          ],
          [
           1249
          ],
          [
           1250
          ],
          [
           1251
          ],
          [
           1252
          ],
          [
           1253
          ],
          [
           1254
          ],
          [
           1255
          ],
          [
           1256
          ],
          [
           1257
          ],
          [
           1258
          ],
          [
           1259
          ],
          [
           1260
          ],
          [
           1261
          ],
          [
           1262
          ],
          [
           1263
          ],
          [
           1264
          ],
          [
           1265
          ],
          [
           1266
          ],
          [
           1267
          ],
          [
           1268
          ],
          [
           1269
          ],
          [
           1270
          ],
          [
           1271
          ],
          [
           1272
          ],
          [
           1273
          ],
          [
           1274
          ],
          [
           1275
          ],
          [
           1276
          ],
          [
           1277
          ],
          [
           1278
          ],
          [
           1279
          ],
          [
           1280
          ],
          [
           1281
          ],
          [
           1282
          ],
          [
           1283
          ],
          [
           1284
          ],
          [
           1285
          ],
          [
           1286
          ],
          [
           1287
          ],
          [
           1288
          ],
          [
           1289
          ],
          [
           1290
          ],
          [
           1291
          ],
          [
           1292
          ],
          [
           1293
          ],
          [
           1294
          ],
          [
           1295
          ],
          [
           1296
          ],
          [
           1297
          ],
          [
           1298
          ],
          [
           1299
          ],
          [
           1300
          ],
          [
           1301
          ],
          [
           1302
          ],
          [
           1303
          ],
          [
           1304
          ],
          [
           1305
          ],
          [
           1306
          ],
          [
           1307
          ],
          [
           1308
          ],
          [
           1309
          ],
          [
           1310
          ],
          [
           1311
          ],
          [
           1312
          ],
          [
           1313
          ],
          [
           1314
          ],
          [
           1315
          ],
          [
           1316
          ],
          [
           1317
          ],
          [
           1318
          ],
          [
           1319
          ],
          [
           1320
          ],
          [
           1321
          ],
          [
           1322
          ],
          [
           1323
          ],
          [
           1324
          ],
          [
           1325
          ],
          [
           1326
          ],
          [
           1327
          ],
          [
           1328
          ],
          [
           1329
          ],
          [
           1330
          ],
          [
           1331
          ],
          [
           1332
          ],
          [
           1333
          ],
          [
           1334
          ],
          [
           1335
          ],
          [
           1336
          ],
          [
           1337
          ],
          [
           1338
          ],
          [
           1339
          ],
          [
           1340
          ],
          [
           1341
          ],
          [
           1342
          ],
          [
           1343
          ],
          [
           1344
          ],
          [
           1345
          ],
          [
           1346
          ],
          [
           1347
          ],
          [
           1348
          ],
          [
           1349
          ],
          [
           1350
          ],
          [
           1351
          ],
          [
           1352
          ],
          [
           1353
          ],
          [
           1354
          ],
          [
           1355
          ],
          [
           1356
          ],
          [
           1357
          ],
          [
           1358
          ],
          [
           1359
          ],
          [
           1360
          ],
          [
           1361
          ],
          [
           1362
          ],
          [
           1363
          ],
          [
           1364
          ],
          [
           1365
          ],
          [
           1366
          ],
          [
           1367
          ],
          [
           1368
          ],
          [
           1369
          ],
          [
           1370
          ],
          [
           1371
          ],
          [
           1372
          ],
          [
           1373
          ],
          [
           1374
          ],
          [
           1375
          ],
          [
           1376
          ],
          [
           1377
          ],
          [
           1378
          ],
          [
           1379
          ],
          [
           1380
          ],
          [
           1381
          ],
          [
           1382
          ],
          [
           1383
          ],
          [
           1384
          ],
          [
           1385
          ],
          [
           1386
          ],
          [
           1387
          ],
          [
           1388
          ],
          [
           1389
          ],
          [
           1390
          ],
          [
           1391
          ],
          [
           1392
          ],
          [
           1393
          ],
          [
           1394
          ],
          [
           1395
          ],
          [
           1396
          ],
          [
           1397
          ],
          [
           1398
          ],
          [
           1399
          ],
          [
           1400
          ],
          [
           1401
          ],
          [
           1402
          ],
          [
           1403
          ],
          [
           1404
          ],
          [
           1405
          ],
          [
           1406
          ],
          [
           1407
          ],
          [
           1408
          ],
          [
           1409
          ],
          [
           1410
          ],
          [
           1411
          ],
          [
           1412
          ],
          [
           1413
          ],
          [
           1414
          ],
          [
           1415
          ],
          [
           1416
          ],
          [
           1417
          ],
          [
           1418
          ],
          [
           1419
          ],
          [
           1420
          ],
          [
           1421
          ],
          [
           1422
          ],
          [
           1423
          ],
          [
           1424
          ],
          [
           1425
          ],
          [
           1426
          ],
          [
           1427
          ],
          [
           1428
          ],
          [
           1429
          ],
          [
           1430
          ],
          [
           1431
          ],
          [
           1432
          ],
          [
           1433
          ],
          [
           1434
          ],
          [
           1435
          ],
          [
           1436
          ],
          [
           1437
          ],
          [
           1438
          ],
          [
           1439
          ],
          [
           1440
          ],
          [
           1441
          ],
          [
           1442
          ],
          [
           1443
          ],
          [
           1444
          ],
          [
           1445
          ],
          [
           1446
          ],
          [
           1447
          ],
          [
           1448
          ],
          [
           1449
          ],
          [
           1450
          ],
          [
           1451
          ],
          [
           1452
          ],
          [
           1453
          ],
          [
           1454
          ],
          [
           1455
          ],
          [
           1456
          ],
          [
           1457
          ],
          [
           1458
          ],
          [
           1459
          ],
          [
           1460
          ],
          [
           1461
          ],
          [
           1462
          ],
          [
           1463
          ],
          [
           1464
          ],
          [
           1465
          ],
          [
           1466
          ],
          [
           1467
          ],
          [
           1468
          ],
          [
           1469
          ],
          [
           1470
          ],
          [
           1471
          ],
          [
           1472
          ],
          [
           1473
          ],
          [
           1474
          ],
          [
           1475
          ],
          [
           1476
          ],
          [
           1477
          ],
          [
           1478
          ],
          [
           1479
          ],
          [
           1480
          ],
          [
           1481
          ],
          [
           1482
          ],
          [
           1483
          ],
          [
           1484
          ],
          [
           1485
          ],
          [
           1486
          ],
          [
           1487
          ],
          [
           1488
          ],
          [
           1489
          ],
          [
           1490
          ],
          [
           1491
          ],
          [
           1492
          ],
          [
           1493
          ],
          [
           1494
          ],
          [
           1495
          ],
          [
           1496
          ],
          [
           1497
          ],
          [
           1498
          ],
          [
           1499
          ],
          [
           1500
          ],
          [
           1501
          ],
          [
           1502
          ],
          [
           1503
          ],
          [
           1504
          ],
          [
           1505
          ],
          [
           1506
          ],
          [
           1507
          ],
          [
           1508
          ],
          [
           1509
          ],
          [
           1510
          ],
          [
           1511
          ],
          [
           1512
          ],
          [
           1513
          ],
          [
           1514
          ],
          [
           1515
          ],
          [
           1516
          ],
          [
           1517
          ],
          [
           1518
          ],
          [
           1519
          ],
          [
           1520
          ],
          [
           1521
          ],
          [
           1522
          ],
          [
           1523
          ],
          [
           1524
          ],
          [
           1525
          ],
          [
           1526
          ],
          [
           1527
          ],
          [
           1528
          ],
          [
           1529
          ],
          [
           1530
          ],
          [
           1531
          ],
          [
           1532
          ],
          [
           1533
          ],
          [
           1534
          ],
          [
           1535
          ],
          [
           1536
          ],
          [
           1537
          ],
          [
           1538
          ],
          [
           1539
          ],
          [
           1540
          ],
          [
           1541
          ],
          [
           1542
          ],
          [
           1543
          ],
          [
           1544
          ],
          [
           1545
          ],
          [
           1546
          ],
          [
           1547
          ],
          [
           1548
          ],
          [
           1549
          ],
          [
           1550
          ],
          [
           1551
          ],
          [
           1552
          ],
          [
           1553
          ],
          [
           1554
          ],
          [
           1555
          ],
          [
           1556
          ],
          [
           1557
          ],
          [
           1558
          ],
          [
           1559
          ],
          [
           1560
          ],
          [
           1561
          ],
          [
           1562
          ],
          [
           1563
          ],
          [
           1564
          ],
          [
           1565
          ],
          [
           1566
          ],
          [
           1567
          ],
          [
           1568
          ],
          [
           1569
          ],
          [
           1570
          ],
          [
           1571
          ],
          [
           1572
          ],
          [
           1573
          ],
          [
           1574
          ],
          [
           1575
          ],
          [
           1576
          ],
          [
           1577
          ],
          [
           1578
          ],
          [
           1579
          ],
          [
           1580
          ],
          [
           1581
          ],
          [
           1582
          ],
          [
           1583
          ],
          [
           1584
          ],
          [
           1585
          ],
          [
           1586
          ],
          [
           1587
          ],
          [
           1588
          ],
          [
           1589
          ],
          [
           1590
          ],
          [
           1591
          ],
          [
           1592
          ],
          [
           1593
          ],
          [
           1594
          ],
          [
           1595
          ],
          [
           1596
          ],
          [
           1597
          ],
          [
           1598
          ],
          [
           1599
          ],
          [
           1600
          ],
          [
           1601
          ],
          [
           1602
          ],
          [
           1603
          ],
          [
           1604
          ],
          [
           1605
          ],
          [
           1606
          ],
          [
           1607
          ],
          [
           1608
          ],
          [
           1609
          ],
          [
           1610
          ],
          [
           1611
          ],
          [
           1612
          ],
          [
           1613
          ],
          [
           1614
          ],
          [
           1615
          ],
          [
           1616
          ],
          [
           1617
          ],
          [
           1618
          ],
          [
           1619
          ],
          [
           1620
          ],
          [
           1621
          ],
          [
           1622
          ],
          [
           1623
          ],
          [
           1624
          ],
          [
           1625
          ],
          [
           1626
          ],
          [
           1627
          ],
          [
           1628
          ],
          [
           1629
          ],
          [
           1630
          ],
          [
           1631
          ],
          [
           1632
          ],
          [
           1633
          ],
          [
           1634
          ],
          [
           1635
          ],
          [
           1636
          ],
          [
           1637
          ],
          [
           1638
          ],
          [
           1639
          ],
          [
           1640
          ],
          [
           1641
          ],
          [
           1642
          ],
          [
           1643
          ],
          [
           1644
          ],
          [
           1645
          ],
          [
           1646
          ],
          [
           1647
          ],
          [
           1648
          ],
          [
           1649
          ],
          [
           1650
          ],
          [
           1651
          ],
          [
           1652
          ],
          [
           1653
          ],
          [
           1654
          ],
          [
           1655
          ],
          [
           1656
          ],
          [
           1657
          ],
          [
           1658
          ],
          [
           1659
          ],
          [
           1660
          ],
          [
           1661
          ],
          [
           1662
          ],
          [
           1663
          ],
          [
           1664
          ],
          [
           1665
          ],
          [
           1666
          ],
          [
           1667
          ],
          [
           1668
          ],
          [
           1669
          ],
          [
           1670
          ],
          [
           1671
          ],
          [
           1672
          ],
          [
           1673
          ],
          [
           1674
          ],
          [
           1675
          ],
          [
           1676
          ],
          [
           1677
          ],
          [
           1678
          ],
          [
           1679
          ],
          [
           1680
          ],
          [
           1681
          ],
          [
           1682
          ],
          [
           1683
          ],
          [
           1684
          ],
          [
           1685
          ],
          [
           1686
          ],
          [
           1687
          ],
          [
           1688
          ],
          [
           1689
          ],
          [
           1690
          ],
          [
           1691
          ],
          [
           1692
          ],
          [
           1693
          ],
          [
           1694
          ],
          [
           1695
          ],
          [
           1696
          ],
          [
           1697
          ],
          [
           1698
          ],
          [
           1699
          ],
          [
           1700
          ],
          [
           1701
          ],
          [
           1702
          ],
          [
           1703
          ],
          [
           1704
          ],
          [
           1705
          ],
          [
           1706
          ],
          [
           1707
          ],
          [
           1708
          ],
          [
           1709
          ],
          [
           1710
          ],
          [
           1711
          ],
          [
           1712
          ],
          [
           1713
          ],
          [
           1714
          ],
          [
           1715
          ],
          [
           1716
          ],
          [
           1717
          ],
          [
           1718
          ],
          [
           1719
          ],
          [
           1720
          ],
          [
           1721
          ],
          [
           1722
          ],
          [
           1723
          ],
          [
           1724
          ],
          [
           1725
          ],
          [
           1726
          ],
          [
           1727
          ],
          [
           1728
          ],
          [
           1729
          ],
          [
           1730
          ],
          [
           1731
          ],
          [
           1732
          ],
          [
           1733
          ],
          [
           1734
          ],
          [
           1735
          ],
          [
           1736
          ],
          [
           1737
          ],
          [
           1738
          ],
          [
           1739
          ],
          [
           1740
          ],
          [
           1741
          ],
          [
           1742
          ],
          [
           1743
          ],
          [
           1744
          ],
          [
           1745
          ],
          [
           1746
          ],
          [
           1747
          ],
          [
           1748
          ],
          [
           1749
          ],
          [
           1750
          ],
          [
           1751
          ],
          [
           1752
          ],
          [
           1753
          ],
          [
           1754
          ],
          [
           1755
          ],
          [
           1756
          ],
          [
           1757
          ],
          [
           1758
          ],
          [
           1759
          ],
          [
           1760
          ],
          [
           1761
          ],
          [
           1762
          ],
          [
           1763
          ],
          [
           1764
          ],
          [
           1765
          ],
          [
           1766
          ],
          [
           1767
          ],
          [
           1768
          ],
          [
           1769
          ],
          [
           1770
          ],
          [
           1771
          ],
          [
           1772
          ],
          [
           1773
          ],
          [
           1774
          ],
          [
           1775
          ],
          [
           1776
          ],
          [
           1777
          ],
          [
           1778
          ],
          [
           1779
          ],
          [
           1780
          ],
          [
           1781
          ],
          [
           1782
          ],
          [
           1783
          ],
          [
           1784
          ],
          [
           1785
          ],
          [
           1786
          ],
          [
           1787
          ],
          [
           1788
          ],
          [
           1789
          ],
          [
           1790
          ],
          [
           1791
          ],
          [
           1792
          ],
          [
           1793
          ],
          [
           1794
          ],
          [
           1795
          ],
          [
           1796
          ],
          [
           1797
          ],
          [
           1798
          ],
          [
           1799
          ],
          [
           1800
          ],
          [
           1801
          ],
          [
           1802
          ],
          [
           1803
          ],
          [
           1804
          ],
          [
           1805
          ],
          [
           1806
          ],
          [
           1807
          ],
          [
           1808
          ],
          [
           1809
          ],
          [
           1810
          ],
          [
           1811
          ],
          [
           1812
          ],
          [
           1813
          ],
          [
           1814
          ],
          [
           1815
          ],
          [
           1816
          ],
          [
           1817
          ],
          [
           1818
          ],
          [
           1819
          ],
          [
           1820
          ],
          [
           1821
          ],
          [
           1822
          ],
          [
           1823
          ],
          [
           1824
          ],
          [
           1825
          ],
          [
           1826
          ],
          [
           1827
          ],
          [
           1828
          ],
          [
           1829
          ],
          [
           1830
          ],
          [
           1831
          ],
          [
           1832
          ],
          [
           1833
          ],
          [
           1834
          ],
          [
           1835
          ],
          [
           1836
          ],
          [
           1837
          ],
          [
           1838
          ],
          [
           1839
          ],
          [
           1840
          ],
          [
           1841
          ],
          [
           1842
          ],
          [
           1843
          ],
          [
           1844
          ],
          [
           1845
          ],
          [
           1846
          ],
          [
           1847
          ],
          [
           1848
          ],
          [
           1849
          ],
          [
           1850
          ],
          [
           1851
          ],
          [
           1852
          ],
          [
           1853
          ],
          [
           1854
          ],
          [
           1855
          ],
          [
           1856
          ],
          [
           1857
          ],
          [
           1858
          ],
          [
           1859
          ],
          [
           1860
          ],
          [
           1861
          ],
          [
           1862
          ],
          [
           1863
          ],
          [
           1864
          ],
          [
           1865
          ],
          [
           1866
          ],
          [
           1867
          ],
          [
           1868
          ],
          [
           1869
          ],
          [
           1870
          ],
          [
           1871
          ],
          [
           1872
          ],
          [
           1873
          ],
          [
           1874
          ],
          [
           1875
          ],
          [
           1876
          ],
          [
           1877
          ],
          [
           1878
          ],
          [
           1879
          ],
          [
           1880
          ],
          [
           1881
          ],
          [
           1882
          ],
          [
           1883
          ],
          [
           1884
          ],
          [
           1885
          ],
          [
           1886
          ],
          [
           1887
          ],
          [
           1888
          ],
          [
           1889
          ],
          [
           1890
          ],
          [
           1891
          ],
          [
           1892
          ],
          [
           1893
          ],
          [
           1894
          ],
          [
           1895
          ],
          [
           1896
          ],
          [
           1897
          ],
          [
           1898
          ],
          [
           1899
          ],
          [
           1900
          ],
          [
           1901
          ],
          [
           1902
          ],
          [
           1903
          ],
          [
           1904
          ],
          [
           1905
          ],
          [
           1906
          ],
          [
           1907
          ],
          [
           1908
          ],
          [
           1909
          ],
          [
           1910
          ],
          [
           1911
          ],
          [
           1912
          ],
          [
           1913
          ],
          [
           1914
          ],
          [
           1915
          ],
          [
           1916
          ],
          [
           1917
          ],
          [
           1918
          ],
          [
           1919
          ],
          [
           1920
          ],
          [
           1921
          ],
          [
           1922
          ],
          [
           1923
          ],
          [
           1924
          ],
          [
           1925
          ],
          [
           1926
          ],
          [
           1927
          ],
          [
           1928
          ],
          [
           1929
          ],
          [
           1930
          ],
          [
           1931
          ],
          [
           1932
          ],
          [
           1933
          ],
          [
           1934
          ],
          [
           1935
          ],
          [
           1936
          ],
          [
           1937
          ],
          [
           1938
          ],
          [
           1939
          ],
          [
           1940
          ],
          [
           1941
          ],
          [
           1942
          ],
          [
           1943
          ],
          [
           1944
          ],
          [
           1945
          ],
          [
           1946
          ],
          [
           1947
          ],
          [
           1948
          ],
          [
           1949
          ],
          [
           1950
          ],
          [
           1951
          ],
          [
           1952
          ],
          [
           1953
          ],
          [
           1954
          ],
          [
           1955
          ],
          [
           1956
          ],
          [
           1957
          ],
          [
           1958
          ],
          [
           1959
          ],
          [
           1960
          ],
          [
           1961
          ],
          [
           1962
          ],
          [
           1963
          ],
          [
           1964
          ],
          [
           1965
          ],
          [
           1966
          ],
          [
           1967
          ],
          [
           1968
          ],
          [
           1969
          ],
          [
           1970
          ],
          [
           1971
          ],
          [
           1972
          ],
          [
           1973
          ],
          [
           1974
          ],
          [
           1975
          ],
          [
           1976
          ],
          [
           1977
          ],
          [
           1978
          ],
          [
           1979
          ],
          [
           1980
          ],
          [
           1981
          ],
          [
           1982
          ],
          [
           1983
          ],
          [
           1984
          ],
          [
           1985
          ],
          [
           1986
          ],
          [
           1987
          ],
          [
           1988
          ],
          [
           1989
          ],
          [
           1990
          ],
          [
           1991
          ],
          [
           1992
          ],
          [
           1993
          ],
          [
           1994
          ],
          [
           1995
          ],
          [
           1996
          ],
          [
           1997
          ],
          [
           1998
          ],
          [
           1999
          ],
          [
           2000
          ],
          [
           2001
          ],
          [
           2002
          ],
          [
           2003
          ],
          [
           2004
          ],
          [
           2005
          ],
          [
           2006
          ],
          [
           2007
          ],
          [
           2008
          ],
          [
           2009
          ],
          [
           2010
          ],
          [
           2011
          ],
          [
           2012
          ],
          [
           2013
          ],
          [
           2014
          ],
          [
           2015
          ],
          [
           2016
          ],
          [
           2017
          ],
          [
           2018
          ],
          [
           2019
          ],
          [
           2020
          ],
          [
           2021
          ],
          [
           2022
          ],
          [
           2023
          ],
          [
           2024
          ],
          [
           2025
          ],
          [
           2026
          ],
          [
           2027
          ],
          [
           2028
          ],
          [
           2029
          ],
          [
           2030
          ],
          [
           2031
          ],
          [
           2032
          ],
          [
           2033
          ],
          [
           2034
          ],
          [
           2035
          ],
          [
           2036
          ],
          [
           2037
          ],
          [
           2038
          ],
          [
           2039
          ],
          [
           2040
          ],
          [
           2041
          ],
          [
           2042
          ],
          [
           2043
          ],
          [
           2044
          ],
          [
           2045
          ],
          [
           2046
          ],
          [
           2047
          ],
          [
           2048
          ],
          [
           2049
          ],
          [
           2050
          ],
          [
           2051
          ],
          [
           2052
          ],
          [
           2053
          ],
          [
           2054
          ],
          [
           2055
          ],
          [
           2056
          ],
          [
           2057
          ],
          [
           2058
          ],
          [
           2059
          ],
          [
           2060
          ],
          [
           2061
          ],
          [
           2062
          ],
          [
           2063
          ],
          [
           2064
          ],
          [
           2065
          ],
          [
           2066
          ],
          [
           2067
          ],
          [
           2068
          ],
          [
           2069
          ],
          [
           2070
          ],
          [
           2071
          ],
          [
           2072
          ],
          [
           2073
          ],
          [
           2074
          ],
          [
           2075
          ],
          [
           2076
          ],
          [
           2077
          ],
          [
           2078
          ],
          [
           2079
          ],
          [
           2080
          ],
          [
           2081
          ],
          [
           2082
          ],
          [
           2083
          ],
          [
           2084
          ],
          [
           2085
          ],
          [
           2086
          ],
          [
           2087
          ],
          [
           2088
          ],
          [
           2089
          ],
          [
           2090
          ],
          [
           2091
          ],
          [
           2092
          ],
          [
           2093
          ],
          [
           2094
          ],
          [
           2095
          ],
          [
           2096
          ],
          [
           2097
          ],
          [
           2098
          ],
          [
           2099
          ],
          [
           2100
          ],
          [
           2101
          ],
          [
           2102
          ],
          [
           2103
          ],
          [
           2104
          ],
          [
           2105
          ],
          [
           2106
          ],
          [
           2107
          ],
          [
           2108
          ],
          [
           2109
          ],
          [
           2110
          ],
          [
           2111
          ],
          [
           2112
          ],
          [
           2113
          ],
          [
           2114
          ],
          [
           2115
          ],
          [
           2116
          ],
          [
           2117
          ],
          [
           2118
          ],
          [
           2119
          ],
          [
           2120
          ],
          [
           2121
          ],
          [
           2122
          ],
          [
           2123
          ],
          [
           2124
          ],
          [
           2125
          ],
          [
           2126
          ],
          [
           2127
          ],
          [
           2128
          ],
          [
           2129
          ],
          [
           2130
          ],
          [
           2131
          ],
          [
           2132
          ],
          [
           2133
          ],
          [
           2134
          ],
          [
           2135
          ],
          [
           2136
          ],
          [
           2137
          ],
          [
           2138
          ],
          [
           2139
          ],
          [
           2140
          ],
          [
           2141
          ],
          [
           2142
          ],
          [
           2143
          ],
          [
           2144
          ],
          [
           2145
          ],
          [
           2146
          ],
          [
           2147
          ],
          [
           2148
          ],
          [
           2149
          ],
          [
           2150
          ],
          [
           2151
          ],
          [
           2152
          ],
          [
           2153
          ],
          [
           2154
          ],
          [
           2155
          ],
          [
           2156
          ],
          [
           2157
          ],
          [
           2158
          ],
          [
           2159
          ],
          [
           2160
          ],
          [
           2161
          ],
          [
           2162
          ],
          [
           2163
          ],
          [
           2164
          ],
          [
           2165
          ],
          [
           2166
          ],
          [
           2167
          ],
          [
           2168
          ],
          [
           2169
          ],
          [
           2170
          ],
          [
           2171
          ],
          [
           2172
          ],
          [
           2173
          ],
          [
           2174
          ],
          [
           2175
          ],
          [
           2176
          ],
          [
           2177
          ],
          [
           2178
          ],
          [
           2179
          ],
          [
           2180
          ],
          [
           2181
          ],
          [
           2182
          ],
          [
           2183
          ],
          [
           2184
          ],
          [
           2185
          ],
          [
           2186
          ],
          [
           2187
          ],
          [
           2188
          ],
          [
           2189
          ],
          [
           2190
          ],
          [
           2191
          ],
          [
           2192
          ],
          [
           2193
          ],
          [
           2194
          ],
          [
           2195
          ],
          [
           2196
          ],
          [
           2197
          ],
          [
           2198
          ],
          [
           2199
          ],
          [
           2200
          ],
          [
           2201
          ],
          [
           2202
          ],
          [
           2203
          ],
          [
           2204
          ],
          [
           2205
          ],
          [
           2206
          ],
          [
           2207
          ],
          [
           2208
          ],
          [
           2209
          ],
          [
           2210
          ],
          [
           2211
          ],
          [
           2212
          ],
          [
           2213
          ],
          [
           2214
          ],
          [
           2215
          ],
          [
           2216
          ],
          [
           2217
          ],
          [
           2218
          ],
          [
           2219
          ],
          [
           2220
          ],
          [
           2221
          ],
          [
           2222
          ],
          [
           2223
          ],
          [
           2224
          ],
          [
           2225
          ],
          [
           2226
          ],
          [
           2227
          ],
          [
           2228
          ],
          [
           2229
          ],
          [
           2230
          ],
          [
           2231
          ],
          [
           2232
          ],
          [
           2233
          ],
          [
           2234
          ],
          [
           2235
          ],
          [
           2236
          ],
          [
           2237
          ],
          [
           2238
          ],
          [
           2239
          ],
          [
           2240
          ],
          [
           2241
          ],
          [
           2242
          ],
          [
           2243
          ],
          [
           2244
          ],
          [
           2245
          ],
          [
           2246
          ],
          [
           2247
          ],
          [
           2248
          ],
          [
           2249
          ],
          [
           2250
          ],
          [
           2251
          ],
          [
           2252
          ],
          [
           2253
          ],
          [
           2254
          ],
          [
           2255
          ],
          [
           2256
          ],
          [
           2257
          ],
          [
           2258
          ],
          [
           2259
          ],
          [
           2260
          ],
          [
           2261
          ],
          [
           2262
          ],
          [
           2263
          ],
          [
           2264
          ],
          [
           2265
          ],
          [
           2266
          ],
          [
           2267
          ],
          [
           2268
          ],
          [
           2269
          ],
          [
           2270
          ],
          [
           2271
          ],
          [
           2272
          ],
          [
           2273
          ],
          [
           2274
          ],
          [
           2275
          ],
          [
           2276
          ],
          [
           2277
          ],
          [
           2278
          ],
          [
           2279
          ],
          [
           2280
          ],
          [
           2281
          ],
          [
           2282
          ],
          [
           2283
          ],
          [
           2284
          ],
          [
           2285
          ],
          [
           2286
          ],
          [
           2287
          ],
          [
           2288
          ],
          [
           2289
          ],
          [
           2290
          ],
          [
           2291
          ],
          [
           2292
          ],
          [
           2293
          ],
          [
           2294
          ],
          [
           2295
          ],
          [
           2296
          ],
          [
           2297
          ],
          [
           2298
          ],
          [
           2299
          ],
          [
           2300
          ],
          [
           2301
          ],
          [
           2302
          ],
          [
           2303
          ],
          [
           2304
          ],
          [
           2305
          ],
          [
           2306
          ],
          [
           2307
          ],
          [
           2308
          ],
          [
           2309
          ],
          [
           2310
          ],
          [
           2311
          ],
          [
           2312
          ],
          [
           2313
          ],
          [
           2314
          ],
          [
           2315
          ],
          [
           2316
          ],
          [
           2317
          ],
          [
           2318
          ],
          [
           2319
          ],
          [
           2320
          ],
          [
           2321
          ],
          [
           2322
          ],
          [
           2323
          ],
          [
           2324
          ],
          [
           2325
          ],
          [
           2326
          ],
          [
           2327
          ],
          [
           2328
          ],
          [
           2329
          ],
          [
           2330
          ],
          [
           2331
          ],
          [
           2332
          ],
          [
           2333
          ],
          [
           2334
          ],
          [
           2335
          ],
          [
           2336
          ],
          [
           2337
          ],
          [
           2338
          ],
          [
           2339
          ],
          [
           2340
          ],
          [
           2341
          ],
          [
           2342
          ],
          [
           2343
          ],
          [
           2344
          ],
          [
           2345
          ],
          [
           2346
          ],
          [
           2347
          ],
          [
           2348
          ],
          [
           2349
          ],
          [
           2350
          ],
          [
           2351
          ],
          [
           2352
          ],
          [
           2353
          ],
          [
           2354
          ],
          [
           2355
          ],
          [
           2356
          ],
          [
           2357
          ],
          [
           2358
          ],
          [
           2359
          ],
          [
           2360
          ],
          [
           2361
          ],
          [
           2362
          ],
          [
           2363
          ],
          [
           2364
          ],
          [
           2365
          ],
          [
           2366
          ],
          [
           2367
          ],
          [
           2368
          ],
          [
           2369
          ],
          [
           2370
          ],
          [
           2371
          ],
          [
           2372
          ],
          [
           2373
          ],
          [
           2374
          ],
          [
           2375
          ],
          [
           2376
          ],
          [
           2377
          ],
          [
           2378
          ],
          [
           2379
          ],
          [
           2380
          ],
          [
           2381
          ],
          [
           2382
          ],
          [
           2383
          ],
          [
           2384
          ],
          [
           2385
          ],
          [
           2386
          ],
          [
           2387
          ],
          [
           2388
          ],
          [
           2389
          ],
          [
           2390
          ],
          [
           2391
          ],
          [
           2392
          ],
          [
           2393
          ],
          [
           2394
          ],
          [
           2395
          ],
          [
           2396
          ],
          [
           2397
          ],
          [
           2398
          ],
          [
           2399
          ],
          [
           2400
          ],
          [
           2401
          ],
          [
           2402
          ],
          [
           2403
          ],
          [
           2404
          ],
          [
           2405
          ],
          [
           2406
          ],
          [
           2407
          ],
          [
           2408
          ],
          [
           2409
          ],
          [
           2410
          ],
          [
           2411
          ],
          [
           2412
          ],
          [
           2413
          ],
          [
           2414
          ],
          [
           2415
          ],
          [
           2416
          ],
          [
           2417
          ],
          [
           2418
          ],
          [
           2419
          ],
          [
           2420
          ],
          [
           2421
          ],
          [
           2422
          ],
          [
           2423
          ],
          [
           2424
          ],
          [
           2425
          ],
          [
           2426
          ],
          [
           2427
          ],
          [
           2428
          ],
          [
           2429
          ],
          [
           2430
          ],
          [
           2431
          ],
          [
           2432
          ],
          [
           2433
          ],
          [
           2434
          ],
          [
           2435
          ],
          [
           2436
          ],
          [
           2437
          ],
          [
           2438
          ],
          [
           2439
          ],
          [
           2440
          ],
          [
           2441
          ],
          [
           2442
          ],
          [
           2443
          ],
          [
           2444
          ],
          [
           2445
          ],
          [
           2446
          ],
          [
           2447
          ],
          [
           2448
          ],
          [
           2449
          ],
          [
           2450
          ],
          [
           2451
          ],
          [
           2452
          ],
          [
           2453
          ],
          [
           2454
          ],
          [
           2455
          ],
          [
           2456
          ],
          [
           2457
          ],
          [
           2458
          ],
          [
           2459
          ],
          [
           2460
          ],
          [
           2461
          ],
          [
           2462
          ],
          [
           2463
          ],
          [
           2464
          ],
          [
           2465
          ],
          [
           2466
          ],
          [
           2467
          ],
          [
           2468
          ],
          [
           2469
          ],
          [
           2470
          ],
          [
           2471
          ],
          [
           2472
          ],
          [
           2473
          ],
          [
           2474
          ],
          [
           2475
          ],
          [
           2476
          ],
          [
           2477
          ],
          [
           2478
          ],
          [
           2479
          ],
          [
           2480
          ],
          [
           2481
          ],
          [
           2482
          ],
          [
           2483
          ],
          [
           2484
          ],
          [
           2485
          ],
          [
           2486
          ],
          [
           2487
          ],
          [
           2488
          ],
          [
           2489
          ],
          [
           2490
          ],
          [
           2491
          ],
          [
           2492
          ],
          [
           2493
          ],
          [
           2494
          ],
          [
           2495
          ],
          [
           2496
          ],
          [
           2497
          ],
          [
           2498
          ],
          [
           2499
          ],
          [
           2500
          ],
          [
           2501
          ],
          [
           2502
          ],
          [
           2503
          ],
          [
           2504
          ],
          [
           2505
          ],
          [
           2506
          ],
          [
           2507
          ],
          [
           2508
          ],
          [
           2509
          ],
          [
           2510
          ],
          [
           2511
          ],
          [
           2512
          ],
          [
           2513
          ],
          [
           2514
          ],
          [
           2515
          ],
          [
           2516
          ],
          [
           2517
          ],
          [
           2518
          ],
          [
           2519
          ],
          [
           2520
          ],
          [
           2521
          ],
          [
           2522
          ],
          [
           2523
          ],
          [
           2524
          ],
          [
           2525
          ],
          [
           2526
          ],
          [
           2527
          ],
          [
           2528
          ],
          [
           2529
          ],
          [
           2530
          ],
          [
           2531
          ],
          [
           2532
          ],
          [
           2533
          ],
          [
           2534
          ],
          [
           2535
          ],
          [
           2536
          ],
          [
           2537
          ],
          [
           2538
          ],
          [
           2539
          ],
          [
           2540
          ],
          [
           2541
          ],
          [
           2542
          ],
          [
           2543
          ],
          [
           2544
          ],
          [
           2545
          ],
          [
           2546
          ],
          [
           2547
          ],
          [
           2548
          ],
          [
           2549
          ],
          [
           2550
          ],
          [
           2551
          ],
          [
           2552
          ],
          [
           2553
          ],
          [
           2554
          ],
          [
           2555
          ],
          [
           2556
          ],
          [
           2557
          ],
          [
           2558
          ],
          [
           2559
          ],
          [
           2560
          ],
          [
           2561
          ],
          [
           2562
          ],
          [
           2563
          ],
          [
           2564
          ],
          [
           2565
          ],
          [
           2566
          ],
          [
           2567
          ],
          [
           2568
          ],
          [
           2569
          ],
          [
           2570
          ],
          [
           2571
          ],
          [
           2572
          ],
          [
           2573
          ],
          [
           2574
          ],
          [
           2575
          ],
          [
           2576
          ],
          [
           2577
          ],
          [
           2578
          ],
          [
           2579
          ],
          [
           2580
          ],
          [
           2581
          ],
          [
           2582
          ],
          [
           2583
          ],
          [
           2584
          ],
          [
           2585
          ],
          [
           2586
          ],
          [
           2587
          ],
          [
           2588
          ],
          [
           2589
          ],
          [
           2590
          ],
          [
           2591
          ],
          [
           2592
          ],
          [
           2593
          ],
          [
           2594
          ],
          [
           2595
          ],
          [
           2596
          ],
          [
           2597
          ],
          [
           2598
          ],
          [
           2599
          ],
          [
           2600
          ],
          [
           2601
          ],
          [
           2602
          ],
          [
           2603
          ],
          [
           2604
          ],
          [
           2605
          ],
          [
           2606
          ],
          [
           2607
          ],
          [
           2608
          ],
          [
           2609
          ],
          [
           2610
          ],
          [
           2611
          ],
          [
           2612
          ],
          [
           2613
          ],
          [
           2614
          ],
          [
           2615
          ],
          [
           2616
          ],
          [
           2617
          ],
          [
           2618
          ],
          [
           2619
          ],
          [
           2620
          ],
          [
           2621
          ],
          [
           2622
          ],
          [
           2623
          ],
          [
           2624
          ],
          [
           2625
          ],
          [
           2626
          ],
          [
           2627
          ],
          [
           2628
          ],
          [
           2629
          ],
          [
           2630
          ],
          [
           2631
          ],
          [
           2632
          ],
          [
           2633
          ],
          [
           2634
          ],
          [
           2635
          ],
          [
           2636
          ],
          [
           2637
          ],
          [
           2638
          ],
          [
           2639
          ],
          [
           2640
          ],
          [
           2641
          ],
          [
           2642
          ],
          [
           2643
          ],
          [
           2644
          ],
          [
           2645
          ],
          [
           2646
          ],
          [
           2647
          ],
          [
           2648
          ],
          [
           2649
          ],
          [
           2650
          ],
          [
           2651
          ],
          [
           2652
          ],
          [
           2653
          ],
          [
           2654
          ],
          [
           2655
          ],
          [
           2656
          ],
          [
           2657
          ],
          [
           2658
          ],
          [
           2659
          ],
          [
           2660
          ],
          [
           2661
          ],
          [
           2662
          ],
          [
           2663
          ],
          [
           2664
          ],
          [
           2665
          ],
          [
           2666
          ],
          [
           2667
          ],
          [
           2668
          ],
          [
           2669
          ],
          [
           2670
          ],
          [
           2671
          ],
          [
           2672
          ],
          [
           2673
          ],
          [
           2674
          ],
          [
           2675
          ],
          [
           2676
          ],
          [
           2677
          ],
          [
           2678
          ],
          [
           2679
          ],
          [
           2680
          ],
          [
           2681
          ],
          [
           2682
          ],
          [
           2683
          ],
          [
           2684
          ],
          [
           2685
          ],
          [
           2686
          ],
          [
           2687
          ],
          [
           2688
          ],
          [
           2689
          ],
          [
           2690
          ],
          [
           2691
          ],
          [
           2692
          ],
          [
           2693
          ],
          [
           2694
          ],
          [
           2695
          ],
          [
           2696
          ],
          [
           2697
          ],
          [
           2698
          ],
          [
           2699
          ],
          [
           2700
          ],
          [
           2701
          ],
          [
           2702
          ],
          [
           2703
          ],
          [
           2704
          ],
          [
           2705
          ],
          [
           2706
          ],
          [
           2707
          ],
          [
           2708
          ],
          [
           2709
          ],
          [
           2710
          ],
          [
           2711
          ],
          [
           2712
          ],
          [
           2713
          ],
          [
           2714
          ],
          [
           2715
          ],
          [
           2716
          ],
          [
           2717
          ],
          [
           2718
          ],
          [
           2719
          ],
          [
           2720
          ],
          [
           2721
          ],
          [
           2722
          ],
          [
           2723
          ],
          [
           2724
          ],
          [
           2725
          ],
          [
           2726
          ],
          [
           2727
          ],
          [
           2728
          ],
          [
           2729
          ],
          [
           2730
          ],
          [
           2731
          ],
          [
           2732
          ],
          [
           2733
          ],
          [
           2734
          ],
          [
           2735
          ],
          [
           2736
          ],
          [
           2737
          ],
          [
           2738
          ],
          [
           2739
          ],
          [
           2740
          ],
          [
           2741
          ],
          [
           2742
          ],
          [
           2743
          ],
          [
           2744
          ],
          [
           2745
          ],
          [
           2746
          ],
          [
           2747
          ],
          [
           2748
          ],
          [
           2749
          ],
          [
           2750
          ],
          [
           2751
          ],
          [
           2752
          ],
          [
           2753
          ],
          [
           2754
          ],
          [
           2755
          ],
          [
           2756
          ],
          [
           2757
          ],
          [
           2758
          ],
          [
           2759
          ],
          [
           2760
          ],
          [
           2761
          ],
          [
           2762
          ],
          [
           2763
          ],
          [
           2764
          ],
          [
           2765
          ],
          [
           2766
          ],
          [
           2767
          ],
          [
           2768
          ],
          [
           2769
          ],
          [
           2770
          ],
          [
           2771
          ],
          [
           2772
          ],
          [
           2773
          ],
          [
           2774
          ],
          [
           2775
          ],
          [
           2776
          ],
          [
           2777
          ],
          [
           2778
          ],
          [
           2779
          ],
          [
           2780
          ],
          [
           2781
          ],
          [
           2782
          ],
          [
           2783
          ],
          [
           2784
          ],
          [
           2785
          ],
          [
           2786
          ],
          [
           2787
          ],
          [
           2788
          ],
          [
           2789
          ],
          [
           2790
          ],
          [
           2791
          ],
          [
           2792
          ],
          [
           2793
          ],
          [
           2794
          ],
          [
           2795
          ],
          [
           2796
          ],
          [
           2797
          ],
          [
           2798
          ],
          [
           2799
          ],
          [
           2800
          ],
          [
           2801
          ],
          [
           2802
          ],
          [
           2803
          ],
          [
           2804
          ],
          [
           2805
          ],
          [
           2806
          ],
          [
           2807
          ],
          [
           2808
          ],
          [
           2809
          ],
          [
           2810
          ],
          [
           2811
          ],
          [
           2812
          ],
          [
           2813
          ],
          [
           2814
          ],
          [
           2815
          ],
          [
           2816
          ],
          [
           2817
          ],
          [
           2818
          ],
          [
           2819
          ],
          [
           2820
          ],
          [
           2821
          ],
          [
           2822
          ],
          [
           2823
          ],
          [
           2824
          ],
          [
           2825
          ],
          [
           2826
          ],
          [
           2827
          ],
          [
           2828
          ],
          [
           2829
          ],
          [
           2830
          ],
          [
           2831
          ],
          [
           2832
          ],
          [
           2833
          ],
          [
           2834
          ],
          [
           2835
          ],
          [
           2836
          ],
          [
           2837
          ],
          [
           2838
          ],
          [
           2839
          ],
          [
           2840
          ],
          [
           2841
          ],
          [
           2842
          ],
          [
           2843
          ],
          [
           2844
          ],
          [
           2845
          ],
          [
           2846
          ],
          [
           2847
          ],
          [
           2848
          ],
          [
           2849
          ],
          [
           2850
          ],
          [
           2851
          ],
          [
           2852
          ],
          [
           2853
          ],
          [
           2854
          ],
          [
           2855
          ],
          [
           2856
          ],
          [
           2857
          ],
          [
           2858
          ],
          [
           2859
          ],
          [
           2860
          ],
          [
           2861
          ],
          [
           2862
          ],
          [
           2863
          ],
          [
           2864
          ],
          [
           2865
          ],
          [
           2866
          ],
          [
           2867
          ],
          [
           2868
          ],
          [
           2869
          ],
          [
           2870
          ],
          [
           2871
          ],
          [
           2872
          ],
          [
           2873
          ],
          [
           2874
          ],
          [
           2875
          ],
          [
           2876
          ],
          [
           2877
          ],
          [
           2878
          ],
          [
           2879
          ],
          [
           2880
          ],
          [
           2881
          ],
          [
           2882
          ],
          [
           2883
          ],
          [
           2884
          ],
          [
           2885
          ],
          [
           2886
          ],
          [
           2887
          ],
          [
           2888
          ],
          [
           2889
          ],
          [
           2890
          ],
          [
           2891
          ],
          [
           2892
          ],
          [
           2893
          ],
          [
           2894
          ],
          [
           2895
          ],
          [
           2896
          ],
          [
           2897
          ],
          [
           2898
          ],
          [
           2899
          ],
          [
           2900
          ],
          [
           2901
          ],
          [
           2902
          ],
          [
           2903
          ],
          [
           2904
          ],
          [
           2905
          ],
          [
           2906
          ],
          [
           2907
          ],
          [
           2908
          ],
          [
           2909
          ],
          [
           2910
          ],
          [
           2911
          ],
          [
           2912
          ],
          [
           2913
          ],
          [
           2914
          ],
          [
           2915
          ],
          [
           2916
          ],
          [
           2917
          ],
          [
           2918
          ],
          [
           2919
          ],
          [
           2920
          ],
          [
           2921
          ],
          [
           2922
          ],
          [
           2923
          ],
          [
           2924
          ],
          [
           2925
          ],
          [
           2926
          ],
          [
           2927
          ],
          [
           2928
          ],
          [
           2929
          ],
          [
           2930
          ],
          [
           2931
          ],
          [
           2932
          ],
          [
           2933
          ],
          [
           2934
          ],
          [
           2935
          ],
          [
           2936
          ],
          [
           2937
          ],
          [
           2938
          ],
          [
           2939
          ],
          [
           2940
          ],
          [
           2941
          ],
          [
           2942
          ],
          [
           2943
          ],
          [
           2944
          ],
          [
           2945
          ],
          [
           2946
          ],
          [
           2947
          ],
          [
           2948
          ],
          [
           2949
          ],
          [
           2950
          ],
          [
           2951
          ],
          [
           2952
          ],
          [
           2953
          ],
          [
           2954
          ],
          [
           2955
          ],
          [
           2956
          ],
          [
           2957
          ],
          [
           2958
          ],
          [
           2959
          ],
          [
           2960
          ],
          [
           2961
          ],
          [
           2962
          ],
          [
           2963
          ],
          [
           2964
          ],
          [
           2965
          ],
          [
           2966
          ],
          [
           2967
          ],
          [
           2968
          ],
          [
           2969
          ],
          [
           2970
          ],
          [
           2971
          ],
          [
           2972
          ],
          [
           2973
          ],
          [
           2974
          ],
          [
           2975
          ],
          [
           2976
          ],
          [
           2977
          ],
          [
           2978
          ],
          [
           2979
          ],
          [
           2980
          ],
          [
           2981
          ],
          [
           2982
          ],
          [
           2983
          ],
          [
           2984
          ],
          [
           2985
          ],
          [
           2986
          ],
          [
           2987
          ],
          [
           2988
          ],
          [
           2989
          ],
          [
           2990
          ],
          [
           2991
          ],
          [
           2992
          ],
          [
           2993
          ],
          [
           2994
          ],
          [
           2995
          ],
          [
           2996
          ],
          [
           2997
          ],
          [
           2998
          ],
          [
           2999
          ],
          [
           3000
          ]
         ],
         "hovertemplate": "<b>Customer ID:</b> %{customdata[0]}<br><b>Feature Adoption Rate (%):</b> %{x:.2f}%<br><b>CSAT Score:</b> %{y}<br><b>Churn Status:</b> %{marker.color}<extra></extra>",
         "legendgroup": "",
         "marker": {
          "color": [
           0,
           0,
           0,
           0,
           1,
           0,
           0,
           0,
           1,
           0,
           0,
           0,
           1,
           0,
           0,
           0,
           0,
           0,
           0,
           0,
           1,
           0,
           0,
           0,
           0,
           0,
           0,
           0,
           0,
           0,
           0,
           0,
           0,
           0,
           0,
           1,
           0,
           0,
           1,
           1,
           0,
           0,
           0,
           0,
           0,
           0,
           1,
           0,
           0,
           0,
           0,
           1,
           0,
           0,
           1,
           0,
           1,
           0,
           0,
           1,
           0,
           0,
           0,
           0,
           0,
           0,
           1,
           0,
           0,
           0,
           1,
           0,
           0,
           0,
           0,
           0,
           0,
           1,
           0,
           0,
           0,
           0,
           0,
           0,
           0,
           0,
           0,
           1,
           1,
           0,
           0,
           0,
           0,
           0,
           0,
           0,
           0,
           0,
           0,
           0,
           0,
           0,
           1,
           0,
           0,
           0,
           0,
           0,
           0,
           0,
           0,
           0,
           1,
           0,
           0,
           0,
           0,
           0,
           0,
           0,
           0,
           0,
           0,
           0,
           1,
           1,
           0,
           0,
           0,
           0,
           0,
           0,
           1,
           0,
           0,
           0,
           0,
           1,
           0,
           0,
           0,
           0,
           1,
           0,
           0,
           0,
           0,
           0,
           0,
           0,
           0,
           1,
           0,
           0,
           0,
           0,
           0,
           0,
           0,
           0,
           0,
           0,
           0,
           1,
           0,
           0,
           0,
           0,
           1,
           0,
           0,
           0,
           0,
           0,
           1,
           0,
           1,
           0,
           0,
           0,
           0,
           0,
           1,
           0,
           0,
           0,
           0,
           1,
           1,
           0,
           0,
           0,
           0,
           0,
           0,
           0,
           0,
           0,
           0,
           0,
           0,
           0,
           0,
           0,
           0,
           0,
           0,
           0,
           0,
           0,
           0,
           0,
           0,
           0,
           0,
           0,
           1,
           1,
           0,
           0,
           1,
           0,
           0,
           0,
           0,
           0,
           0,
           1,
           1,
           0,
           0,
           0,
           0,
           0,
           1,
           1,
           1,
           1,
           0,
           1,
           0,
           0,
           0,
           0,
           0,
           0,
           0,
           0,
           1,
           0,
           0,
           0,
           0,
           0,
           0,
           0,
           0,
           0,
           0,
           1,
           1,
           0,
           0,
           0,
           1,
           0,
           0,
           0,
           0,
           1,
           0,
           0,
           0,
           0,
           1,
           1,
           1,
           1,
           0,
           0,
           0,
           0,
           0,
           0,
           1,
           0,
           0,
           0,
           0,
           0,
           1,
           0,
           0,
           0,
           0,
           0,
           0,
           0,
           0,
           1,
           0,
           0,
           0,
           0,
           0,
           1,
           0,
           0,
           0,
           0,
           1,
           0,
           0,
           0,
           0,
           0,
           1,
           0,
           0,
           1,
           0,
           1,
           0,
           0,
           0,
           0,
           0,
           0,
           0,
           1,
           0,
           0,
           0,
           0,
           1,
           0,
           0,
           1,
           0,
           1,
           0,
           0,
           0,
           0,
           0,
           0,
           0,
           0,
           1,
           0,
           0,
           0,
           0,
           0,
           0,
           1,
           1,
           0,
           0,
           0,
           0,
           1,
           0,
           0,
           0,
           0,
           0,
           1,
           0,
           1,
           1,
           1,
           0,
           1,
           0,
           0,
           0,
           0,
           1,
           1,
           0,
           1,
           0,
           0,
           1,
           0,
           0,
           0,
           0,
           0,
           0,
           1,
           0,
           1,
           0,
           1,
           1,
           1,
           0,
           1,
           0,
           0,
           0,
           1,
           0,
           0,
           1,
           1,
           0,
           1,
           1,
           0,
           0,
           1,
           0,
           0,
           0,
           0,
           1,
           1,
           0,
           1,
           1,
           0,
           0,
           0,
           1,
           0,
           0,
           0,
           1,
           0,
           0,
           0,
           1,
           0,
           0,
           0,
           0,
           0,
           0,
           0,
           0,
           0,
           0,
           0,
           0,
           1,
           0,
           0,
           1,
           0,
           1,
           0,
           0,
           0,
           1,
           0,
           0,
           0,
           0,
           0,
           1,
           0,
           0,
           1,
           0,
           0,
           0,
           0,
           0,
           0,
           0,
           0,
           0,
           0,
           0,
           1,
           0,
           0,
           0,
           0,
           0,
           1,
           1,
           0,
           0,
           0,
           0,
           1,
           0,
           0,
           0,
           1,
           0,
           1,
           0,
           0,
           0,
           1,
           0,
           0,
           0,
           1,
           0,
           0,
           0,
           0,
           0,
           0,
           1,
           0,
           1,
           1,
           0,
           0,
           0,
           0,
           0,
           1,
           0,
           0,
           0,
           0,
           1,
           0,
           1,
           0,
           0,
           0,
           1,
           0,
           1,
           0,
           0,
           0,
           0,
           0,
           1,
           0,
           0,
           0,
           0,
           0,
           0,
           1,
           0,
           0,
           0,
           0,
           0,
           0,
           0,
           0,
           1,
           1,
           1,
           0,
           0,
           0,
           0,
           0,
           1,
           0,
           0,
           0,
           0,
           0,
           1,
           0,
           0,
           1,
           1,
           1,
           0,
           0,
           0,
           1,
           0,
           0,
           0,
           1,
           0,
           0,
           0,
           0,
           1,
           0,
           0,
           0,
           0,
           0,
           0,
           0,
           0,
           1,
           0,
           0,
           0,
           0,
           0,
           0,
           0,
           0,
           1,
           0,
           0,
           0,
           0,
           0,
           1,
           0,
           0,
           0,
           0,
           0,
           0,
           0,
           0,
           0,
           0,
           0,
           1,
           0,
           0,
           0,
           0,
           0,
           0,
           0,
           0,
           0,
           0,
           0,
           0,
           0,
           0,
           0,
           1,
           0,
           0,
           0,
           0,
           0,
           0,
           0,
           0,
           0,
           1,
           0,
           0,
           0,
           0,
           0,
           0,
           1,
           0,
           0,
           0,
           0,
           0,
           0,
           1,
           0,
           0,
           0,
           0,
           0,
           0,
           1,
           0,
           0,
           0,
           1,
           1,
           0,
           1,
           0,
           1,
           0,
           0,
           0,
           0,
           0,
           1,
           0,
           0,
           1,
           0,
           0,
           0,
           0,
           1,
           0,
           0,
           0,
           1,
           0,
           0,
           0,
           0,
           0,
           1,
           0,
           0,
           1,
           1,
           1,
           0,
           0,
           1,
           1,
           0,
           0,
           1,
           0,
           1,
           0,
           1,
           0,
           0,
           0,
           0,
           0,
           0,
           0,
           0,
           1,
           0,
           0,
           0,
           0,
           1,
           0,
           0,
           1,
           1,
           0,
           0,
           0,
           0,
           0,
           1,
           0,
           0,
           0,
           0,
           1,
           0,
           0,
           0,
           0,
           0,
           0,
           0,
           0,
           1,
           1,
           0,
           0,
           0,
           0,
           0,
           0,
           0,
           0,
           0,
           1,
           0,
           0,
           0,
           1,
           0,
           0,
           0,
           0,
           1,
           1,
           1,
           0,
           0,
           0,
           0,
           0,
           0,
           0,
           0,
           0,
           1,
           0,
           0,
           0,
           0,
           1,
           1,
           1,
           0,
           0,
           0,
           0,
           0,
           1,
           1,
           1,
           0,
           0,
           0,
           0,
           1,
           0,
           0,
           0,
           0,
           1,
           0,
           0,
           1,
           0,
           0,
           0,
           0,
           0,
           0,
           0,
           0,
           0,
           0,
           0,
           0,
           1,
           1,
           1,
           0,
           0,
           0,
           0,
           0,
           1,
           0,
           1,
           0,
           0,
           0,
           1,
           0,
           0,
           0,
           0,
           0,
           0,
           1,
           1,
           0,
           0,
           0,
           0,
           0,
           0,
           0,
           0,
           0,
           0,
           0,
           0,
           1,
           1,
           0,
           0,
           0,
           0,
           1,
           0,
           1,
           0,
           1,
           0,
           1,
           0,
           0,
           1,
           0,
           0,
           0,
           0,
           0,
           1,
           0,
           0,
           0,
           0,
           1,
           0,
           0,
           1,
           1,
           0,
           0,
           0,
           0,
           0,
           0,
           0,
           0,
           0,
           0,
           0,
           0,
           0,
           0,
           1,
           0,
           0,
           0,
           0,
           1,
           1,
           0,
           0,
           0,
           0,
           0,
           1,
           0,
           0,
           0,
           0,
           0,
           0,
           0,
           0,
           0,
           1,
           1,
           1,
           0,
           0,
           0,
           0,
           0,
           0,
           0,
           0,
           0,
           1,
           0,
           0,
           0,
           0,
           0,
           0,
           0,
           0,
           0,
           0,
           0,
           0,
           1,
           0,
           0,
           0,
           0,
           0,
           0,
           0,
           0,
           0,
           0,
           0,
           0,
           0,
           0,
           0,
           1,
           1,
           0,
           1,
           0,
           0,
           0,
           1,
           0,
           1,
           0,
           0,
           0,
           0,
           0,
           0,
           1,
           0,
           0,
           0,
           0,
           0,
           0,
           0,
           0,
           1,
           0,
           0,
           0,
           0,
           1,
           1,
           0,
           0,
           1,
           0,
           0,
           1,
           0,
           0,
           0,
           0,
           0,
           0,
           0,
           0,
           0,
           0,
           1,
           0,
           1,
           1,
           0,
           1,
           0,
           0,
           0,
           0,
           0,
           0,
           1,
           0,
           0,
           0,
           0,
           1,
           0,
           0,
           0,
           0,
           0,
           1,
           0,
           0,
           0,
           1,
           0,
           0,
           0,
           0,
           0,
           1,
           0,
           0,
           0,
           1,
           0,
           1,
           0,
           0,
           1,
           0,
           0,
           0,
           0,
           1,
           0,
           0,
           0,
           0,
           0,
           0,
           0,
           0,
           0,
           0,
           1,
           1,
           0,
           0,
           0,
           0,
           0,
           0,
           1,
           1,
           0,
           0,
           1,
           1,
           0,
           0,
           0,
           0,
           1,
           0,
           0,
           0,
           0,
           1,
           0,
           1,
           0,
           0,
           1,
           0,
           0,
           0,
           0,
           0,
           0,
           0,
           0,
           0,
           0,
           0,
           0,
           0,
           0,
           0,
           0,
           0,
           0,
           0,
           0,
           0,
           1,
           0,
           0,
           1,
           0,
           0,
           0,
           0,
           0,
           0,
           1,
           0,
           0,
           0,
           0,
           1,
           1,
           0,
           0,
           0,
           0,
           0,
           0,
           0,
           0,
           0,
           1,
           1,
           0,
           0,
           0,
           1,
           1,
           0,
           0,
           0,
           0,
           0,
           0,
           0,
           1,
           0,
           1,
           0,
           0,
           0,
           0,
           1,
           0,
           0,
           1,
           0,
           0,
           0,
           0,
           0,
           0,
           0,
           0,
           1,
           0,
           0,
           1,
           0,
           0,
           1,
           0,
           0,
           0,
           0,
           1,
           0,
           0,
           0,
           0,
           0,
           0,
           0,
           0,
           0,
           0,
           0,
           0,
           0,
           0,
           1,
           0,
           0,
           0,
           0,
           0,
           0,
           0,
           0,
           0,
           0,
           0,
           0,
           0,
           1,
           0,
           0,
           0,
           0,
           0,
           1,
           0,
           0,
           0,
           0,
           1,
           0,
           0,
           0,
           0,
           0,
           0,
           0,
           0,
           0,
           1,
           0,
           0,
           0,
           0,
           0,
           0,
           0,
           1,
           0,
           0,
           0,
           0,
           0,
           0,
           0,
           0,
           0,
           1,
           0,
           0,
           1,
           0,
           0,
           0,
           0,
           1,
           0,
           0,
           0,
           1,
           0,
           0,
           0,
           0,
           0,
           0,
           0,
           0,
           0,
           1,
           0,
           1,
           0,
           0,
           0,
           0,
           1,
           0,
           1,
           0,
           0,
           0,
           0,
           0,
           0,
           1,
           0,
           0,
           0,
           0,
           0,
           1,
           1,
           0,
           0,
           0,
           1,
           1,
           0,
           0,
           0,
           0,
           0,
           0,
           1,
           0,
           0,
           0,
           0,
           0,
           0,
           1,
           0,
           0,
           0,
           1,
           0,
           0,
           0,
           0,
           1,
           0,
           0,
           1,
           0,
           0,
           0,
           0,
           0,
           1,
           0,
           0,
           0,
           0,
           1,
           0,
           0,
           0,
           0,
           0,
           1,
           0,
           0,
           0,
           0,
           0,
           0,
           0,
           1,
           1,
           0,
           0,
           0,
           1,
           1,
           0,
           0,
           0,
           0,
           1,
           0,
           0,
           0,
           0,
           0,
           0,
           0,
           1,
           0,
           0,
           0,
           0,
           0,
           0,
           0,
           0,
           0,
           0,
           0,
           0,
           0,
           0,
           0,
           0,
           0,
           1,
           0,
           1,
           0,
           0,
           0,
           0,
           1,
           0,
           0,
           1,
           0,
           0,
           1,
           1,
           1,
           0,
           1,
           0,
           0,
           0,
           0,
           0,
           0,
           1,
           0,
           0,
           1,
           0,
           0,
           0,
           0,
           0,
           0,
           1,
           1,
           0,
           1,
           0,
           0,
           0,
           0,
           1,
           0,
           1,
           0,
           0,
           1,
           0,
           1,
           0,
           0,
           0,
           0,
           0,
           0,
           0,
           0,
           0,
           0,
           0,
           0,
           0,
           1,
           0,
           1,
           0,
           0,
           0,
           1,
           0,
           0,
           0,
           0,
           0,
           1,
           0,
           0,
           1,
           0,
           0,
           0,
           0,
           0,
           1,
           0,
           0,
           0,
           0,
           0,
           1,
           1,
           1,
           0,
           0,
           0,
           1,
           0,
           0,
           1,
           1,
           0,
           0,
           0,
           1,
           0,
           0,
           0,
           0,
           0,
           0,
           0,
           0,
           1,
           0,
           0,
           1,
           0,
           0,
           0,
           0,
           1,
           0,
           0,
           0,
           0,
           1,
           0,
           1,
           0,
           0,
           0,
           1,
           1,
           0,
           0,
           0,
           0,
           0,
           0,
           0,
           0,
           0,
           0,
           0,
           0,
           0,
           0,
           0,
           0,
           0,
           0,
           0,
           0,
           0,
           1,
           1,
           0,
           0,
           0,
           1,
           0,
           0,
           0,
           0,
           0,
           0,
           1,
           1,
           0,
           0,
           0,
           1,
           1,
           0,
           0,
           0,
           0,
           0,
           1,
           1,
           0,
           0,
           0,
           0,
           0,
           0,
           0,
           0,
           0,
           1,
           0,
           0,
           0,
           0,
           1,
           0,
           0,
           0,
           0,
           0,
           1,
           0,
           0,
           0,
           0,
           0,
           0,
           0,
           0,
           1,
           0,
           1,
           0,
           1,
           0,
           0,
           0,
           0,
           0,
           0,
           0,
           0,
           0,
           0,
           0,
           0,
           1,
           0,
           0,
           0,
           0,
           0,
           0,
           0,
           0,
           0,
           0,
           0,
           0,
           1,
           0,
           0,
           0,
           0,
           0,
           0,
           1,
           0,
           0,
           1,
           0,
           0,
           0,
           0,
           0,
           0,
           0,
           0,
           0,
           1,
           0,
           0,
           0,
           0,
           0,
           0,
           0,
           0,
           1,
           0,
           0,
           0,
           0,
           0,
           0,
           0,
           0,
           0,
           0,
           0,
           0,
           0,
           0,
           1,
           0,
           0,
           0,
           0,
           0,
           0,
           0,
           0,
           1,
           0,
           0,
           1,
           0,
           0,
           1,
           0,
           0,
           1,
           0,
           0,
           1,
           1,
           1,
           0,
           0,
           1,
           0,
           0,
           0,
           0,
           0,
           0,
           1,
           0,
           0,
           0,
           1,
           0,
           0,
           0,
           1,
           0,
           0,
           0,
           0,
           0,
           0,
           0,
           0,
           0,
           0,
           0,
           1,
           0,
           0,
           0,
           0,
           0,
           0,
           0,
           0,
           0,
           0,
           1,
           0,
           1,
           0,
           0,
           0,
           1,
           0,
           1,
           0,
           0,
           1,
           0,
           0,
           0,
           1,
           0,
           1,
           0,
           0,
           0,
           0,
           0,
           0,
           0,
           0,
           0,
           0,
           0,
           0,
           0,
           1,
           0,
           0,
           0,
           0,
           0,
           0,
           0,
           0,
           0,
           0,
           0,
           0,
           0,
           0,
           0,
           0,
           0,
           0,
           0,
           0,
           0,
           0,
           0,
           1,
           0,
           0,
           0,
           0,
           1,
           0,
           0,
           0,
           0,
           0,
           1,
           0,
           1,
           0,
           0,
           0,
           0,
           0,
           0,
           0,
           0,
           0,
           0,
           0,
           0,
           0,
           1,
           0,
           0,
           0,
           1,
           1,
           0,
           0,
           0,
           0,
           0,
           0,
           1,
           1,
           0,
           0,
           0,
           0,
           0,
           0,
           0,
           0,
           0,
           1,
           0,
           0,
           0,
           0,
           1,
           1,
           0,
           0,
           0,
           0,
           1,
           1,
           0,
           0,
           1,
           0,
           0,
           0,
           0,
           1,
           0,
           0,
           0,
           1,
           0,
           0,
           0,
           0,
           0,
           0,
           0,
           0,
           0,
           0,
           0,
           0,
           0,
           0,
           0,
           0,
           0,
           0,
           1,
           0,
           0,
           0,
           0,
           0,
           0,
           1,
           1,
           1,
           0,
           1,
           0,
           0,
           0,
           0,
           0,
           1,
           1,
           0,
           0,
           0,
           0,
           0,
           0,
           0,
           1,
           0,
           1,
           0,
           0,
           0,
           0,
           0,
           0,
           0,
           0,
           0,
           0,
           0,
           1,
           0,
           0,
           0,
           0,
           0,
           0,
           1,
           1,
           0,
           0,
           0,
           0,
           1,
           0,
           0,
           0,
           0,
           1,
           0,
           0,
           0,
           0,
           0,
           0,
           0,
           1,
           0,
           0,
           0,
           0,
           0,
           1,
           0,
           1,
           0,
           0,
           0,
           1,
           0,
           0,
           0,
           0,
           0,
           1,
           0,
           0,
           1,
           0,
           1,
           0,
           0,
           0,
           0,
           0,
           0,
           0,
           0,
           0,
           0,
           1,
           0,
           0,
           1,
           0,
           0,
           0,
           0,
           0,
           0,
           1,
           0,
           0,
           0,
           1,
           1,
           0,
           0,
           1,
           0,
           1,
           0,
           0,
           0,
           1,
           0,
           0,
           1,
           0,
           0,
           0,
           0,
           0,
           0,
           1,
           0,
           0,
           0,
           0,
           1,
           0,
           1,
           1,
           0,
           1,
           0,
           0,
           0,
           0,
           0,
           0,
           0,
           0,
           0,
           0,
           0,
           0,
           0,
           0,
           0,
           1,
           0,
           1,
           0,
           0,
           0,
           0,
           0,
           0,
           1,
           0,
           0,
           0,
           1,
           0,
           0,
           1,
           0,
           0,
           0,
           0,
           0,
           0,
           0,
           1,
           0,
           0,
           0,
           0,
           1,
           0,
           0,
           0,
           0,
           0,
           1,
           0,
           0,
           0,
           0,
           0,
           0,
           0,
           0,
           0,
           0,
           0,
           0,
           1,
           0,
           0,
           1,
           1,
           0,
           0,
           0,
           0,
           0,
           0,
           1,
           0,
           0,
           0,
           0,
           0,
           0,
           0,
           0,
           1,
           0,
           0,
           0,
           0,
           0,
           1,
           0,
           0,
           0,
           0,
           0,
           0,
           0,
           0,
           0,
           0,
           0,
           0,
           0,
           0,
           0,
           0,
           0,
           0,
           0,
           0,
           0,
           0,
           0,
           0,
           1,
           0,
           1,
           0,
           0,
           0,
           0,
           0,
           0,
           0,
           0,
           0,
           1,
           0,
           0,
           0,
           0,
           1,
           0,
           0,
           0,
           1,
           1,
           0,
           0,
           1,
           1,
           1,
           1,
           0,
           1,
           0,
           0,
           0,
           1,
           0,
           0,
           1,
           0,
           0,
           0,
           0,
           0,
           0,
           0,
           0,
           0,
           1,
           0,
           0,
           0,
           0,
           1,
           0,
           0,
           0,
           0,
           1,
           0,
           1,
           0,
           1,
           0,
           0,
           1,
           0,
           0,
           0,
           1,
           0,
           0,
           1,
           0,
           0,
           0,
           0,
           0,
           0,
           0,
           0,
           0,
           0,
           0,
           0,
           0,
           0,
           0,
           0,
           0,
           0,
           1,
           1,
           0,
           0,
           0,
           0,
           0,
           0,
           0,
           0,
           0,
           0,
           0,
           0,
           0,
           0,
           0,
           1,
           0,
           1,
           1,
           0,
           0,
           0,
           0,
           1,
           0,
           0,
           0,
           0,
           0,
           0,
           0,
           0,
           0,
           0,
           0,
           0,
           0,
           0,
           0,
           0,
           0,
           0,
           0,
           0,
           0,
           0,
           0,
           0,
           0,
           1,
           0,
           1,
           1,
           1,
           0,
           0,
           0,
           0,
           0,
           0,
           0,
           0,
           0,
           0,
           0,
           0,
           0,
           0,
           0,
           0,
           0,
           0,
           0,
           0,
           0,
           0,
           0,
           0,
           0,
           0,
           0,
           0,
           1,
           0,
           0,
           0,
           0,
           0,
           0,
           0,
           0,
           0,
           1,
           0,
           1,
           0,
           0,
           0,
           0,
           0,
           0,
           0,
           1,
           0,
           0,
           0,
           1,
           0,
           0,
           0,
           1,
           0,
           0,
           0,
           0,
           0,
           0,
           0,
           0,
           0,
           0,
           0,
           0,
           0,
           1,
           0,
           1,
           0,
           0,
           0,
           0,
           0,
           0,
           0,
           0,
           0,
           0,
           0,
           1,
           0,
           1,
           0,
           0,
           1,
           1,
           0,
           1,
           0,
           1,
           1,
           0,
           0,
           0,
           0,
           1,
           0,
           0,
           1,
           0,
           0,
           1,
           0,
           0,
           0,
           0,
           1,
           0,
           0,
           0,
           0,
           1,
           1,
           0,
           0,
           0,
           1,
           0,
           1,
           0,
           1,
           0,
           0,
           0,
           0,
           0,
           0,
           1,
           0,
           0,
           0,
           0,
           0,
           0,
           0,
           0,
           0,
           0,
           0,
           1,
           1,
           0,
           1,
           0,
           0,
           0,
           0,
           0,
           1,
           0,
           0,
           0,
           0,
           0,
           1,
           0,
           1,
           0,
           0,
           0,
           1,
           0,
           0,
           0,
           0,
           1,
           0,
           0,
           0,
           1,
           1,
           0,
           0,
           0,
           1,
           0,
           0,
           1,
           0,
           0,
           0,
           0,
           1,
           1,
           0,
           0,
           0,
           0,
           1,
           0,
           1,
           1,
           1,
           0,
           0,
           0,
           0,
           0,
           0,
           0,
           0,
           1,
           1,
           0,
           0,
           1,
           0,
           0,
           0,
           1,
           0,
           1,
           0,
           0,
           0,
           1,
           1,
           1,
           1,
           0,
           0,
           1,
           1,
           0,
           1,
           0,
           1,
           0,
           0,
           0,
           0,
           0,
           0,
           0,
           1,
           0,
           0,
           1,
           0,
           0,
           0,
           0,
           0,
           0,
           1,
           0,
           0,
           0,
           1,
           0,
           1,
           0,
           0,
           0,
           0,
           1,
           1,
           0,
           0,
           0,
           0,
           1,
           0,
           0,
           0,
           0,
           0,
           0,
           1,
           0,
           0,
           0,
           0,
           0,
           0,
           0,
           0,
           0,
           0,
           0,
           0,
           0,
           0,
           0,
           0,
           0,
           0,
           0,
           1,
           0,
           0,
           0,
           0,
           0,
           0,
           0,
           0,
           0,
           0,
           0,
           0,
           0,
           0,
           0,
           0,
           0,
           0,
           0,
           0,
           0,
           0,
           0,
           1,
           0,
           0,
           0,
           0,
           0,
           0,
           0,
           0,
           0,
           0,
           0,
           0,
           0,
           1,
           0,
           0,
           0,
           0,
           0,
           0,
           0,
           0,
           0,
           1,
           0,
           1,
           0,
           0,
           0,
           0,
           0,
           0,
           0,
           1,
           0,
           0,
           0,
           0,
           0,
           0,
           0,
           1,
           0,
           1,
           0,
           1,
           0,
           0,
           0,
           0,
           0,
           0,
           1,
           0,
           0,
           0,
           1,
           1,
           0,
           0,
           0,
           1,
           0,
           0,
           1,
           0,
           0,
           1,
           0,
           0,
           1,
           0,
           0,
           0,
           0,
           0,
           0,
           1,
           0,
           0,
           1,
           0,
           0,
           0,
           0,
           0,
           1,
           0,
           0,
           1,
           0,
           0,
           1,
           0,
           0,
           0,
           0,
           0,
           1,
           1,
           0,
           0,
           0,
           0,
           0,
           1,
           1,
           0,
           1,
           0,
           0,
           0,
           0,
           0,
           1,
           0,
           1,
           1,
           0,
           0,
           0,
           0,
           0,
           0,
           0,
           0,
           0,
           0,
           1,
           0,
           0,
           0,
           0,
           1,
           0,
           1,
           0,
           0,
           0,
           0,
           0,
           0,
           0,
           1,
           0,
           0,
           0,
           0,
           0,
           1,
           1,
           0,
           0,
           0,
           0,
           0,
           0,
           1,
           0,
           0,
           0,
           0,
           0,
           0,
           0,
           0,
           1,
           0,
           0,
           0,
           0,
           1,
           0,
           0,
           1,
           0,
           1,
           1,
           0,
           0,
           0,
           1,
           0,
           0,
           0,
           0,
           0,
           0,
           1,
           1,
           0,
           0,
           0,
           1,
           0,
           0,
           1,
           0,
           0,
           0,
           0,
           0,
           1,
           0,
           0,
           0,
           1,
           0,
           0,
           0,
           1,
           1,
           0,
           0,
           0,
           0,
           1,
           0,
           0,
           1,
           0,
           1,
           0,
           0,
           0,
           1,
           0,
           0,
           0,
           0,
           0,
           0,
           0,
           0,
           0,
           0,
           0,
           0,
           0,
           0,
           0,
           1,
           0,
           1,
           0,
           1,
           0,
           1,
           0,
           0,
           0,
           0,
           0,
           1,
           0,
           0,
           0,
           0,
           0,
           0,
           1,
           0,
           0,
           0,
           0,
           0,
           0,
           0,
           0,
           0,
           1,
           0,
           1,
           0,
           1,
           0,
           0,
           1,
           1,
           0,
           0,
           0,
           0,
           0,
           0,
           0,
           0,
           0,
           0,
           0,
           0,
           1,
           0,
           0,
           0,
           0,
           0,
           0,
           0,
           0,
           0,
           1,
           1,
           0,
           1,
           0,
           0,
           1,
           0,
           0,
           0,
           0,
           0,
           0,
           1,
           0,
           0,
           1,
           1,
           0,
           0,
           1,
           1,
           0,
           0,
           0,
           0,
           0,
           1,
           0,
           0,
           0,
           0,
           0,
           0,
           0,
           1,
           0,
           0,
           0,
           1,
           1,
           0,
           0,
           1,
           1,
           0,
           0,
           0,
           0,
           0,
           0,
           0,
           0,
           0,
           1,
           0,
           0,
           0,
           0,
           0,
           0,
           0,
           0,
           0,
           1,
           0,
           0,
           0,
           1,
           1,
           0,
           0,
           1,
           1,
           0,
           0
          ],
          "coloraxis": "coloraxis",
          "symbol": "circle"
         },
         "mode": "markers",
         "name": "",
         "showlegend": false,
         "type": "scattergl",
         "x": [
          0.5674996517121547,
          0.3279993979281692,
          0.6659979946695727,
          0.6422663846432397,
          0.4192294089205034,
          0.5833289550971696,
          0.844539884355656,
          0.8440970649274524,
          0.3389353482653889,
          0.4425825263954398,
          0.68710367424567,
          0.445111374540271,
          0.6981010614648335,
          0.8436592726311325,
          0.4984501828023082,
          0.8264238431567734,
          0.3563891639045214,
          0.5743590969682372,
          0.5569886849640646,
          0.5135836071907569,
          0.6810561905205863,
          0.8767143382943485,
          0.7157342152151637,
          0.7079068679401476,
          0.3550224883550886,
          0.8811911663844809,
          0.8916006382937227,
          0.3705157480662629,
          0.4517941007935446,
          0.4128726958342568,
          0.5499834346430875,
          0.8029972228266828,
          0.5703264811860562,
          0.6539735382825818,
          0.7701918076446859,
          0.6508596635694923,
          0.5135948905631917,
          0.6583668493532584,
          0.5382982995024495,
          0.5589957277378077,
          0.3109454888570166,
          0.412226249134514,
          0.3380249822836606,
          0.4230010860319423,
          0.5711691607794236,
          0.4996894715474905,
          0.8260593820570497,
          0.505514554307126,
          0.7627480011118428,
          0.5275834190313293,
          0.5513552697027287,
          0.4859621557611665,
          0.4091568782971627,
          0.5035627475377146,
          0.3159193223242918,
          0.884728359119322,
          0.4633843959116214,
          0.596564310082963,
          0.6662428002047747,
          0.363958951880263,
          0.7143361394673844,
          0.6529582541819587,
          0.6867279903754934,
          0.8315866489417123,
          0.4630121826414024,
          0.3656805592074691,
          0.5304543668947498,
          0.8369528647367039,
          0.6195615116404574,
          0.4471713193532007,
          0.7461049537749647,
          0.5051232996232117,
          0.6885441860411445,
          0.8039682988034831,
          0.8364595222074807,
          0.7780786967184166,
          0.3069723239448603,
          0.6357892100921485,
          0.6818581497261821,
          0.7702995320513173,
          0.3261969946244167,
          0.7363014418597849,
          0.4660966783410309,
          0.5953667138688209,
          0.5652146242697145,
          0.6512126186380514,
          0.5384273930786406,
          0.7384976849225259,
          0.705908031466348,
          0.5424841929906198,
          0.657891284991253,
          0.5392936685381403,
          0.3361604341737365,
          0.7939044093573963,
          0.6827911234759787,
          0.7857179854610652,
          0.5980601153155016,
          0.6871739025154302,
          0.4141949176914407,
          0.4805118650119531,
          0.3955824123713882,
          0.8516351839286505,
          0.3137362949856721,
          0.3730571466751649,
          0.5318765046954883,
          0.6799137756080784,
          0.3066187586571883,
          0.5228451405900845,
          0.8732008119023571,
          0.82947566427366,
          0.6968223666422486,
          0.6863425521246784,
          0.5592461297665177,
          0.7519124015480417,
          0.6671643032023986,
          0.7454088303435056,
          0.8051822228980252,
          0.5326041568502365,
          0.5005429912176365,
          0.6825319586821379,
          0.8577701537254105,
          0.7377049371914381,
          0.3392196945386311,
          0.5512759914444969,
          0.435190157970741,
          0.5773773366003643,
          0.3969718867715228,
          0.5646432949504703,
          0.4013125240066116,
          0.8878694747127132,
          0.7557494460687791,
          0.7492958021779839,
          0.802224675145764,
          0.7024393871435004,
          0.7956234309999433,
          0.3074424217663888,
          0.4711742030143898,
          0.5582564461925941,
          0.6603906399290136,
          0.5684808847934748,
          0.7909240012489486,
          0.7942742305327769,
          0.7507068286850509,
          0.7974106395272946,
          0.8111047421243687,
          0.5247317322120728,
          0.6186512069311457,
          0.5372605607957486,
          0.6322268912148068,
          0.8998282824935484,
          0.6594723510241951,
          0.6376270194134035,
          0.6841189869357743,
          0.5000443932954663,
          0.7931559815639578,
          0.6135459596020472,
          0.585862191806275,
          0.4451590081893177,
          0.3000808158026912,
          0.4880087505510859,
          0.4525388302492173,
          0.5746197630955765,
          0.536840612306897,
          0.7128266663016083,
          0.7643948268916576,
          0.6851159753132132,
          0.8624270628985926,
          0.7687931134483831,
          0.6785530741374981,
          0.3821994378322028,
          0.4140645898702366,
          0.66183858370231,
          0.5387019753012942,
          0.5317939038458795,
          0.6489733757935161,
          0.319685774477165,
          0.3272419688812155,
          0.7554413635550254,
          0.6266981754623191,
          0.8597549175418033,
          0.8139223342487563,
          0.4409840429975716,
          0.6750175116511234,
          0.826790698190901,
          0.8942170691990232,
          0.4585657578951836,
          0.3552571519397414,
          0.6673548904571068,
          0.7436449378987872,
          0.4224147994431472,
          0.5299705437853208,
          0.8372076534919017,
          0.4206592364656004,
          0.7480659837202308,
          0.5241121061398125,
          0.5466561653282639,
          0.5125627963303294,
          0.7212876577090976,
          0.8374048665712672,
          0.7515829764431017,
          0.3401841672151629,
          0.3420021072798395,
          0.6486090560250657,
          0.833476754364006,
          0.5296792586618327,
          0.5769137565531641,
          0.4951743710170486,
          0.6426973791734166,
          0.8630482463148865,
          0.8973786656993301,
          0.7145303859304937,
          0.4028605060263256,
          0.7215841235149374,
          0.4297362054766678,
          0.4376194662226034,
          0.5193574206023801,
          0.6743990913173895,
          0.8642515243804483,
          0.4052949764288144,
          0.7954265709364002,
          0.8244430639831111,
          0.3038611268980774,
          0.6690774843247199,
          0.664991700004663,
          0.6148413825968593,
          0.4664788078349724,
          0.6246017393565975,
          0.6885098789060179,
          0.4107794744084215,
          0.6951968129638602,
          0.4288175324780132,
          0.3190670906143946,
          0.3949823400633686,
          0.7075194907207016,
          0.7641432610384322,
          0.6337968043542477,
          0.4888954976109892,
          0.4951267177657268,
          0.5757904917957435,
          0.7829782382395527,
          0.3171914565465927,
          0.4330691869153912,
          0.5906347113605096,
          0.7182982152827884,
          0.3937901824253165,
          0.8911047330544049,
          0.6141603282915671,
          0.8337459709982953,
          0.8096678437354414,
          0.3302500641613255,
          0.8025185004456334,
          0.7989109998673343,
          0.8392727338424086,
          0.8347909238161793,
          0.5555626250801637,
          0.6513382372759812,
          0.8862190059271056,
          0.8799285099312495,
          0.6948613308338953,
          0.3812132609839704,
          0.3698867098040022,
          0.5861033266398747,
          0.3062961846839666,
          0.65967668379523,
          0.659137795930656,
          0.3480634359657613,
          0.3426934073267458,
          0.4779674892942559,
          0.3332495330653466,
          0.6526182109725276,
          0.4635903883874908,
          0.3952420580245857,
          0.63208306572591,
          0.7164104484634453,
          0.8379447950814063,
          0.6537920970909286,
          0.3120827093695739,
          0.8419341764068244,
          0.3784303941538544,
          0.4942384953662542,
          0.8143385624218746,
          0.8714320514392349,
          0.5852854291396403,
          0.4825451182963174,
          0.3336972059419879,
          0.7905740269826917,
          0.8172456855459582,
          0.7312308679573214,
          0.3059464172946922,
          0.3109650418341037,
          0.803998656362606,
          0.5859158824993425,
          0.4165641426010809,
          0.7408251421590155,
          0.8628384837408789,
          0.5555985116810569,
          0.4896607869281823,
          0.7288174051414406,
          0.658457545544052,
          0.6321351195974148,
          0.6808464846624178,
          0.8387731297110115,
          0.5954173821117755,
          0.5040026316359353,
          0.801918534456542,
          0.6603499181922816,
          0.7368073546777185,
          0.801849357947914,
          0.5852315132132895,
          0.5627399322857474,
          0.6099765551125652,
          0.8112290494828158,
          0.6224042981059088,
          0.8907926865545037,
          0.8612366938006792,
          0.4696592742360591,
          0.5935363528499515,
          0.6511780970005868,
          0.7541565956048649,
          0.4829418746310381,
          0.7258028061027146,
          0.7701009015527454,
          0.5833490993670951,
          0.4819318703065503,
          0.5699662045613159,
          0.7169820798728855,
          0.4429738023318549,
          0.4574910047403546,
          0.3295766956586499,
          0.6643946500758395,
          0.3537396145897864,
          0.3548925110324752,
          0.8903438183382981,
          0.4044940154372378,
          0.7245723514443212,
          0.4755930586004447,
          0.6858626115707103,
          0.6834647081968239,
          0.6235146477081799,
          0.6151909586704329,
          0.8898388197688925,
          0.3292597912878842,
          0.3294027869827641,
          0.3779142080507286,
          0.7485123820479029,
          0.3865440126708621,
          0.4768903430080601,
          0.5814358466340714,
          0.5195395791706845,
          0.3790840979380076,
          0.7424588648562733,
          0.5431182855451978,
          0.3814475118599406,
          0.399923108098362,
          0.6823812939228144,
          0.3561356441474013,
          0.6108092093451118,
          0.3334367914205907,
          0.7990347787830538,
          0.8595613245021863,
          0.360274529808581,
          0.5031041276552837,
          0.3835814032247486,
          0.6404659248139377,
          0.307968722075148,
          0.3502745835289569,
          0.8136921731967963,
          0.7813495075410686,
          0.7781169421657147,
          0.8695687030535904,
          0.3126898940096497,
          0.4406220544067253,
          0.3690934724417222,
          0.7539235003357445,
          0.4807053521984152,
          0.6430073270098431,
          0.3847462188159344,
          0.4461170033397218,
          0.7684092448127174,
          0.6001743112069078,
          0.3939676889355899,
          0.4533997339990886,
          0.5101119145991766,
          0.5053118434551944,
          0.3316258739120634,
          0.6577551451396213,
          0.6249581536790922,
          0.4042029821726039,
          0.564361868435505,
          0.8930223400329427,
          0.5272045259836702,
          0.8439919781711995,
          0.7778710617226856,
          0.3982053982378367,
          0.7628840069157639,
          0.435398749831233,
          0.5998099381697426,
          0.455223042194572,
          0.629858730759612,
          0.472192079682926,
          0.8217247013155311,
          0.4715048691980457,
          0.8368485424987808,
          0.6433702887252007,
          0.6138948004835896,
          0.4306684810605411,
          0.4602991575527939,
          0.771950082498904,
          0.817106293976898,
          0.47210798738832,
          0.6528862240377589,
          0.4527970118594681,
          0.6999154990712303,
          0.6105596790322847,
          0.7471448917034649,
          0.435690959881271,
          0.4083820187647892,
          0.5862289351076129,
          0.3418144180380718,
          0.5562674678516004,
          0.355864293905034,
          0.3674316295933564,
          0.8264444072370882,
          0.5212217544023768,
          0.841525268905772,
          0.5725286518591486,
          0.797657322260388,
          0.4453759975202799,
          0.6540764435559253,
          0.4929250994387228,
          0.4961359578333639,
          0.8904713302957423,
          0.8341324023327337,
          0.4450587044878089,
          0.6555409096588961,
          0.3675655376095324,
          0.3067995559226925,
          0.8325649976963732,
          0.8486042655998902,
          0.5687722183087114,
          0.616497566734957,
          0.6836318528724588,
          0.7011029406905898,
          0.3484250725163916,
          0.6340092316090522,
          0.588080963783024,
          0.3535333008343431,
          0.3771477471070015,
          0.7950809253968515,
          0.698240616416363,
          0.6868540359540558,
          0.454257653637067,
          0.7004493183202987,
          0.6416894328819551,
          0.8302400332988322,
          0.8586541743048091,
          0.4151239106427009,
          0.3171425506344063,
          0.7405632183184293,
          0.8985495557675836,
          0.4073046411046796,
          0.5436659883015347,
          0.5629791648198996,
          0.6728786535940707,
          0.7495892130854607,
          0.7430107662727169,
          0.7572196326234306,
          0.3032093932165337,
          0.6991637017421466,
          0.4483236442433261,
          0.6023332780747641,
          0.6001787246363952,
          0.4891300424263716,
          0.6919737245408176,
          0.3214597458089611,
          0.3710173367107788,
          0.5247895314088973,
          0.7480025788719822,
          0.83095604810698,
          0.6654173668241495,
          0.3569721884509986,
          0.8591476395584736,
          0.8387388628645513,
          0.3110229927228626,
          0.4638957722219671,
          0.4327426918840102,
          0.4473789444292887,
          0.7265927648782098,
          0.3059080950072065,
          0.4882692859834372,
          0.4485387048850708,
          0.4682779345227914,
          0.7670231427272948,
          0.7252085031071431,
          0.3117015885663121,
          0.4768289081138812,
          0.6402073952521034,
          0.5201988883609325,
          0.4217961355147183,
          0.7006837319919702,
          0.3083694112151469,
          0.8856120945146966,
          0.3170024702300307,
          0.6630609733422905,
          0.5590830604715473,
          0.3588347091374745,
          0.7581662877684952,
          0.504411254144881,
          0.6538374216458795,
          0.8883889317384299,
          0.7187830745541682,
          0.4560376488253144,
          0.8740888023545268,
          0.5940025504586062,
          0.3133634730403343,
          0.7128183113711888,
          0.6810941933183611,
          0.6081800303571907,
          0.4023182336362652,
          0.7065667092597565,
          0.5417340186300292,
          0.3928894529230411,
          0.8004669499597952,
          0.7962948890565741,
          0.6223015929624174,
          0.6074638612463306,
          0.4893921761893944,
          0.4937872400182848,
          0.8403996504651772,
          0.3724677134595472,
          0.8127704778911014,
          0.5468465590562793,
          0.3681523904272049,
          0.6131609784387462,
          0.805158404687552,
          0.3496002227919254,
          0.5725366942841216,
          0.8489579619775696,
          0.5963082088449368,
          0.8918484110897333,
          0.8084436809575419,
          0.7689138777198403,
          0.692739714734159,
          0.5235164716816769,
          0.3992222553079115,
          0.8486745905285649,
          0.4689057724634253,
          0.8950196766111376,
          0.5785990468770917,
          0.7475185430191998,
          0.3517495027823789,
          0.6616845193600557,
          0.7476785869431855,
          0.3377828452402203,
          0.8599862282090034,
          0.3051415264864444,
          0.8023314857752193,
          0.8453506464728724,
          0.5690201612589458,
          0.3834960065447771,
          0.3778237547940161,
          0.3459664585566679,
          0.6441919217932544,
          0.5207083086856806,
          0.5026264648345347,
          0.4506950408149714,
          0.6280076999332722,
          0.5456687625763855,
          0.5268186373399171,
          0.7025848256914711,
          0.7663115456637659,
          0.8832999742444143,
          0.5689368087156534,
          0.3635735468064286,
          0.5566150728200767,
          0.7189292720966838,
          0.3469646884379255,
          0.3873772431152709,
          0.6967400299571195,
          0.3939884270181801,
          0.3386430696090259,
          0.5425320263359297,
          0.3949444450891576,
          0.3973413288843465,
          0.8583975023802786,
          0.5545474219239481,
          0.3060426808993698,
          0.6329459002952453,
          0.3829653166066851,
          0.7990944710315901,
          0.6453121301796745,
          0.411124506986336,
          0.4266948224591562,
          0.6359298993461904,
          0.5118028505831018,
          0.3300133601499347,
          0.8423880054335047,
          0.4184917689912193,
          0.4303344594906488,
          0.5467514390873215,
          0.482781499376146,
          0.7062764931443413,
          0.4507846122852941,
          0.5020755666492641,
          0.6349390501677966,
          0.7577693271069368,
          0.7416492866022513,
          0.6115360465137167,
          0.568574323599315,
          0.4153036399286693,
          0.7543773432427159,
          0.4267710225419626,
          0.8495566476622687,
          0.5918679670146285,
          0.5939590519469164,
          0.574579124727105,
          0.8346331163050926,
          0.658757656091898,
          0.3997870201254494,
          0.653480041893623,
          0.3960444632920383,
          0.4825477868919507,
          0.6505609212387007,
          0.5904233641367092,
          0.550432276620328,
          0.3357753146323613,
          0.3852369656658373,
          0.3940255774577514,
          0.6549057192809896,
          0.8318258307746371,
          0.4060541204540764,
          0.7685668913702923,
          0.5735677114611968,
          0.4963501847434902,
          0.6738884204015742,
          0.8622674963528834,
          0.5590396943057095,
          0.5476578436492763,
          0.7951809374056288,
          0.3707160652078621,
          0.8405780976232584,
          0.5454862727505734,
          0.3840387356153619,
          0.6330495608625907,
          0.5821730860219055,
          0.7272708338004812,
          0.4711667981645279,
          0.736438376307571,
          0.8835086892958457,
          0.3150090911345125,
          0.4048197781342688,
          0.7230207133579998,
          0.7764976253025657,
          0.7243607511998635,
          0.6866194202955405,
          0.505809285900358,
          0.613618358783022,
          0.7884401435707602,
          0.8941593838373569,
          0.7389647666211144,
          0.6937439359490152,
          0.656949612551323,
          0.4188625165446524,
          0.8152507555145352,
          0.5344304653527745,
          0.8220331158655698,
          0.6035793378120018,
          0.3186369938538201,
          0.3565018189483423,
          0.819505373249749,
          0.4606000558616656,
          0.5352177208821548,
          0.8935999720969652,
          0.5540551389881009,
          0.472889693420025,
          0.8174426113758535,
          0.6203739281609604,
          0.6502999635752535,
          0.4362894533021678,
          0.5564536814216618,
          0.3186567731658336,
          0.8382231097504107,
          0.8596091414163014,
          0.6802392030345821,
          0.5460982615383825,
          0.7632913988958694,
          0.6017364467642515,
          0.5356565513548315,
          0.5096911093848606,
          0.6630428911084602,
          0.5691679516978032,
          0.7052733708139504,
          0.7105372265328154,
          0.7548441008524795,
          0.7100017687681284,
          0.6460565084615546,
          0.8996010736986693,
          0.7823661184656313,
          0.3716403852457882,
          0.8191144866638371,
          0.3023575928533307,
          0.4504390956012327,
          0.693736794245284,
          0.8572824119986742,
          0.4689445715133181,
          0.7070160538697412,
          0.4294649978656136,
          0.7491506082021198,
          0.3791578954522865,
          0.6912359255967749,
          0.5980063641466365,
          0.8355254175191371,
          0.6836547841059426,
          0.8851764308580279,
          0.768115157680819,
          0.4329560582636684,
          0.6199203986214241,
          0.3720016497701328,
          0.5807176424164695,
          0.6867088946608779,
          0.721038624453471,
          0.7406301848129704,
          0.7226316471104259,
          0.8066192947278579,
          0.4546440367869112,
          0.5350366581787069,
          0.4901671731813513,
          0.4580656556380855,
          0.5032077626742186,
          0.785076173686289,
          0.3752287372058883,
          0.3194252263646448,
          0.8173819416158394,
          0.7639657336000891,
          0.4616141509082965,
          0.764730196484215,
          0.650239350096075,
          0.7857523624857318,
          0.3319980409240477,
          0.8363713563315283,
          0.7708645926976736,
          0.8952230842671569,
          0.5248505497056563,
          0.6890238454308368,
          0.5507137119132789,
          0.3574012262569276,
          0.5517928469154031,
          0.3548486260618146,
          0.8496895178682344,
          0.7983499950686709,
          0.7488324414528698,
          0.3937568038868133,
          0.8280640003238429,
          0.7993354683026273,
          0.6066053014095677,
          0.8226828900972931,
          0.509668584470177,
          0.7198238134499513,
          0.4928113834891352,
          0.7970998272865616,
          0.6992837790823797,
          0.6824345102239797,
          0.373051198588607,
          0.6202619654592145,
          0.5313723584316552,
          0.8244520275164624,
          0.4291983165172389,
          0.3286098865498579,
          0.6617685784143625,
          0.7509698361877661,
          0.7527139844553388,
          0.4034694801438411,
          0.748853619421876,
          0.7019000032897732,
          0.5256883860062942,
          0.7146441639627419,
          0.7590411446262224,
          0.8994056770013208,
          0.5730066193841744,
          0.4304906123177868,
          0.3452129377373351,
          0.8721938705779628,
          0.65773864790541,
          0.7269646365630176,
          0.3389541737879046,
          0.3719641103145215,
          0.8557284632391413,
          0.5133212191382451,
          0.7871927814275508,
          0.7479154092965681,
          0.5664865213320718,
          0.3841936649781569,
          0.6177470499085502,
          0.6578677493393068,
          0.8681376152052254,
          0.5170798079178338,
          0.5292208982467625,
          0.7220284113480827,
          0.6320768831549612,
          0.8099854602657575,
          0.4299696214656518,
          0.5632573323909779,
          0.440957515817486,
          0.3206421766285767,
          0.6607416347753431,
          0.691407748549883,
          0.3845876021940684,
          0.4974714922185639,
          0.4486265830674282,
          0.7746179262070507,
          0.6715247550178939,
          0.7402130755655141,
          0.639300438813301,
          0.4873407122499024,
          0.4213727651235228,
          0.6576976787464066,
          0.5673724152599593,
          0.7685599078742966,
          0.4355920593968955,
          0.8628709983580214,
          0.8904837882250418,
          0.8643489220411789,
          0.5574287963832694,
          0.7643550340833292,
          0.4460724071830594,
          0.3801349595180901,
          0.3290033425068557,
          0.4111609054186408,
          0.449808638603595,
          0.6351096918964951,
          0.5691153647294895,
          0.862162419019604,
          0.4908795188000945,
          0.3784321913700578,
          0.7743552771902478,
          0.71828388836747,
          0.3751605564794791,
          0.5787201507948583,
          0.3208452875533961,
          0.5557685437527209,
          0.7997410336947579,
          0.4583800420413555,
          0.6317681361467355,
          0.4188652288029445,
          0.314423133543515,
          0.5564490721126256,
          0.7700811308629896,
          0.6598117885368358,
          0.4136086341779151,
          0.8885506369072993,
          0.694435823696798,
          0.6761121727521201,
          0.8908113323491436,
          0.7832842408078948,
          0.3247848851528789,
          0.637662042480919,
          0.7042503877553152,
          0.7391425194078192,
          0.8283494658725801,
          0.7892576964069411,
          0.5600285088689645,
          0.5809358424555795,
          0.3482659201256005,
          0.8368284628533678,
          0.8343306892616795,
          0.6000888498986396,
          0.4471379749390073,
          0.4087955136625879,
          0.3478986399377241,
          0.8769473826233496,
          0.3552420274253415,
          0.403396741404435,
          0.6870496151800718,
          0.5594884382508726,
          0.3596769584713139,
          0.493535541979961,
          0.6809722277833736,
          0.6090362074547218,
          0.363175714953567,
          0.6144669247361731,
          0.736461442449289,
          0.6669189567688644,
          0.6424411493856845,
          0.4103074361335787,
          0.8895292569237596,
          0.8162939656779891,
          0.5786221921092247,
          0.5252371323907039,
          0.565794923193791,
          0.632965733550682,
          0.3946805262153995,
          0.7845972465993276,
          0.6478996447601183,
          0.8551481921706994,
          0.8305166827370216,
          0.310136013042911,
          0.5180002691497586,
          0.6709732927146032,
          0.5893297635362319,
          0.6883922840522594,
          0.7100716460526302,
          0.5306034167751166,
          0.8523211387437766,
          0.7292905078646337,
          0.7416324086896738,
          0.8559473502858757,
          0.5512526987521288,
          0.5309137574958321,
          0.7446642249778086,
          0.6905300910743217,
          0.4028593226848308,
          0.4825227108810022,
          0.4815159247228276,
          0.3190833187403047,
          0.8598564438659126,
          0.5193172781443676,
          0.6348848960417655,
          0.6657121867859546,
          0.3686787395847264,
          0.5586638924073224,
          0.4830949983223738,
          0.7312675083508293,
          0.5407288966267974,
          0.8195048852519653,
          0.7758074392616392,
          0.8801113393467783,
          0.8725422189927792,
          0.541025720048004,
          0.5291145751330996,
          0.5285674576042843,
          0.6517607059159609,
          0.6733185877680798,
          0.3024151673123824,
          0.6933349184504093,
          0.806874216173737,
          0.3782190145061346,
          0.5192367231738538,
          0.4427544973469901,
          0.8459578193863297,
          0.7333825975977233,
          0.6536091459032907,
          0.4740304273774651,
          0.5738089446421486,
          0.4011492020985716,
          0.6089894422174835,
          0.5390954965638521,
          0.805783441229138,
          0.8882755025127465,
          0.365099007042263,
          0.7855475020520897,
          0.6583463809932506,
          0.4923988357337099,
          0.3731034668126932,
          0.3208709885152404,
          0.5359478788752227,
          0.8020949366417991,
          0.3384000496514321,
          0.451701721844874,
          0.4468554904560783,
          0.8395672755218,
          0.4091284188909524,
          0.4672169125816954,
          0.453919570566587,
          0.6772019560189759,
          0.5386086810870206,
          0.7738196581893089,
          0.8168848874056167,
          0.3852641758995494,
          0.888231209186662,
          0.8133747397055264,
          0.3442258912033463,
          0.3486506047597719,
          0.6427541409782268,
          0.8372671882600249,
          0.5256520277013612,
          0.517653096720706,
          0.6167245247337374,
          0.8574425489050264,
          0.4234225769859419,
          0.8798000602833862,
          0.563770338005319,
          0.4682579169441461,
          0.8852390865631357,
          0.5157820459074015,
          0.6833733981206157,
          0.5413957540551968,
          0.3382218614905958,
          0.6880649766491596,
          0.5327583225929233,
          0.846406643950983,
          0.6606975226266403,
          0.6039592177100757,
          0.536232243919317,
          0.6097398587614975,
          0.8451561527498257,
          0.6034699800720298,
          0.7698404820954098,
          0.3769692641695989,
          0.8026954319541606,
          0.6469523072020312,
          0.8711805733820419,
          0.8546966151181752,
          0.3223803287168869,
          0.5369692282063578,
          0.7354068800931111,
          0.89808898564257,
          0.6631444545433092,
          0.7335324579696938,
          0.7184325369415292,
          0.3575854180176677,
          0.6697845899080165,
          0.7081277426513296,
          0.7376073205978637,
          0.6651422027181904,
          0.5245276774434349,
          0.7998297786413946,
          0.5936118752445512,
          0.6386047007238904,
          0.5176920182827989,
          0.7968651055609846,
          0.7904685903041719,
          0.657416097488141,
          0.8382344810233753,
          0.4782531919123445,
          0.4639418516783686,
          0.808234914523017,
          0.7594953281774661,
          0.7457911940223625,
          0.6761590985579147,
          0.4858021200540957,
          0.4180397198569082,
          0.8746467798703503,
          0.3695116662022587,
          0.7995909013515843,
          0.4709578833150686,
          0.7874706790323565,
          0.8426782551313974,
          0.5004004312959563,
          0.3942501885773458,
          0.6379588323123724,
          0.8982976885676741,
          0.4624992842039755,
          0.3007540772362867,
          0.5511098319916103,
          0.4167336967135632,
          0.7350825985199063,
          0.313831670067126,
          0.4486416984210695,
          0.4437046464241829,
          0.4694425973075186,
          0.866842074170356,
          0.7754105786129584,
          0.4355716265119523,
          0.3706843278406105,
          0.5448085001989613,
          0.527329427730741,
          0.7542198341647213,
          0.57068393970063,
          0.4953890919038028,
          0.8977629406819225,
          0.8098444368872253,
          0.8595702103022003,
          0.8372484348402118,
          0.5292650821831961,
          0.8428365644537676,
          0.7396715834186367,
          0.7659590893180128,
          0.7291031715657484,
          0.4014008078559019,
          0.3470954546801438,
          0.3578760622738618,
          0.6042017942977032,
          0.8718312433209847,
          0.7406954403666306,
          0.3865507884699549,
          0.4158737041582419,
          0.6398398168562811,
          0.5035875577158482,
          0.8457682781297473,
          0.8275494258466709,
          0.5257090742915711,
          0.4515716763610647,
          0.7164860489757892,
          0.5946919045862703,
          0.6099962974811641,
          0.3213737194524592,
          0.7918431245557486,
          0.8946528930729696,
          0.3466472663392013,
          0.5771515760463826,
          0.862028135778899,
          0.622031176443731,
          0.8058260620030222,
          0.7043887633899304,
          0.8352153414179841,
          0.8515777291973432,
          0.5914566723294901,
          0.517914747812483,
          0.5461833681359491,
          0.3105720016378284,
          0.8782674818497822,
          0.3356652529745498,
          0.5694783395360946,
          0.7131597124052972,
          0.7140120823891691,
          0.3386942183370256,
          0.555061680437137,
          0.7316861359058788,
          0.3355490714398365,
          0.5688785159248606,
          0.4383890845111735,
          0.8126576320690384,
          0.6781432874297426,
          0.7399564355419799,
          0.6619693916703531,
          0.3501765979079644,
          0.3566317202521013,
          0.445223995665628,
          0.5996373595026394,
          0.8432105413962223,
          0.3680004512686235,
          0.8158223329228464,
          0.7455559107853381,
          0.8062748066799006,
          0.6038197521370735,
          0.8332540311234156,
          0.7974411877296546,
          0.5004473373202906,
          0.739781800632993,
          0.748539740507894,
          0.6742331815675101,
          0.8335353612509362,
          0.5806393626686823,
          0.5015733244369754,
          0.7793102761203807,
          0.833421626479921,
          0.3351585815257651,
          0.8305023951065318,
          0.5003049780416053,
          0.5533883267136194,
          0.3846216065611212,
          0.6248836964478524,
          0.7387509944620214,
          0.7757893414349026,
          0.4061297640956708,
          0.3083884751037071,
          0.3519428372145747,
          0.4313210953977281,
          0.3777902402946771,
          0.6218232142344755,
          0.6968035850331495,
          0.6316510999410757,
          0.3981310267937679,
          0.723624590374901,
          0.8883667207523454,
          0.5921845509610089,
          0.3220369133435493,
          0.8889310427503325,
          0.7972548442460037,
          0.4998699347332257,
          0.4320075591908313,
          0.5307502757161309,
          0.4063283449614564,
          0.3212513839685182,
          0.8725300901008242,
          0.6972740643811728,
          0.5418453256201369,
          0.5499207036723688,
          0.7351714617809684,
          0.737330224603312,
          0.8196564788192249,
          0.4197888115088005,
          0.6490650358666612,
          0.6368678302141754,
          0.4386465735732772,
          0.8424647432745815,
          0.5182569329890415,
          0.535466906506155,
          0.540535990959976,
          0.4393942737191565,
          0.8995476551304156,
          0.7086924433982678,
          0.5064244731688368,
          0.7531011553771967,
          0.3822599680792998,
          0.4433112212209199,
          0.7160382157635208,
          0.8511254010595133,
          0.5160839196540038,
          0.8944255437371449,
          0.3024010055608212,
          0.5069609615662918,
          0.7000952062866906,
          0.4975126839887087,
          0.3978840861329757,
          0.6129248695161085,
          0.7260136389001108,
          0.7651999359535275,
          0.6337426354201743,
          0.7082493847641818,
          0.8331308296220208,
          0.3858915737094155,
          0.7229907830865485,
          0.4483506539302689,
          0.4302864947039513,
          0.3554408595184229,
          0.4650764456275998,
          0.5781009397003112,
          0.3517909640916987,
          0.620287028555007,
          0.3950562896437076,
          0.6969115690865937,
          0.4313008065526156,
          0.8096002527687463,
          0.3450770649862911,
          0.3991427341262406,
          0.8687112438431002,
          0.8294085671038522,
          0.8778384676578121,
          0.6591505556777897,
          0.6798127317228111,
          0.5737797850743336,
          0.8328964992120655,
          0.3632793780056517,
          0.5560412020032568,
          0.4964073248394099,
          0.5321766477106424,
          0.6193780904899173,
          0.4314869809395482,
          0.892941617912899,
          0.8909425494809475,
          0.5092743531192125,
          0.3464853343547754,
          0.6070769965652512,
          0.3136845964125738,
          0.7238275259418251,
          0.6310732686639948,
          0.4149620145111193,
          0.5745283374655499,
          0.6515815072199374,
          0.8765316775349843,
          0.8243396205008695,
          0.5129305217561149,
          0.3020950551617821,
          0.4769419518578553,
          0.5664231978242247,
          0.4000875041554459,
          0.7978114269338207,
          0.8600232438553317,
          0.371456598112053,
          0.4008641167236802,
          0.6577247775395222,
          0.3993367621852806,
          0.5691094243309391,
          0.3229584869935807,
          0.8740956226495684,
          0.6520859835811987,
          0.3732189091071509,
          0.6535536437416047,
          0.586729796779194,
          0.4815633725452223,
          0.6919101612482639,
          0.5284605432946319,
          0.6958466569616764,
          0.3088991054727485,
          0.8163571348295708,
          0.7179998805981972,
          0.6845786375983992,
          0.6958860688808377,
          0.8261408806984369,
          0.5957126033429622,
          0.4149563807417971,
          0.7299434751616902,
          0.7663905736886325,
          0.6227488201186433,
          0.4894988970918342,
          0.4554324894978694,
          0.5448271603290407,
          0.4086192254256008,
          0.6886625930484028,
          0.7218171699227676,
          0.4293978958904483,
          0.8444107629101214,
          0.4444446828693719,
          0.8760110508155134,
          0.4213565266104077,
          0.8304017310839382,
          0.7193719587118419,
          0.3059165002929639,
          0.6022462172248373,
          0.7526562174959568,
          0.6973893146652761,
          0.4160577550079739,
          0.7020975465235694,
          0.7508245592148064,
          0.6825919703291388,
          0.6432595956301543,
          0.8707930697471042,
          0.5978248847837125,
          0.7479908597025571,
          0.6040546908142614,
          0.7676195014487255,
          0.7148875093449476,
          0.3882600063019782,
          0.65262731787355,
          0.7488021893813215,
          0.8879641431434677,
          0.6467743172731466,
          0.5385899149938077,
          0.8207878634638486,
          0.5982784820905277,
          0.3953112456957936,
          0.6214753570893675,
          0.419657314982374,
          0.5360800312441676,
          0.724531698684132,
          0.5453983112457078,
          0.8731719683096972,
          0.748510138048504,
          0.5321675099551814,
          0.3034837565455455,
          0.4862401811598981,
          0.4170161910131256,
          0.4084951986914243,
          0.7092755733039204,
          0.8902572807413414,
          0.4074247430704574,
          0.8668902429300043,
          0.7480499295092087,
          0.467281777431618,
          0.7099952595215309,
          0.5952823581937017,
          0.7697408696736592,
          0.5514188502504765,
          0.534242090218316,
          0.8522679743374715,
          0.8641314625895105,
          0.3964195958896221,
          0.6133282077766348,
          0.7607804979047401,
          0.3757848001873941,
          0.718845221238952,
          0.684651770375795,
          0.4381100948004009,
          0.4817412271254317,
          0.5478162669789169,
          0.8534388164595055,
          0.3642675091890742,
          0.4896653889012847,
          0.8489490246506455,
          0.8848421683545045,
          0.6808541517358918,
          0.3246526697804551,
          0.6711730112448333,
          0.3240810302609656,
          0.663878211105339,
          0.4806993222007555,
          0.863783514929747,
          0.4813027579831727,
          0.8169329428021388,
          0.7121765729921068,
          0.5040144811775878,
          0.4291711350463149,
          0.675072890251558,
          0.3065372838152058,
          0.7884358046690053,
          0.6619904681336639,
          0.4965310589044572,
          0.4838635145539665,
          0.4442688752448477,
          0.7475789084869557,
          0.8128099248557212,
          0.4029058937881457,
          0.4182381204265897,
          0.6556870775635855,
          0.8369594271994929,
          0.6328477822991554,
          0.7786223581798611,
          0.8003695535677884,
          0.4211602347845328,
          0.4743972728089581,
          0.7736935060941843,
          0.5801564329441948,
          0.4743056476669134,
          0.5613671146933343,
          0.3656659962619613,
          0.7855519365903929,
          0.6689666169947428,
          0.3788676099889274,
          0.8663387341528175,
          0.7077602350950503,
          0.3351248531700467,
          0.7410082850764788,
          0.4209227621926,
          0.5461893308843339,
          0.8134124207525122,
          0.3074348783887015,
          0.6885220009627159,
          0.5374503631715927,
          0.6863179410062581,
          0.7356519021425225,
          0.6192043652800838,
          0.8673347227321446,
          0.7000916809775091,
          0.3284063187296639,
          0.8531808753049974,
          0.6432202596963251,
          0.8303077798423479,
          0.6066541206938512,
          0.6520663729338901,
          0.4926732198348835,
          0.3400656829274899,
          0.5474576940076552,
          0.6364186904785596,
          0.3086221235560494,
          0.8523046736919495,
          0.4004237109240816,
          0.7928706617758489,
          0.8212099271910673,
          0.5603843538917421,
          0.4513026633991116,
          0.4673019679264177,
          0.786003122033963,
          0.6851903327884831,
          0.68396696106288,
          0.6957780147009399,
          0.4597873893587848,
          0.8584994494904927,
          0.8668865126796834,
          0.4228322438504213,
          0.5199234326453737,
          0.8364585167934178,
          0.4611457084809161,
          0.5850665750900153,
          0.385872308676236,
          0.3585769437651146,
          0.376567142995167,
          0.3847876466964961,
          0.4182095277690116,
          0.5714561318800233,
          0.4995747199241038,
          0.7608361708155502,
          0.509424597414311,
          0.8685375839760354,
          0.8111185047084899,
          0.5255920014422432,
          0.4201611637070538,
          0.31258799690036,
          0.5888443279693784,
          0.4848758445623115,
          0.3247252174449277,
          0.3807365104037181,
          0.6814538006205115,
          0.4305296580086148,
          0.4933924070527053,
          0.7145651364101149,
          0.6906473854495516,
          0.4552981860415683,
          0.6917145093598733,
          0.3996751427726672,
          0.769006752780865,
          0.4641429441331645,
          0.3997556569808379,
          0.7660610451057869,
          0.3466590419146662,
          0.7755223356685941,
          0.8146641575814684,
          0.4164179689437625,
          0.5311709556203896,
          0.3963323655853047,
          0.3318422312635469,
          0.4287885292621188,
          0.5581200580455945,
          0.7523099838342997,
          0.7303565108859785,
          0.4788474442579169,
          0.6855904998483409,
          0.3429671472537109,
          0.6384142761613092,
          0.6191142656142987,
          0.7975518570741706,
          0.7856779601435968,
          0.7740054096170674,
          0.7006887436919589,
          0.5128505615677661,
          0.5840750114518614,
          0.7553087541123282,
          0.6973763485595834,
          0.7537403653116104,
          0.3690671794992206,
          0.7889804028119077,
          0.3321593351573216,
          0.4865308203089026,
          0.6000044155895294,
          0.4209680065488093,
          0.7977019644241711,
          0.8216325515928375,
          0.6079730162318973,
          0.7200935937874349,
          0.5115372853454911,
          0.4612239720220201,
          0.8607725042123449,
          0.4637513084426004,
          0.7205440104776726,
          0.3046059108460926,
          0.5229281970019052,
          0.6501482992681109,
          0.5236880532851949,
          0.8955928483516296,
          0.3966109996945418,
          0.7542349157024615,
          0.8152240939590916,
          0.7878661610824664,
          0.3309091355635831,
          0.7865947638331436,
          0.3307338426173449,
          0.8633345996791844,
          0.8724524118214285,
          0.7887510801406856,
          0.6494736782817433,
          0.6403664228387144,
          0.6909290564087613,
          0.8570524265663559,
          0.6450459686954984,
          0.3745436843180844,
          0.3970489740865514,
          0.6563664316841153,
          0.7681365384399448,
          0.8683424851417998,
          0.6890017920915144,
          0.5448257992908432,
          0.8223741380467879,
          0.4340427747817359,
          0.681986715533726,
          0.7277322894316476,
          0.8212854429788699,
          0.6506990878077974,
          0.7903552866083281,
          0.8147374543650949,
          0.4397981928317716,
          0.5951146040342545,
          0.4195994758285282,
          0.3771602137351151,
          0.3375941801583978,
          0.4240411833849443,
          0.6518800043440132,
          0.5123293867582828,
          0.5206665558692495,
          0.8416301608867196,
          0.8698325944263428,
          0.7550161933745596,
          0.6255426295222883,
          0.7498906483650034,
          0.4040582221533346,
          0.472467358434351,
          0.3098170312906956,
          0.8209827447207005,
          0.5812923146689392,
          0.35783464349666,
          0.661944792836887,
          0.6443170415121522,
          0.5083730153978142,
          0.5848534042280464,
          0.4321717006480395,
          0.8661646930941931,
          0.8405606973175686,
          0.5085390735575507,
          0.6188621356116588,
          0.7671439595747475,
          0.4405105775215729,
          0.4027114340422306,
          0.4568081479106016,
          0.707804013122197,
          0.5513218318363323,
          0.3203239936006938,
          0.4853691242193342,
          0.3624214606980882,
          0.3423347731592545,
          0.5635983016759203,
          0.6067612914809006,
          0.6676817089558809,
          0.5151133072817076,
          0.6597926550278876,
          0.4320239543127727,
          0.7771127850577596,
          0.5883356125804536,
          0.5093999353515528,
          0.535542432241895,
          0.6859278018134558,
          0.7040999164910815,
          0.8764095924228559,
          0.4683282139726313,
          0.436000938817382,
          0.4143721264089081,
          0.6121732385229028,
          0.780801789135948,
          0.8098780023921939,
          0.6243592236333971,
          0.5658913640729402,
          0.5412422409704567,
          0.3372707405159821,
          0.8603355094665608,
          0.4742147925742573,
          0.4720187660832543,
          0.3943385500196967,
          0.3886538650597723,
          0.600895287837041,
          0.3798589612976465,
          0.5736587330351636,
          0.574871607436839,
          0.4323743449861525,
          0.5323276730500561,
          0.6982781603295359,
          0.7032224272307144,
          0.3205833240387181,
          0.6957443651230911,
          0.4356671463805551,
          0.8169618082639378,
          0.8550265627218123,
          0.5262750599137513,
          0.7004994717743915,
          0.3730031358023251,
          0.7979033070139351,
          0.565147660628686,
          0.8554441569643403,
          0.4790778220472861,
          0.7185627008366173,
          0.3986614699733411,
          0.5689407799302402,
          0.5826900237716628,
          0.4247177442932595,
          0.4498298481810016,
          0.8822416804097442,
          0.7424081893564742,
          0.8470688530411701,
          0.7499017340306429,
          0.3162799349208396,
          0.8897360408906316,
          0.5010076558410304,
          0.8548145614163591,
          0.383740090384993,
          0.8550769205180753,
          0.8455045792438087,
          0.8557920292547818,
          0.5184107495558019,
          0.5655067391671889,
          0.6795431884772005,
          0.4063585792655421,
          0.7747120123406184,
          0.3367822930406784,
          0.7360654057511247,
          0.3751565979311632,
          0.537320637637778,
          0.4646228970585734,
          0.3805392327188803,
          0.3421295537164357,
          0.7833648041021699,
          0.3266379355017799,
          0.7989837755967861,
          0.6322301490953262,
          0.7447467342151781,
          0.585308790606774,
          0.7255617265033203,
          0.8041956358226297,
          0.6462412294236171,
          0.8282749400206224,
          0.6754968859666423,
          0.5075273099846369,
          0.3382619268392457,
          0.4917030202294876,
          0.3925334763173526,
          0.4172748025773556,
          0.4860960747478858,
          0.5153236390954358,
          0.444613583134619,
          0.3431372043087042,
          0.331125663598195,
          0.4735726482398956,
          0.3161847719135184,
          0.5093926361980158,
          0.514071510821789,
          0.3478655551856539,
          0.4088448703833261,
          0.7092043627429191,
          0.6849866982547322,
          0.8228010706026638,
          0.7363418344015762,
          0.5124626679826954,
          0.5920302124087103,
          0.8171184097697433,
          0.5996692315953858,
          0.3915568429290553,
          0.7761975058187197,
          0.3437747338287382,
          0.613521141351071,
          0.4498054895685955,
          0.440481098707377,
          0.3889012560775211,
          0.468690096905101,
          0.313887807213205,
          0.7323442608359809,
          0.6064443422249362,
          0.8370902400541682,
          0.6209122605272788,
          0.8604262755884962,
          0.5864189300482848,
          0.6525455865859635,
          0.8219163887227234,
          0.3412830922542323,
          0.8355111145343483,
          0.3652943412076483,
          0.3613915539929986,
          0.4307043134520157,
          0.5905122497622034,
          0.5272684027876215,
          0.6831534739749304,
          0.4352394666747842,
          0.3622962516066716,
          0.5538861128078867,
          0.8812551328175566,
          0.3996603960799347,
          0.3187479713816024,
          0.7360060345321815,
          0.7809253632033868,
          0.4972657746611443,
          0.6638867084291327,
          0.6505254847195391,
          0.3673768328459386,
          0.4585982161247109,
          0.4000539892633006,
          0.6822204747376293,
          0.6279455464748727,
          0.4394513066066261,
          0.7197634485823323,
          0.3162416118821791,
          0.6110969845947172,
          0.6184571700930139,
          0.8098155919861565,
          0.8739160497463596,
          0.6245617459188451,
          0.5182976434515496,
          0.8095936612574861,
          0.4153756006963684,
          0.646506928486015,
          0.7432550338589063,
          0.7170827835164986,
          0.5372925157121533,
          0.6952104504443288,
          0.3009343408953155,
          0.4746831404876216,
          0.8257218246248892,
          0.4649254324340364,
          0.4025626747249615,
          0.7628723118827276,
          0.5050320254691159,
          0.3149422633071556,
          0.6617616405453228,
          0.8087646474908576,
          0.6963643990865866,
          0.5362079129587867,
          0.6923425423017255,
          0.5689844629436007,
          0.6286273435769563,
          0.5683930878004892,
          0.5100998141146186,
          0.4595728856662475,
          0.8034131750005236,
          0.8017248583471843,
          0.3454563029527556,
          0.7984777709905673,
          0.572083342518927,
          0.7745882058330673,
          0.4636662203552264,
          0.8797891179688044,
          0.6589010831314521,
          0.3387240626892212,
          0.681217060457029,
          0.6725164800460557,
          0.8440853789020215,
          0.6097725647993661,
          0.7209827124091543,
          0.6926626294080486,
          0.4717975681404827,
          0.7133273544185619,
          0.4975066135206728,
          0.3974488653346198,
          0.4483185735239387,
          0.4984786767602251,
          0.7196662277630956,
          0.5800941266443917,
          0.5266724930384056,
          0.7282158282874074,
          0.6413655906397652,
          0.6453033460668266,
          0.814045489444355,
          0.4199844736128364,
          0.4724912178855092,
          0.3130376416411115,
          0.337437241945832,
          0.7312975720631179,
          0.5779047600134548,
          0.7286725292980258,
          0.4257587298769127,
          0.6535097955672378,
          0.3449093102913378,
          0.6723616065563948,
          0.8040997772960403,
          0.7971030900313499,
          0.4814280112880421,
          0.3837251108660425,
          0.4535460578531542,
          0.7991968012230461,
          0.4093653504994269,
          0.3406940231827132,
          0.770291136499565,
          0.5782093615355508,
          0.5451933872171449,
          0.6687135916680175,
          0.627360408158049,
          0.6751910824896312,
          0.3873373486371742,
          0.8941478000300853,
          0.6429985679815076,
          0.5973955477883219,
          0.5857939081649641,
          0.4632969098973776,
          0.8505707281067436,
          0.6458353501198831,
          0.5572070398652054,
          0.5060138185973259,
          0.7307826640446173,
          0.5431477967438352,
          0.4365133510878197,
          0.8896154562312004,
          0.7994200607220181,
          0.3190400170042804,
          0.4692747242599698,
          0.4928216826483229,
          0.4511949180899284,
          0.7124026209293693,
          0.7559377972925467,
          0.8945626933554285,
          0.6813976627076086,
          0.3316834079498632,
          0.7057435338545244,
          0.3471803203170615,
          0.6462657896782694,
          0.7540748056471773,
          0.3121175644641176,
          0.867904393482271,
          0.8459614646546083,
          0.3553310854073127,
          0.4205854131289455,
          0.7887370989597949,
          0.5972012081636653,
          0.7208914961402457,
          0.613262671807141,
          0.5093764587638356,
          0.868945250748508,
          0.6105927673100235,
          0.8335368433153245,
          0.5655208668776825,
          0.6972361262502116,
          0.6262818955909617,
          0.4220313136701107,
          0.724658018278106,
          0.7401631761861436,
          0.6083422775774924,
          0.5319773205896305,
          0.753320120603604,
          0.5108761276518657,
          0.3005543254700651,
          0.7572842127354238,
          0.836390196802937,
          0.8986458368662662,
          0.7691704424555574,
          0.5220475218261602,
          0.4393929991120298,
          0.8057567362312423,
          0.652406250783667,
          0.5565890583093906,
          0.4710019392524939,
          0.5250288473731473,
          0.5240932022072591,
          0.4877778471022692,
          0.8010020483129652,
          0.5542920329233361,
          0.6298606037329904,
          0.3609335315703843,
          0.656799315367872,
          0.3627641148339293,
          0.5694344186066318,
          0.3587857053478857,
          0.5080585233249273,
          0.3418409504170934,
          0.4934421060723897,
          0.6255186530231409,
          0.5461416097725408,
          0.3884705804643195,
          0.4335918856520759,
          0.3993573052656375,
          0.681384663791808,
          0.7255603228326806,
          0.3610213702048566,
          0.7127897424045304,
          0.5864204123079552,
          0.3089380650014537,
          0.6876257777581558,
          0.4601771640607323,
          0.7769037448632947,
          0.3788100508311421,
          0.4990856745417248,
          0.5765437870613204,
          0.7828650058663926,
          0.8182107947349437,
          0.3797427044228193,
          0.6192858306294557,
          0.7902956321087745,
          0.371364796112302,
          0.8790287398460148,
          0.5358169549698082,
          0.5172290700051352,
          0.8300789610672556,
          0.7592735552698764,
          0.6269557924832395,
          0.7724341554712502,
          0.6769333393745919,
          0.4128411081636304,
          0.4124378678040415,
          0.3104193649383853,
          0.8816221746110797,
          0.5901556144511221,
          0.3166554415324191,
          0.6392843732039835,
          0.4262903683521957,
          0.830407759019715,
          0.6405514889062061,
          0.4394120490523786,
          0.6612596913319863,
          0.5058070597702542,
          0.4488995059255685,
          0.790057611246833,
          0.737050553444246,
          0.3340168973823745,
          0.8076718195139665,
          0.6189156453150041,
          0.4052692137471988,
          0.3449592515127718,
          0.3038266951605698,
          0.5025506746689297,
          0.7021860226002397,
          0.5282625085641023,
          0.7211885113586354,
          0.5426965461771902,
          0.805499610063843,
          0.6672837807379303,
          0.5980510011232574,
          0.3061530896268982,
          0.3852913832097628,
          0.8429221131581417,
          0.6617175780578677,
          0.4433782323246342,
          0.4358901896903381,
          0.7008436922493813,
          0.8854826521256669,
          0.3783030459564654,
          0.4829071458400635,
          0.7609695597770498,
          0.4448408820643698,
          0.6034357083624636,
          0.6732006449490777,
          0.7883554067297207,
          0.7094428264052679,
          0.8806068984210684,
          0.5255202524828757,
          0.8202230045880134,
          0.8862618842326151,
          0.3259579041772728,
          0.8195673709786027,
          0.3238814517123503,
          0.6024653566197606,
          0.34022366763122,
          0.3461161455081361,
          0.546663673371412,
          0.8483044452835282,
          0.5691829437100038,
          0.8563889754450735,
          0.3041475547018004,
          0.4094984129057183,
          0.4025214297144064,
          0.6926843928901403,
          0.5602674024522267,
          0.7486729600450375,
          0.4911188811778993,
          0.5643933787363016,
          0.710192570678145,
          0.6087550556254426,
          0.7909077898330444,
          0.6472080031679914,
          0.4772214456662277,
          0.7046801279921903,
          0.6689379832588384,
          0.602588890204223,
          0.3980290846598296,
          0.5599632311389786,
          0.583305084104367,
          0.8731233564708483,
          0.5017077868040632,
          0.6290903884112014,
          0.8514171908340649,
          0.757232507723262,
          0.7538464198998116,
          0.3039036407280076,
          0.5174651486885751,
          0.5688365038310308,
          0.3867076876848578,
          0.8623342665489149,
          0.6503388316797932,
          0.8962870878210267,
          0.3225812154509603,
          0.8605916967531704,
          0.4935573023010076,
          0.8116024557249839,
          0.5382415570968213,
          0.3225519732669867,
          0.5612660950767595,
          0.3208117411238141,
          0.6804356346326945,
          0.6297701960828561,
          0.4909031645236268,
          0.519742535154707,
          0.3711179665614844,
          0.7250774087396179,
          0.6146131452865087,
          0.3881013924852455,
          0.4570065480942896,
          0.6399600480227281,
          0.5686854406331789,
          0.8217237325943112,
          0.7862260508162717,
          0.6253746286483095,
          0.6328483741005609,
          0.4137654998323168,
          0.4815015694013404,
          0.5637414965481227,
          0.7874641442379537,
          0.6816373199801664,
          0.6434739994079286,
          0.6257932142671785,
          0.7973170928808334,
          0.6350787854618838,
          0.6889011230846247,
          0.3002345135081898,
          0.5503179826936089,
          0.7697613075005307,
          0.5794930534599909,
          0.6417113706937645,
          0.520822724441109,
          0.8921869018127719,
          0.5394568405168525,
          0.4118522674551352,
          0.7558324818374904,
          0.8154367262510367,
          0.5277499511867276,
          0.6389727024298146,
          0.8586828005032072,
          0.862397148069062,
          0.4197808644564098,
          0.8779351717970265,
          0.8684579989084957,
          0.6686853922666657,
          0.5929174371142834,
          0.8092984188504451,
          0.573860779240149,
          0.3443553459348508,
          0.3255482218807194,
          0.5660121198633159,
          0.8666002403263038,
          0.5144134711569432,
          0.681525785264611,
          0.614304178150644,
          0.8401449058386767,
          0.4362910490020137,
          0.781692123204873,
          0.3332653476913386,
          0.437552923788069,
          0.5201804091266917,
          0.6036523156671183,
          0.5448984005398307,
          0.6376230583620219,
          0.5993512261540044,
          0.5001322045042429,
          0.4036943120981749,
          0.8496041536176515,
          0.893740986926427,
          0.4136982350638885,
          0.6718268040077445,
          0.4384271817898547,
          0.6694780454961625,
          0.6302171312640679,
          0.8164783843307155,
          0.4135746209914807,
          0.6293393276098322,
          0.3850053146317974,
          0.3447581755998752,
          0.8878812155481519,
          0.4997914936184758,
          0.4563236229680805,
          0.7418256406285788,
          0.3220534947771955,
          0.3581361695537194,
          0.459827907378347,
          0.4123889907860106,
          0.516736725307807,
          0.5826151678300591,
          0.5000811238708847,
          0.3973916971932165,
          0.4229873941283213,
          0.7306803806755764,
          0.3701594293564065,
          0.6889743169044498,
          0.4175178028953096,
          0.7262065431112484,
          0.3764700725890483,
          0.5255058067516576,
          0.897436713275201,
          0.7011963141245828,
          0.8768615855400685,
          0.8201607923674792,
          0.6687652492682643,
          0.8137027826707521,
          0.6311367894631255,
          0.7969658365071977,
          0.3017057324303102,
          0.4811701058487581,
          0.8560552708204712,
          0.5565805694318371,
          0.3387353700941434,
          0.5416069291304602,
          0.7530512781429809,
          0.8726694519940974,
          0.5283465767617709,
          0.5242083246468603,
          0.3658480876259616,
          0.4888324455230415,
          0.5975062327131344,
          0.4152725407287957,
          0.4125316123233924,
          0.5520277650785602,
          0.4431635326704517,
          0.4322538648569956,
          0.8227538479681029,
          0.7779855824034068,
          0.3808469181921946,
          0.338446495875808,
          0.6484241220042251,
          0.7662667358088101,
          0.6178500429110685,
          0.8860220724005012,
          0.8552696679564249,
          0.4034360665281939,
          0.6051344933438116,
          0.471789771333822,
          0.5840560052498767,
          0.5815047105760798,
          0.7439004752080751,
          0.8579337409395367,
          0.6779852775094646,
          0.6479359454252995,
          0.4781901410729841,
          0.7673913011829241,
          0.8732928782803564,
          0.3848421665486131,
          0.5271734558900341,
          0.8016679999023184,
          0.4560562281046589,
          0.7451528726828156,
          0.4937411938720024,
          0.7495044667770148,
          0.5594127542202456,
          0.5255497774400646,
          0.5225725146798802,
          0.6838098393998007,
          0.4461476725784365,
          0.8246216531413351,
          0.4994709199164805,
          0.6500834200740884,
          0.6133510354443628,
          0.770772175431216,
          0.5674198746573432,
          0.4801216412121291,
          0.8482356053860125,
          0.3525967298559346,
          0.7982322693863428,
          0.711342630229737,
          0.5720033992297782,
          0.3354600826061803,
          0.4168864197419553,
          0.6234471002862121,
          0.850498857889233,
          0.4268145665153503,
          0.4012665108431175,
          0.6532027535934457,
          0.7343302949660064,
          0.5699179413699791,
          0.730270692367583,
          0.7259990763421086,
          0.5353896134781149,
          0.4417221162184034,
          0.7272465072428889,
          0.8109555600458649,
          0.3229746554927695,
          0.7939762393280232,
          0.8064194098515047,
          0.7078034220605183,
          0.5013273225836777,
          0.8786367530035688,
          0.7632072761332371,
          0.5021515553250957,
          0.5794931935786188,
          0.8320452441270565,
          0.8667471577580359,
          0.4996118749437757,
          0.4232603609884469,
          0.4118249406200409,
          0.4721848952527785,
          0.8027491079515714,
          0.5489837858911921,
          0.3526534355021771,
          0.4328713506101034,
          0.5348748743769208,
          0.3809434345708053,
          0.4646948237393466,
          0.8470645014736322,
          0.7376603340684849,
          0.3164574611675743,
          0.3913320173704309,
          0.6356447987234848,
          0.3035039494403987,
          0.6639562987640486,
          0.4868820931039922,
          0.4914009185525243,
          0.7665281181902228,
          0.7070633674362614,
          0.8222361264315565,
          0.4629700794468012,
          0.6645427477232919,
          0.3634387308296791,
          0.365500047526834,
          0.4081681232779297,
          0.4971468466802412,
          0.4565139520924994,
          0.853628165694938,
          0.7342891856895993,
          0.511951796507944,
          0.7230307012645689,
          0.331122258426396,
          0.6067319493867659,
          0.5309500226611834,
          0.6052296843700611,
          0.4923693474836966,
          0.4204095257406514,
          0.7727322403089968,
          0.8313369742402001,
          0.742624687993775,
          0.725163290848134,
          0.7544168859215818,
          0.7820365384057666,
          0.4771422656083059,
          0.7914273477717244,
          0.472129527323236,
          0.4908887009004345,
          0.557913074118557,
          0.5026406401366064,
          0.7670018095078468,
          0.4663225113941657,
          0.7883913520063934,
          0.6297165455410318,
          0.8049006120427555,
          0.8590841067560322,
          0.8027441711750876,
          0.579898990525616,
          0.5407688924803434,
          0.58864389161293,
          0.4321635402989164,
          0.8817820914007846,
          0.3390878004292636,
          0.4329741955761245,
          0.3050878326153047,
          0.5833151917821328,
          0.7724899064531299,
          0.6047856739464821,
          0.7338508833697359,
          0.8193834723712761,
          0.7664599275510522,
          0.7245318361267981,
          0.4710470206660629,
          0.6094211059833963,
          0.693265875140737,
          0.5930596456498343,
          0.6120583143092189,
          0.7153532487264738,
          0.7463172268308067,
          0.3792250630975565,
          0.6721270798222923,
          0.6488797709212266,
          0.538465156354303,
          0.5515845368387087,
          0.605012462764251,
          0.7160238910255253,
          0.8313062625459371,
          0.7108932649125095,
          0.5705258164666391,
          0.5433046750461243,
          0.3809497731681798,
          0.369740988286392,
          0.6529782347863559,
          0.5964639719756082,
          0.8935022404602566,
          0.6872956154168626,
          0.6033380241868151,
          0.4766392002153571,
          0.5486476984731917,
          0.8117886729495696,
          0.7272531843709195,
          0.7109804618317233,
          0.890955773934544,
          0.3436055696623034,
          0.3387893654927092,
          0.5471825176545089,
          0.3055308537003343,
          0.394864546943338,
          0.6573200853634076,
          0.3977397169156788,
          0.6153358171043155,
          0.4380074040090987,
          0.7519714078743627,
          0.8054215465614152,
          0.7520681857411111,
          0.4615050346423318,
          0.7312888336357718,
          0.7672785335082777,
          0.809945576241972,
          0.777418057144428,
          0.532298434923661,
          0.8072473249769105,
          0.6962392704535139,
          0.6980907390653769,
          0.593013058555643,
          0.7815844684664759,
          0.6288276924979685,
          0.6185349747108464,
          0.8047271021436087,
          0.5585325711312872,
          0.5905137252121063,
          0.6118133034861899,
          0.7108688890814254,
          0.8782250991779221,
          0.5608078503551435,
          0.5091002051862743,
          0.7016239735936167,
          0.5552856640210664,
          0.4470792410247318,
          0.806857640740041,
          0.6887727521389024,
          0.4043083877468594,
          0.7380531068615901,
          0.8536161080657598,
          0.323281815914631,
          0.6302706418441144,
          0.7080212066457996,
          0.4070998290394578,
          0.867841040950448,
          0.617328352659356,
          0.5772950695436152,
          0.4724778396244076,
          0.5979144447391012,
          0.4581251143753863,
          0.3977590375362601,
          0.3436871952749165,
          0.4180158230124375,
          0.7000077841402526,
          0.5741247131946263,
          0.6624858047996365,
          0.3225785904911256,
          0.8869336020158938,
          0.8684388518082278,
          0.857374972786543,
          0.8864021300986307,
          0.8155766872301562,
          0.867644576543261,
          0.6661854710809053,
          0.3154301414421951,
          0.7847828588923838,
          0.7996250131743703,
          0.7860634492680401,
          0.8188337794047573,
          0.3299391824744654,
          0.633444321683625,
          0.5514538781362628,
          0.5140471191133881,
          0.4510862102723276,
          0.7096136274576988,
          0.4057601081935781,
          0.8568306222511115,
          0.865633684955023,
          0.860578139422278,
          0.3299235244916247,
          0.4882925283251867,
          0.4967226969495111,
          0.3109449649471988,
          0.7175181780325246,
          0.3329081741560012,
          0.61779720542872,
          0.4199484202759784,
          0.8745573695580104,
          0.472272596923341,
          0.5897645608383659,
          0.7648095407207207,
          0.8139071909028517,
          0.7906625513819943,
          0.7082187346722942,
          0.3047560672009252,
          0.8220946785689389,
          0.6119946699777404,
          0.812923869464866,
          0.8700274763615747,
          0.5037840584083795,
          0.4046593926070874,
          0.6469294088238227,
          0.3457902928049873,
          0.5124831333761901,
          0.7751422555156893,
          0.3249576416322725,
          0.4335223962698588,
          0.4790118644889358,
          0.590524228391215,
          0.4835062842687958,
          0.5626672074752141,
          0.7567471214329398,
          0.3896075429667466,
          0.3487295303996952,
          0.8466594220851946,
          0.535375375729076,
          0.4797034313996738,
          0.4844389898898188,
          0.6277565211607794,
          0.6600906205479368,
          0.8747487610017701,
          0.7181499271808273,
          0.8460218780683648,
          0.5209509793196855,
          0.7456082137267009,
          0.589029791551529,
          0.542449559976758,
          0.6905854778179332,
          0.8492343212786819,
          0.8773836268168798,
          0.7855212916134295,
          0.7539404275951291,
          0.6603950725987998,
          0.4003416772769483,
          0.4459858079689277,
          0.5702495032403065,
          0.3335570747194831,
          0.6228088864119401,
          0.3907008563872181,
          0.6045211552403134,
          0.5205414149790942,
          0.8886010058177927,
          0.3072843134773393,
          0.3271389151806941,
          0.6995262869556245,
          0.5260231017852779,
          0.8097172376929109,
          0.6504344201093561,
          0.7383671047732058,
          0.7514471731292325,
          0.5128803418577333,
          0.7913054597387718,
          0.4742924995165983,
          0.4803567006611644,
          0.6873013331031195,
          0.8618590577226637,
          0.8571850580295299,
          0.7220836632781987,
          0.7012932036563359,
          0.7870683139594955,
          0.8804513205292401,
          0.8468588704506721,
          0.7515402271928731,
          0.5983381643797778,
          0.8680907509440938,
          0.8407747425563048,
          0.5865785712564251,
          0.673857773239156,
          0.7759646521822703,
          0.6034425993186217,
          0.4735651579022225,
          0.3998680584599529,
          0.8341699441112824,
          0.3830973504883813,
          0.8347740119364491,
          0.7701486599937508,
          0.6040436765798269,
          0.70635490458956,
          0.6488346595187,
          0.890788716933576,
          0.3289375601969437,
          0.5218304331412509,
          0.8721359290397832,
          0.5383048815911888,
          0.7810622947018295,
          0.3549602994593696,
          0.7043890298549267,
          0.782531551365073,
          0.8890572415350637,
          0.6338947844980646,
          0.5435954786370047,
          0.6963372302757637,
          0.7805133022754343,
          0.4521280860926059,
          0.766892378275434,
          0.7547048775896326,
          0.7663838402713326,
          0.7874946825655774,
          0.4672038915882003,
          0.6335207206072373,
          0.4305736532435594,
          0.3986979197503912,
          0.4082969592503476,
          0.6351141055398406,
          0.8844341477220912,
          0.8764519001690978,
          0.5035280090953198,
          0.3876012144498442,
          0.7141098741411034,
          0.691723894474434,
          0.805645252873308,
          0.6415655923094383,
          0.7257302696077834,
          0.6513022161480464,
          0.6938941634658014,
          0.5990401868116881,
          0.8380287498318151,
          0.7157643923412778,
          0.7277597568211754,
          0.6645911647764882,
          0.6061238049727684,
          0.5516588907849636,
          0.6378106173460834,
          0.8468698879652563,
          0.8723534864170837,
          0.442691099024043,
          0.4445539702901406,
          0.4460788764961689,
          0.7194617153525311,
          0.5685726760652954,
          0.3148289744789445,
          0.7987968767877729,
          0.8731163881742909,
          0.6755121038698106,
          0.7378513512861428,
          0.3681976203580193,
          0.8034873752765466,
          0.6996248114891642,
          0.600437011085583,
          0.648173294186809,
          0.4516037168527663,
          0.5762767181353668,
          0.5586179298451666,
          0.8873681719823199,
          0.7832061585292271,
          0.5578749761423314,
          0.4893594435520364,
          0.5805337120424772,
          0.8706676305260215,
          0.7593164428299699,
          0.8968850449270482,
          0.527545978330406,
          0.5542047455297725,
          0.3554709225002561,
          0.3776781580863306,
          0.6677103620926411,
          0.3959014495225212,
          0.8615834250910412,
          0.7366674510729148,
          0.6520407509714006,
          0.3772439789861025,
          0.3588748378571927,
          0.7844015676354672,
          0.7797213849924579,
          0.7344200936814158,
          0.4636395295526898,
          0.3058665959748912,
          0.884773523761152,
          0.6847620311950281,
          0.8328307647168283,
          0.5588096267197994,
          0.5924666045936169,
          0.37282155684115,
          0.3331565478252586,
          0.7487894258839101,
          0.3925887493782541,
          0.4084084128834504,
          0.7638304300644354,
          0.8231294958992357,
          0.6514565749407841,
          0.6493657192215756,
          0.4646816121135207,
          0.4550594008395601,
          0.691888828389185,
          0.8451810303698364,
          0.4027866758446505,
          0.3551697974874396,
          0.7502465391907605,
          0.3731445821071009,
          0.8317062981424217,
          0.3913906071688208,
          0.4924060082104431,
          0.7939815260665147,
          0.6965513410848593,
          0.4087654212438989,
          0.6731146178186376,
          0.3317093265530374,
          0.8723790793966026,
          0.4483208789146009,
          0.6519626449850887,
          0.8809226849366498,
          0.4432463743833873,
          0.8478261332102046,
          0.6432536036474354,
          0.7009784473962581,
          0.8650923942974247,
          0.3765277310993393,
          0.7766437297311566,
          0.6626727174514224,
          0.6755135003614701,
          0.5261929075803193,
          0.6736680525757416,
          0.790192724050719,
          0.5709400283664989,
          0.4008143049975399,
          0.7762491280226689,
          0.6963669544597054,
          0.4808994743969391,
          0.4322251094855274,
          0.8159665823803077,
          0.5424215868224853,
          0.7496079084864087,
          0.5083280662332257,
          0.3092221096252732,
          0.5879108808122218,
          0.8003856815376522,
          0.8101567192212551,
          0.7036853171487969,
          0.3010607605144736,
          0.7638725951405494,
          0.5008579040907493,
          0.6448721623583842,
          0.4538143495103477,
          0.4185282319661887,
          0.7450241972729463,
          0.4949244814802532,
          0.7382127376230946,
          0.8801622390670589,
          0.3903142339999304,
          0.498304342775385,
          0.6138621028359657,
          0.3980360343950861,
          0.3219877342914773,
          0.4088447796471475,
          0.41873561505774,
          0.5249711475907151,
          0.4136632850810525,
          0.8159821546251367,
          0.322112791250994,
          0.5845233133038361,
          0.5082540378717229,
          0.7758524836402796,
          0.8163246709300804,
          0.3988597079080975,
          0.3275602842334709,
          0.6136210225436194,
          0.3167137988384967,
          0.4058990802129185,
          0.3414114257994943,
          0.6310573780061,
          0.6772704653490256,
          0.5634806565134263,
          0.8115980601765371,
          0.3590267128480574,
          0.54110876252357,
          0.639392686681933,
          0.5957691733112881,
          0.7271753486542367,
          0.758922251575008,
          0.6042020529801786,
          0.3879860646874656,
          0.5060269047269553,
          0.7310185313485771,
          0.3380329508754512,
          0.7986234070915348,
          0.3648979081790997,
          0.7096848466912002,
          0.8768005357965705,
          0.5160900702606954,
          0.5452509754267099,
          0.7842293181942196,
          0.8501392179709708,
          0.4800414303958416,
          0.71949085660336,
          0.8283558327923006,
          0.7676114243581679,
          0.4780844680714636,
          0.6856292128632415,
          0.8357427864733193,
          0.7551485943655639,
          0.5821751336228735,
          0.8351515379668821,
          0.8643591113804281,
          0.517733733586123,
          0.4954961846298311,
          0.4108635786835527,
          0.3244811772789118,
          0.5658490092740702,
          0.4767298198868347,
          0.8011875409137379,
          0.6177482702628871,
          0.4231211682352196,
          0.4369175850748207,
          0.4916709010276495,
          0.4858737082034825,
          0.3636983265496248,
          0.8728105095092238,
          0.3629289259690693,
          0.5885576817380578,
          0.8673497384160038,
          0.8527768207958455,
          0.56131949668947,
          0.5491890052319601,
          0.8239973717459554,
          0.6423707721449841,
          0.6742982084253668,
          0.4487831008434598,
          0.3893682381335517,
          0.4240717146714882,
          0.859234169035185,
          0.4304208145311901,
          0.481648975263103,
          0.429607280080637,
          0.4163310379457584,
          0.6118524924848296,
          0.7375811373939598,
          0.3132838990466556,
          0.8861313539982363,
          0.6326102923574268,
          0.4507912441550066,
          0.8814806590058404,
          0.6238975937210176,
          0.8275267624570382,
          0.7151425022506919,
          0.4268659615504047,
          0.4349800337447619,
          0.3941423806136844,
          0.6167154443401457,
          0.8095812542830296,
          0.4010268164500716,
          0.330935989751225,
          0.80319585254949,
          0.440159833966936,
          0.5875927099133348,
          0.8667414449046063,
          0.3825441001392854,
          0.6015699579010816,
          0.3118198796028069,
          0.5044879459860905,
          0.7775630500968109,
          0.7231784634978384,
          0.5567100904227735,
          0.6612397062813831,
          0.4964559033791592,
          0.3718420708496616,
          0.5878202379481544,
          0.4456536604641141,
          0.368526253316471,
          0.6581433345428117,
          0.3504916924187514,
          0.3380204378745086,
          0.3538504104808618,
          0.5063134536582548,
          0.5575599250583463,
          0.3955028657096332,
          0.6381637116816177,
          0.6050594415569022,
          0.6536008494587782,
          0.4012241868446985,
          0.5674925591833961,
          0.3166699889803469,
          0.7632839280710496,
          0.8472963297605687,
          0.4063985622462422,
          0.8768762491460294,
          0.7024098013424638,
          0.5651043333432475,
          0.3109578630736326,
          0.3754309397567549,
          0.6342244014431424,
          0.6007072380038494,
          0.3849041397472733,
          0.6932179515159429,
          0.6397667427699976,
          0.6155143075391722,
          0.7783891828976726,
          0.7351866845384585,
          0.3876938367381397,
          0.3724446748171868,
          0.604466594722979,
          0.4343086698527743,
          0.4246928023571629,
          0.839855043793067,
          0.4841326634211909,
          0.3953794751482914,
          0.4328042711797921,
          0.6300553687791717,
          0.8523876211070973,
          0.3123812549500797,
          0.8017771368219044,
          0.7567221598455239,
          0.597082979705062,
          0.8411628765493382,
          0.434616299903059,
          0.553693776495715,
          0.843992749218706,
          0.5277804754487544,
          0.8897412457007885,
          0.8800917323734718,
          0.3516099255222062,
          0.4780877511973056,
          0.4364172949760425,
          0.6372710426176087,
          0.4533106976891982,
          0.6252119725319032,
          0.7703484558400078,
          0.6802172545171701,
          0.5177663001818607,
          0.8352780238516979,
          0.6373270125506793,
          0.7239405260831047,
          0.3467736540259467,
          0.7911472203844947,
          0.6469781152532224,
          0.4901806710749445,
          0.6802547383374997,
          0.5656418675377985,
          0.5155863654324742,
          0.7740801416491037,
          0.8138767531095448,
          0.7983287028095125,
          0.5832032953604624,
          0.8252421876800662,
          0.3602792939623451,
          0.5978976413181645,
          0.3108596232537156,
          0.4465866772438601,
          0.8892668431769879,
          0.3336647730181123,
          0.6509145613231415,
          0.8603645392012385,
          0.3822614684123753,
          0.8487680695088653,
          0.3573659635156445,
          0.8107911618861354,
          0.7969730355146998,
          0.7209268081561999,
          0.8774653178137612,
          0.6840958785494,
          0.5501937480502528,
          0.8133289040017548,
          0.5122585460150926,
          0.8824783260462514,
          0.552972036620972,
          0.4675609993231984,
          0.7632613649569693,
          0.3299952089371883,
          0.3090435077403586,
          0.3596718733654731,
          0.5975254889717443,
          0.4598129167735247,
          0.5065945374807346,
          0.6650645271727569,
          0.6893512527041952,
          0.7234138826562608,
          0.4412290075113785,
          0.3348942029531937,
          0.5995733693469301,
          0.824986991902168,
          0.7035382119638875,
          0.8413213939000896,
          0.6250339128880931,
          0.8225266876564279,
          0.6835342475200514,
          0.6914083724719584,
          0.732805097413251,
          0.4193788546107645,
          0.7974433071531217,
          0.5599338218342955,
          0.4257849983145479,
          0.7479065597933909,
          0.3329552538698366,
          0.4951778355865621,
          0.5780787831715681,
          0.8194127514619087,
          0.6768303927705037,
          0.6859535612553611,
          0.6841763501706517,
          0.6251495736156581,
          0.8321714634353035,
          0.3190912426853728,
          0.7685089897810349,
          0.4411479592258288,
          0.633800571963528,
          0.3293513229974177,
          0.3913554534702363,
          0.8926423272813546,
          0.3723273116961357,
          0.4764193704186186,
          0.5997516928357647,
          0.6444915882365077,
          0.4916944829488416,
          0.7944071413868125,
          0.8337176040682197,
          0.3935621931952986,
          0.6195175792485893,
          0.3414355073787691,
          0.8848626683839496,
          0.6095338695962232,
          0.3257700986100714,
          0.7152889351803255,
          0.6290080410378002,
          0.8554971727868257,
          0.6241914842419338,
          0.7254793278962336,
          0.3418406236305087,
          0.6522614965287183,
          0.3097231206757962,
          0.591364773428118,
          0.3022802028437488,
          0.5049941001600502,
          0.6966474585644737,
          0.4716696126746541,
          0.6851772743672152,
          0.5400832830899924,
          0.876665673248171,
          0.5124604341975252,
          0.4890215227583296,
          0.7285884278101447,
          0.5858059453708316,
          0.5743737158988158,
          0.7904710876043013,
          0.7818806140795939,
          0.7194215102869133,
          0.8719971619852769,
          0.3636799715444146,
          0.5283313620030463,
          0.5686042072553177,
          0.5829226259807216,
          0.8344961442585774,
          0.4683820712066023,
          0.6962196150680526,
          0.6379331673641269,
          0.7282249358890067,
          0.8912772720286006,
          0.5268179050103788,
          0.4572426394672831,
          0.6801380133322783,
          0.8208446318553893,
          0.7656081332378546,
          0.6994357861553044,
          0.4270281607758076,
          0.377283121884425,
          0.3455490208947221,
          0.6395565958435587,
          0.7985599466069774,
          0.3204846700682747,
          0.7724267816082084,
          0.8191979930152256,
          0.5324942931286705,
          0.727279266106978,
          0.6061500792935921,
          0.811454023884371,
          0.8004905814854548,
          0.8331156550788728,
          0.5801255661690213,
          0.6166806308794501,
          0.7852690142030092,
          0.3203229689266743,
          0.8452925972089884,
          0.715887285357324,
          0.3288413028350579
         ],
         "xaxis": "x",
         "y": [
          5,
          1,
          4,
          4,
          1,
          4,
          5,
          4,
          1,
          4,
          3,
          4,
          4,
          5,
          3,
          2,
          4,
          5,
          5,
          3,
          2,
          4,
          3,
          5,
          3,
          5,
          4,
          4,
          5,
          4,
          5,
          1,
          3,
          4,
          4,
          1,
          1,
          1,
          2,
          2,
          1,
          5,
          2,
          5,
          1,
          3,
          2,
          4,
          5,
          3,
          1,
          1,
          3,
          3,
          1,
          4,
          2,
          2,
          1,
          1,
          5,
          5,
          2,
          5,
          4,
          5,
          3,
          5,
          3,
          3,
          2,
          1,
          5,
          5,
          3,
          4,
          3,
          4,
          4,
          4,
          5,
          4,
          4,
          5,
          3,
          1,
          1,
          2,
          1,
          3,
          5,
          1,
          4,
          2,
          3,
          4,
          1,
          5,
          4,
          1,
          5,
          2,
          1,
          1,
          4,
          4,
          5,
          5,
          2,
          4,
          3,
          4,
          1,
          4,
          5,
          3,
          4,
          4,
          3,
          5,
          5,
          3,
          2,
          5,
          1,
          1,
          5,
          3,
          3,
          4,
          2,
          3,
          1,
          3,
          1,
          1,
          5,
          1,
          4,
          3,
          5,
          5,
          2,
          3,
          4,
          4,
          1,
          3,
          5,
          3,
          3,
          2,
          4,
          5,
          5,
          5,
          3,
          4,
          4,
          1,
          2,
          4,
          4,
          2,
          1,
          2,
          3,
          1,
          2,
          5,
          2,
          2,
          4,
          2,
          2,
          1,
          1,
          4,
          1,
          3,
          4,
          2,
          1,
          1,
          3,
          3,
          4,
          2,
          1,
          2,
          2,
          1,
          3,
          2,
          5,
          1,
          3,
          3,
          5,
          4,
          2,
          5,
          5,
          3,
          2,
          2,
          1,
          3,
          3,
          4,
          4,
          2,
          4,
          3,
          2,
          4,
          2,
          5,
          5,
          4,
          1,
          3,
          1,
          5,
          2,
          5,
          2,
          2,
          1,
          3,
          5,
          4,
          3,
          5,
          4,
          5,
          3,
          2,
          3,
          2,
          3,
          4,
          4,
          4,
          2,
          5,
          4,
          4,
          5,
          1,
          1,
          5,
          5,
          2,
          1,
          3,
          1,
          5,
          1,
          1,
          1,
          1,
          5,
          4,
          2,
          3,
          3,
          3,
          3,
          2,
          2,
          4,
          5,
          4,
          1,
          1,
          2,
          5,
          2,
          1,
          5,
          5,
          5,
          3,
          1,
          5,
          5,
          3,
          2,
          3,
          1,
          5,
          3,
          4,
          5,
          5,
          4,
          5,
          2,
          2,
          5,
          4,
          4,
          3,
          5,
          1,
          2,
          1,
          1,
          5,
          2,
          5,
          4,
          5,
          3,
          5,
          2,
          4,
          4,
          2,
          5,
          3,
          4,
          4,
          3,
          4,
          3,
          4,
          5,
          1,
          5,
          4,
          3,
          5,
          1,
          5,
          5,
          1,
          3,
          2,
          3,
          5,
          5,
          1,
          2,
          5,
          3,
          4,
          2,
          3,
          5,
          3,
          4,
          4,
          3,
          2,
          2,
          1,
          5,
          5,
          3,
          1,
          1,
          3,
          5,
          4,
          4,
          1,
          5,
          2,
          1,
          1,
          4,
          2,
          5,
          3,
          3,
          2,
          2,
          2,
          2,
          2,
          4,
          4,
          3,
          5,
          1,
          2,
          2,
          2,
          3,
          2,
          2,
          2,
          4,
          1,
          1,
          4,
          1,
          1,
          4,
          3,
          3,
          2,
          5,
          4,
          1,
          5,
          3,
          2,
          2,
          5,
          5,
          2,
          1,
          3,
          3,
          3,
          1,
          2,
          1,
          1,
          2,
          3,
          3,
          2,
          1,
          3,
          4,
          1,
          4,
          2,
          4,
          3,
          2,
          2,
          1,
          4,
          4,
          5,
          1,
          3,
          3,
          3,
          5,
          3,
          5,
          3,
          4,
          4,
          1,
          4,
          1,
          5,
          4,
          1,
          2,
          2,
          3,
          3,
          1,
          4,
          1,
          3,
          4,
          1,
          3,
          2,
          5,
          1,
          5,
          3,
          5,
          3,
          2,
          2,
          4,
          1,
          5,
          1,
          3,
          4,
          4,
          1,
          2,
          1,
          3,
          3,
          5,
          2,
          4,
          1,
          5,
          2,
          1,
          1,
          5,
          5,
          3,
          5,
          4,
          2,
          5,
          2,
          5,
          4,
          5,
          3,
          4,
          3,
          4,
          5,
          2,
          1,
          5,
          3,
          5,
          3,
          3,
          2,
          4,
          3,
          3,
          3,
          2,
          4,
          2,
          4,
          1,
          4,
          1,
          3,
          2,
          4,
          2,
          4,
          5,
          3,
          3,
          4,
          3,
          5,
          4,
          4,
          4,
          1,
          5,
          2,
          4,
          1,
          1,
          3,
          1,
          3,
          1,
          3,
          2,
          3,
          3,
          3,
          3,
          5,
          2,
          5,
          3,
          1,
          3,
          4,
          1,
          4,
          5,
          2,
          2,
          1,
          1,
          4,
          1,
          4,
          1,
          1,
          5,
          1,
          1,
          4,
          4,
          5,
          2,
          4,
          2,
          4,
          1,
          3,
          1,
          4,
          2,
          2,
          2,
          1,
          2,
          1,
          4,
          2,
          3,
          2,
          1,
          1,
          4,
          1,
          4,
          3,
          1,
          5,
          1,
          1,
          5,
          2,
          4,
          3,
          5,
          4,
          1,
          3,
          5,
          3,
          4,
          2,
          2,
          2,
          1,
          5,
          4,
          3,
          3,
          5,
          3,
          3,
          1,
          4,
          1,
          1,
          4,
          4,
          5,
          4,
          2,
          5,
          4,
          5,
          2,
          4,
          3,
          5,
          5,
          5,
          3,
          2,
          1,
          1,
          2,
          4,
          2,
          4,
          2,
          4,
          4,
          4,
          4,
          5,
          3,
          1,
          2,
          1,
          5,
          1,
          1,
          1,
          2,
          1,
          2,
          1,
          5,
          1,
          4,
          4,
          1,
          5,
          5,
          5,
          1,
          3,
          3,
          4,
          1,
          3,
          4,
          4,
          1,
          4,
          4,
          3,
          4,
          3,
          2,
          3,
          4,
          2,
          4,
          2,
          3,
          3,
          1,
          1,
          3,
          4,
          2,
          5,
          2,
          4,
          3,
          4,
          5,
          4,
          4,
          5,
          4,
          3,
          2,
          2,
          3,
          3,
          5,
          2,
          2,
          1,
          2,
          2,
          2,
          2,
          1,
          5,
          2,
          5,
          1,
          2,
          3,
          3,
          5,
          1,
          1,
          4,
          5,
          5,
          4,
          5,
          5,
          4,
          1,
          2,
          5,
          4,
          4,
          2,
          3,
          5,
          4,
          4,
          4,
          2,
          5,
          4,
          1,
          4,
          5,
          1,
          3,
          3,
          1,
          1,
          1,
          3,
          1,
          1,
          2,
          5,
          3,
          5,
          1,
          1,
          2,
          5,
          1,
          5,
          5,
          2,
          3,
          1,
          5,
          4,
          5,
          4,
          5,
          2,
          2,
          2,
          3,
          3,
          5,
          2,
          2,
          4,
          4,
          4,
          4,
          2,
          5,
          5,
          1,
          2,
          5,
          1,
          4,
          5,
          5,
          4,
          4,
          5,
          2,
          3,
          3,
          2,
          2,
          1,
          1,
          4,
          2,
          4,
          4,
          2,
          2,
          1,
          3,
          4,
          3,
          1,
          5,
          2,
          2,
          3,
          5,
          5,
          4,
          1,
          1,
          5,
          5,
          4,
          5,
          4,
          4,
          5,
          2,
          5,
          4,
          1,
          2,
          1,
          5,
          1,
          3,
          1,
          2,
          5,
          1,
          4,
          1,
          3,
          2,
          2,
          5,
          5,
          5,
          3,
          5,
          1,
          4,
          3,
          4,
          5,
          4,
          2,
          2,
          1,
          1,
          1,
          5,
          1,
          1,
          5,
          1,
          3,
          5,
          1,
          4,
          1,
          1,
          2,
          5,
          3,
          5,
          1,
          1,
          4,
          1,
          4,
          1,
          2,
          4,
          3,
          3,
          1,
          4,
          5,
          3,
          2,
          2,
          5,
          2,
          2,
          4,
          3,
          1,
          2,
          2,
          1,
          3,
          4,
          5,
          4,
          2,
          1,
          1,
          2,
          4,
          2,
          4,
          2,
          2,
          1,
          5,
          5,
          5,
          1,
          3,
          5,
          4,
          4,
          2,
          5,
          3,
          5,
          4,
          5,
          2,
          2,
          5,
          4,
          5,
          5,
          2,
          5,
          5,
          5,
          2,
          4,
          2,
          1,
          1,
          5,
          1,
          1,
          5,
          2,
          2,
          5,
          1,
          4,
          3,
          5,
          2,
          2,
          4,
          2,
          5,
          2,
          4,
          2,
          4,
          1,
          3,
          4,
          5,
          4,
          2,
          2,
          5,
          3,
          2,
          1,
          2,
          2,
          3,
          2,
          4,
          5,
          3,
          4,
          3,
          2,
          3,
          1,
          1,
          4,
          1,
          1,
          5,
          1,
          3,
          1,
          1,
          3,
          3,
          5,
          1,
          2,
          1,
          4,
          1,
          2,
          3,
          1,
          3,
          3,
          4,
          2,
          3,
          5,
          2,
          1,
          2,
          2,
          2,
          5,
          5,
          2,
          4,
          4,
          1,
          2,
          3,
          2,
          5,
          2,
          1,
          2,
          3,
          1,
          5,
          1,
          4,
          2,
          3,
          2,
          4,
          2,
          5,
          4,
          4,
          1,
          4,
          2,
          1,
          3,
          2,
          5,
          5,
          5,
          1,
          1,
          4,
          3,
          2,
          3,
          5,
          5,
          2,
          2,
          1,
          2,
          1,
          4,
          2,
          1,
          5,
          2,
          4,
          3,
          2,
          3,
          5,
          4,
          3,
          1,
          5,
          4,
          4,
          3,
          5,
          1,
          3,
          1,
          5,
          5,
          5,
          3,
          3,
          5,
          1,
          3,
          2,
          3,
          5,
          2,
          4,
          4,
          5,
          4,
          1,
          2,
          2,
          3,
          5,
          5,
          4,
          2,
          2,
          5,
          5,
          5,
          2,
          5,
          2,
          4,
          5,
          5,
          5,
          2,
          4,
          4,
          5,
          2,
          1,
          3,
          5,
          4,
          3,
          1,
          3,
          5,
          2,
          5,
          1,
          5,
          2,
          1,
          2,
          2,
          3,
          2,
          1,
          4,
          5,
          4,
          5,
          2,
          1,
          5,
          5,
          1,
          3,
          2,
          1,
          2,
          3,
          2,
          5,
          5,
          2,
          4,
          1,
          4,
          3,
          3,
          3,
          1,
          5,
          3,
          1,
          4,
          4,
          4,
          5,
          5,
          4,
          2,
          5,
          5,
          4,
          4,
          4,
          4,
          3,
          5,
          4,
          3,
          4,
          3,
          5,
          2,
          2,
          4,
          1,
          5,
          3,
          2,
          3,
          4,
          5,
          3,
          2,
          2,
          5,
          1,
          2,
          2,
          4,
          4,
          2,
          5,
          1,
          5,
          5,
          4,
          5,
          5,
          3,
          5,
          1,
          1,
          4,
          4,
          1,
          5,
          5,
          1,
          4,
          5,
          2,
          3,
          4,
          4,
          4,
          4,
          4,
          5,
          1,
          4,
          5,
          4,
          1,
          3,
          4,
          5,
          3,
          4,
          3,
          4,
          4,
          3,
          2,
          3,
          2,
          4,
          4,
          2,
          4,
          1,
          3,
          2,
          5,
          1,
          5,
          1,
          2,
          5,
          2,
          4,
          2,
          2,
          2,
          1,
          2,
          1,
          4,
          4,
          5,
          5,
          5,
          5,
          5,
          3,
          2,
          5,
          3,
          3,
          5,
          3,
          3,
          5,
          5,
          1,
          1,
          3,
          5,
          3,
          2,
          5,
          1,
          3,
          1,
          1,
          3,
          3,
          2,
          5,
          5,
          3,
          2,
          4,
          2,
          4,
          3,
          4,
          4,
          1,
          5,
          2,
          3,
          4,
          1,
          2,
          4,
          2,
          3,
          2,
          4,
          1,
          3,
          1,
          1,
          3,
          3,
          2,
          2,
          2,
          3,
          4,
          4,
          4,
          2,
          5,
          5,
          4,
          5,
          4,
          3,
          3,
          1,
          4,
          3,
          1,
          5,
          3,
          4,
          1,
          5,
          5,
          5,
          1,
          1,
          4,
          2,
          4,
          4,
          5,
          2,
          3,
          2,
          5,
          4,
          3,
          4,
          3,
          4,
          4,
          1,
          4,
          5,
          2,
          2,
          1,
          5,
          1,
          4,
          2,
          3,
          2,
          3,
          2,
          2,
          3,
          3,
          2,
          3,
          5,
          2,
          4,
          2,
          3,
          1,
          1,
          4,
          2,
          4,
          1,
          3,
          2,
          1,
          3,
          2,
          3,
          5,
          3,
          1,
          2,
          5,
          3,
          1,
          2,
          3,
          2,
          5,
          3,
          4,
          3,
          1,
          3,
          2,
          1,
          3,
          2,
          1,
          5,
          5,
          2,
          3,
          4,
          3,
          3,
          3,
          1,
          2,
          1,
          1,
          1,
          4,
          1,
          3,
          3,
          5,
          5,
          5,
          3,
          2,
          1,
          2,
          2,
          1,
          2,
          5,
          4,
          1,
          2,
          1,
          1,
          2,
          3,
          4,
          1,
          4,
          2,
          4,
          2,
          5,
          4,
          3,
          4,
          4,
          2,
          3,
          1,
          2,
          3,
          4,
          5,
          4,
          2,
          1,
          4,
          1,
          5,
          5,
          3,
          2,
          3,
          3,
          2,
          2,
          2,
          5,
          3,
          3,
          2,
          1,
          4,
          4,
          5,
          5,
          4,
          4,
          3,
          5,
          4,
          4,
          2,
          3,
          3,
          3,
          5,
          3,
          2,
          1,
          5,
          5,
          2,
          2,
          5,
          2,
          1,
          5,
          3,
          3,
          2,
          1,
          3,
          3,
          4,
          1,
          2,
          1,
          1,
          3,
          5,
          1,
          1,
          5,
          3,
          2,
          2,
          5,
          2,
          3,
          2,
          5,
          4,
          2,
          5,
          5,
          5,
          3,
          1,
          3,
          5,
          4,
          2,
          2,
          2,
          2,
          1,
          1,
          2,
          1,
          5,
          2,
          2,
          5,
          2,
          2,
          5,
          3,
          4,
          3,
          3,
          1,
          5,
          5,
          4,
          4,
          5,
          2,
          4,
          4,
          1,
          3,
          4,
          2,
          2,
          3,
          1,
          5,
          2,
          5,
          5,
          4,
          1,
          1,
          5,
          5,
          3,
          5,
          4,
          3,
          2,
          1,
          3,
          2,
          3,
          4,
          4,
          2,
          1,
          4,
          1,
          2,
          2,
          4,
          5,
          5,
          2,
          4,
          2,
          4,
          4,
          1,
          4,
          2,
          4,
          5,
          3,
          1,
          1,
          5,
          3,
          5,
          3,
          3,
          5,
          1,
          5,
          1,
          4,
          5,
          3,
          4,
          5,
          2,
          1,
          2,
          2,
          2,
          1,
          2,
          3,
          4,
          2,
          2,
          3,
          1,
          3,
          4,
          1,
          1,
          2,
          2,
          5,
          2,
          5,
          2,
          5,
          5,
          2,
          3,
          2,
          4,
          4,
          2,
          2,
          5,
          4,
          3,
          1,
          4,
          2,
          3,
          3,
          4,
          1,
          3,
          3,
          5,
          4,
          3,
          1,
          4,
          5,
          4,
          1,
          3,
          5,
          3,
          1,
          2,
          1,
          1,
          4,
          1,
          4,
          1,
          4,
          1,
          4,
          2,
          5,
          3,
          1,
          4,
          2,
          3,
          2,
          2,
          1,
          2,
          3,
          1,
          1,
          4,
          4,
          3,
          2,
          4,
          2,
          4,
          1,
          1,
          1,
          2,
          1,
          3,
          4,
          5,
          1,
          5,
          3,
          3,
          5,
          3,
          4,
          3,
          4,
          3,
          5,
          5,
          1,
          4,
          3,
          4,
          2,
          3,
          2,
          3,
          1,
          5,
          1,
          2,
          3,
          3,
          3,
          4,
          3,
          1,
          3,
          1,
          3,
          1,
          4,
          5,
          3,
          5,
          1,
          4,
          3,
          5,
          4,
          5,
          1,
          3,
          4,
          3,
          2,
          1,
          1,
          5,
          4,
          1,
          4,
          1,
          1,
          2,
          1,
          5,
          3,
          5,
          4,
          2,
          1,
          5,
          4,
          1,
          1,
          4,
          3,
          4,
          2,
          1,
          3,
          3,
          5,
          4,
          5,
          2,
          2,
          5,
          5,
          1,
          4,
          1,
          3,
          2,
          2,
          3,
          1,
          4,
          1,
          5,
          2,
          5,
          4,
          2,
          5,
          3,
          3,
          5,
          3,
          4,
          4,
          4,
          4,
          3,
          4,
          4,
          2,
          4,
          4,
          1,
          4,
          2,
          4,
          2,
          2,
          2,
          1,
          4,
          2,
          5,
          3,
          1,
          1,
          4,
          1,
          2,
          5,
          5,
          5,
          3,
          4,
          4,
          4,
          3,
          2,
          1,
          5,
          5,
          4,
          3,
          3,
          4,
          2,
          5,
          5,
          1,
          3,
          1,
          5,
          3,
          3,
          5,
          4,
          4,
          2,
          1,
          2,
          3,
          5,
          3,
          2,
          5,
          4,
          3,
          2,
          4,
          5,
          4,
          4,
          1,
          2,
          1,
          3,
          2,
          3,
          1,
          3,
          4,
          4,
          2,
          4,
          2,
          4,
          3,
          5,
          2,
          3,
          1,
          4,
          5,
          2,
          1,
          4,
          2,
          2,
          5,
          1,
          3,
          3,
          4,
          5,
          3,
          3,
          4,
          5,
          4,
          3,
          2,
          3,
          1,
          1,
          2,
          1,
          2,
          3,
          4,
          5,
          2,
          4,
          5,
          1,
          1,
          1,
          4,
          2,
          1,
          3,
          2,
          4,
          5,
          5,
          1,
          2,
          2,
          1,
          4,
          1,
          3,
          4,
          3,
          1,
          1,
          3,
          5,
          3,
          3,
          2,
          2,
          4,
          4,
          3,
          1,
          3,
          5,
          5,
          3,
          3,
          5,
          1,
          5,
          4,
          3,
          4,
          1,
          5,
          3,
          5,
          1,
          2,
          1,
          5,
          5,
          3,
          4,
          2,
          4,
          2,
          4,
          2,
          3,
          2,
          3,
          2,
          4,
          2,
          1,
          2,
          3,
          4,
          5,
          2,
          1,
          5,
          3,
          1,
          4,
          2,
          4,
          4,
          2,
          3,
          1,
          1,
          3,
          2,
          3,
          5,
          4,
          3,
          2,
          3,
          3,
          3,
          1,
          4,
          2,
          2,
          3,
          1,
          1,
          5,
          3,
          1,
          1,
          4,
          5,
          2,
          3,
          1,
          3,
          2,
          3,
          5,
          3,
          4,
          1,
          3,
          5,
          3,
          5,
          3,
          2,
          5,
          1,
          4,
          3,
          4,
          4,
          5,
          4,
          2,
          3,
          4,
          3,
          2,
          1,
          5,
          5,
          4,
          5,
          5,
          3,
          2,
          5,
          2,
          5,
          1,
          5,
          2,
          3,
          1,
          4,
          5,
          3,
          3,
          4,
          2,
          3,
          2,
          3,
          3,
          5,
          4,
          1,
          5,
          1,
          3,
          2,
          2,
          2,
          4,
          1,
          2,
          2,
          2,
          4,
          1,
          2,
          2,
          2,
          2,
          5,
          4,
          1,
          1,
          1,
          1,
          5,
          1,
          3,
          3,
          1,
          5,
          1,
          4,
          5,
          1,
          4,
          2,
          2,
          3,
          1,
          4,
          2,
          5,
          1,
          3,
          4,
          1,
          5,
          1,
          5,
          4,
          3,
          2,
          2,
          4,
          2,
          5,
          5,
          4,
          2,
          5,
          3,
          2,
          4,
          3,
          4,
          4,
          3,
          1,
          5,
          1,
          4,
          2,
          3,
          5,
          2,
          1,
          5,
          3,
          5,
          2,
          1,
          1,
          2,
          5,
          4,
          3,
          2,
          3,
          4,
          2,
          1,
          3,
          2,
          5,
          1,
          2,
          5,
          4,
          1,
          3,
          5,
          5,
          3,
          4,
          4,
          5,
          2,
          5,
          3,
          2,
          4,
          2,
          1,
          2,
          4,
          5,
          5,
          3,
          2,
          5,
          2,
          4,
          5,
          5,
          4,
          4,
          1,
          2,
          2,
          3,
          4,
          4,
          5,
          3,
          4,
          4,
          4,
          3,
          4,
          2,
          1,
          1,
          2,
          3,
          5,
          2,
          5,
          5,
          5,
          2,
          3,
          4,
          3,
          3,
          4,
          5,
          3,
          2,
          1,
          3,
          3,
          4,
          3,
          3,
          5,
          3,
          5,
          2,
          2,
          2,
          5,
          3,
          1,
          1,
          5,
          4,
          1,
          1,
          2,
          4,
          3,
          2,
          1,
          3,
          1,
          1,
          5,
          5,
          4,
          3,
          3,
          3,
          5,
          4,
          5,
          4,
          2,
          3,
          1,
          2,
          1,
          1,
          2,
          1,
          4,
          4,
          3,
          3,
          1,
          4,
          3,
          3,
          4,
          1,
          5,
          2,
          3,
          2,
          2,
          2,
          2,
          2,
          3,
          1,
          1,
          3,
          2,
          3,
          3,
          1,
          3,
          5,
          1,
          1,
          4,
          2,
          5,
          2,
          4,
          1,
          3,
          5,
          5,
          4,
          2,
          5,
          2,
          3,
          5,
          3,
          2,
          4,
          1,
          3,
          2,
          5,
          5,
          5,
          1,
          2,
          5,
          2,
          4,
          5,
          1,
          3,
          5,
          5,
          5,
          3,
          2,
          5,
          1,
          1,
          3,
          1,
          2,
          5,
          3,
          5,
          5,
          2,
          1,
          4,
          2,
          5,
          4,
          3,
          2,
          2,
          2,
          5,
          3,
          4,
          5,
          3,
          5,
          5,
          5,
          1,
          3,
          4,
          2,
          2,
          2,
          5,
          1,
          3,
          2,
          1,
          4,
          1,
          5,
          4,
          2,
          5,
          3,
          1,
          3,
          4,
          3,
          1,
          1,
          2,
          1,
          1,
          1,
          1,
          3,
          5,
          2,
          5,
          5,
          5,
          5,
          2,
          1,
          3,
          5,
          2,
          4,
          5,
          4,
          2,
          5,
          1,
          5,
          4,
          5,
          1,
          1,
          1,
          2,
          4,
          4,
          1,
          5,
          5,
          2,
          5,
          2,
          2,
          4,
          5,
          4,
          2,
          3,
          2,
          2,
          5,
          4,
          2,
          1,
          5,
          5,
          3,
          4,
          2,
          2,
          3,
          1,
          4,
          1,
          3,
          2,
          4,
          1,
          1,
          2,
          1,
          3,
          3,
          4,
          5,
          5,
          2,
          5,
          5,
          3,
          4,
          4,
          5,
          1,
          2,
          2,
          5,
          4,
          3,
          1,
          5,
          3,
          4,
          5,
          5,
          5,
          4,
          2,
          3,
          5,
          3,
          1,
          3,
          2,
          4,
          2,
          3,
          5,
          1,
          1,
          5,
          1,
          4,
          5,
          1,
          5,
          3,
          1,
          5,
          5,
          2,
          2,
          4,
          5,
          3,
          5,
          1,
          2,
          4,
          4,
          3,
          2,
          5,
          3,
          2,
          3,
          4,
          3,
          1,
          3,
          5,
          2,
          4,
          3,
          3,
          4,
          2,
          3,
          5,
          3,
          4,
          2,
          1,
          1,
          3,
          5,
          5,
          3,
          4,
          3,
          4,
          1,
          4,
          5,
          5,
          2,
          5,
          4,
          2,
          1,
          3,
          1,
          5,
          2,
          3,
          3,
          5,
          4,
          3,
          4,
          1,
          4,
          5,
          4,
          2,
          1,
          4,
          4,
          1,
          3,
          1,
          2,
          1,
          3,
          3,
          3,
          3,
          5,
          5,
          5,
          2,
          4,
          5,
          5,
          2,
          2,
          5,
          3,
          2,
          4,
          4,
          4,
          4,
          1,
          5,
          4,
          5,
          1,
          1,
          4,
          1,
          3,
          3,
          2,
          2,
          2,
          1,
          4,
          5,
          5,
          4,
          4,
          2,
          1,
          1,
          3,
          1,
          5,
          5,
          3,
          5,
          4,
          3,
          1,
          2,
          1,
          1,
          1,
          1,
          1,
          1,
          5,
          4,
          1,
          1,
          3,
          1,
          4,
          2,
          5,
          4,
          2,
          3,
          1,
          2,
          3,
          1,
          5,
          4,
          5,
          5,
          2,
          3,
          4,
          2,
          5,
          5,
          1,
          2,
          4,
          3,
          4,
          4,
          3,
          1,
          1,
          5,
          5,
          3,
          4,
          1,
          3,
          3,
          4,
          1,
          4,
          3,
          4,
          4,
          1,
          3,
          5,
          1,
          2,
          1,
          2,
          2,
          1,
          3,
          2,
          5,
          3,
          3,
          4,
          5,
          2,
          1,
          1,
          3,
          4,
          4,
          1,
          3,
          5,
          1,
          1,
          3,
          5,
          3,
          3,
          3,
          5,
          5,
          4,
          2,
          5,
          5,
          5,
          2,
          1,
          3,
          4,
          4,
          1,
          1,
          5,
          2,
          3,
          5,
          2,
          3,
          4,
          3,
          2,
          5,
          3,
          3,
          4,
          4,
          4,
          4,
          4,
          3,
          4,
          2,
          1,
          1,
          3,
          2,
          2,
          1,
          2,
          1,
          4,
          2,
          2,
          1,
          1,
          3,
          1,
          2,
          1,
          5,
          4,
          2,
          5,
          4,
          5,
          4,
          1,
          1,
          5,
          5,
          3,
          3,
          5,
          4,
          4,
          1,
          4,
          1,
          5,
          1,
          2,
          4,
          2,
          2,
          1,
          3,
          3,
          5,
          3,
          4,
          4,
          3,
          3,
          3,
          2,
          1,
          1,
          3,
          5,
          2,
          2,
          4,
          1,
          5,
          5,
          3,
          2,
          2,
          5,
          5,
          5,
          1,
          1,
          1,
          4,
          5,
          4,
          3,
          5,
          4,
          4,
          3,
          2,
          5,
          5,
          4,
          1,
          2,
          5,
          3,
          5,
          4,
          3,
          1,
          2,
          4,
          4,
          2,
          2,
          4,
          3,
          2,
          1,
          4,
          1,
          2,
          2,
          1,
          4,
          2,
          2,
          5,
          3,
          4,
          3,
          3,
          4,
          5,
          2,
          2,
          3,
          2,
          2,
          1,
          5,
          5,
          3,
          2,
          4,
          3,
          2,
          4,
          5,
          2,
          1,
          2,
          5,
          5,
          2,
          2,
          4,
          4
         ],
         "yaxis": "y"
        }
       ],
       "layout": {
        "coloraxis": {
         "colorbar": {
          "ticktext": [
           "Retained",
           "Churned"
          ],
          "tickvals": [
           0,
           1
          ],
          "title": {
           "text": "<b>Churn Status</b>"
          }
         },
         "colorscale": [
          [
           0,
           "#440154"
          ],
          [
           0.1111111111111111,
           "#482878"
          ],
          [
           0.2222222222222222,
           "#3e4989"
          ],
          [
           0.3333333333333333,
           "#31688e"
          ],
          [
           0.4444444444444444,
           "#26828e"
          ],
          [
           0.5555555555555556,
           "#1f9e89"
          ],
          [
           0.6666666666666666,
           "#35b779"
          ],
          [
           0.7777777777777778,
           "#6ece58"
          ],
          [
           0.8888888888888888,
           "#b5de2b"
          ],
          [
           1,
           "#fde725"
          ]
         ]
        },
        "legend": {
         "tracegroupgap": 0
        },
        "template": {
         "layout": {
          "font": {
           "color": "#2D494C",
           "family": "Lato",
           "size": 14
          },
          "hoverlabel": {
           "bgcolor": "#E5F2F2",
           "bordercolor": "#2D494C",
           "font": {
            "color": "#2D494C",
            "family": "Lato",
            "size": 14
           }
          },
          "legend": {
           "font": {
            "color": "#3A585B",
            "family": "Lato",
            "size": 12
           },
           "title": {
            "font": {
             "color": "#2D494C",
             "family": "Lato",
             "size": 16
            },
            "text": "<b>Legend Title</b>"
           }
          },
          "paper_bgcolor": "white",
          "plot_bgcolor": "white",
          "title": {
           "font": {
            "color": "#2D494C",
            "size": 24
           },
           "text": "<b>Your Chart Title</b>",
           "x": 0.5
          },
          "xaxis": {
           "gridcolor": "#E5E5E5",
           "showgrid": true,
           "tickcolor": "#2D494C",
           "tickfont": {
            "color": "#2D494C",
            "family": "Lato",
            "size": 12
           },
           "ticklen": 5,
           "tickwidth": 1,
           "title": {
            "font": {
             "color": "#2D494C",
             "family": "Lato",
             "size": 16
            },
            "text": "<b>X Axis Title</b>"
           }
          },
          "yaxis": {
           "gridcolor": "#E5E5E5",
           "showgrid": true,
           "tickcolor": "#2D494C",
           "tickfont": {
            "color": "#2D494C",
            "family": "Lato",
            "size": 12
           },
           "ticklen": 5,
           "tickwidth": 1,
           "title": {
            "font": {
             "color": "#2D494C",
             "family": "Lato",
             "size": 16
            },
            "text": "<b>Y Axis Title</b>"
           }
          }
         }
        },
        "title": {
         "text": "Feature Adoption Rate vs. CSAT Score"
        },
        "xaxis": {
         "anchor": "y",
         "domain": [
          0,
          1
         ],
         "title": {
          "text": "<b>Feature Adoption Rate (%)</b>"
         }
        },
        "yaxis": {
         "anchor": "x",
         "domain": [
          0,
          1
         ],
         "title": {
          "text": "<b>CSAT Score</b>"
         }
        }
       }
      }
     },
     "metadata": {},
     "output_type": "display_data"
    }
   ],
   "source": [
    "fig9 = px.scatter(\n",
    "    feature_data,\n",
    "    x='feature_adoption_rate',\n",
    "    y='csat_score',\n",
    "    color='is_churned',\n",
    "    color_discrete_map=custom_colors2,\n",
    "    title='Feature Adoption Rate vs. CSAT Score',\n",
    "    labels={\n",
    "        'feature_adoption_rate': 'Feature Adoption Rate (%)',\n",
    "        'csat_score': 'CSAT Score',\n",
    "        'is_churned': 'Churn Status'\n",
    "    },\n",
    "    hover_data={'customer_id': True},\n",
    "    template='custom_template'\n",
    ")\n",
    "\n",
    "fig9.update_traces(\n",
    "    hovertemplate='<b>Customer ID:</b> %{customdata[0]}<br>' +\n",
    "                  '<b>Feature Adoption Rate (%):</b> %{x:.2f}%<br>' +\n",
    "                  '<b>CSAT Score:</b> %{y}<br>' +\n",
    "                  '<b>Churn Status:</b> %{marker.color}<extra></extra>',\n",
    "    customdata=feature_data[['customer_id']].values\n",
    ")\n",
    "\n",
    "fig9.update_layout(\n",
    "    coloraxis_colorbar=dict(\n",
    "        title='<b>Churn Status</b>',\n",
    "        tickvals=[0, 1],\n",
    "        ticktext=['Retained', 'Churned']\n",
    "    ),\n",
    "    xaxis_title='<b>Feature Adoption Rate (%)</b>',\n",
    "    yaxis_title='<b>CSAT Score</b>'\n",
    ")\n",
    "\n",
    "fig9.show()"
   ]
  },
  {
   "cell_type": "markdown",
   "metadata": {},
   "source": [
    "##### Fig10: Avg. CLV by customer segment"
   ]
  },
  {
   "cell_type": "code",
   "execution_count": 373,
   "metadata": {},
   "outputs": [],
   "source": [
    "# Calculate average CLV by customer segment\n",
    "clv_by_segment = customer.groupby('customer_segment')['clv'].mean().reset_index()\n",
    "clv_by_segment.columns = ['Customer Segment', 'Average CLV']\n",
    "clv_by_segment['Average CLV'] = clv_by_segment['Average CLV'].round(2)"
   ]
  },
  {
   "cell_type": "code",
   "execution_count": 374,
   "metadata": {},
   "outputs": [
    {
     "data": {
      "application/vnd.plotly.v1+json": {
       "config": {
        "plotlyServerURL": "https://plot.ly"
       },
       "data": [
        {
         "alignmentgroup": "True",
         "hovertemplate": "<b>Customer Segment:</b> %{x}<br><b>Average CLV:</b> $%{y:.2f}<extra></extra>",
         "legendgroup": "enterprise",
         "marker": {
          "color": "#ECF2F0",
          "pattern": {
           "shape": ""
          }
         },
         "name": "enterprise",
         "offsetgroup": "enterprise",
         "orientation": "v",
         "showlegend": true,
         "text": [
          11991.84
         ],
         "textposition": "outside",
         "type": "bar",
         "x": [
          "enterprise"
         ],
         "xaxis": "x",
         "y": [
          11991.84
         ],
         "yaxis": "y"
        },
        {
         "alignmentgroup": "True",
         "hovertemplate": "<b>Customer Segment:</b> %{x}<br><b>Average CLV:</b> $%{y:.2f}<extra></extra>",
         "legendgroup": "mid-market",
         "marker": {
          "color": "#A3C1C2",
          "pattern": {
           "shape": ""
          }
         },
         "name": "mid-market",
         "offsetgroup": "mid-market",
         "orientation": "v",
         "showlegend": true,
         "text": [
          4609.57
         ],
         "textposition": "outside",
         "type": "bar",
         "x": [
          "mid-market"
         ],
         "xaxis": "x",
         "y": [
          4609.57
         ],
         "yaxis": "y"
        },
        {
         "alignmentgroup": "True",
         "hovertemplate": "<b>Customer Segment:</b> %{x}<br><b>Average CLV:</b> $%{y:.2f}<extra></extra>",
         "legendgroup": "small business",
         "marker": {
          "color": "#89A9AA",
          "pattern": {
           "shape": ""
          }
         },
         "name": "small business",
         "offsetgroup": "small business",
         "orientation": "v",
         "showlegend": true,
         "text": [
          1695.18
         ],
         "textposition": "outside",
         "type": "bar",
         "x": [
          "small business"
         ],
         "xaxis": "x",
         "y": [
          1695.18
         ],
         "yaxis": "y"
        }
       ],
       "layout": {
        "barmode": "relative",
        "height": 600,
        "legend": {
         "title": {
          "text": "Customer Segment"
         },
         "tracegroupgap": 0
        },
        "showlegend": false,
        "template": {
         "layout": {
          "font": {
           "color": "#2D494C",
           "family": "Lato",
           "size": 14
          },
          "hoverlabel": {
           "bgcolor": "#E5F2F2",
           "bordercolor": "#2D494C",
           "font": {
            "color": "#2D494C",
            "family": "Lato",
            "size": 14
           }
          },
          "legend": {
           "font": {
            "color": "#3A585B",
            "family": "Lato",
            "size": 12
           },
           "title": {
            "font": {
             "color": "#2D494C",
             "family": "Lato",
             "size": 16
            },
            "text": "<b>Legend Title</b>"
           }
          },
          "paper_bgcolor": "white",
          "plot_bgcolor": "white",
          "title": {
           "font": {
            "color": "#2D494C",
            "size": 24
           },
           "text": "<b>Your Chart Title</b>",
           "x": 0.5
          },
          "xaxis": {
           "gridcolor": "#E5E5E5",
           "showgrid": true,
           "tickcolor": "#2D494C",
           "tickfont": {
            "color": "#2D494C",
            "family": "Lato",
            "size": 12
           },
           "ticklen": 5,
           "tickwidth": 1,
           "title": {
            "font": {
             "color": "#2D494C",
             "family": "Lato",
             "size": 16
            },
            "text": "<b>X Axis Title</b>"
           }
          },
          "yaxis": {
           "gridcolor": "#E5E5E5",
           "showgrid": true,
           "tickcolor": "#2D494C",
           "tickfont": {
            "color": "#2D494C",
            "family": "Lato",
            "size": 12
           },
           "ticklen": 5,
           "tickwidth": 1,
           "title": {
            "font": {
             "color": "#2D494C",
             "family": "Lato",
             "size": 16
            },
            "text": "<b>Y Axis Title</b>"
           }
          }
         }
        },
        "title": {
         "text": "Average CLV by Customer Segment"
        },
        "xaxis": {
         "anchor": "y",
         "categoryarray": [
          "enterprise",
          "mid-market",
          "small business"
         ],
         "categoryorder": "array",
         "domain": [
          0,
          1
         ],
         "title": {
          "text": "<b>Customer Segment</b>"
         }
        },
        "yaxis": {
         "anchor": "x",
         "domain": [
          0,
          1
         ],
         "title": {
          "text": "<b>Average CLV ($)</b>"
         }
        }
       }
      }
     },
     "metadata": {},
     "output_type": "display_data"
    }
   ],
   "source": [
    "fig10 = px.bar(\n",
    "    clv_by_segment,\n",
    "    x='Customer Segment',\n",
    "    y='Average CLV',\n",
    "    title='Average CLV by Customer Segment',\n",
    "    text='Average CLV',\n",
    "    color='Customer Segment',\n",
    "    color_discrete_sequence=custom_colors3,\n",
    "    template='custom_template'\n",
    ")\n",
    "\n",
    "fig10.update_traces(\n",
    "    textposition='outside',\n",
    "    hovertemplate='<b>Customer Segment:</b> %{x}<br>' +\n",
    "                  '<b>Average CLV:</b> $%{y:.2f}<extra></extra>'\n",
    ")\n",
    "\n",
    "fig10.update_layout(\n",
    "    xaxis_title='<b>Customer Segment</b>',\n",
    "    yaxis_title='<b>Average CLV ($)</b>',\n",
    "    height=600,\n",
    "    showlegend=False\n",
    ")\n",
    "\n",
    "fig10.show()"
   ]
  },
  {
   "cell_type": "markdown",
   "metadata": {},
   "source": [
    "##### Fig11: Feature adoption rate over time"
   ]
  },
  {
   "cell_type": "code",
   "execution_count": 375,
   "metadata": {},
   "outputs": [],
   "source": [
    "# Ensure 'signup_date' is in datetime format\n",
    "customer['signup_date'] = pd.to_datetime(customer['signup_date'])"
   ]
  },
  {
   "cell_type": "code",
   "execution_count": 376,
   "metadata": {},
   "outputs": [],
   "source": [
    "# Extract month and year from 'signup_date'\n",
    "customer['signup_month'] = customer['signup_date'].dt.to_period('M')"
   ]
  },
  {
   "cell_type": "code",
   "execution_count": 377,
   "metadata": {},
   "outputs": [],
   "source": [
    "# Average feature adoption rate per month\n",
    "monthly_feature_adoption = customer.groupby('signup_month')['feature_adoption_rate'].mean().reset_index()\n",
    "monthly_feature_adoption.columns = ['Month', 'Average Feature Adoption Rate']\n",
    "monthly_feature_adoption['Average Feature Adoption Rate'] = monthly_feature_adoption['Average Feature Adoption Rate'] * 100  # Convert to percentage"
   ]
  },
  {
   "cell_type": "code",
   "execution_count": 378,
   "metadata": {},
   "outputs": [],
   "source": [
    "# Convert 'Month' to datetime for plotting\n",
    "monthly_feature_adoption['Month'] = monthly_feature_adoption['Month'].dt.to_timestamp()"
   ]
  },
  {
   "cell_type": "code",
   "execution_count": 379,
   "metadata": {},
   "outputs": [
    {
     "data": {
      "application/vnd.plotly.v1+json": {
       "config": {
        "plotlyServerURL": "https://plot.ly"
       },
       "data": [
        {
         "hovertemplate": "<b>Month:</b> %{x|%b %Y}<br><b>Average Feature Adoption Rate:</b> %{y:.2f}%<extra></extra>",
         "legendgroup": "",
         "line": {
          "color": "#6A8B8C",
          "dash": "solid"
         },
         "marker": {
          "symbol": "circle"
         },
         "mode": "lines+markers",
         "name": "",
         "orientation": "v",
         "showlegend": false,
         "type": "scatter",
         "x": [
          "2021-10-01T00:00:00",
          "2021-11-01T00:00:00",
          "2021-12-01T00:00:00",
          "2022-01-01T00:00:00",
          "2022-02-01T00:00:00",
          "2022-03-01T00:00:00",
          "2022-04-01T00:00:00",
          "2022-05-01T00:00:00",
          "2022-06-01T00:00:00",
          "2022-07-01T00:00:00",
          "2022-08-01T00:00:00",
          "2022-09-01T00:00:00",
          "2022-10-01T00:00:00",
          "2022-11-01T00:00:00",
          "2022-12-01T00:00:00",
          "2023-01-01T00:00:00",
          "2023-02-01T00:00:00",
          "2023-03-01T00:00:00",
          "2023-04-01T00:00:00",
          "2023-05-01T00:00:00",
          "2023-06-01T00:00:00",
          "2023-07-01T00:00:00",
          "2023-08-01T00:00:00",
          "2023-09-01T00:00:00",
          "2023-10-01T00:00:00",
          "2023-11-01T00:00:00",
          "2023-12-01T00:00:00",
          "2024-01-01T00:00:00",
          "2024-02-01T00:00:00",
          "2024-03-01T00:00:00",
          "2024-04-01T00:00:00",
          "2024-05-01T00:00:00",
          "2024-06-01T00:00:00",
          "2024-07-01T00:00:00",
          "2024-08-01T00:00:00",
          "2024-09-01T00:00:00",
          "2024-10-01T00:00:00",
          "2024-11-01T00:00:00",
          "2024-12-01T00:00:00",
          "2025-01-01T00:00:00",
          "2025-02-01T00:00:00",
          "2025-03-01T00:00:00",
          "2025-04-01T00:00:00",
          "2025-05-01T00:00:00",
          "2025-06-01T00:00:00",
          "2025-07-01T00:00:00",
          "2025-08-01T00:00:00",
          "2025-09-01T00:00:00",
          "2025-10-01T00:00:00",
          "2025-11-01T00:00:00",
          "2025-12-01T00:00:00",
          "2026-01-01T00:00:00",
          "2026-02-01T00:00:00",
          "2026-03-01T00:00:00",
          "2026-04-01T00:00:00",
          "2026-05-01T00:00:00",
          "2026-06-01T00:00:00",
          "2026-07-01T00:00:00",
          "2026-08-01T00:00:00",
          "2026-09-01T00:00:00",
          "2026-10-01T00:00:00",
          "2026-11-01T00:00:00",
          "2026-12-01T00:00:00",
          "2027-01-01T00:00:00",
          "2027-02-01T00:00:00",
          "2027-03-01T00:00:00",
          "2027-04-01T00:00:00",
          "2027-05-01T00:00:00",
          "2027-06-01T00:00:00",
          "2027-07-01T00:00:00",
          "2027-08-01T00:00:00",
          "2028-01-01T00:00:00"
         ],
         "xaxis": "x",
         "y": [
          59.99580160937094,
          57.30763151674054,
          64.22654067670132,
          58.34602276291794,
          61.78471813090005,
          63.4844035034958,
          60.440882866132796,
          60.909192216559106,
          61.48841406981288,
          59.16855830427641,
          60.254141377852676,
          58.0088332945354,
          60.52345311669919,
          57.561063491824804,
          61.85489490794255,
          57.16119338234047,
          56.689731226433985,
          61.5482596955395,
          61.61879978585604,
          60.34276570021094,
          56.46435037631028,
          61.69181582229687,
          58.91580091004354,
          59.35164390782938,
          57.16800767883533,
          58.86371844893692,
          60.26723152322677,
          63.78915609036386,
          60.28339751698927,
          58.21622399719965,
          62.18343169688675,
          60.13245846044827,
          60.53245366015931,
          61.4126245325499,
          60.68544775794007,
          62.92601481484294,
          57.946753302177434,
          60.930491029699006,
          59.34780632000384,
          60.984525787987764,
          63.101360903506496,
          61.58689550457633,
          58.566032219622876,
          61.55453549518067,
          58.43354711651756,
          57.67325960190123,
          62.51547117781631,
          59.18709594452483,
          63.305438697608174,
          63.56834433992993,
          62.50896650952651,
          61.58275325558734,
          60.62969066964035,
          55.818380834633494,
          61.426329832575796,
          64.47154663932182,
          64.27773043766665,
          55.107582463196394,
          59.08881115682758,
          73.80737913483091,
          52.27489430439082,
          40.18582217149324,
          57.80787831715681,
          71.35380816918723,
          58.87629237657747,
          67.0987503001433,
          61.191807822682144,
          58.29226259807216,
          63.793316736412685,
          59.26424190673839,
          76.56081332378545,
          58.01255661690213
         ],
         "yaxis": "y"
        }
       ],
       "layout": {
        "legend": {
         "tracegroupgap": 0
        },
        "template": {
         "layout": {
          "font": {
           "color": "#2D494C",
           "family": "Lato",
           "size": 14
          },
          "hoverlabel": {
           "bgcolor": "#E5F2F2",
           "bordercolor": "#2D494C",
           "font": {
            "color": "#2D494C",
            "family": "Lato",
            "size": 14
           }
          },
          "legend": {
           "font": {
            "color": "#3A585B",
            "family": "Lato",
            "size": 12
           },
           "title": {
            "font": {
             "color": "#2D494C",
             "family": "Lato",
             "size": 16
            },
            "text": "<b>Legend Title</b>"
           }
          },
          "paper_bgcolor": "white",
          "plot_bgcolor": "white",
          "title": {
           "font": {
            "color": "#2D494C",
            "size": 24
           },
           "text": "<b>Your Chart Title</b>",
           "x": 0.5
          },
          "xaxis": {
           "gridcolor": "#E5E5E5",
           "showgrid": true,
           "tickcolor": "#2D494C",
           "tickfont": {
            "color": "#2D494C",
            "family": "Lato",
            "size": 12
           },
           "ticklen": 5,
           "tickwidth": 1,
           "title": {
            "font": {
             "color": "#2D494C",
             "family": "Lato",
             "size": 16
            },
            "text": "<b>X Axis Title</b>"
           }
          },
          "yaxis": {
           "gridcolor": "#E5E5E5",
           "showgrid": true,
           "tickcolor": "#2D494C",
           "tickfont": {
            "color": "#2D494C",
            "family": "Lato",
            "size": 12
           },
           "ticklen": 5,
           "tickwidth": 1,
           "title": {
            "font": {
             "color": "#2D494C",
             "family": "Lato",
             "size": 16
            },
            "text": "<b>Y Axis Title</b>"
           }
          }
         }
        },
        "title": {
         "text": "Average Feature Adoption Rate Over Time"
        },
        "xaxis": {
         "anchor": "y",
         "domain": [
          0,
          1
         ],
         "title": {
          "text": "<b>Month</b>"
         }
        },
        "yaxis": {
         "anchor": "x",
         "domain": [
          0,
          1
         ],
         "title": {
          "text": "<b>Average Feature Adoption Rate (%)</b>"
         }
        }
       }
      }
     },
     "metadata": {},
     "output_type": "display_data"
    }
   ],
   "source": [
    "fig11 = px.line(\n",
    "    monthly_feature_adoption,\n",
    "    x='Month',\n",
    "    y='Average Feature Adoption Rate',\n",
    "    title='Average Feature Adoption Rate Over Time',\n",
    "    labels={'Month': 'Month', 'Average Feature Adoption Rate': 'Average Feature Adoption Rate (%)'},\n",
    "    markers=True,\n",
    "    color_discrete_sequence=custom_colors4,\n",
    "    template='custom_template'\n",
    ")\n",
    "\n",
    "# Update hover template\n",
    "fig11.update_traces(\n",
    "    hovertemplate='<b>Month:</b> %{x|%b %Y}<br>' +\n",
    "                  '<b>Average Feature Adoption Rate:</b> %{y:.2f}%<extra></extra>'\n",
    ")\n",
    "\n",
    "# Update layout\n",
    "fig11.update_layout(\n",
    "    xaxis_title='<b>Month</b>',\n",
    "    yaxis_title='<b>Average Feature Adoption Rate (%)</b>'\n",
    ")\n",
    "\n",
    "# Display the plot\n",
    "fig11.show()"
   ]
  },
  {
   "cell_type": "markdown",
   "metadata": {},
   "source": [
    "#### BI analysis"
   ]
  },
  {
   "cell_type": "markdown",
   "metadata": {},
   "source": [
    "##### fig13: Total monthly revenue over time"
   ]
  },
  {
   "cell_type": "code",
   "execution_count": 380,
   "metadata": {},
   "outputs": [],
   "source": [
    "customer['signup_date'] = pd.to_datetime(customer['signup_date'])\n",
    "# Extract month and year from 'signup_date'\n",
    "customer['signup_month'] = customer['signup_date'].dt.to_period('M')"
   ]
  },
  {
   "cell_type": "code",
   "execution_count": 381,
   "metadata": {},
   "outputs": [],
   "source": [
    "# Total revenue per month\n",
    "monthly_revenue = customer.groupby('signup_month')['monthly_revenue'].sum().reset_index()\n",
    "monthly_revenue.columns = ['Month', 'Total Revenue']"
   ]
  },
  {
   "cell_type": "code",
   "execution_count": 382,
   "metadata": {},
   "outputs": [],
   "source": [
    "# Convert 'Month' to datetime for plotting\n",
    "monthly_revenue['Month'] = monthly_revenue['Month'].dt.to_timestamp()"
   ]
  },
  {
   "cell_type": "code",
   "execution_count": 387,
   "metadata": {},
   "outputs": [
    {
     "data": {
      "application/vnd.plotly.v1+json": {
       "config": {
        "plotlyServerURL": "https://plot.ly"
       },
       "data": [
        {
         "hovertemplate": "<b>Month:</b> %{x|%b %Y}<br><b>Total Revenue:</b> $%{y:.2f}<extra></extra>",
         "legendgroup": "",
         "line": {
          "color": "#6A8B8C",
          "dash": "solid"
         },
         "marker": {
          "symbol": "circle"
         },
         "mode": "lines+markers",
         "name": "",
         "orientation": "v",
         "showlegend": false,
         "type": "scatter",
         "x": [
          "2021-10-01T00:00:00",
          "2021-11-01T00:00:00",
          "2021-12-01T00:00:00",
          "2022-01-01T00:00:00",
          "2022-02-01T00:00:00",
          "2022-03-01T00:00:00",
          "2022-04-01T00:00:00",
          "2022-05-01T00:00:00",
          "2022-06-01T00:00:00",
          "2022-07-01T00:00:00",
          "2022-08-01T00:00:00",
          "2022-09-01T00:00:00",
          "2022-10-01T00:00:00",
          "2022-11-01T00:00:00",
          "2022-12-01T00:00:00",
          "2023-01-01T00:00:00",
          "2023-02-01T00:00:00",
          "2023-03-01T00:00:00",
          "2023-04-01T00:00:00",
          "2023-05-01T00:00:00",
          "2023-06-01T00:00:00",
          "2023-07-01T00:00:00",
          "2023-08-01T00:00:00",
          "2023-09-01T00:00:00",
          "2023-10-01T00:00:00",
          "2023-11-01T00:00:00",
          "2023-12-01T00:00:00",
          "2024-01-01T00:00:00",
          "2024-02-01T00:00:00",
          "2024-03-01T00:00:00",
          "2024-04-01T00:00:00",
          "2024-05-01T00:00:00",
          "2024-06-01T00:00:00",
          "2024-07-01T00:00:00",
          "2024-08-01T00:00:00",
          "2024-09-01T00:00:00",
          "2024-10-01T00:00:00",
          "2024-11-01T00:00:00",
          "2024-12-01T00:00:00",
          "2025-01-01T00:00:00",
          "2025-02-01T00:00:00",
          "2025-03-01T00:00:00",
          "2025-04-01T00:00:00",
          "2025-05-01T00:00:00",
          "2025-06-01T00:00:00",
          "2025-07-01T00:00:00",
          "2025-08-01T00:00:00",
          "2025-09-01T00:00:00",
          "2025-10-01T00:00:00",
          "2025-11-01T00:00:00",
          "2025-12-01T00:00:00",
          "2026-01-01T00:00:00",
          "2026-02-01T00:00:00",
          "2026-03-01T00:00:00",
          "2026-04-01T00:00:00",
          "2026-05-01T00:00:00",
          "2026-06-01T00:00:00",
          "2026-07-01T00:00:00",
          "2026-08-01T00:00:00",
          "2026-09-01T00:00:00",
          "2026-10-01T00:00:00",
          "2026-11-01T00:00:00",
          "2026-12-01T00:00:00",
          "2027-01-01T00:00:00",
          "2027-02-01T00:00:00",
          "2027-03-01T00:00:00",
          "2027-04-01T00:00:00",
          "2027-05-01T00:00:00",
          "2027-06-01T00:00:00",
          "2027-07-01T00:00:00",
          "2027-08-01T00:00:00",
          "2028-01-01T00:00:00"
         ],
         "xaxis": "x",
         "y": [
          9600,
          6675,
          8575,
          9400,
          8800,
          9525,
          9500,
          10000,
          9800,
          6825,
          9125,
          5925,
          7725,
          6500,
          8225,
          10825,
          9550,
          8125,
          9250,
          9075,
          9200,
          9050,
          8200,
          6300,
          7975,
          10675,
          8650,
          8250,
          8850,
          9550,
          9275,
          9575,
          8975,
          8400,
          8600,
          9275,
          7625,
          8150,
          8000,
          7875,
          6625,
          4825,
          4475,
          8200,
          5350,
          4675,
          5850,
          4625,
          4925,
          3275,
          2075,
          3575,
          2250,
          850,
          2150,
          1225,
          1300,
          950,
          550,
          300,
          300,
          200,
          50,
          300,
          600,
          700,
          500,
          150,
          100,
          100,
          200,
          50
         ],
         "yaxis": "y"
        }
       ],
       "layout": {
        "legend": {
         "tracegroupgap": 0
        },
        "template": {
         "layout": {
          "font": {
           "color": "#2D494C",
           "family": "Lato",
           "size": 14
          },
          "hoverlabel": {
           "bgcolor": "#E5F2F2",
           "bordercolor": "#2D494C",
           "font": {
            "color": "#2D494C",
            "family": "Lato",
            "size": 14
           }
          },
          "legend": {
           "font": {
            "color": "#3A585B",
            "family": "Lato",
            "size": 12
           },
           "title": {
            "font": {
             "color": "#2D494C",
             "family": "Lato",
             "size": 16
            },
            "text": "<b>Legend Title</b>"
           }
          },
          "paper_bgcolor": "white",
          "plot_bgcolor": "white",
          "title": {
           "font": {
            "color": "#2D494C",
            "size": 24
           },
           "text": "<b>Your Chart Title</b>",
           "x": 0.5
          },
          "xaxis": {
           "gridcolor": "#E5E5E5",
           "showgrid": true,
           "tickcolor": "#2D494C",
           "tickfont": {
            "color": "#2D494C",
            "family": "Lato",
            "size": 12
           },
           "ticklen": 5,
           "tickwidth": 1,
           "title": {
            "font": {
             "color": "#2D494C",
             "family": "Lato",
             "size": 16
            },
            "text": "<b>X Axis Title</b>"
           }
          },
          "yaxis": {
           "gridcolor": "#E5E5E5",
           "showgrid": true,
           "tickcolor": "#2D494C",
           "tickfont": {
            "color": "#2D494C",
            "family": "Lato",
            "size": 12
           },
           "ticklen": 5,
           "tickwidth": 1,
           "title": {
            "font": {
             "color": "#2D494C",
             "family": "Lato",
             "size": 16
            },
            "text": "<b>Y Axis Title</b>"
           }
          }
         }
        },
        "title": {
         "text": "Total Monthly Revenue Over Time"
        },
        "xaxis": {
         "anchor": "y",
         "domain": [
          0,
          1
         ],
         "title": {
          "text": "<b>Month</b>"
         }
        },
        "yaxis": {
         "anchor": "x",
         "domain": [
          0,
          1
         ],
         "title": {
          "text": "<b>Total Revenue ($)</b>"
         }
        }
       }
      }
     },
     "metadata": {},
     "output_type": "display_data"
    }
   ],
   "source": [
    "fig13 = px.line(\n",
    "    monthly_revenue,\n",
    "    x='Month',\n",
    "    y='Total Revenue',\n",
    "    title='Total Monthly Revenue Over Time',\n",
    "    labels={'Month': 'Month', 'Total Revenue': 'Total Revenue ($)'},\n",
    "    markers=True,\n",
    "    color_discrete_sequence=custom_colors4,\n",
    "    template='custom_template'\n",
    ")\n",
    "\n",
    "fig13.update_traces(\n",
    "    hovertemplate='<b>Month:</b> %{x|%b %Y}<br>' +\n",
    "                  '<b>Total Revenue:</b> $%{y:.2f}<extra></extra>'\n",
    ")\n",
    "\n",
    "fig13.update_layout(\n",
    "    xaxis_title='<b>Month</b>',\n",
    "    yaxis_title='<b>Total Revenue ($)</b>'\n",
    ")\n",
    "\n",
    "fig13.show()"
   ]
  },
  {
   "cell_type": "markdown",
   "metadata": {},
   "source": [
    "##### Fig13: Revenue by customer segment"
   ]
  },
  {
   "cell_type": "code",
   "execution_count": 384,
   "metadata": {},
   "outputs": [],
   "source": [
    "# Ensure 'signup_date' and 'churn_date' are in datetime format\n",
    "customer['signup_date'] = pd.to_datetime(customer['signup_date'])\n",
    "customer['churn_date'] = pd.to_datetime(customer['churn_date'])\n",
    "\n",
    "# Extract month and year from 'signup_date' and 'churn_date'\n",
    "customer['signup_month'] = customer['signup_date'].dt.to_period('M')\n",
    "customer['churn_month'] = customer['churn_date'].dt.to_period('M')\n",
    "\n",
    "# Calculate total revenue per month\n",
    "total_revenue_monthly = customer.groupby('signup_month')['monthly_revenue'].sum().reset_index()\n",
    "total_revenue_monthly.columns = ['Month', 'Total Revenue']\n",
    "\n",
    "# Calculate revenue by customer segment per month\n",
    "revenue_by_segment = customer.groupby(['signup_month', 'customer_segment'])['monthly_revenue'].sum().reset_index()\n",
    "revenue_by_segment.columns = ['Month', 'Customer Segment', 'Revenue']\n",
    "\n",
    "# Pivot the data for stacked bar chart\n",
    "revenue_pivot = revenue_by_segment.pivot(index='Month', columns='Customer Segment', values='Revenue').fillna(0)\n",
    "\n",
    "# Calculate revenue lost due to churn per month\n",
    "revenue_lost = customer[customer['is_churned'] == 1].groupby('churn_month')['monthly_revenue'].sum().reset_index()\n",
    "revenue_lost.columns = ['Month', 'Revenue Lost']\n",
    "\n",
    "# Merge total revenue with revenue lost\n",
    "combined_revenue = pd.merge(total_revenue_monthly, revenue_lost, left_on='Month', right_on='Month', how='left')\n",
    "combined_revenue['Revenue Lost'] = combined_revenue['Revenue Lost'].fillna(0)\n",
    "\n",
    "# Convert 'Month' to datetime for plotting\n",
    "combined_revenue['Month'] = combined_revenue['Month'].dt.to_timestamp()"
   ]
  },
  {
   "cell_type": "code",
   "execution_count": 388,
   "metadata": {},
   "outputs": [
    {
     "data": {
      "application/vnd.plotly.v1+json": {
       "config": {
        "plotlyServerURL": "https://plot.ly"
       },
       "data": [
        {
         "hovertemplate": "<b>Month:</b> %{x|%b %Y}<br><b>Customer Segment:</b> enterprise<br><b>Revenue:</b> $%{y:.2f}<extra></extra>",
         "marker": {
          "color": "#E2F0E6"
         },
         "name": "enterprise",
         "text": [
          1700,
          2075,
          2525,
          3350,
          3150,
          2475,
          3100,
          3750,
          1250,
          1475,
          3075,
          425,
          1425,
          2050,
          2325,
          3275,
          4150,
          1025,
          2900,
          2525,
          1900,
          1250,
          3400,
          0,
          1425,
          3275,
          850,
          1250,
          3100,
          3500,
          3125,
          2225,
          2875,
          2100,
          3300,
          2925,
          1875,
          2550,
          2900,
          1675,
          1675,
          825,
          1275,
          3150,
          2050,
          1675,
          3750,
          1675,
          1675,
          1275,
          425,
          825,
          850,
          0,
          1250,
          425,
          0,
          200,
          0,
          0,
          0,
          0,
          0,
          0,
          0,
          0,
          0,
          0,
          0,
          0,
          0,
          0
         ],
         "textposition": "auto",
         "type": "bar",
         "x": [
          "2021-10-01T00:00:00",
          "2021-11-01T00:00:00",
          "2021-12-01T00:00:00",
          "2022-01-01T00:00:00",
          "2022-02-01T00:00:00",
          "2022-03-01T00:00:00",
          "2022-04-01T00:00:00",
          "2022-05-01T00:00:00",
          "2022-06-01T00:00:00",
          "2022-07-01T00:00:00",
          "2022-08-01T00:00:00",
          "2022-09-01T00:00:00",
          "2022-10-01T00:00:00",
          "2022-11-01T00:00:00",
          "2022-12-01T00:00:00",
          "2023-01-01T00:00:00",
          "2023-02-01T00:00:00",
          "2023-03-01T00:00:00",
          "2023-04-01T00:00:00",
          "2023-05-01T00:00:00",
          "2023-06-01T00:00:00",
          "2023-07-01T00:00:00",
          "2023-08-01T00:00:00",
          "2023-09-01T00:00:00",
          "2023-10-01T00:00:00",
          "2023-11-01T00:00:00",
          "2023-12-01T00:00:00",
          "2024-01-01T00:00:00",
          "2024-02-01T00:00:00",
          "2024-03-01T00:00:00",
          "2024-04-01T00:00:00",
          "2024-05-01T00:00:00",
          "2024-06-01T00:00:00",
          "2024-07-01T00:00:00",
          "2024-08-01T00:00:00",
          "2024-09-01T00:00:00",
          "2024-10-01T00:00:00",
          "2024-11-01T00:00:00",
          "2024-12-01T00:00:00",
          "2025-01-01T00:00:00",
          "2025-02-01T00:00:00",
          "2025-03-01T00:00:00",
          "2025-04-01T00:00:00",
          "2025-05-01T00:00:00",
          "2025-06-01T00:00:00",
          "2025-07-01T00:00:00",
          "2025-08-01T00:00:00",
          "2025-09-01T00:00:00",
          "2025-10-01T00:00:00",
          "2025-11-01T00:00:00",
          "2025-12-01T00:00:00",
          "2026-01-01T00:00:00",
          "2026-02-01T00:00:00",
          "2026-03-01T00:00:00",
          "2026-04-01T00:00:00",
          "2026-05-01T00:00:00",
          "2026-06-01T00:00:00",
          "2026-07-01T00:00:00",
          "2026-08-01T00:00:00",
          "2026-09-01T00:00:00",
          "2026-10-01T00:00:00",
          "2026-11-01T00:00:00",
          "2026-12-01T00:00:00",
          "2027-01-01T00:00:00",
          "2027-02-01T00:00:00",
          "2027-03-01T00:00:00",
          "2027-04-01T00:00:00",
          "2027-05-01T00:00:00",
          "2027-06-01T00:00:00",
          "2027-07-01T00:00:00",
          "2027-08-01T00:00:00",
          "2028-01-01T00:00:00"
         ],
         "y": [
          1700,
          2075,
          2525,
          3350,
          3150,
          2475,
          3100,
          3750,
          1250,
          1475,
          3075,
          425,
          1425,
          2050,
          2325,
          3275,
          4150,
          1025,
          2900,
          2525,
          1900,
          1250,
          3400,
          0,
          1425,
          3275,
          850,
          1250,
          3100,
          3500,
          3125,
          2225,
          2875,
          2100,
          3300,
          2925,
          1875,
          2550,
          2900,
          1675,
          1675,
          825,
          1275,
          3150,
          2050,
          1675,
          3750,
          1675,
          1675,
          1275,
          425,
          825,
          850,
          0,
          1250,
          425,
          0,
          200,
          0,
          0,
          0,
          0,
          0,
          0,
          0,
          0,
          0,
          0,
          0,
          0,
          0,
          0
         ]
        },
        {
         "hovertemplate": "<b>Month:</b> %{x|%b %Y}<br><b>Customer Segment:</b> mid-market<br><b>Revenue:</b> $%{y:.2f}<extra></extra>",
         "marker": {
          "color": "#B7E0B1"
         },
         "name": "mid-market",
         "text": [
          5800,
          2400,
          3300,
          3500,
          2500,
          4500,
          3400,
          2700,
          5400,
          2800,
          3200,
          2900,
          3400,
          2600,
          3200,
          4800,
          2300,
          3500,
          4200,
          4600,
          4900,
          4600,
          2500,
          3900,
          4000,
          5000,
          5100,
          4700,
          3500,
          3500,
          3400,
          4400,
          4600,
          4300,
          2900,
          3600,
          2900,
          4100,
          2300,
          3700,
          2900,
          1900,
          1200,
          3000,
          1800,
          1600,
          1300,
          1600,
          1800,
          1100,
          500,
          1600,
          900,
          300,
          300,
          200,
          1000,
          400,
          200,
          200,
          200,
          100,
          0,
          0,
          300,
          600,
          300,
          0,
          100,
          0,
          200,
          0
         ],
         "textposition": "auto",
         "type": "bar",
         "x": [
          "2021-10-01T00:00:00",
          "2021-11-01T00:00:00",
          "2021-12-01T00:00:00",
          "2022-01-01T00:00:00",
          "2022-02-01T00:00:00",
          "2022-03-01T00:00:00",
          "2022-04-01T00:00:00",
          "2022-05-01T00:00:00",
          "2022-06-01T00:00:00",
          "2022-07-01T00:00:00",
          "2022-08-01T00:00:00",
          "2022-09-01T00:00:00",
          "2022-10-01T00:00:00",
          "2022-11-01T00:00:00",
          "2022-12-01T00:00:00",
          "2023-01-01T00:00:00",
          "2023-02-01T00:00:00",
          "2023-03-01T00:00:00",
          "2023-04-01T00:00:00",
          "2023-05-01T00:00:00",
          "2023-06-01T00:00:00",
          "2023-07-01T00:00:00",
          "2023-08-01T00:00:00",
          "2023-09-01T00:00:00",
          "2023-10-01T00:00:00",
          "2023-11-01T00:00:00",
          "2023-12-01T00:00:00",
          "2024-01-01T00:00:00",
          "2024-02-01T00:00:00",
          "2024-03-01T00:00:00",
          "2024-04-01T00:00:00",
          "2024-05-01T00:00:00",
          "2024-06-01T00:00:00",
          "2024-07-01T00:00:00",
          "2024-08-01T00:00:00",
          "2024-09-01T00:00:00",
          "2024-10-01T00:00:00",
          "2024-11-01T00:00:00",
          "2024-12-01T00:00:00",
          "2025-01-01T00:00:00",
          "2025-02-01T00:00:00",
          "2025-03-01T00:00:00",
          "2025-04-01T00:00:00",
          "2025-05-01T00:00:00",
          "2025-06-01T00:00:00",
          "2025-07-01T00:00:00",
          "2025-08-01T00:00:00",
          "2025-09-01T00:00:00",
          "2025-10-01T00:00:00",
          "2025-11-01T00:00:00",
          "2025-12-01T00:00:00",
          "2026-01-01T00:00:00",
          "2026-02-01T00:00:00",
          "2026-03-01T00:00:00",
          "2026-04-01T00:00:00",
          "2026-05-01T00:00:00",
          "2026-06-01T00:00:00",
          "2026-07-01T00:00:00",
          "2026-08-01T00:00:00",
          "2026-09-01T00:00:00",
          "2026-10-01T00:00:00",
          "2026-11-01T00:00:00",
          "2026-12-01T00:00:00",
          "2027-01-01T00:00:00",
          "2027-02-01T00:00:00",
          "2027-03-01T00:00:00",
          "2027-04-01T00:00:00",
          "2027-05-01T00:00:00",
          "2027-06-01T00:00:00",
          "2027-07-01T00:00:00",
          "2027-08-01T00:00:00",
          "2028-01-01T00:00:00"
         ],
         "y": [
          5800,
          2400,
          3300,
          3500,
          2500,
          4500,
          3400,
          2700,
          5400,
          2800,
          3200,
          2900,
          3400,
          2600,
          3200,
          4800,
          2300,
          3500,
          4200,
          4600,
          4900,
          4600,
          2500,
          3900,
          4000,
          5000,
          5100,
          4700,
          3500,
          3500,
          3400,
          4400,
          4600,
          4300,
          2900,
          3600,
          2900,
          4100,
          2300,
          3700,
          2900,
          1900,
          1200,
          3000,
          1800,
          1600,
          1300,
          1600,
          1800,
          1100,
          500,
          1600,
          900,
          300,
          300,
          200,
          1000,
          400,
          200,
          200,
          200,
          100,
          0,
          0,
          300,
          600,
          300,
          0,
          100,
          0,
          200,
          0
         ]
        },
        {
         "hovertemplate": "<b>Month:</b> %{x|%b %Y}<br><b>Customer Segment:</b> small business<br><b>Revenue:</b> $%{y:.2f}<extra></extra>",
         "marker": {
          "color": "#8CCB8C"
         },
         "name": "small business",
         "text": [
          2100,
          2200,
          2750,
          2550,
          3150,
          2550,
          3000,
          3550,
          3150,
          2550,
          2850,
          2600,
          2900,
          1850,
          2700,
          2750,
          3100,
          3600,
          2150,
          1950,
          2400,
          3200,
          2300,
          2400,
          2550,
          2400,
          2700,
          2300,
          2250,
          2550,
          2750,
          2950,
          1500,
          2000,
          2400,
          2750,
          2850,
          1500,
          2800,
          2500,
          2050,
          2100,
          2000,
          2050,
          1500,
          1400,
          800,
          1350,
          1450,
          900,
          1150,
          1150,
          500,
          550,
          600,
          600,
          300,
          350,
          350,
          100,
          100,
          100,
          50,
          300,
          300,
          100,
          200,
          150,
          0,
          100,
          0,
          50
         ],
         "textposition": "auto",
         "type": "bar",
         "x": [
          "2021-10-01T00:00:00",
          "2021-11-01T00:00:00",
          "2021-12-01T00:00:00",
          "2022-01-01T00:00:00",
          "2022-02-01T00:00:00",
          "2022-03-01T00:00:00",
          "2022-04-01T00:00:00",
          "2022-05-01T00:00:00",
          "2022-06-01T00:00:00",
          "2022-07-01T00:00:00",
          "2022-08-01T00:00:00",
          "2022-09-01T00:00:00",
          "2022-10-01T00:00:00",
          "2022-11-01T00:00:00",
          "2022-12-01T00:00:00",
          "2023-01-01T00:00:00",
          "2023-02-01T00:00:00",
          "2023-03-01T00:00:00",
          "2023-04-01T00:00:00",
          "2023-05-01T00:00:00",
          "2023-06-01T00:00:00",
          "2023-07-01T00:00:00",
          "2023-08-01T00:00:00",
          "2023-09-01T00:00:00",
          "2023-10-01T00:00:00",
          "2023-11-01T00:00:00",
          "2023-12-01T00:00:00",
          "2024-01-01T00:00:00",
          "2024-02-01T00:00:00",
          "2024-03-01T00:00:00",
          "2024-04-01T00:00:00",
          "2024-05-01T00:00:00",
          "2024-06-01T00:00:00",
          "2024-07-01T00:00:00",
          "2024-08-01T00:00:00",
          "2024-09-01T00:00:00",
          "2024-10-01T00:00:00",
          "2024-11-01T00:00:00",
          "2024-12-01T00:00:00",
          "2025-01-01T00:00:00",
          "2025-02-01T00:00:00",
          "2025-03-01T00:00:00",
          "2025-04-01T00:00:00",
          "2025-05-01T00:00:00",
          "2025-06-01T00:00:00",
          "2025-07-01T00:00:00",
          "2025-08-01T00:00:00",
          "2025-09-01T00:00:00",
          "2025-10-01T00:00:00",
          "2025-11-01T00:00:00",
          "2025-12-01T00:00:00",
          "2026-01-01T00:00:00",
          "2026-02-01T00:00:00",
          "2026-03-01T00:00:00",
          "2026-04-01T00:00:00",
          "2026-05-01T00:00:00",
          "2026-06-01T00:00:00",
          "2026-07-01T00:00:00",
          "2026-08-01T00:00:00",
          "2026-09-01T00:00:00",
          "2026-10-01T00:00:00",
          "2026-11-01T00:00:00",
          "2026-12-01T00:00:00",
          "2027-01-01T00:00:00",
          "2027-02-01T00:00:00",
          "2027-03-01T00:00:00",
          "2027-04-01T00:00:00",
          "2027-05-01T00:00:00",
          "2027-06-01T00:00:00",
          "2027-07-01T00:00:00",
          "2027-08-01T00:00:00",
          "2028-01-01T00:00:00"
         ],
         "y": [
          2100,
          2200,
          2750,
          2550,
          3150,
          2550,
          3000,
          3550,
          3150,
          2550,
          2850,
          2600,
          2900,
          1850,
          2700,
          2750,
          3100,
          3600,
          2150,
          1950,
          2400,
          3200,
          2300,
          2400,
          2550,
          2400,
          2700,
          2300,
          2250,
          2550,
          2750,
          2950,
          1500,
          2000,
          2400,
          2750,
          2850,
          1500,
          2800,
          2500,
          2050,
          2100,
          2000,
          2050,
          1500,
          1400,
          800,
          1350,
          1450,
          900,
          1150,
          1150,
          500,
          550,
          600,
          600,
          300,
          350,
          350,
          100,
          100,
          100,
          50,
          300,
          300,
          100,
          200,
          150,
          0,
          100,
          0,
          50
         ]
        },
        {
         "hovertemplate": "<b>Month:</b> %{x|%b %Y}<br><b>Revenue Lost:</b> $%{y:.2f}<extra></extra>",
         "line": {
          "color": "#FFCCCC",
          "width": 2
         },
         "marker": {
          "color": "#FF6666",
          "size": 8
         },
         "mode": "lines+markers",
         "name": "Revenue Lost",
         "type": "scatter",
         "x": [
          "2021-10-01T00:00:00",
          "2021-11-01T00:00:00",
          "2021-12-01T00:00:00",
          "2022-01-01T00:00:00",
          "2022-02-01T00:00:00",
          "2022-03-01T00:00:00",
          "2022-04-01T00:00:00",
          "2022-05-01T00:00:00",
          "2022-06-01T00:00:00",
          "2022-07-01T00:00:00",
          "2022-08-01T00:00:00",
          "2022-09-01T00:00:00",
          "2022-10-01T00:00:00",
          "2022-11-01T00:00:00",
          "2022-12-01T00:00:00",
          "2023-01-01T00:00:00",
          "2023-02-01T00:00:00",
          "2023-03-01T00:00:00",
          "2023-04-01T00:00:00",
          "2023-05-01T00:00:00",
          "2023-06-01T00:00:00",
          "2023-07-01T00:00:00",
          "2023-08-01T00:00:00",
          "2023-09-01T00:00:00",
          "2023-10-01T00:00:00",
          "2023-11-01T00:00:00",
          "2023-12-01T00:00:00",
          "2024-01-01T00:00:00",
          "2024-02-01T00:00:00",
          "2024-03-01T00:00:00",
          "2024-04-01T00:00:00",
          "2024-05-01T00:00:00",
          "2024-06-01T00:00:00",
          "2024-07-01T00:00:00",
          "2024-08-01T00:00:00",
          "2024-09-01T00:00:00",
          "2024-10-01T00:00:00",
          "2024-11-01T00:00:00",
          "2024-12-01T00:00:00",
          "2025-01-01T00:00:00",
          "2025-02-01T00:00:00",
          "2025-03-01T00:00:00",
          "2025-04-01T00:00:00",
          "2025-05-01T00:00:00",
          "2025-06-01T00:00:00",
          "2025-07-01T00:00:00",
          "2025-08-01T00:00:00",
          "2025-09-01T00:00:00",
          "2025-10-01T00:00:00",
          "2025-11-01T00:00:00",
          "2025-12-01T00:00:00",
          "2026-01-01T00:00:00",
          "2026-02-01T00:00:00",
          "2026-03-01T00:00:00",
          "2026-04-01T00:00:00",
          "2026-05-01T00:00:00",
          "2026-06-01T00:00:00",
          "2026-07-01T00:00:00",
          "2026-08-01T00:00:00",
          "2026-09-01T00:00:00",
          "2026-10-01T00:00:00",
          "2026-11-01T00:00:00",
          "2026-12-01T00:00:00",
          "2027-01-01T00:00:00",
          "2027-02-01T00:00:00",
          "2027-03-01T00:00:00",
          "2027-04-01T00:00:00",
          "2027-05-01T00:00:00",
          "2027-06-01T00:00:00",
          "2027-07-01T00:00:00",
          "2027-08-01T00:00:00",
          "2028-01-01T00:00:00"
         ],
         "y": [
          0,
          0,
          0,
          200,
          100,
          0,
          400,
          750,
          0,
          1075,
          1500,
          650,
          925,
          1150,
          750,
          1075,
          700,
          1050,
          550,
          1225,
          1450,
          1175,
          1825,
          400,
          2275,
          2300,
          1300,
          950,
          2500,
          1050,
          1900,
          2050,
          1825,
          1275,
          2550,
          750,
          2950,
          1750,
          2275,
          2050,
          2500,
          1750,
          2725,
          800,
          1350,
          1000,
          1425,
          1275,
          2050,
          1100,
          600,
          1925,
          1450,
          3075,
          1000,
          1625,
          825,
          900,
          900,
          1650,
          1100,
          575,
          200,
          775,
          200,
          450,
          250,
          400,
          925,
          150,
          500,
          750
         ],
         "yaxis": "y2"
        }
       ],
       "layout": {
        "barmode": "stack",
        "height": 700,
        "legend": {
         "orientation": "h",
         "x": 0.5,
         "xanchor": "center",
         "y": -0.2,
         "yanchor": "bottom"
        },
        "margin": {
         "b": 100,
         "l": 50,
         "r": 50,
         "t": 100
        },
        "template": {
         "layout": {
          "font": {
           "color": "#2D494C",
           "family": "Lato",
           "size": 14
          },
          "hoverlabel": {
           "bgcolor": "#E5F2F2",
           "bordercolor": "#2D494C",
           "font": {
            "color": "#2D494C",
            "family": "Lato",
            "size": 14
           }
          },
          "legend": {
           "font": {
            "color": "#3A585B",
            "family": "Lato",
            "size": 12
           },
           "title": {
            "font": {
             "color": "#2D494C",
             "family": "Lato",
             "size": 16
            },
            "text": "<b>Legend Title</b>"
           }
          },
          "paper_bgcolor": "white",
          "plot_bgcolor": "white",
          "title": {
           "font": {
            "color": "#2D494C",
            "size": 24
           },
           "text": "<b>Your Chart Title</b>",
           "x": 0.5
          },
          "xaxis": {
           "gridcolor": "#E5E5E5",
           "showgrid": true,
           "tickcolor": "#2D494C",
           "tickfont": {
            "color": "#2D494C",
            "family": "Lato",
            "size": 12
           },
           "ticklen": 5,
           "tickwidth": 1,
           "title": {
            "font": {
             "color": "#2D494C",
             "family": "Lato",
             "size": 16
            },
            "text": "<b>X Axis Title</b>"
           }
          },
          "yaxis": {
           "gridcolor": "#E5E5E5",
           "showgrid": true,
           "tickcolor": "#2D494C",
           "tickfont": {
            "color": "#2D494C",
            "family": "Lato",
            "size": 12
           },
           "ticklen": 5,
           "tickwidth": 1,
           "title": {
            "font": {
             "color": "#2D494C",
             "family": "Lato",
             "size": 16
            },
            "text": "<b>Y Axis Title</b>"
           }
          }
         }
        },
        "title": {
         "text": "Total Revenue and Revenue by Customer Segment Over Time"
        },
        "xaxis": {
         "title": {
          "text": "<b>Month</b>"
         }
        },
        "yaxis": {
         "showgrid": true,
         "side": "left",
         "title": {
          "text": "<b>Total Revenue ($)</b>"
         },
         "zeroline": true
        },
        "yaxis2": {
         "overlaying": "y",
         "showgrid": false,
         "side": "right",
         "title": {
          "text": "<b>Revenue Lost ($)</b>"
         },
         "zeroline": true
        }
       }
      }
     },
     "metadata": {},
     "output_type": "display_data"
    }
   ],
   "source": [
    "fig13 = go.Figure()\n",
    "\n",
    "# Add traces for each customer segment\n",
    "for segment in revenue_pivot.columns:\n",
    "    fig13.add_trace(\n",
    "        go.Bar(\n",
    "            name=segment,\n",
    "            x=combined_revenue['Month'],\n",
    "            y=revenue_pivot[segment],\n",
    "            text=revenue_pivot[segment],\n",
    "            textposition='auto',\n",
    "            hovertemplate='<b>Month:</b> %{x|%b %Y}<br>' +\n",
    "                          '<b>Customer Segment:</b> ' + segment + '<br>' +\n",
    "                          '<b>Revenue:</b> $%{y:.2f}<extra></extra>',\n",
    "            marker_color=custom_colors2[revenue_pivot.columns.get_loc(segment) % len(custom_colors4)]\n",
    "        )\n",
    "    )\n",
    "\n",
    "\n",
    "fig13.add_trace(\n",
    "    go.Scatter(\n",
    "        name='Revenue Lost',\n",
    "        x=combined_revenue['Month'],\n",
    "        y=combined_revenue['Revenue Lost'],\n",
    "        mode='lines+markers',\n",
    "        marker=dict(color='#FF6666', size=8),\n",
    "        line=dict(color='#FFCCCC', width=2),\n",
    "        hovertemplate='<b>Month:</b> %{x|%b %Y}<br>' +\n",
    "                      '<b>Revenue Lost:</b> $%{y:.2f}<extra></extra>',\n",
    "        yaxis='y2'\n",
    "    )\n",
    ")\n",
    "\n",
    "fig13.update_layout(\n",
    "    title='Total Revenue and Revenue by Customer Segment Over Time',\n",
    "    xaxis=dict(title='<b>Month</b>'),\n",
    "    yaxis=dict(\n",
    "        title='<b>Total Revenue ($)</b>',\n",
    "        side='left',\n",
    "        showgrid=True,\n",
    "        zeroline=True\n",
    "    ),\n",
    "    \n",
    "    yaxis2=dict(\n",
    "        title='<b>Revenue Lost ($)</b>',\n",
    "        overlaying='y',\n",
    "        side='right',\n",
    "        showgrid=False,\n",
    "        zeroline=True\n",
    "    ),\n",
    "    \n",
    "    barmode='stack',\n",
    "    legend=dict(\n",
    "        orientation='h',        \n",
    "        yanchor='bottom',\n",
    "        y=-0.2,                 # Position below the chart\n",
    "        xanchor='center',\n",
    "        x=0.5\n",
    "    ),\n",
    "    \n",
    "    template='custom_template',\n",
    "    margin=dict(l=50, r=50, t=100, b=100),  # Increased bottom margin for legend\n",
    "    height=700                              \n",
    ")\n",
    "\n",
    "fig13.show()"
   ]
  }
 ],
 "metadata": {
  "kernelspec": {
   "display_name": "Python 3",
   "language": "python",
   "name": "python3"
  },
  "language_info": {
   "codemirror_mode": {
    "name": "ipython",
    "version": 3
   },
   "file_extension": ".py",
   "mimetype": "text/x-python",
   "name": "python",
   "nbconvert_exporter": "python",
   "pygments_lexer": "ipython3",
   "version": "3.9.6"
  }
 },
 "nbformat": 4,
 "nbformat_minor": 2
}
